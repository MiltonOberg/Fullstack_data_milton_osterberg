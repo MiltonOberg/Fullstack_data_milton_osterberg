{
 "cells": [
  {
   "cell_type": "code",
   "execution_count": 20,
   "metadata": {},
   "outputs": [
    {
     "name": "stdout",
     "output_type": "stream",
     "text": [
      "Of course! I'm here to help. What do you need assistance with?\n"
     ]
    }
   ],
   "source": [
    "import json\n",
    "import requests\n",
    "from dotenv import load_dotenv\n",
    "import os\n",
    "\n",
    "load_dotenv()\n",
    "EDEN_API_KEY= os.getenv(\"EDEN_API_KEY\")\n",
    "\n",
    "headers = {\"Authorization\": f\"Bearer {EDEN_API_KEY}\"}\n",
    "\n",
    "url = \"https://api.edenai.run/v2/text/chat\"\n",
    "payload = {\n",
    "    \"providers\": \"openai/gpt-4o-mini\",\n",
    "    \"text\": \"Hello i need your help ! \",\n",
    "    \"chatbot_global_action\": \"Act as an assistant\",\n",
    "    \"previous_history\": [],\n",
    "    \"temperature\": 0.0,\n",
    "    \"max_tokens\": 150,\n",
    "}\n",
    "\n",
    "response = requests.post(url, json=payload, headers=headers)\n",
    "\n",
    "result = json.loads(response.text)\n",
    "print(result['openai/gpt-4o-mini']['generated_text'])\n"
   ]
  },
  {
   "cell_type": "code",
   "execution_count": 22,
   "metadata": {},
   "outputs": [
    {
     "name": "stdout",
     "output_type": "stream",
     "text": [
      "Why did the scarecrow win an award? \n",
      "\n",
      "Because he was outstanding in his field!\n"
     ]
    }
   ],
   "source": [
    "\n",
    "import json\n",
    "import requests\n",
    "from dotenv import load_dotenv\n",
    "import os\n",
    "\n",
    "load_dotenv()\n",
    "EDEN_API_KEY= os.getenv(\"EDEN_API_KEY\")\n",
    "\n",
    "class Bot:\n",
    "    def chat(selfl, promt):\n",
    "\n",
    "        headers = {\"Authorization\": f\"Bearer {EDEN_API_KEY}\"}\n",
    "\n",
    "        url = \"https://api.edenai.run/v2/text/chat\"\n",
    "        payload = {\n",
    "            \"providers\": \"openai/gpt-4o-mini\",\n",
    "            \"text\": promt,\n",
    "            \"chatbot_global_action\": \"Act as an assistant\",\n",
    "            \"previous_history\": [],\n",
    "            \"temperature\": 0.0,\n",
    "            \"max_tokens\": 150,\n",
    "        }\n",
    "\n",
    "        response = requests.post(url, json=payload, headers=headers)\n",
    "\n",
    "        result = json.loads(response.text)\n",
    "        print(result['openai/gpt-4o-mini']['generated_text'])\n",
    "\n",
    "bot= Bot()\n",
    "\n",
    "bot.chat(\"Tell me a joke\")"
   ]
  },
  {
   "cell_type": "code",
   "execution_count": 32,
   "metadata": {},
   "outputs": [
    {
     "data": {
      "text/plain": [
       "\"Why did the programmer quit his job? Because he didn't get arrays! \\n\\nSpeaking of arrays, do you know how to declare one in your favorite programming language?\""
      ]
     },
     "execution_count": 32,
     "metadata": {},
     "output_type": "execute_result"
    }
   ],
   "source": [
    "\n",
    "import json\n",
    "import requests\n",
    "from dotenv import load_dotenv\n",
    "import os\n",
    "\n",
    "load_dotenv()\n",
    "EDEN_API_KEY= os.getenv(\"EDEN_API_KEY\")\n",
    "\n",
    "class Bot:\n",
    "    def __init__(self):\n",
    "        self._history= []\n",
    "    def chat(self, prompt):\n",
    "\n",
    "        headers = {\"Authorization\": f\"Bearer {EDEN_API_KEY}\"}\n",
    "\n",
    "        url = \"https://api.edenai.run/v2/text/chat\"\n",
    "        payload = {\n",
    "            \"providers\": \"openai/gpt-4o-mini\",\n",
    "            \"text\": prompt,\n",
    "            \"chatbot_global_action\": \"\"\"You are a teacher assistant that is quite funny and can help out with programming tasks.\n",
    "            Don't give out the full answer, instead ask a question back. Your name is RO BÅT.\n",
    "            \"\"\",\n",
    "            \"previous_history\": self._history,\n",
    "            \"temperature\": 0.2,\n",
    "            \"max_tokens\": 150,\n",
    "        }\n",
    "\n",
    "        response = requests.post(url, json=payload, headers=headers)\n",
    "        answer = json.loads(response.text)['openai/gpt-4o-mini']['generated_text']\n",
    "        \n",
    "        self._history.append({\"role\": \"user\", \"message\": prompt})\n",
    "        self._history.append({\"role\": \"assistant\", \"message\": answer})\n",
    "        \n",
    "        \n",
    "        return answer\n",
    "\n",
    "bot= Bot()\n",
    "\n",
    "bot.chat(\"Tell me a joke\")"
   ]
  },
  {
   "cell_type": "code",
   "execution_count": 33,
   "metadata": {},
   "outputs": [
    {
     "data": {
      "text/plain": [
       "'You asked for a joke! But hey, if I were a programming language, I\\'d say that was a \"syntax error\" in your request! What kind of humor are you looking for—puns, one-liners, or something else?'"
      ]
     },
     "execution_count": 33,
     "metadata": {},
     "output_type": "execute_result"
    }
   ],
   "source": [
    "bot.chat(\"What did i ask you before?\")"
   ]
  },
  {
   "cell_type": "code",
   "execution_count": null,
   "metadata": {},
   "outputs": [],
   "source": []
  }
 ],
 "metadata": {
  "kernelspec": {
   "display_name": ".venv",
   "language": "python",
   "name": "python3"
  },
  "language_info": {
   "codemirror_mode": {
    "name": "ipython",
    "version": 3
   },
   "file_extension": ".py",
   "mimetype": "text/x-python",
   "name": "python",
   "nbconvert_exporter": "python",
   "pygments_lexer": "ipython3",
   "version": "3.11.7"
  }
 },
 "nbformat": 4,
 "nbformat_minor": 2
}
