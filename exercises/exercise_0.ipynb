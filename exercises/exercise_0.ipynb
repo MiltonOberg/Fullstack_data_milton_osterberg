{
 "cells": [
  {
   "cell_type": "code",
   "execution_count": 22,
   "metadata": {},
   "outputs": [],
   "source": [
    "hire= [\n",
    "    {\"employeeid\": 0,\n",
    "     \"name\": \"Alice\",\n",
    "     \"department\": \"HR\",\n",
    "     \"salary\": 31000},\n",
    "    {\"employeeid\": 1,\n",
    "     \"name\": \"Bob\",\n",
    "     \"department\": \"IT\",\n",
    "     \"salary\": 41000},\n",
    "    {\"employeeid\": 2,\n",
    "     \"name\": \"Charlie\",\n",
    "     \"department\": \"HR\",\n",
    "     \"salary\": 28000}\n",
    "]"
   ]
  },
  {
   "cell_type": "code",
   "execution_count": 23,
   "metadata": {},
   "outputs": [
    {
     "data": {
      "text/plain": [
       "{'employeeid': 1, 'name': 'Bob', 'department': 'IT', 'salary': 41000}"
      ]
     },
     "execution_count": 23,
     "metadata": {},
     "output_type": "execute_result"
    }
   ],
   "source": [
    "hire[1]"
   ]
  },
  {
   "cell_type": "code",
   "execution_count": 34,
   "metadata": {},
   "outputs": [
    {
     "name": "stdout",
     "output_type": "stream",
     "text": [
      "Alice works in department HR and earns 31000\n",
      "Bob works in department IT and earns 41000\n",
      "Charlie works in department HR and earns 28000\n"
     ]
    }
   ],
   "source": [
    "for i in range(len(hire)):\n",
    "\n",
    "    print(f\"{hire[i]['name']} works in department {hire[i]['department']} and earns {hire[i]['salary']}\")"
   ]
  },
  {
   "cell_type": "code",
   "execution_count": null,
   "metadata": {},
   "outputs": [],
   "source": []
  }
 ],
 "metadata": {
  "kernelspec": {
   "display_name": ".venv",
   "language": "python",
   "name": "python3"
  },
  "language_info": {
   "codemirror_mode": {
    "name": "ipython",
    "version": 3
   },
   "file_extension": ".py",
   "mimetype": "text/x-python",
   "name": "python",
   "nbconvert_exporter": "python",
   "pygments_lexer": "ipython3",
   "version": "3.11.7"
  }
 },
 "nbformat": 4,
 "nbformat_minor": 2
}
