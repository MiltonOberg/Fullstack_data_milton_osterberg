{
 "cells": [
  {
   "cell_type": "code",
   "execution_count": 22,
   "metadata": {},
   "outputs": [],
   "source": [
    "import numpy as np"
   ]
  },
  {
   "cell_type": "markdown",
   "metadata": {},
   "source": [
    "## Exercise 0"
   ]
  },
  {
   "cell_type": "code",
   "execution_count": 23,
   "metadata": {},
   "outputs": [],
   "source": [
    "hire= [\n",
    "    {\"employeeid\": 0,\n",
    "     \"name\": \"Alice\",\n",
    "     \"department\": \"HR\",\n",
    "     \"salary\": 31000},\n",
    "    {\"employeeid\": 1,\n",
    "     \"name\": \"Bob\",\n",
    "     \"department\": \"IT\",\n",
    "     \"salary\": 41000},\n",
    "    {\"employeeid\": 2,\n",
    "     \"name\": \"Charlie\",\n",
    "     \"department\": \"HR\",\n",
    "     \"salary\": 28000}\n",
    "]"
   ]
  },
  {
   "cell_type": "code",
   "execution_count": 24,
   "metadata": {},
   "outputs": [
    {
     "name": "stdout",
     "output_type": "stream",
     "text": [
      "Alice works in department HR and earns 31000\n",
      "Bob works in department IT and earns 41000\n",
      "Charlie works in department HR and earns 28000\n"
     ]
    }
   ],
   "source": [
    "for i in range(len(hire)):\n",
    "\n",
    "    print(f\"{hire[i]['name']} works in department {hire[i]['department']} and earns {hire[i]['salary']}\")"
   ]
  },
  {
   "cell_type": "code",
   "execution_count": 25,
   "metadata": {},
   "outputs": [
    {
     "data": {
      "text/plain": [
       "33333.333333333336"
      ]
     },
     "execution_count": 25,
     "metadata": {},
     "output_type": "execute_result"
    }
   ],
   "source": [
    "total= []\n",
    "for i in range(len(hire)):\n",
    "    total.append(hire[i][\"salary\"])\n",
    "\n",
    "mean= np.mean(total)\n",
    "mean"
   ]
  },
  {
   "cell_type": "code",
   "execution_count": 26,
   "metadata": {},
   "outputs": [
    {
     "data": {
      "text/plain": [
       "29500.0"
      ]
     },
     "execution_count": 26,
     "metadata": {},
     "output_type": "execute_result"
    }
   ],
   "source": [
    "hr_total= []\n",
    "for i in range(len(hire)):\n",
    "    if hire[i][\"department\"]== \"HR\":\n",
    "        hr_total.append(hire[i][\"salary\"])\n",
    "    \n",
    "hr_mean= np.mean(hr_total)\n",
    "hr_mean"
   ]
  },
  {
   "cell_type": "code",
   "execution_count": 27,
   "metadata": {},
   "outputs": [
    {
     "name": "stdout",
     "output_type": "stream",
     "text": [
      "{'employeeid': 0, 'name': 'Alice', 'department': 'HR', 'salary': 31000}\n",
      "{'employeeid': 2, 'name': 'Charlie', 'department': 'HR', 'salary': 28000}\n"
     ]
    }
   ],
   "source": [
    "for i in range(len(hire)):\n",
    "    if hire[i][\"department\"]== \"HR\":\n",
    "        print(hire[i])"
   ]
  },
  {
   "cell_type": "code",
   "execution_count": 28,
   "metadata": {},
   "outputs": [
    {
     "data": {
      "text/plain": [
       "{'HR', 'IT'}"
      ]
     },
     "execution_count": 28,
     "metadata": {},
     "output_type": "execute_result"
    }
   ],
   "source": [
    "unique_departments= set(employee[\"department\"]for employee in hire)\n",
    "unique_departments"
   ]
  },
  {
   "cell_type": "code",
   "execution_count": 29,
   "metadata": {},
   "outputs": [],
   "source": [
    "for i in range(len(hire)):\n",
    "    hire[i][\"age\"]= None"
   ]
  },
  {
   "cell_type": "code",
   "execution_count": 30,
   "metadata": {},
   "outputs": [],
   "source": [
    "hire[0][\"age\"]= 26\n",
    "hire[1][\"age\"]= 37"
   ]
  },
  {
   "cell_type": "code",
   "execution_count": 31,
   "metadata": {},
   "outputs": [
    {
     "data": {
      "text/plain": [
       "[{'employeeid': 0,\n",
       "  'name': 'Alice',\n",
       "  'department': 'HR',\n",
       "  'salary': 31000,\n",
       "  'age': 26},\n",
       " {'employeeid': 1,\n",
       "  'name': 'Bob',\n",
       "  'department': 'IT',\n",
       "  'salary': 41000,\n",
       "  'age': 37},\n",
       " {'employeeid': 2,\n",
       "  'name': 'Charlie',\n",
       "  'department': 'HR',\n",
       "  'salary': 28000,\n",
       "  'age': None}]"
      ]
     },
     "execution_count": 31,
     "metadata": {},
     "output_type": "execute_result"
    }
   ],
   "source": [
    "hire"
   ]
  },
  {
   "cell_type": "code",
   "execution_count": 32,
   "metadata": {},
   "outputs": [],
   "source": [
    "def add_employee(hire:list, name:str, age:int, department:str, salary:int):\n",
    "    new_id= max(employee[\"employeeid\"] for employee in hire)+1\n",
    "    new_employee= {\n",
    "        \"employeeid\": new_id,\n",
    "        \"name\": name,\n",
    "        \"department\": department,\n",
    "        \"salary\": salary,\n",
    "        \"age\": age\n",
    "    }\n",
    "    hire.append(new_employee)"
   ]
  },
  {
   "cell_type": "code",
   "execution_count": 33,
   "metadata": {},
   "outputs": [],
   "source": [
    "add_employee(hire, \"David\", 30, \"IT\", 35000)"
   ]
  },
  {
   "cell_type": "code",
   "execution_count": 34,
   "metadata": {},
   "outputs": [
    {
     "data": {
      "text/plain": [
       "[{'employeeid': 0,\n",
       "  'name': 'Alice',\n",
       "  'department': 'HR',\n",
       "  'salary': 31000,\n",
       "  'age': 26},\n",
       " {'employeeid': 1,\n",
       "  'name': 'Bob',\n",
       "  'department': 'IT',\n",
       "  'salary': 41000,\n",
       "  'age': 37},\n",
       " {'employeeid': 2,\n",
       "  'name': 'Charlie',\n",
       "  'department': 'HR',\n",
       "  'salary': 28000,\n",
       "  'age': None},\n",
       " {'employeeid': 3,\n",
       "  'name': 'David',\n",
       "  'department': 'IT',\n",
       "  'salary': 35000,\n",
       "  'age': 30}]"
      ]
     },
     "execution_count": 34,
     "metadata": {},
     "output_type": "execute_result"
    }
   ],
   "source": [
    "hire"
   ]
  },
  {
   "cell_type": "markdown",
   "metadata": {},
   "source": [
    "## Exercise 1"
   ]
  },
  {
   "cell_type": "code",
   "execution_count": 35,
   "metadata": {},
   "outputs": [],
   "source": [
    "class Pokemon:\n",
    "    def __init__(self, name, type, level):\n",
    "        self._name= name\n",
    "        self._type= type\n",
    "        self._level= level\n",
    "        self.health= 10*level\n",
    "    @property\n",
    "    def name(self):\n",
    "        return self._name\n",
    "        \n",
    "    @property\n",
    "    def type(self):\n",
    "        return self._type\n",
    "\n",
    "    @property\n",
    "    def level(self):\n",
    "        return self._level\n",
    "    @level.setter\n",
    "    def level(self, level):\n",
    "        self._level= level\n",
    "    \n",
    "    @property\n",
    "    def is_fainted(self):\n",
    "        if self.health<= 0:\n",
    "            return self.health <0\n",
    "    \n",
    "    def take_damage(self, damage):\n",
    "        self.health-= damage\n",
    "        if self.health <= 0:\n",
    "            return f\"0hp\"\n",
    "        else:\n",
    "            return f\"{self.health}hp\"\n",
    "    \n",
    "    def attack(self, other_pokemon):\n",
    "        damage= 2*self.level\n",
    "        other_pokemon.take_damage(damage)\n",
    "        return f\"{self.name} attacks {other_pokemon.name} for {damage} damage\"\n",
    "        \n",
    "    def __repr__(self):\n",
    "        return f\"Pokemon(Name:str, Type:str, Level:int)\"\n",
    "    \n",
    "    def __str__(self):\n",
    "         return f\"Pokemon(Name= {self.name}, Type= {self.type}, Level= {self.level}\"\n",
    "     \n",
    "\n",
    "class WaterPokemon(Pokemon):\n",
    "    def __init__(self, name, level):\n",
    "        super().__init__(name, \"Water\", level)\n",
    "    "
   ]
  },
  {
   "cell_type": "code",
   "execution_count": 36,
   "metadata": {},
   "outputs": [
    {
     "data": {
      "text/plain": [
       "Pokemon(Name:str, Type:str, Level:int)"
      ]
     },
     "execution_count": 36,
     "metadata": {},
     "output_type": "execute_result"
    }
   ],
   "source": [
    "p1= Pokemon(\"Liam\", \"Shasha\", 3000)\n",
    "p1"
   ]
  },
  {
   "cell_type": "code",
   "execution_count": 37,
   "metadata": {},
   "outputs": [],
   "source": [
    "squirtle= WaterPokemon(\"Lasse\", 15)\n",
    "squirtle1= WaterPokemon(\"Bengt\", 17)\n",
    "polywag= WaterPokemon(\"Bosse\", 25)"
   ]
  },
  {
   "cell_type": "code",
   "execution_count": 38,
   "metadata": {},
   "outputs": [
    {
     "name": "stdout",
     "output_type": "stream",
     "text": [
      "Pokemon(Name= Lasse, Type= Water, Level= 15\n",
      "Pokemon(Name= Bengt, Type= Water, Level= 17\n",
      "Pokemon(Name= Bosse, Type= Water, Level= 25\n"
     ]
    }
   ],
   "source": [
    "pokemon_tuple= (squirtle, squirtle1, polywag)\n",
    "for pokemon in pokemon_tuple:\n",
    "    print(pokemon)"
   ]
  },
  {
   "cell_type": "code",
   "execution_count": 39,
   "metadata": {},
   "outputs": [
    {
     "name": "stdout",
     "output_type": "stream",
     "text": [
      "Lasse attacks Bengt for 30 damage\n",
      "Bengt attacks Lasse for 34 damage\n",
      "Lasse attacks Bengt for 30 damage\n",
      "Bengt attacks Lasse for 34 damage\n",
      "Lasse attacks Bengt for 30 damage\n",
      "Bengt attacks Lasse for 34 damage\n",
      "Lasse attacks Bengt for 30 damage\n",
      "Bengt attacks Lasse for 34 damage\n",
      "Lasse attacks Bengt for 30 damage\n",
      "Bengt attacks Lasse for 34 damage\n",
      "Lasse has fainted, Bengt wins!\n"
     ]
    }
   ],
   "source": [
    "while not pokemon_tuple[0].is_fainted and not pokemon_tuple[1].is_fainted:\n",
    "    \n",
    "    print(pokemon_tuple[0].attack(pokemon_tuple[1]))\n",
    "    if pokemon_tuple[1].is_fainted:\n",
    "        print(F\"{pokemon_tuple[1].name} has fainted, {pokemon_tuple[0].name} wins!\")\n",
    "        \n",
    "    print(pokemon_tuple[1].attack(pokemon_tuple[0]))\n",
    "    if pokemon_tuple[0].is_fainted:\n",
    "        print(F\"{pokemon_tuple[0].name} has fainted, {pokemon_tuple[1].name} wins!\")"
   ]
  },
  {
   "cell_type": "code",
   "execution_count": null,
   "metadata": {},
   "outputs": [],
   "source": []
  }
 ],
 "metadata": {
  "kernelspec": {
   "display_name": ".venv",
   "language": "python",
   "name": "python3"
  },
  "language_info": {
   "codemirror_mode": {
    "name": "ipython",
    "version": 3
   },
   "file_extension": ".py",
   "mimetype": "text/x-python",
   "name": "python",
   "nbconvert_exporter": "python",
   "pygments_lexer": "ipython3",
   "version": "3.11.7"
  }
 },
 "nbformat": 4,
 "nbformat_minor": 2
}
