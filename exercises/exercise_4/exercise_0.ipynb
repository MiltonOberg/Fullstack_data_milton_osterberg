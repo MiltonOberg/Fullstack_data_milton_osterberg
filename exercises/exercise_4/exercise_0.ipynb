{
 "cells": [
  {
   "cell_type": "markdown",
   "metadata": {},
   "source": [
    "# 0\n",
    "### A)"
   ]
  },
  {
   "cell_type": "code",
   "execution_count": 1,
   "metadata": {},
   "outputs": [],
   "source": [
    "from pathlib import Path\n",
    "from dotenv import load_dotenv\n",
    "import requests\n",
    "import os\n",
    "import pandas as pd\n",
    "import matplotlib.pyplot as plt\n",
    "import plotly.express as px"
   ]
  },
  {
   "cell_type": "code",
   "execution_count": 2,
   "metadata": {},
   "outputs": [
    {
     "data": {
      "text/plain": [
       "dict_keys(['Trip', 'ResultStatus', 'TechnicalMessages', 'serverVersion', 'dialectVersion', 'planRtTs', 'requestId', 'scrB', 'scrF'])"
      ]
     },
     "execution_count": 2,
     "metadata": {},
     "output_type": "execute_result"
    }
   ],
   "source": [
    "env_path = Path(\"../../code_alongs/11_data_from_API/.env\")\n",
    "load_dotenv(env_path)\n",
    "\n",
    "\n",
    "API_KEY = os.getenv(\"API_KEY\")\n",
    "\n",
    "url = f\"https://api.resrobot.se/v2.1/trip?format=json&originId=740000002&destId=740000003&passlist=true&showPassingPoints=true&accessId={API_KEY}\"\n",
    "\n",
    "response = requests.get(url)\n",
    "\n",
    "result = response.json()\n",
    "\n",
    "\n",
    "\n",
    "result.keys()"
   ]
  },
  {
   "cell_type": "code",
   "execution_count": 3,
   "metadata": {},
   "outputs": [],
   "source": [
    "def get_departures(api):\n",
    "    url = f\"https://api.resrobot.se/v2.1/departureBoard?id=740000002&format=json&accessId={api}\"\n",
    "    response = requests.get(url)\n",
    "    return response.json()\n",
    "\n",
    "\n",
    "def get_arrivals(api):\n",
    "    url = f\"https://api.resrobot.se/v2.1/arrivalBoard?id=740000002&format=json&accessId={api}\"\n",
    "    response = requests.get(url)\n",
    "    return response.json()"
   ]
  },
  {
   "cell_type": "code",
   "execution_count": 4,
   "metadata": {},
   "outputs": [],
   "source": [
    "departures = get_departures(api=API_KEY)\n",
    "arrivals = get_arrivals(api=API_KEY)"
   ]
  },
  {
   "cell_type": "code",
   "execution_count": 5,
   "metadata": {},
   "outputs": [
    {
     "data": {
      "text/plain": [
       "(dict_keys(['Departure', 'TechnicalMessages', 'serverVersion', 'dialectVersion', 'planRtTs', 'requestId']),\n",
       " dict_keys(['Arrival', 'TechnicalMessages', 'serverVersion', 'dialectVersion', 'planRtTs', 'requestId']))"
      ]
     },
     "execution_count": 5,
     "metadata": {},
     "output_type": "execute_result"
    }
   ],
   "source": [
    "departures.keys(), arrivals.keys()"
   ]
  },
  {
   "cell_type": "markdown",
   "metadata": {},
   "source": [
    "### B)"
   ]
  },
  {
   "cell_type": "code",
   "execution_count": 6,
   "metadata": {},
   "outputs": [
    {
     "data": {
      "text/plain": [
       "236"
      ]
     },
     "execution_count": 6,
     "metadata": {},
     "output_type": "execute_result"
    }
   ],
   "source": [
    "len(arrivals[\"Arrival\"])"
   ]
  },
  {
   "cell_type": "markdown",
   "metadata": {},
   "source": [
    "### C)"
   ]
  },
  {
   "cell_type": "code",
   "execution_count": 7,
   "metadata": {},
   "outputs": [
    {
     "data": {
      "text/plain": [
       "246"
      ]
     },
     "execution_count": 7,
     "metadata": {},
     "output_type": "execute_result"
    }
   ],
   "source": [
    "len(departures[\"Departure\"])"
   ]
  },
  {
   "cell_type": "markdown",
   "metadata": {},
   "source": [
    "### D)"
   ]
  },
  {
   "cell_type": "code",
   "execution_count": 8,
   "metadata": {},
   "outputs": [
    {
     "data": {
      "text/plain": [
       "dict_keys(['JourneyDetailRef', 'JourneyStatus', 'ProductAtStop', 'Product', 'Notes', 'name', 'type', 'stop', 'stopid', 'stopExtId', 'lon', 'lat', 'time', 'date', 'reachable', 'direction', 'directionFlag'])"
      ]
     },
     "execution_count": 8,
     "metadata": {},
     "output_type": "execute_result"
    }
   ],
   "source": [
    "departures[\"Departure\"][0].keys()"
   ]
  },
  {
   "cell_type": "code",
   "execution_count": 9,
   "metadata": {},
   "outputs": [
    {
     "name": "stdout",
     "output_type": "stream",
     "text": [
      "Länstrafik - Spårväg 6, Göteborg Varmfrontsgatan, 15:33:00\n",
      "Länstrafik - Spårväg 6, Kortedala Aprilgatan (Göteborg kn), 15:35:00\n",
      "Länstrafik - Spårväg 6, Göteborg Varmfrontsgatan, 15:42:00\n",
      "Länstrafik - Spårväg 6, Kortedala Aprilgatan (Göteborg kn), 15:44:00\n",
      "Länstrafik - Spårväg 6, Kortedala Aprilgatan (Göteborg kn), 15:52:00\n",
      "Länstrafik - Spårväg 6, Göteborg Varmfrontsgatan, 15:53:00\n",
      "Länstrafik - Spårväg 6, Kortedala Aprilgatan (Göteborg kn), 16:01:00\n",
      "Länstrafik - Spårväg 6, Göteborg Varmfrontsgatan, 16:03:00\n",
      "Länstrafik - Spårväg 6, Kortedala Aprilgatan (Göteborg kn), 16:09:00\n",
      "Länstrafik - Spårväg 6, Göteborg Varmfrontsgatan, 16:14:00\n",
      "Länstrafik - Spårväg 6, Kortedala Aprilgatan (Göteborg kn), 16:17:00\n",
      "Länstrafik - Spårväg 6, Göteborg Varmfrontsgatan, 16:22:00\n",
      "Länstrafik - Spårväg 6, Kortedala Aprilgatan (Göteborg kn), 16:26:00\n",
      "Länstrafik - Spårväg 6, Göteborg Varmfrontsgatan, 16:30:00\n"
     ]
    }
   ],
   "source": [
    "for depart in departures[\"Departure\"]:\n",
    "    if \"Spårväg\" in depart[\"name\"]:\n",
    "        print(f\"{depart['name']}, {depart['direction']}, {depart['time']}\")"
   ]
  },
  {
   "cell_type": "markdown",
   "metadata": {},
   "source": [
    "### E)"
   ]
  },
  {
   "cell_type": "code",
   "execution_count": 10,
   "metadata": {},
   "outputs": [],
   "source": [
    "# point map över spårvagnar"
   ]
  },
  {
   "cell_type": "markdown",
   "metadata": {},
   "source": [
    "### F)"
   ]
  },
  {
   "cell_type": "code",
   "execution_count": null,
   "metadata": {},
   "outputs": [],
   "source": []
  },
  {
   "cell_type": "markdown",
   "metadata": {},
   "source": [
    "# 1\n",
    "### A)"
   ]
  },
  {
   "cell_type": "markdown",
   "metadata": {},
   "source": [
    "# Stop Lookup"
   ]
  },
  {
   "cell_type": "code",
   "execution_count": 11,
   "metadata": {},
   "outputs": [],
   "source": [
    "def get_lookup(search):\n",
    "    url= f\"https://api.resrobot.se/v2.1/location.name?input={search}&format=json&accessId={API_KEY}\"\n",
    "    return requests.get(url).json()"
   ]
  },
  {
   "cell_type": "code",
   "execution_count": 12,
   "metadata": {},
   "outputs": [
    {
     "data": {
      "text/plain": [
       "'740098038'"
      ]
     },
     "execution_count": 12,
     "metadata": {},
     "output_type": "execute_result"
    }
   ],
   "source": [
    "lund= get_lookup(\"Lund\")\n",
    "lund[\"stopLocationOrCoordLocation\"][0][\"StopLocation\"][\"extId\"]"
   ]
  },
  {
   "cell_type": "code",
   "execution_count": 13,
   "metadata": {},
   "outputs": [
    {
     "data": {
      "text/plain": [
       "'740098001'"
      ]
     },
     "execution_count": 13,
     "metadata": {},
     "output_type": "execute_result"
    }
   ],
   "source": [
    "gothenburg= get_lookup(\"Göteborg\")\n",
    "gothenburg[\"stopLocationOrCoordLocation\"][0][\"StopLocation\"][\"extId\"]"
   ]
  },
  {
   "cell_type": "code",
   "execution_count": 14,
   "metadata": {},
   "outputs": [],
   "source": [
    "def route_planner(org, des):\n",
    "    \n",
    "    url= f\"https://api.resrobot.se/v2.1/trip?format=json&originId={org}&destId={des}&passlist=true&showPassingPoints=true&accessId={API_KEY}\"\n",
    "\n",
    "    return requests.get(url).json()"
   ]
  },
  {
   "cell_type": "code",
   "execution_count": 15,
   "metadata": {},
   "outputs": [],
   "source": [
    "trip= route_planner(740098001, 740098038)"
   ]
  },
  {
   "cell_type": "code",
   "execution_count": 16,
   "metadata": {},
   "outputs": [
    {
     "data": {
      "text/plain": [
       "dict_keys(['Trip', 'ResultStatus', 'TechnicalMessages', 'serverVersion', 'dialectVersion', 'planRtTs', 'requestId', 'scrB', 'scrF'])"
      ]
     },
     "execution_count": 16,
     "metadata": {},
     "output_type": "execute_result"
    }
   ],
   "source": [
    "trip.keys()"
   ]
  },
  {
   "cell_type": "code",
   "execution_count": 17,
   "metadata": {},
   "outputs": [],
   "source": [
    "example_trip = trip[\"Trip\"][0]"
   ]
  },
  {
   "cell_type": "code",
   "execution_count": 18,
   "metadata": {},
   "outputs": [
    {
     "data": {
      "text/plain": [
       "[{'name': 'Göteborg Centralstation',\n",
       "  'id': 'A=1@O=Göteborg Centralstation@X=11973479@Y=57708895@U=1@L=740000002@',\n",
       "  'extId': '740000002',\n",
       "  'routeIdx': 0,\n",
       "  'lon': 11.973479,\n",
       "  'lat': 57.708895,\n",
       "  'depPrognosisType': 'PROGNOSED',\n",
       "  'depTime': '15:40:00',\n",
       "  'depDate': '2025-01-09',\n",
       "  'depDir': 'Köpenhamn Österport (Danmark)',\n",
       "  'minimumChangeDuration': 'PT15M'},\n",
       " {'name': 'Mölndal station',\n",
       "  'id': 'A=1@O=Mölndal station@X=12018722@Y=57655958@U=1@L=740000315@',\n",
       "  'extId': '740000315',\n",
       "  'routeIdx': 1,\n",
       "  'lon': 12.018722,\n",
       "  'lat': 57.655958,\n",
       "  'depTime': '15:48:00',\n",
       "  'depDate': '2025-01-09',\n",
       "  'arrTime': '15:48:00',\n",
       "  'arrDate': '2025-01-09',\n",
       "  'minimumChangeDuration': 'PT9M'},\n",
       " {'name': 'Kungsbacka station',\n",
       "  'id': 'A=1@O=Kungsbacka station@X=12079614@Y=57490556@U=1@L=740000161@',\n",
       "  'extId': '740000161',\n",
       "  'routeIdx': 2,\n",
       "  'lon': 12.079614,\n",
       "  'lat': 57.490556,\n",
       "  'depTime': '15:59:00',\n",
       "  'depDate': '2025-01-09',\n",
       "  'arrTime': '15:59:00',\n",
       "  'arrDate': '2025-01-09',\n",
       "  'minimumChangeDuration': 'PT5M'},\n",
       " {'name': 'Varberg station',\n",
       "  'id': 'A=1@O=Varberg station@X=12248081@Y=57109378@U=1@L=740000110@',\n",
       "  'extId': '740000110',\n",
       "  'routeIdx': 3,\n",
       "  'lon': 12.248081,\n",
       "  'lat': 57.109378,\n",
       "  'depTime': '16:29:00',\n",
       "  'depDate': '2025-01-09',\n",
       "  'arrTime': '16:25:00',\n",
       "  'arrDate': '2025-01-09',\n",
       "  'minimumChangeDuration': 'PT5M'},\n",
       " {'name': 'Falkenberg station',\n",
       "  'id': 'A=1@O=Falkenberg station@X=12507555@Y=56919768@U=1@L=740001579@',\n",
       "  'extId': '740001579',\n",
       "  'routeIdx': 4,\n",
       "  'lon': 12.507555,\n",
       "  'lat': 56.919768,\n",
       "  'depTime': '16:45:00',\n",
       "  'depDate': '2025-01-09',\n",
       "  'arrTime': '16:45:00',\n",
       "  'arrDate': '2025-01-09',\n",
       "  'minimumChangeDuration': 'PT4M'},\n",
       " {'name': 'Halmstad Centralstation',\n",
       "  'id': 'A=1@O=Halmstad Centralstation@X=12864840@Y=56669275@U=1@L=740000080@',\n",
       "  'extId': '740000080',\n",
       "  'routeIdx': 5,\n",
       "  'lon': 12.86484,\n",
       "  'lat': 56.669275,\n",
       "  'depTime': '17:13:00',\n",
       "  'depDate': '2025-01-09',\n",
       "  'arrTime': '17:03:00',\n",
       "  'arrDate': '2025-01-09',\n",
       "  'minimumChangeDuration': 'PT10M'},\n",
       " {'name': 'Laholm station',\n",
       "  'id': 'A=1@O=Laholm station@X=12999606@Y=56501905@U=1@L=740000058@',\n",
       "  'extId': '740000058',\n",
       "  'routeIdx': 6,\n",
       "  'lon': 12.999606,\n",
       "  'lat': 56.501905,\n",
       "  'depTime': '17:25:00',\n",
       "  'depDate': '2025-01-09',\n",
       "  'arrTime': '17:25:00',\n",
       "  'arrDate': '2025-01-09',\n",
       "  'minimumChangeDuration': 'PT9M'},\n",
       " {'name': 'Båstad station',\n",
       "  'id': 'A=1@O=Båstad station@X=12906991@Y=56431834@U=1@L=740001603@',\n",
       "  'extId': '740001603',\n",
       "  'routeIdx': 7,\n",
       "  'lon': 12.906991,\n",
       "  'lat': 56.431834,\n",
       "  'depTime': '17:32:00',\n",
       "  'depDate': '2025-01-09',\n",
       "  'arrTime': '17:32:00',\n",
       "  'arrDate': '2025-01-09',\n",
       "  'minimumChangeDuration': 'PT4M'},\n",
       " {'name': 'Ängelholm station',\n",
       "  'id': 'A=1@O=Ängelholm station@X=12854197@Y=56245200@U=1@L=740000064@',\n",
       "  'extId': '740000064',\n",
       "  'routeIdx': 8,\n",
       "  'lon': 12.854197,\n",
       "  'lat': 56.2452,\n",
       "  'depTime': '17:43:00',\n",
       "  'depDate': '2025-01-09',\n",
       "  'arrTime': '17:43:00',\n",
       "  'arrDate': '2025-01-09',\n",
       "  'minimumChangeDuration': 'PT10M'},\n",
       " {'name': 'Helsingborg Centralstation',\n",
       "  'id': 'A=1@O=Helsingborg Centralstation@X=12694261@Y=56044408@U=1@L=740000044@',\n",
       "  'extId': '740000044',\n",
       "  'routeIdx': 9,\n",
       "  'lon': 12.694261,\n",
       "  'lat': 56.044408,\n",
       "  'depTime': '18:07:00',\n",
       "  'depDate': '2025-01-09',\n",
       "  'arrTime': '18:04:00',\n",
       "  'arrDate': '2025-01-09',\n",
       "  'minimumChangeDuration': 'PT9M'},\n",
       " {'name': 'Landskrona station',\n",
       "  'id': 'A=1@O=Landskrona station@X=12857406@Y=55878898@U=1@L=740001554@',\n",
       "  'extId': '740001554',\n",
       "  'routeIdx': 10,\n",
       "  'lon': 12.857406,\n",
       "  'lat': 55.878898,\n",
       "  'depTime': '18:19:00',\n",
       "  'depDate': '2025-01-09',\n",
       "  'arrTime': '18:19:00',\n",
       "  'arrDate': '2025-01-09',\n",
       "  'minimumChangeDuration': 'PT9M'},\n",
       " {'name': 'Lund Centralstation',\n",
       "  'id': 'A=1@O=Lund Centralstation@X=13186897@Y=55708094@U=1@L=740000120@',\n",
       "  'extId': '740000120',\n",
       "  'routeIdx': 11,\n",
       "  'lon': 13.186897,\n",
       "  'lat': 55.708094,\n",
       "  'arrTime': '18:36:00',\n",
       "  'arrDate': '2025-01-09',\n",
       "  'minimumChangeDuration': 'PT10M'}]"
      ]
     },
     "execution_count": 18,
     "metadata": {},
     "output_type": "execute_result"
    }
   ],
   "source": [
    "stops=example_trip[\"LegList\"][\"Leg\"][0][\"Stops\"][\"Stop\"]\n",
    "stops"
   ]
  },
  {
   "cell_type": "code",
   "execution_count": 19,
   "metadata": {},
   "outputs": [
    {
     "data": {
      "text/plain": [
       "['Göteborg Centralstation',\n",
       " 'Mölndal station',\n",
       " 'Kungsbacka station',\n",
       " 'Varberg station',\n",
       " 'Falkenberg station',\n",
       " 'Halmstad Centralstation',\n",
       " 'Laholm station',\n",
       " 'Båstad station',\n",
       " 'Ängelholm station',\n",
       " 'Helsingborg Centralstation',\n",
       " 'Landskrona station',\n",
       " 'Lund Centralstation']"
      ]
     },
     "execution_count": 19,
     "metadata": {},
     "output_type": "execute_result"
    }
   ],
   "source": [
    "[stop.get(\"name\")for stop in stops]"
   ]
  },
  {
   "cell_type": "markdown",
   "metadata": {},
   "source": [
    "### B)"
   ]
  },
  {
   "cell_type": "code",
   "execution_count": 20,
   "metadata": {},
   "outputs": [
    {
     "data": {
      "text/plain": [
       "'740098000'"
      ]
     },
     "execution_count": 20,
     "metadata": {},
     "output_type": "execute_result"
    }
   ],
   "source": [
    "sthlm= get_lookup(\"Stockholm\")\n",
    "sthlm[\"stopLocationOrCoordLocation\"][0][\"StopLocation\"][\"extId\"]"
   ]
  },
  {
   "cell_type": "code",
   "execution_count": 21,
   "metadata": {},
   "outputs": [
    {
     "data": {
      "text/plain": [
       "{'Trip': [{'Origin': {'name': 'Göteborg Centralstation',\n",
       "    'type': 'ST',\n",
       "    'id': 'A=1@O=Göteborg Centralstation@X=11973479@Y=57708895@U=1@L=740000002@',\n",
       "    'extId': '740000002',\n",
       "    'lon': 11.973479,\n",
       "    'lat': 57.708895,\n",
       "    'routeIdx': 0,\n",
       "    'prognosisType': 'PROGNOSED',\n",
       "    'time': '15:59:00',\n",
       "    'date': '2025-01-09',\n",
       "    'minimumChangeDuration': 'PT15M'},\n",
       "   'Destination': {'name': 'Stockholm Centralstation',\n",
       "    'type': 'ST',\n",
       "    'id': 'A=1@O=Stockholm Centralstation@X=18058151@Y=59330136@U=1@L=740000001@',\n",
       "    'extId': '740000001',\n",
       "    'lon': 18.058151,\n",
       "    'lat': 59.330136,\n",
       "    'routeIdx': 18,\n",
       "    'prognosisType': 'PROGNOSED',\n",
       "    'time': '20:44:00',\n",
       "    'date': '2025-01-09',\n",
       "    'minimumChangeDuration': 'PT20M'},\n",
       "   'ServiceDays': [{'planningPeriodBegin': '2025-01-02',\n",
       "     'planningPeriodEnd': '2025-06-15',\n",
       "     'sDaysR': 'inte varje dag',\n",
       "     'sDaysI': '9. jan t o m 9. jun 2025 mån - fre; utom 17. t o m 21. apr 2025, 25. apr, 1., 29., 30. maj, 6. jun',\n",
       "     'sDaysB': '079F3E7CF9F3E7CF9F3E7CF9F3838E9F3E7CE1E200'}],\n",
       "   'LegList': {'Leg': [{'Origin': {'name': 'Göteborg Centralstation',\n",
       "       'type': 'ST',\n",
       "       'id': 'A=1@O=Göteborg Centralstation@X=11973479@Y=57708895@U=1@L=740000002@',\n",
       "       'extId': '740000002',\n",
       "       'lon': 11.973479,\n",
       "       'lat': 57.708895,\n",
       "       'routeIdx': 0,\n",
       "       'prognosisType': 'PROGNOSED',\n",
       "       'time': '15:59:00',\n",
       "       'date': '2025-01-09',\n",
       "       'minimumChangeDuration': 'PT15M'},\n",
       "      'Destination': {'name': 'Stockholm Centralstation',\n",
       "       'type': 'ST',\n",
       "       'id': 'A=1@O=Stockholm Centralstation@X=18058151@Y=59330136@U=1@L=740000001@',\n",
       "       'extId': '740000001',\n",
       "       'lon': 18.058151,\n",
       "       'lat': 59.330136,\n",
       "       'routeIdx': 18,\n",
       "       'prognosisType': 'PROGNOSED',\n",
       "       'time': '20:44:00',\n",
       "       'date': '2025-01-09',\n",
       "       'minimumChangeDuration': 'PT20M'},\n",
       "      'Notes': {'Note': [{'value': '2 kl har ej reservering',\n",
       "         'key': 'AB',\n",
       "         'type': 'A',\n",
       "         'routeIdxFrom': 0,\n",
       "         'routeIdxTo': 5,\n",
       "         'txtN': '2 kl har ej reservering'},\n",
       "        {'value': '2 kl har ej reservering',\n",
       "         'key': 'AB',\n",
       "         'type': 'A',\n",
       "         'routeIdxFrom': 8,\n",
       "         'routeIdxTo': 11,\n",
       "         'txtN': '2 kl har ej reservering'},\n",
       "        {'value': '2 kl har ej reservering',\n",
       "         'key': 'AB',\n",
       "         'type': 'A',\n",
       "         'routeIdxFrom': 13,\n",
       "         'routeIdxTo': 18,\n",
       "         'txtN': '2 kl har ej reservering'},\n",
       "        {'value': 'Obligatorisk platsbokning',\n",
       "         'key': 'AF',\n",
       "         'type': 'A',\n",
       "         'routeIdxFrom': 0,\n",
       "         'routeIdxTo': 18,\n",
       "         'txtN': 'Obligatorisk platsbokning'},\n",
       "        {'value': 'Rullstolslyft',\n",
       "         'key': 'AN',\n",
       "         'type': 'A',\n",
       "         'routeIdxFrom': 0,\n",
       "         'routeIdxTo': 18,\n",
       "         'txtN': 'Rullstolslyft'},\n",
       "        {'value': 'WiFi',\n",
       "         'key': 'AW',\n",
       "         'type': 'A',\n",
       "         'routeIdxFrom': 0,\n",
       "         'routeIdxTo': 18,\n",
       "         'txtN': 'WiFi'},\n",
       "        {'value': 'EU förordning 2021/782',\n",
       "         'key': 'EJ',\n",
       "         'type': 'A',\n",
       "         'routeIdxFrom': 0,\n",
       "         'routeIdxTo': 18,\n",
       "         'txtN': 'EU förordning 2021/782'},\n",
       "        {'value': 'Servering finns ej',\n",
       "         'key': 'SI',\n",
       "         'type': 'A',\n",
       "         'routeIdxFrom': 0,\n",
       "         'routeIdxTo': 18,\n",
       "         'txtN': 'Servering finns ej'}]},\n",
       "      'JourneyDetailRef': {'ref': '1|23378|0|1|9012025'},\n",
       "      'JourneyStatus': 'P',\n",
       "      'Product': [{'icon': {'res': 'prod_gen'},\n",
       "        'operatorInfo': {'name': 'SJ',\n",
       "         'nameS': '74',\n",
       "         'nameN': '74',\n",
       "         'nameL': 'SJ',\n",
       "         'id': '74'},\n",
       "        'name': 'Regional Tåg 184',\n",
       "        'internalName': 'Regional Tåg 184',\n",
       "        'displayNumber': '184',\n",
       "        'num': '184',\n",
       "        'line': '184',\n",
       "        'lineId': '1074018400001',\n",
       "        'catOut': 'JRE',\n",
       "        'catIn': 'JRE',\n",
       "        'catCode': '2',\n",
       "        'cls': '4',\n",
       "        'catOutS': 'JRE',\n",
       "        'catOutL': 'Regional Tåg',\n",
       "        'operatorCode': '74',\n",
       "        'operator': 'SJ',\n",
       "        'admin': '074___',\n",
       "        'routeIdxFrom': 0,\n",
       "        'routeIdxTo': 18,\n",
       "        'matchId': '184;184;36604'}],\n",
       "      'Stops': {'Stop': [{'name': 'Göteborg Centralstation',\n",
       "         'id': 'A=1@O=Göteborg Centralstation@X=11973479@Y=57708895@U=1@L=740000002@',\n",
       "         'extId': '740000002',\n",
       "         'routeIdx': 0,\n",
       "         'lon': 11.973479,\n",
       "         'lat': 57.708895,\n",
       "         'depPrognosisType': 'PROGNOSED',\n",
       "         'depTime': '15:59:00',\n",
       "         'depDate': '2025-01-09',\n",
       "         'depDir': 'Stockholm Centralstation',\n",
       "         'minimumChangeDuration': 'PT15M'},\n",
       "        {'name': 'Alingsås station',\n",
       "         'id': 'A=1@O=Alingsås station@X=12532491@Y=57926857@U=1@L=740000018@',\n",
       "         'extId': '740000018',\n",
       "         'routeIdx': 1,\n",
       "         'lon': 12.532491,\n",
       "         'lat': 57.926857,\n",
       "         'depTime': '16:28:00',\n",
       "         'depDate': '2025-01-09',\n",
       "         'arrTime': '16:28:00',\n",
       "         'arrDate': '2025-01-09',\n",
       "         'minimumChangeDuration': 'PT7M'},\n",
       "        {'name': 'Vårgårda station',\n",
       "         'id': 'A=1@O=Vårgårda station@X=12810285@Y=58031204@U=1@L=740000569@',\n",
       "         'extId': '740000569',\n",
       "         'routeIdx': 2,\n",
       "         'lon': 12.810285,\n",
       "         'lat': 58.031204,\n",
       "         'depTime': '16:40:00',\n",
       "         'depDate': '2025-01-09',\n",
       "         'arrTime': '16:40:00',\n",
       "         'arrDate': '2025-01-09',\n",
       "         'minimumChangeDuration': 'PT10M'},\n",
       "        {'name': 'Herrljunga station',\n",
       "         'id': 'A=1@O=Herrljunga station@X=13021279@Y=58079188@U=1@L=740000040@',\n",
       "         'extId': '740000040',\n",
       "         'routeIdx': 3,\n",
       "         'lon': 13.021279,\n",
       "         'lat': 58.079188,\n",
       "         'depTime': '16:48:00',\n",
       "         'depDate': '2025-01-09',\n",
       "         'arrTime': '16:47:00',\n",
       "         'arrDate': '2025-01-09',\n",
       "         'minimumChangeDuration': 'PT8M'},\n",
       "        {'name': 'Falköping Centralstation',\n",
       "         'id': 'A=1@O=Falköping Centralstation@X=13553791@Y=58176101@U=1@L=740000060@',\n",
       "         'extId': '740000060',\n",
       "         'routeIdx': 4,\n",
       "         'lon': 13.553791,\n",
       "         'lat': 58.176101,\n",
       "         'depTime': '17:04:00',\n",
       "         'depDate': '2025-01-09',\n",
       "         'arrTime': '17:03:00',\n",
       "         'arrDate': '2025-01-09',\n",
       "         'minimumChangeDuration': 'PT8M'},\n",
       "        {'name': 'Skövde Centralstation',\n",
       "         'id': 'A=1@O=Skövde Centralstation@X=13853195@Y=58390898@U=1@L=740000008@',\n",
       "         'extId': '740000008',\n",
       "         'routeIdx': 5,\n",
       "         'lon': 13.853195,\n",
       "         'lat': 58.390898,\n",
       "         'depTime': '17:19:00',\n",
       "         'depDate': '2025-01-09',\n",
       "         'arrTime': '17:18:00',\n",
       "         'arrDate': '2025-01-09',\n",
       "         'minimumChangeDuration': 'PT10M'},\n",
       "        {'name': 'Töreboda station',\n",
       "         'id': 'A=1@O=Töreboda station@X=14128391@Y=58706024@U=1@L=740000183@',\n",
       "         'extId': '740000183',\n",
       "         'routeIdx': 6,\n",
       "         'lon': 14.128391,\n",
       "         'lat': 58.706024,\n",
       "         'depTime': '17:35:00',\n",
       "         'depDate': '2025-01-09',\n",
       "         'arrTime': '17:35:00',\n",
       "         'arrDate': '2025-01-09',\n",
       "         'minimumChangeDuration': 'PT8M'},\n",
       "        {'name': 'Laxå station',\n",
       "         'id': 'A=1@O=Laxå station@X=14616658@Y=58989391@U=1@L=740000194@',\n",
       "         'extId': '740000194',\n",
       "         'routeIdx': 7,\n",
       "         'lon': 14.616658,\n",
       "         'lat': 58.989391,\n",
       "         'depTime': '18:08:00',\n",
       "         'depDate': '2025-01-09',\n",
       "         'arrTime': '17:59:00',\n",
       "         'arrDate': '2025-01-09',\n",
       "         'minimumChangeDuration': 'PT10M'},\n",
       "        {'name': 'Hallsberg station',\n",
       "         'id': 'A=1@O=Hallsberg station@X=15110391@Y=59066698@U=1@L=740000077@',\n",
       "         'extId': '740000077',\n",
       "         'routeIdx': 8,\n",
       "         'lon': 15.110391,\n",
       "         'lat': 59.066698,\n",
       "         'depTime': '18:28:00',\n",
       "         'depDate': '2025-01-09',\n",
       "         'arrTime': '18:25:00',\n",
       "         'arrDate': '2025-01-09',\n",
       "         'minimumChangeDuration': 'PT10M'},\n",
       "        {'name': 'Kumla station',\n",
       "         'id': 'A=1@O=Kumla station@X=15140280@Y=59126377@U=1@L=740000192@',\n",
       "         'extId': '740000192',\n",
       "         'routeIdx': 9,\n",
       "         'lon': 15.14028,\n",
       "         'lat': 59.126377,\n",
       "         'depTime': '18:35:00',\n",
       "         'depDate': '2025-01-09',\n",
       "         'arrTime': '18:35:00',\n",
       "         'arrDate': '2025-01-09',\n",
       "         'minimumChangeDuration': 'PT10M'},\n",
       "        {'name': 'Örebro Södra station',\n",
       "         'id': 'A=1@O=Örebro Södra station@X=15202332@Y=59269989@U=1@L=740000361@',\n",
       "         'extId': '740000361',\n",
       "         'routeIdx': 10,\n",
       "         'lon': 15.202332,\n",
       "         'lat': 59.269989,\n",
       "         'depTime': '18:46:00',\n",
       "         'depDate': '2025-01-09',\n",
       "         'arrTime': '18:46:00',\n",
       "         'arrDate': '2025-01-09',\n",
       "         'minimumChangeDuration': 'PT1H30M'},\n",
       "        {'name': 'Örebro Centralstation',\n",
       "         'id': 'A=1@O=Örebro Centralstation@X=15211348@Y=59278942@U=1@L=740000133@',\n",
       "         'extId': '740000133',\n",
       "         'routeIdx': 11,\n",
       "         'lon': 15.211348,\n",
       "         'lat': 59.278942,\n",
       "         'depTime': '18:56:00',\n",
       "         'depDate': '2025-01-09',\n",
       "         'arrTime': '18:49:00',\n",
       "         'arrDate': '2025-01-09',\n",
       "         'minimumChangeDuration': 'PT10M'},\n",
       "        {'name': 'Arboga station',\n",
       "         'id': 'A=1@O=Arboga station@X=15841061@Y=59397105@U=1@L=740000262@',\n",
       "         'extId': '740000262',\n",
       "         'routeIdx': 12,\n",
       "         'lon': 15.841061,\n",
       "         'lat': 59.397105,\n",
       "         'depTime': '19:18:00',\n",
       "         'depDate': '2025-01-09',\n",
       "         'arrTime': '19:18:00',\n",
       "         'arrDate': '2025-01-09',\n",
       "         'minimumChangeDuration': 'PT5M'},\n",
       "        {'name': 'Köping station',\n",
       "         'id': 'A=1@O=Köping station@X=16004215@Y=59506675@U=1@L=740000167@',\n",
       "         'extId': '740000167',\n",
       "         'routeIdx': 13,\n",
       "         'lon': 16.004215,\n",
       "         'lat': 59.506675,\n",
       "         'depTime': '19:29:00',\n",
       "         'depDate': '2025-01-09',\n",
       "         'arrTime': '19:29:00',\n",
       "         'arrDate': '2025-01-09',\n",
       "         'minimumChangeDuration': 'PT5M'},\n",
       "        {'name': 'Västerås Centralstation',\n",
       "         'id': 'A=1@O=Västerås Centralstation@X=16551712@Y=59607705@U=1@L=740000099@',\n",
       "         'extId': '740000099',\n",
       "         'routeIdx': 14,\n",
       "         'lon': 16.551712,\n",
       "         'lat': 59.607705,\n",
       "         'depTime': '19:48:00',\n",
       "         'depDate': '2025-01-09',\n",
       "         'arrTime': '19:46:00',\n",
       "         'arrDate': '2025-01-09',\n",
       "         'minimumChangeDuration': 'PT8M'},\n",
       "        {'name': 'Enköping station',\n",
       "         'id': 'A=1@O=Enköping station@X=17086741@Y=59644327@U=1@L=740000072@',\n",
       "         'extId': '740000072',\n",
       "         'routeIdx': 15,\n",
       "         'lon': 17.086741,\n",
       "         'lat': 59.644327,\n",
       "         'depTime': '20:03:00',\n",
       "         'depDate': '2025-01-09',\n",
       "         'arrTime': '20:03:00',\n",
       "         'arrDate': '2025-01-09',\n",
       "         'minimumChangeDuration': 'PT8M'},\n",
       "        {'name': 'Bålsta station (Håbo kn)',\n",
       "         'id': 'A=1@O=Bålsta station (Håbo kn)@X=17532813@Y=59568754@U=1@L=740000660@',\n",
       "         'extId': '740000660',\n",
       "         'routeIdx': 16,\n",
       "         'lon': 17.532813,\n",
       "         'lat': 59.568754,\n",
       "         'depTime': '20:15:00',\n",
       "         'depDate': '2025-01-09',\n",
       "         'arrTime': '20:15:00',\n",
       "         'arrDate': '2025-01-09',\n",
       "         'minimumChangeDuration': 'PT10M'},\n",
       "        {'Notes': {'Note': [{'value': 'Stannar endast för avstigande',\n",
       "            'key': 'text.realtime.stop.entry.disabled',\n",
       "            'type': 'R',\n",
       "            'txtN': 'Stannar endast för avstigande'}]},\n",
       "         'name': 'Sundbyberg station',\n",
       "         'id': 'A=1@O=Sundbyberg station@X=17970938@Y=59361032@U=1@L=740000773@',\n",
       "         'extId': '740000773',\n",
       "         'routeIdx': 17,\n",
       "         'lon': 17.970938,\n",
       "         'lat': 59.361032,\n",
       "         'arrTime': '20:36:00',\n",
       "         'arrDate': '2025-01-09',\n",
       "         'boarding': False,\n",
       "         'minimumChangeDuration': 'PT10M'},\n",
       "        {'name': 'Stockholm Centralstation',\n",
       "         'id': 'A=1@O=Stockholm Centralstation@X=18058151@Y=59330136@U=1@L=740000001@',\n",
       "         'extId': '740000001',\n",
       "         'routeIdx': 18,\n",
       "         'lon': 18.058151,\n",
       "         'lat': 59.330136,\n",
       "         'arrPrognosisType': 'PROGNOSED',\n",
       "         'arrTime': '20:44:00',\n",
       "         'arrDate': '2025-01-09',\n",
       "         'minimumChangeDuration': 'PT20M'}]},\n",
       "      'JourneyDetail': {'ref': '1|23378|0|1|9012025',\n",
       "       'dayOfOperation': '2025-01-09'},\n",
       "      'id': '0',\n",
       "      'idx': 0,\n",
       "      'name': 'Regional Tåg 184',\n",
       "      'number': '184',\n",
       "      'category': 'JRE',\n",
       "      'type': 'JNY',\n",
       "      'reachable': True,\n",
       "      'waitingState': 'UNDEF',\n",
       "      'direction': 'Stockholm Centralstation',\n",
       "      'directionFlag': '1',\n",
       "      'duration': 'PT4H45M'}]},\n",
       "   'calculation': 'INITIAL',\n",
       "   'TripStatus': {'economic': True, 'convenient': True, 'hintCode': 0},\n",
       "   'idx': 0,\n",
       "   'tripId': 'C-0',\n",
       "   'ctxRecon': '¶HKI¶T$A=1@O=Göteborg Centralstation@L=740000002@a=128@$A=1@O=Stockholm Centralstation@L=740000001@a=128@$202501091559$202501092044$JRE  184$$1$$$$$$¶KC¶#VE#2#CF#100#CA#0#CM#0#SICT#0#AM#81#AM2#0#RT#4#¶KRCC¶#VE#1#',\n",
       "   'duration': 'PT4H45M',\n",
       "   'rtDuration': 'PT4H45M',\n",
       "   'checksum': '60648cdc_3'},\n",
       "  {'Origin': {'name': 'Göteborg Centralstation',\n",
       "    'type': 'ST',\n",
       "    'id': 'A=1@O=Göteborg Centralstation@X=11973479@Y=57708895@U=1@L=740000002@',\n",
       "    'extId': '740000002',\n",
       "    'lon': 11.973479,\n",
       "    'lat': 57.708895,\n",
       "    'routeIdx': 0,\n",
       "    'prognosisType': 'PROGNOSED',\n",
       "    'time': '16:18:00',\n",
       "    'date': '2025-01-09',\n",
       "    'minimumChangeDuration': 'PT15M'},\n",
       "   'Destination': {'name': 'Stockholm Centralstation',\n",
       "    'type': 'ST',\n",
       "    'id': 'A=1@O=Stockholm Centralstation@X=18058151@Y=59330136@U=1@L=740000001@',\n",
       "    'extId': '740000001',\n",
       "    'lon': 18.058151,\n",
       "    'lat': 59.330136,\n",
       "    'routeIdx': 5,\n",
       "    'prognosisType': 'PROGNOSED',\n",
       "    'time': '19:43:00',\n",
       "    'date': '2025-01-09',\n",
       "    'minimumChangeDuration': 'PT20M'},\n",
       "   'ServiceDays': [{'planningPeriodBegin': '2025-01-02',\n",
       "     'planningPeriodEnd': '2025-06-15',\n",
       "     'sDaysR': 'inte varje dag',\n",
       "     'sDaysI': '9. jan t o m 9. jun 2025 mån - fre; 11. jan t o m 15. mar 2025 mån - lör; utom 18., 21. apr, 1., 2., 29., 30. maj; och 2. t o m 16. mar 2025, 26. apr',\n",
       "     'sDaysB': '07DFBF7EFDFBF7FFFFFE7CF9F3C3EE1F3E7CE1F200'}],\n",
       "   'LegList': {'Leg': [{'Origin': {'name': 'Göteborg Centralstation',\n",
       "       'type': 'ST',\n",
       "       'id': 'A=1@O=Göteborg Centralstation@X=11973479@Y=57708895@U=1@L=740000002@',\n",
       "       'extId': '740000002',\n",
       "       'lon': 11.973479,\n",
       "       'lat': 57.708895,\n",
       "       'routeIdx': 0,\n",
       "       'prognosisType': 'PROGNOSED',\n",
       "       'time': '16:18:00',\n",
       "       'date': '2025-01-09',\n",
       "       'minimumChangeDuration': 'PT15M'},\n",
       "      'Destination': {'name': 'Stockholm Centralstation',\n",
       "       'type': 'ST',\n",
       "       'id': 'A=1@O=Stockholm Centralstation@X=18058151@Y=59330136@U=1@L=740000001@',\n",
       "       'extId': '740000001',\n",
       "       'lon': 18.058151,\n",
       "       'lat': 59.330136,\n",
       "       'routeIdx': 5,\n",
       "       'prognosisType': 'PROGNOSED',\n",
       "       'time': '19:43:00',\n",
       "       'date': '2025-01-09',\n",
       "       'minimumChangeDuration': 'PT20M'},\n",
       "      'Notes': {'Note': [{'value': 'X2000',\n",
       "         'key': 'VX',\n",
       "         'type': 'A',\n",
       "         'routeIdxFrom': 0,\n",
       "         'routeIdxTo': 5,\n",
       "         'txtN': 'X2000'},\n",
       "        {'value': 'Mat 1 klass',\n",
       "         'key': 'A1',\n",
       "         'type': 'A',\n",
       "         'routeIdxFrom': 0,\n",
       "         'routeIdxTo': 5,\n",
       "         'txtN': 'Mat 1 klass'},\n",
       "        {'value': 'Bistrovagn',\n",
       "         'key': 'AD',\n",
       "         'type': 'A',\n",
       "         'routeIdxFrom': 0,\n",
       "         'routeIdxTo': 5,\n",
       "         'txtN': 'Bistrovagn'},\n",
       "        {'value': 'Obligatorisk platsbokning',\n",
       "         'key': 'AF',\n",
       "         'type': 'A',\n",
       "         'routeIdxFrom': 0,\n",
       "         'routeIdxTo': 5,\n",
       "         'txtN': 'Obligatorisk platsbokning'},\n",
       "        {'value': 'Rullstolslyft',\n",
       "         'key': 'AN',\n",
       "         'type': 'A',\n",
       "         'routeIdxFrom': 0,\n",
       "         'routeIdxTo': 5,\n",
       "         'txtN': 'Rullstolslyft'},\n",
       "        {'value': 'WiFi',\n",
       "         'key': 'AW',\n",
       "         'type': 'A',\n",
       "         'routeIdxFrom': 0,\n",
       "         'routeIdxTo': 5,\n",
       "         'txtN': 'WiFi'},\n",
       "        {'value': '2 klass lugn',\n",
       "         'key': 'BL',\n",
       "         'type': 'A',\n",
       "         'routeIdxFrom': 0,\n",
       "         'routeIdxTo': 5,\n",
       "         'txtN': '2 klass lugn'},\n",
       "        {'value': 'EU förordning 2021/782',\n",
       "         'key': 'EJ',\n",
       "         'type': 'A',\n",
       "         'routeIdxFrom': 0,\n",
       "         'routeIdxTo': 5,\n",
       "         'txtN': 'EU förordning 2021/782'},\n",
       "        {'value': 'Maträtt',\n",
       "         'key': 'SM',\n",
       "         'type': 'A',\n",
       "         'routeIdxFrom': 0,\n",
       "         'routeIdxTo': 5,\n",
       "         'txtN': 'Maträtt'},\n",
       "        {'value': '1 klass med extra komfort',\n",
       "         'key': 'SU',\n",
       "         'type': 'A',\n",
       "         'routeIdxFrom': 0,\n",
       "         'routeIdxTo': 5,\n",
       "         'txtN': '1 klass med extra komfort'},\n",
       "        {'value': 'Kaffebuffé 1 klass',\n",
       "         'key': 'SZ',\n",
       "         'type': 'A',\n",
       "         'routeIdxFrom': 0,\n",
       "         'routeIdxTo': 5,\n",
       "         'txtN': 'Kaffebuffé 1 klass'}]},\n",
       "      'JourneyDetailRef': {'ref': '1|61510|0|1|9012025'},\n",
       "      'JourneyStatus': 'P',\n",
       "      'Product': [{'icon': {'res': 'prod_gen'},\n",
       "        'operatorInfo': {'name': 'SJ',\n",
       "         'nameS': '74',\n",
       "         'nameN': '74',\n",
       "         'nameL': 'SJ',\n",
       "         'id': '74'},\n",
       "        'name': 'Snabbtåg 442',\n",
       "        'internalName': 'Snabbtåg 442',\n",
       "        'displayNumber': '442',\n",
       "        'num': '442',\n",
       "        'line': '442',\n",
       "        'lineId': '1074044200001',\n",
       "        'catOut': 'JST',\n",
       "        'catIn': 'JST',\n",
       "        'catCode': '1',\n",
       "        'cls': '2',\n",
       "        'catOutS': 'JST',\n",
       "        'catOutL': 'Snabbtåg',\n",
       "        'operatorCode': '74',\n",
       "        'operator': 'SJ',\n",
       "        'admin': '074___',\n",
       "        'routeIdxFrom': 0,\n",
       "        'routeIdxTo': 5,\n",
       "        'matchId': '442;442;34323'}],\n",
       "      'Stops': {'Stop': [{'name': 'Göteborg Centralstation',\n",
       "         'id': 'A=1@O=Göteborg Centralstation@X=11973479@Y=57708895@U=1@L=740000002@',\n",
       "         'extId': '740000002',\n",
       "         'routeIdx': 0,\n",
       "         'lon': 11.973479,\n",
       "         'lat': 57.708895,\n",
       "         'depPrognosisType': 'PROGNOSED',\n",
       "         'depTime': '16:18:00',\n",
       "         'depDate': '2025-01-09',\n",
       "         'depDir': 'Stockholm Centralstation',\n",
       "         'minimumChangeDuration': 'PT15M'},\n",
       "        {'Notes': {'Note': [{'value': 'Stannar endast för påstigande',\n",
       "            'key': 'text.realtime.stop.exit.disabled',\n",
       "            'type': 'R',\n",
       "            'txtN': 'Stannar endast för påstigande'}]},\n",
       "         'name': 'Alingsås station',\n",
       "         'id': 'A=1@O=Alingsås station@X=12532491@Y=57926857@U=1@L=740000018@',\n",
       "         'extId': '740000018',\n",
       "         'routeIdx': 1,\n",
       "         'lon': 12.532491,\n",
       "         'lat': 57.926857,\n",
       "         'depTime': '16:50:00',\n",
       "         'depDate': '2025-01-09',\n",
       "         'alighting': False,\n",
       "         'minimumChangeDuration': 'PT7M'},\n",
       "        {'name': 'Herrljunga station',\n",
       "         'id': 'A=1@O=Herrljunga station@X=13021279@Y=58079188@U=1@L=740000040@',\n",
       "         'extId': '740000040',\n",
       "         'routeIdx': 2,\n",
       "         'lon': 13.021279,\n",
       "         'lat': 58.079188,\n",
       "         'depTime': '17:05:00',\n",
       "         'depDate': '2025-01-09',\n",
       "         'arrTime': '17:04:00',\n",
       "         'arrDate': '2025-01-09',\n",
       "         'minimumChangeDuration': 'PT8M'},\n",
       "        {'name': 'Skövde Centralstation',\n",
       "         'id': 'A=1@O=Skövde Centralstation@X=13853195@Y=58390898@U=1@L=740000008@',\n",
       "         'extId': '740000008',\n",
       "         'routeIdx': 3,\n",
       "         'lon': 13.853195,\n",
       "         'lat': 58.390898,\n",
       "         'depTime': '17:31:00',\n",
       "         'depDate': '2025-01-09',\n",
       "         'arrTime': '17:30:00',\n",
       "         'arrDate': '2025-01-09',\n",
       "         'minimumChangeDuration': 'PT10M'},\n",
       "        {'name': 'Katrineholm Centralstation',\n",
       "         'id': 'A=1@O=Katrineholm Centralstation@X=16208324@Y=58996591@U=1@L=740000166@',\n",
       "         'extId': '740000166',\n",
       "         'routeIdx': 4,\n",
       "         'lon': 16.208324,\n",
       "         'lat': 58.996591,\n",
       "         'depTime': '18:51:00',\n",
       "         'depDate': '2025-01-09',\n",
       "         'arrTime': '18:50:00',\n",
       "         'arrDate': '2025-01-09',\n",
       "         'minimumChangeDuration': 'PT10M'},\n",
       "        {'name': 'Stockholm Centralstation',\n",
       "         'id': 'A=1@O=Stockholm Centralstation@X=18058151@Y=59330136@U=1@L=740000001@',\n",
       "         'extId': '740000001',\n",
       "         'routeIdx': 5,\n",
       "         'lon': 18.058151,\n",
       "         'lat': 59.330136,\n",
       "         'arrPrognosisType': 'PROGNOSED',\n",
       "         'arrTime': '19:43:00',\n",
       "         'arrDate': '2025-01-09',\n",
       "         'minimumChangeDuration': 'PT20M'}]},\n",
       "      'JourneyDetail': {'ref': '1|61510|0|1|9012025',\n",
       "       'dayOfOperation': '2025-01-09'},\n",
       "      'id': '0',\n",
       "      'idx': 0,\n",
       "      'name': 'Snabbtåg 442',\n",
       "      'number': '442',\n",
       "      'category': 'JST',\n",
       "      'type': 'JNY',\n",
       "      'reachable': True,\n",
       "      'waitingState': 'UNDEF',\n",
       "      'direction': 'Stockholm Centralstation',\n",
       "      'directionFlag': '1',\n",
       "      'duration': 'PT3H25M'}]},\n",
       "   'calculation': 'INITIAL',\n",
       "   'TripStatus': {'hintCode': 0},\n",
       "   'idx': 1,\n",
       "   'tripId': 'C-1',\n",
       "   'ctxRecon': '¶HKI¶T$A=1@O=Göteborg Centralstation@L=740000002@a=128@$A=1@O=Stockholm Centralstation@L=740000001@a=128@$202501091618$202501091943$JST  442$$1$$$$$$¶KC¶#VE#2#CF#100#CA#0#CM#0#SICT#0#AM#81#AM2#0#RT#4#¶KRCC¶#VE#1#',\n",
       "   'duration': 'PT3H25M',\n",
       "   'rtDuration': 'PT3H25M',\n",
       "   'checksum': 'fd81c9d2_3'},\n",
       "  {'Origin': {'name': 'Göteborg Centralstation',\n",
       "    'type': 'ST',\n",
       "    'id': 'A=1@O=Göteborg Centralstation@X=11973479@Y=57708895@U=1@L=740000002@',\n",
       "    'extId': '740000002',\n",
       "    'lon': 11.973479,\n",
       "    'lat': 57.708895,\n",
       "    'routeIdx': 0,\n",
       "    'prognosisType': 'PROGNOSED',\n",
       "    'time': '16:59:00',\n",
       "    'date': '2025-01-09',\n",
       "    'minimumChangeDuration': 'PT15M'},\n",
       "   'Destination': {'name': 'Stockholm Centralstation',\n",
       "    'type': 'ST',\n",
       "    'id': 'A=1@O=Stockholm Centralstation@X=18058151@Y=59330136@U=1@L=740000001@',\n",
       "    'extId': '740000001',\n",
       "    'lon': 18.058151,\n",
       "    'lat': 59.330136,\n",
       "    'routeIdx': 6,\n",
       "    'prognosisType': 'PROGNOSED',\n",
       "    'time': '20:33:00',\n",
       "    'date': '2025-01-09',\n",
       "    'minimumChangeDuration': 'PT20M'},\n",
       "   'ServiceDays': [{'planningPeriodBegin': '2025-01-02',\n",
       "     'planningPeriodEnd': '2025-06-15',\n",
       "     'sDaysR': 'inte varje dag',\n",
       "     'sDaysI': '9., 10. jan',\n",
       "     'sDaysB': '1F8000000000000000000000000000000000000000'}],\n",
       "   'LegList': {'Leg': [{'Origin': {'name': 'Göteborg Centralstation',\n",
       "       'type': 'ST',\n",
       "       'id': 'A=1@O=Göteborg Centralstation@X=11973479@Y=57708895@U=1@L=740000002@',\n",
       "       'extId': '740000002',\n",
       "       'lon': 11.973479,\n",
       "       'lat': 57.708895,\n",
       "       'routeIdx': 0,\n",
       "       'prognosisType': 'PROGNOSED',\n",
       "       'time': '16:59:00',\n",
       "       'date': '2025-01-09',\n",
       "       'minimumChangeDuration': 'PT15M'},\n",
       "      'Destination': {'name': 'Stockholm Centralstation',\n",
       "       'type': 'ST',\n",
       "       'id': 'A=1@O=Stockholm Centralstation@X=18058151@Y=59330136@U=1@L=740000001@',\n",
       "       'extId': '740000001',\n",
       "       'lon': 18.058151,\n",
       "       'lat': 59.330136,\n",
       "       'routeIdx': 6,\n",
       "       'prognosisType': 'PROGNOSED',\n",
       "       'time': '20:33:00',\n",
       "       'date': '2025-01-09',\n",
       "       'minimumChangeDuration': 'PT20M'},\n",
       "      'Notes': {'Note': [{'value': 'Mat 1 klass',\n",
       "         'key': 'A1',\n",
       "         'type': 'A',\n",
       "         'routeIdxFrom': 0,\n",
       "         'routeIdxTo': 6,\n",
       "         'txtN': 'Mat 1 klass'},\n",
       "        {'value': 'Obligatorisk platsbokning',\n",
       "         'key': 'AF',\n",
       "         'type': 'A',\n",
       "         'routeIdxFrom': 0,\n",
       "         'routeIdxTo': 6,\n",
       "         'txtN': 'Obligatorisk platsbokning'},\n",
       "        {'value': 'Rullstolslyft',\n",
       "         'key': 'AN',\n",
       "         'type': 'A',\n",
       "         'routeIdxFrom': 0,\n",
       "         'routeIdxTo': 6,\n",
       "         'txtN': 'Rullstolslyft'},\n",
       "        {'value': 'WiFi',\n",
       "         'key': 'AW',\n",
       "         'type': 'A',\n",
       "         'routeIdxFrom': 0,\n",
       "         'routeIdxTo': 6,\n",
       "         'txtN': 'WiFi'},\n",
       "        {'value': 'EU förordning 2021/782',\n",
       "         'key': 'EJ',\n",
       "         'type': 'A',\n",
       "         'routeIdxFrom': 0,\n",
       "         'routeIdxTo': 6,\n",
       "         'txtN': 'EU förordning 2021/782'},\n",
       "        {'value': 'Eluttag vid sittplats',\n",
       "         'key': 'EL',\n",
       "         'type': 'A',\n",
       "         'routeIdxFrom': 0,\n",
       "         'routeIdxTo': 6,\n",
       "         'txtN': 'Eluttag vid sittplats'},\n",
       "        {'value': 'Kafé',\n",
       "         'key': 'SK',\n",
       "         'type': 'A',\n",
       "         'routeIdxFrom': 0,\n",
       "         'routeIdxTo': 6,\n",
       "         'txtN': 'Kafé'}]},\n",
       "      'JourneyDetailRef': {'ref': '1|69255|0|1|9012025'},\n",
       "      'JourneyStatus': 'P',\n",
       "      'Product': [{'icon': {'res': 'prod_gen'},\n",
       "        'operatorInfo': {'name': 'VR Snabbtåg',\n",
       "         'nameS': '812',\n",
       "         'nameN': '812',\n",
       "         'nameL': 'VR Snabbtåg',\n",
       "         'id': '812'},\n",
       "        'name': 'Express 22044',\n",
       "        'internalName': 'Express 22044',\n",
       "        'displayNumber': '22044',\n",
       "        'num': '22044',\n",
       "        'line': '22044',\n",
       "        'lineId': '1812003700020',\n",
       "        'catOut': 'JEX',\n",
       "        'catIn': 'JEX',\n",
       "        'catCode': '1',\n",
       "        'cls': '2',\n",
       "        'catOutS': 'JEX',\n",
       "        'catOutL': 'Express',\n",
       "        'operatorCode': '812',\n",
       "        'operator': 'VR Snabbtåg',\n",
       "        'admin': '812___',\n",
       "        'routeIdxFrom': 0,\n",
       "        'routeIdxTo': 6,\n",
       "        'matchId': '2034;37;4156'}],\n",
       "      'Stops': {'Stop': [{'name': 'Göteborg Centralstation',\n",
       "         'id': 'A=1@O=Göteborg Centralstation@X=11973479@Y=57708895@U=1@L=740000002@',\n",
       "         'extId': '740000002',\n",
       "         'routeIdx': 0,\n",
       "         'lon': 11.973479,\n",
       "         'lat': 57.708895,\n",
       "         'depPrognosisType': 'PROGNOSED',\n",
       "         'depTime': '16:59:00',\n",
       "         'depDate': '2025-01-09',\n",
       "         'depDir': 'Stockholm Centralstation',\n",
       "         'minimumChangeDuration': 'PT15M'},\n",
       "        {'Notes': {'Note': [{'value': 'Stannar endast för påstigande',\n",
       "            'key': 'text.realtime.stop.exit.disabled',\n",
       "            'type': 'R',\n",
       "            'txtN': 'Stannar endast för påstigande'}]},\n",
       "         'name': 'Alingsås station',\n",
       "         'id': 'A=1@O=Alingsås station@X=12532491@Y=57926857@U=1@L=740000018@',\n",
       "         'extId': '740000018',\n",
       "         'routeIdx': 1,\n",
       "         'lon': 12.532491,\n",
       "         'lat': 57.926857,\n",
       "         'depTime': '17:30:00',\n",
       "         'depDate': '2025-01-09',\n",
       "         'alighting': False,\n",
       "         'minimumChangeDuration': 'PT7M'},\n",
       "        {'name': 'Herrljunga station',\n",
       "         'id': 'A=1@O=Herrljunga station@X=13021279@Y=58079188@U=1@L=740000040@',\n",
       "         'extId': '740000040',\n",
       "         'routeIdx': 2,\n",
       "         'lon': 13.021279,\n",
       "         'lat': 58.079188,\n",
       "         'depTime': '17:45:00',\n",
       "         'depDate': '2025-01-09',\n",
       "         'arrTime': '17:45:00',\n",
       "         'arrDate': '2025-01-09',\n",
       "         'minimumChangeDuration': 'PT8M'},\n",
       "        {'name': 'Falköping Centralstation',\n",
       "         'id': 'A=1@O=Falköping Centralstation@X=13553791@Y=58176101@U=1@L=740000060@',\n",
       "         'extId': '740000060',\n",
       "         'routeIdx': 3,\n",
       "         'lon': 13.553791,\n",
       "         'lat': 58.176101,\n",
       "         'depTime': '18:01:00',\n",
       "         'depDate': '2025-01-09',\n",
       "         'arrTime': '18:01:00',\n",
       "         'arrDate': '2025-01-09',\n",
       "         'minimumChangeDuration': 'PT8M'},\n",
       "        {'name': 'Skövde Centralstation',\n",
       "         'id': 'A=1@O=Skövde Centralstation@X=13853195@Y=58390898@U=1@L=740000008@',\n",
       "         'extId': '740000008',\n",
       "         'routeIdx': 4,\n",
       "         'lon': 13.853195,\n",
       "         'lat': 58.390898,\n",
       "         'depTime': '18:16:00',\n",
       "         'depDate': '2025-01-09',\n",
       "         'arrTime': '18:16:00',\n",
       "         'arrDate': '2025-01-09',\n",
       "         'minimumChangeDuration': 'PT10M'},\n",
       "        {'Notes': {'Note': [{'value': 'Stannar endast för avstigande',\n",
       "            'key': 'text.realtime.stop.entry.disabled',\n",
       "            'type': 'R',\n",
       "            'txtN': 'Stannar endast för avstigande'}]},\n",
       "         'name': 'Flemingsberg station (Huddinge kn)',\n",
       "         'id': 'A=1@O=Flemingsberg station (Huddinge kn)@X=17945678@Y=59217959@U=1@L=740000031@',\n",
       "         'extId': '740000031',\n",
       "         'routeIdx': 5,\n",
       "         'lon': 17.945678,\n",
       "         'lat': 59.217959,\n",
       "         'arrTime': '20:21:00',\n",
       "         'arrDate': '2025-01-09',\n",
       "         'boarding': False,\n",
       "         'minimumChangeDuration': 'PT10M'},\n",
       "        {'name': 'Stockholm Centralstation',\n",
       "         'id': 'A=1@O=Stockholm Centralstation@X=18058151@Y=59330136@U=1@L=740000001@',\n",
       "         'extId': '740000001',\n",
       "         'routeIdx': 6,\n",
       "         'lon': 18.058151,\n",
       "         'lat': 59.330136,\n",
       "         'arrPrognosisType': 'PROGNOSED',\n",
       "         'arrTime': '20:33:00',\n",
       "         'arrDate': '2025-01-09',\n",
       "         'minimumChangeDuration': 'PT20M'}]},\n",
       "      'JourneyDetail': {'ref': '1|69255|0|1|9012025',\n",
       "       'dayOfOperation': '2025-01-09'},\n",
       "      'id': '0',\n",
       "      'idx': 0,\n",
       "      'name': 'Express 22044',\n",
       "      'number': '22044',\n",
       "      'category': 'JEX',\n",
       "      'type': 'JNY',\n",
       "      'reachable': True,\n",
       "      'waitingState': 'UNDEF',\n",
       "      'direction': 'Stockholm Centralstation',\n",
       "      'directionFlag': '2',\n",
       "      'duration': 'PT3H34M'}]},\n",
       "   'calculation': 'INITIAL',\n",
       "   'TripStatus': {'hintCode': 0},\n",
       "   'idx': 2,\n",
       "   'tripId': 'C-2',\n",
       "   'ctxRecon': '¶HKI¶T$A=1@O=Göteborg Centralstation@L=740000002@a=128@$A=1@O=Stockholm Centralstation@L=740000001@a=128@$202501091659$202501092033$JEX22044$$1$$$$$$¶KC¶#VE#2#CF#100#CA#0#CM#0#SICT#0#AM#81#AM2#0#RT#4#¶KRCC¶#VE#1#',\n",
       "   'duration': 'PT3H34M',\n",
       "   'rtDuration': 'PT3H34M',\n",
       "   'checksum': 'e87e2a56_3'},\n",
       "  {'Origin': {'name': 'Göteborg Centralstation',\n",
       "    'type': 'ST',\n",
       "    'id': 'A=1@O=Göteborg Centralstation@X=11973479@Y=57708895@U=1@L=740000002@',\n",
       "    'extId': '740000002',\n",
       "    'lon': 11.973479,\n",
       "    'lat': 57.708895,\n",
       "    'routeIdx': 0,\n",
       "    'prognosisType': 'PROGNOSED',\n",
       "    'time': '18:02:00',\n",
       "    'date': '2025-01-09',\n",
       "    'minimumChangeDuration': 'PT15M'},\n",
       "   'Destination': {'name': 'Stockholm Centralstation',\n",
       "    'type': 'ST',\n",
       "    'id': 'A=1@O=Stockholm Centralstation@X=18058151@Y=59330136@U=1@L=740000001@',\n",
       "    'extId': '740000001',\n",
       "    'lon': 18.058151,\n",
       "    'lat': 59.330136,\n",
       "    'routeIdx': 18,\n",
       "    'prognosisType': 'PROGNOSED',\n",
       "    'time': '22:44:00',\n",
       "    'date': '2025-01-09',\n",
       "    'minimumChangeDuration': 'PT20M'},\n",
       "   'ServiceDays': [{'planningPeriodBegin': '2025-01-02',\n",
       "     'planningPeriodEnd': '2025-06-15',\n",
       "     'sDaysR': 'inte varje dag',\n",
       "     'sDaysI': '9. jan t o m 9. jun 2025; 22. mar t o m 26. apr 2025 mån - fre, sön; 10. t o m 31. maj 2025 mån - fre, sön; utom 17. t o m 21. apr 2025, 27. apr, 18. maj, 29. maj t o m 1. jun 2025',\n",
       "     'sDaysB': '1FFFFFFFFFFFFFFFFFFEFDFBF783CFFF7E7DE1FE00'}],\n",
       "   'LegList': {'Leg': [{'Origin': {'name': 'Göteborg Centralstation',\n",
       "       'type': 'ST',\n",
       "       'id': 'A=1@O=Göteborg Centralstation@X=11973479@Y=57708895@U=1@L=740000002@',\n",
       "       'extId': '740000002',\n",
       "       'lon': 11.973479,\n",
       "       'lat': 57.708895,\n",
       "       'routeIdx': 0,\n",
       "       'prognosisType': 'PROGNOSED',\n",
       "       'time': '18:02:00',\n",
       "       'date': '2025-01-09',\n",
       "       'minimumChangeDuration': 'PT15M'},\n",
       "      'Destination': {'name': 'Stockholm Centralstation',\n",
       "       'type': 'ST',\n",
       "       'id': 'A=1@O=Stockholm Centralstation@X=18058151@Y=59330136@U=1@L=740000001@',\n",
       "       'extId': '740000001',\n",
       "       'lon': 18.058151,\n",
       "       'lat': 59.330136,\n",
       "       'routeIdx': 18,\n",
       "       'prognosisType': 'PROGNOSED',\n",
       "       'time': '22:44:00',\n",
       "       'date': '2025-01-09',\n",
       "       'minimumChangeDuration': 'PT20M'},\n",
       "      'Notes': {'Note': [{'value': '2 kl har ej reservering',\n",
       "         'key': 'AB',\n",
       "         'type': 'A',\n",
       "         'routeIdxFrom': 0,\n",
       "         'routeIdxTo': 5,\n",
       "         'txtN': '2 kl har ej reservering'},\n",
       "        {'value': '2 kl har ej reservering',\n",
       "         'key': 'AB',\n",
       "         'type': 'A',\n",
       "         'routeIdxFrom': 8,\n",
       "         'routeIdxTo': 11,\n",
       "         'txtN': '2 kl har ej reservering'},\n",
       "        {'value': '2 kl har ej reservering',\n",
       "         'key': 'AB',\n",
       "         'type': 'A',\n",
       "         'routeIdxFrom': 13,\n",
       "         'routeIdxTo': 18,\n",
       "         'txtN': '2 kl har ej reservering'},\n",
       "        {'value': 'Obligatorisk platsbokning',\n",
       "         'key': 'AF',\n",
       "         'type': 'A',\n",
       "         'routeIdxFrom': 0,\n",
       "         'routeIdxTo': 18,\n",
       "         'txtN': 'Obligatorisk platsbokning'},\n",
       "        {'value': 'Rullstolslyft',\n",
       "         'key': 'AN',\n",
       "         'type': 'A',\n",
       "         'routeIdxFrom': 0,\n",
       "         'routeIdxTo': 18,\n",
       "         'txtN': 'Rullstolslyft'},\n",
       "        {'value': 'WiFi',\n",
       "         'key': 'AW',\n",
       "         'type': 'A',\n",
       "         'routeIdxFrom': 0,\n",
       "         'routeIdxTo': 18,\n",
       "         'txtN': 'WiFi'},\n",
       "        {'value': 'EU förordning 2021/782',\n",
       "         'key': 'EJ',\n",
       "         'type': 'A',\n",
       "         'routeIdxFrom': 0,\n",
       "         'routeIdxTo': 18,\n",
       "         'txtN': 'EU förordning 2021/782'},\n",
       "        {'value': 'Servering finns ej',\n",
       "         'key': 'SI',\n",
       "         'type': 'A',\n",
       "         'routeIdxFrom': 0,\n",
       "         'routeIdxTo': 18,\n",
       "         'txtN': 'Servering finns ej'}]},\n",
       "      'JourneyDetailRef': {'ref': '1|32638|0|1|9012025'},\n",
       "      'JourneyStatus': 'P',\n",
       "      'Product': [{'icon': {'res': 'prod_gen'},\n",
       "        'operatorInfo': {'name': 'SJ',\n",
       "         'nameS': '74',\n",
       "         'nameN': '74',\n",
       "         'nameL': 'SJ',\n",
       "         'id': '74'},\n",
       "        'name': 'Regional Tåg 188',\n",
       "        'internalName': 'Regional Tåg 188',\n",
       "        'displayNumber': '188',\n",
       "        'num': '188',\n",
       "        'line': '188',\n",
       "        'lineId': '1074018800001',\n",
       "        'catOut': 'JRE',\n",
       "        'catIn': 'JRE',\n",
       "        'catCode': '2',\n",
       "        'cls': '4',\n",
       "        'catOutS': 'JRE',\n",
       "        'catOutL': 'Regional Tåg',\n",
       "        'operatorCode': '74',\n",
       "        'operator': 'SJ',\n",
       "        'admin': '074___',\n",
       "        'routeIdxFrom': 0,\n",
       "        'routeIdxTo': 18,\n",
       "        'matchId': '188;188;42371'}],\n",
       "      'Stops': {'Stop': [{'name': 'Göteborg Centralstation',\n",
       "         'id': 'A=1@O=Göteborg Centralstation@X=11973479@Y=57708895@U=1@L=740000002@',\n",
       "         'extId': '740000002',\n",
       "         'routeIdx': 0,\n",
       "         'lon': 11.973479,\n",
       "         'lat': 57.708895,\n",
       "         'depPrognosisType': 'PROGNOSED',\n",
       "         'depTime': '18:02:00',\n",
       "         'depDate': '2025-01-09',\n",
       "         'depDir': 'Stockholm Centralstation',\n",
       "         'minimumChangeDuration': 'PT15M'},\n",
       "        {'name': 'Alingsås station',\n",
       "         'id': 'A=1@O=Alingsås station@X=12532491@Y=57926857@U=1@L=740000018@',\n",
       "         'extId': '740000018',\n",
       "         'routeIdx': 1,\n",
       "         'lon': 12.532491,\n",
       "         'lat': 57.926857,\n",
       "         'depTime': '18:34:00',\n",
       "         'depDate': '2025-01-09',\n",
       "         'arrTime': '18:34:00',\n",
       "         'arrDate': '2025-01-09',\n",
       "         'minimumChangeDuration': 'PT7M'},\n",
       "        {'name': 'Vårgårda station',\n",
       "         'id': 'A=1@O=Vårgårda station@X=12810285@Y=58031204@U=1@L=740000569@',\n",
       "         'extId': '740000569',\n",
       "         'routeIdx': 2,\n",
       "         'lon': 12.810285,\n",
       "         'lat': 58.031204,\n",
       "         'depTime': '18:45:00',\n",
       "         'depDate': '2025-01-09',\n",
       "         'arrTime': '18:45:00',\n",
       "         'arrDate': '2025-01-09',\n",
       "         'minimumChangeDuration': 'PT10M'},\n",
       "        {'name': 'Herrljunga station',\n",
       "         'id': 'A=1@O=Herrljunga station@X=13021279@Y=58079188@U=1@L=740000040@',\n",
       "         'extId': '740000040',\n",
       "         'routeIdx': 3,\n",
       "         'lon': 13.021279,\n",
       "         'lat': 58.079188,\n",
       "         'depTime': '18:53:00',\n",
       "         'depDate': '2025-01-09',\n",
       "         'arrTime': '18:52:00',\n",
       "         'arrDate': '2025-01-09',\n",
       "         'minimumChangeDuration': 'PT8M'},\n",
       "        {'name': 'Falköping Centralstation',\n",
       "         'id': 'A=1@O=Falköping Centralstation@X=13553791@Y=58176101@U=1@L=740000060@',\n",
       "         'extId': '740000060',\n",
       "         'routeIdx': 4,\n",
       "         'lon': 13.553791,\n",
       "         'lat': 58.176101,\n",
       "         'depTime': '19:09:00',\n",
       "         'depDate': '2025-01-09',\n",
       "         'arrTime': '19:08:00',\n",
       "         'arrDate': '2025-01-09',\n",
       "         'minimumChangeDuration': 'PT8M'},\n",
       "        {'name': 'Skövde Centralstation',\n",
       "         'id': 'A=1@O=Skövde Centralstation@X=13853195@Y=58390898@U=1@L=740000008@',\n",
       "         'extId': '740000008',\n",
       "         'routeIdx': 5,\n",
       "         'lon': 13.853195,\n",
       "         'lat': 58.390898,\n",
       "         'depTime': '19:24:00',\n",
       "         'depDate': '2025-01-09',\n",
       "         'arrTime': '19:23:00',\n",
       "         'arrDate': '2025-01-09',\n",
       "         'minimumChangeDuration': 'PT10M'},\n",
       "        {'name': 'Töreboda station',\n",
       "         'id': 'A=1@O=Töreboda station@X=14128391@Y=58706024@U=1@L=740000183@',\n",
       "         'extId': '740000183',\n",
       "         'routeIdx': 6,\n",
       "         'lon': 14.128391,\n",
       "         'lat': 58.706024,\n",
       "         'depTime': '19:44:00',\n",
       "         'depDate': '2025-01-09',\n",
       "         'arrTime': '19:40:00',\n",
       "         'arrDate': '2025-01-09',\n",
       "         'minimumChangeDuration': 'PT8M'},\n",
       "        {'name': 'Laxå station',\n",
       "         'id': 'A=1@O=Laxå station@X=14616658@Y=58989391@U=1@L=740000194@',\n",
       "         'extId': '740000194',\n",
       "         'routeIdx': 7,\n",
       "         'lon': 14.616658,\n",
       "         'lat': 58.989391,\n",
       "         'depTime': '20:08:00',\n",
       "         'depDate': '2025-01-09',\n",
       "         'arrTime': '20:08:00',\n",
       "         'arrDate': '2025-01-09',\n",
       "         'minimumChangeDuration': 'PT10M'},\n",
       "        {'name': 'Hallsberg station',\n",
       "         'id': 'A=1@O=Hallsberg station@X=15110391@Y=59066698@U=1@L=740000077@',\n",
       "         'extId': '740000077',\n",
       "         'routeIdx': 8,\n",
       "         'lon': 15.110391,\n",
       "         'lat': 59.066698,\n",
       "         'depTime': '20:28:00',\n",
       "         'depDate': '2025-01-09',\n",
       "         'arrTime': '20:25:00',\n",
       "         'arrDate': '2025-01-09',\n",
       "         'minimumChangeDuration': 'PT10M'},\n",
       "        {'name': 'Kumla station',\n",
       "         'id': 'A=1@O=Kumla station@X=15140280@Y=59126377@U=1@L=740000192@',\n",
       "         'extId': '740000192',\n",
       "         'routeIdx': 9,\n",
       "         'lon': 15.14028,\n",
       "         'lat': 59.126377,\n",
       "         'depTime': '20:35:00',\n",
       "         'depDate': '2025-01-09',\n",
       "         'arrTime': '20:35:00',\n",
       "         'arrDate': '2025-01-09',\n",
       "         'minimumChangeDuration': 'PT10M'},\n",
       "        {'name': 'Örebro Södra station',\n",
       "         'id': 'A=1@O=Örebro Södra station@X=15202332@Y=59269989@U=1@L=740000361@',\n",
       "         'extId': '740000361',\n",
       "         'routeIdx': 10,\n",
       "         'lon': 15.202332,\n",
       "         'lat': 59.269989,\n",
       "         'depTime': '20:46:00',\n",
       "         'depDate': '2025-01-09',\n",
       "         'arrTime': '20:46:00',\n",
       "         'arrDate': '2025-01-09',\n",
       "         'minimumChangeDuration': 'PT1H30M'},\n",
       "        {'name': 'Örebro Centralstation',\n",
       "         'id': 'A=1@O=Örebro Centralstation@X=15211348@Y=59278942@U=1@L=740000133@',\n",
       "         'extId': '740000133',\n",
       "         'routeIdx': 11,\n",
       "         'lon': 15.211348,\n",
       "         'lat': 59.278942,\n",
       "         'depTime': '20:56:00',\n",
       "         'depDate': '2025-01-09',\n",
       "         'arrTime': '20:49:00',\n",
       "         'arrDate': '2025-01-09',\n",
       "         'minimumChangeDuration': 'PT10M'},\n",
       "        {'name': 'Arboga station',\n",
       "         'id': 'A=1@O=Arboga station@X=15841061@Y=59397105@U=1@L=740000262@',\n",
       "         'extId': '740000262',\n",
       "         'routeIdx': 12,\n",
       "         'lon': 15.841061,\n",
       "         'lat': 59.397105,\n",
       "         'depTime': '21:18:00',\n",
       "         'depDate': '2025-01-09',\n",
       "         'arrTime': '21:18:00',\n",
       "         'arrDate': '2025-01-09',\n",
       "         'minimumChangeDuration': 'PT5M'},\n",
       "        {'name': 'Köping station',\n",
       "         'id': 'A=1@O=Köping station@X=16004215@Y=59506675@U=1@L=740000167@',\n",
       "         'extId': '740000167',\n",
       "         'routeIdx': 13,\n",
       "         'lon': 16.004215,\n",
       "         'lat': 59.506675,\n",
       "         'depTime': '21:29:00',\n",
       "         'depDate': '2025-01-09',\n",
       "         'arrTime': '21:29:00',\n",
       "         'arrDate': '2025-01-09',\n",
       "         'minimumChangeDuration': 'PT5M'},\n",
       "        {'name': 'Västerås Centralstation',\n",
       "         'id': 'A=1@O=Västerås Centralstation@X=16551712@Y=59607705@U=1@L=740000099@',\n",
       "         'extId': '740000099',\n",
       "         'routeIdx': 14,\n",
       "         'lon': 16.551712,\n",
       "         'lat': 59.607705,\n",
       "         'depTime': '21:48:00',\n",
       "         'depDate': '2025-01-09',\n",
       "         'arrTime': '21:46:00',\n",
       "         'arrDate': '2025-01-09',\n",
       "         'minimumChangeDuration': 'PT8M'},\n",
       "        {'name': 'Enköping station',\n",
       "         'id': 'A=1@O=Enköping station@X=17086741@Y=59644327@U=1@L=740000072@',\n",
       "         'extId': '740000072',\n",
       "         'routeIdx': 15,\n",
       "         'lon': 17.086741,\n",
       "         'lat': 59.644327,\n",
       "         'depTime': '22:03:00',\n",
       "         'depDate': '2025-01-09',\n",
       "         'arrTime': '22:03:00',\n",
       "         'arrDate': '2025-01-09',\n",
       "         'minimumChangeDuration': 'PT8M'},\n",
       "        {'name': 'Bålsta station (Håbo kn)',\n",
       "         'id': 'A=1@O=Bålsta station (Håbo kn)@X=17532813@Y=59568754@U=1@L=740000660@',\n",
       "         'extId': '740000660',\n",
       "         'routeIdx': 16,\n",
       "         'lon': 17.532813,\n",
       "         'lat': 59.568754,\n",
       "         'depTime': '22:15:00',\n",
       "         'depDate': '2025-01-09',\n",
       "         'arrTime': '22:15:00',\n",
       "         'arrDate': '2025-01-09',\n",
       "         'minimumChangeDuration': 'PT10M'},\n",
       "        {'Notes': {'Note': [{'value': 'Stannar endast för avstigande',\n",
       "            'key': 'text.realtime.stop.entry.disabled',\n",
       "            'type': 'R',\n",
       "            'txtN': 'Stannar endast för avstigande'}]},\n",
       "         'name': 'Sundbyberg station',\n",
       "         'id': 'A=1@O=Sundbyberg station@X=17970938@Y=59361032@U=1@L=740000773@',\n",
       "         'extId': '740000773',\n",
       "         'routeIdx': 17,\n",
       "         'lon': 17.970938,\n",
       "         'lat': 59.361032,\n",
       "         'arrTime': '22:36:00',\n",
       "         'arrDate': '2025-01-09',\n",
       "         'boarding': False,\n",
       "         'minimumChangeDuration': 'PT10M'},\n",
       "        {'name': 'Stockholm Centralstation',\n",
       "         'id': 'A=1@O=Stockholm Centralstation@X=18058151@Y=59330136@U=1@L=740000001@',\n",
       "         'extId': '740000001',\n",
       "         'routeIdx': 18,\n",
       "         'lon': 18.058151,\n",
       "         'lat': 59.330136,\n",
       "         'arrPrognosisType': 'PROGNOSED',\n",
       "         'arrTime': '22:44:00',\n",
       "         'arrDate': '2025-01-09',\n",
       "         'minimumChangeDuration': 'PT20M'}]},\n",
       "      'JourneyDetail': {'ref': '1|32638|0|1|9012025',\n",
       "       'dayOfOperation': '2025-01-09'},\n",
       "      'id': '0',\n",
       "      'idx': 0,\n",
       "      'name': 'Regional Tåg 188',\n",
       "      'number': '188',\n",
       "      'category': 'JRE',\n",
       "      'type': 'JNY',\n",
       "      'reachable': True,\n",
       "      'waitingState': 'UNDEF',\n",
       "      'direction': 'Stockholm Centralstation',\n",
       "      'directionFlag': '1',\n",
       "      'duration': 'PT4H42M'}]},\n",
       "   'calculation': 'INITIAL',\n",
       "   'TripStatus': {'economic': True, 'convenient': True, 'hintCode': 0},\n",
       "   'idx': 3,\n",
       "   'tripId': 'C-3',\n",
       "   'ctxRecon': '¶HKI¶T$A=1@O=Göteborg Centralstation@L=740000002@a=128@$A=1@O=Stockholm Centralstation@L=740000001@a=128@$202501091802$202501092244$JRE  188$$1$$$$$$¶KC¶#VE#2#CF#100#CA#0#CM#0#SICT#0#AM#81#AM2#0#RT#4#¶KRCC¶#VE#1#',\n",
       "   'duration': 'PT4H42M',\n",
       "   'rtDuration': 'PT4H42M',\n",
       "   'checksum': '7434fbe4_3'},\n",
       "  {'Origin': {'name': 'Göteborg Centralstation',\n",
       "    'type': 'ST',\n",
       "    'id': 'A=1@O=Göteborg Centralstation@X=11973479@Y=57708895@U=1@L=740000002@',\n",
       "    'extId': '740000002',\n",
       "    'lon': 11.973479,\n",
       "    'lat': 57.708895,\n",
       "    'routeIdx': 0,\n",
       "    'prognosisType': 'PROGNOSED',\n",
       "    'time': '18:18:00',\n",
       "    'date': '2025-01-09',\n",
       "    'minimumChangeDuration': 'PT15M'},\n",
       "   'Destination': {'name': 'Stockholm Centralstation',\n",
       "    'type': 'ST',\n",
       "    'id': 'A=1@O=Stockholm Centralstation@X=18058151@Y=59330136@U=1@L=740000001@',\n",
       "    'extId': '740000001',\n",
       "    'lon': 18.058151,\n",
       "    'lat': 59.330136,\n",
       "    'routeIdx': 4,\n",
       "    'prognosisType': 'PROGNOSED',\n",
       "    'time': '21:44:00',\n",
       "    'date': '2025-01-09',\n",
       "    'minimumChangeDuration': 'PT20M'},\n",
       "   'ServiceDays': [{'planningPeriodBegin': '2025-01-02',\n",
       "     'planningPeriodEnd': '2025-06-15',\n",
       "     'sDaysR': 'inte varje dag',\n",
       "     'sDaysI': '9. jan t o m 9. jun 2025; 22. mar t o m 19. apr 2025 mån - fre, sön; utom 18. t o m 21. apr 2025, 1. t o m 4. maj 2025, 10., 17., 18., 24. maj, 29. maj t o m 1. jun 2025, 8. jun',\n",
       "     'sDaysB': '1FFFFFFFFFFFFFFFFFFEFDFBF7C3FE1F7E7DE1FA00'}],\n",
       "   'LegList': {'Leg': [{'Origin': {'name': 'Göteborg Centralstation',\n",
       "       'type': 'ST',\n",
       "       'id': 'A=1@O=Göteborg Centralstation@X=11973479@Y=57708895@U=1@L=740000002@',\n",
       "       'extId': '740000002',\n",
       "       'lon': 11.973479,\n",
       "       'lat': 57.708895,\n",
       "       'routeIdx': 0,\n",
       "       'prognosisType': 'PROGNOSED',\n",
       "       'time': '18:18:00',\n",
       "       'date': '2025-01-09',\n",
       "       'minimumChangeDuration': 'PT15M'},\n",
       "      'Destination': {'name': 'Stockholm Centralstation',\n",
       "       'type': 'ST',\n",
       "       'id': 'A=1@O=Stockholm Centralstation@X=18058151@Y=59330136@U=1@L=740000001@',\n",
       "       'extId': '740000001',\n",
       "       'lon': 18.058151,\n",
       "       'lat': 59.330136,\n",
       "       'routeIdx': 4,\n",
       "       'prognosisType': 'PROGNOSED',\n",
       "       'time': '21:44:00',\n",
       "       'date': '2025-01-09',\n",
       "       'minimumChangeDuration': 'PT20M'},\n",
       "      'Notes': {'Note': [{'value': 'X2000',\n",
       "         'key': 'VX',\n",
       "         'type': 'A',\n",
       "         'routeIdxFrom': 0,\n",
       "         'routeIdxTo': 4,\n",
       "         'txtN': 'X2000'},\n",
       "        {'value': 'Mat 1 klass',\n",
       "         'key': 'A1',\n",
       "         'type': 'A',\n",
       "         'routeIdxFrom': 0,\n",
       "         'routeIdxTo': 4,\n",
       "         'txtN': 'Mat 1 klass'},\n",
       "        {'value': 'Bistrovagn',\n",
       "         'key': 'AD',\n",
       "         'type': 'A',\n",
       "         'routeIdxFrom': 0,\n",
       "         'routeIdxTo': 4,\n",
       "         'txtN': 'Bistrovagn'},\n",
       "        {'value': 'Obligatorisk platsbokning',\n",
       "         'key': 'AF',\n",
       "         'type': 'A',\n",
       "         'routeIdxFrom': 0,\n",
       "         'routeIdxTo': 4,\n",
       "         'txtN': 'Obligatorisk platsbokning'},\n",
       "        {'value': 'Rullstolslyft',\n",
       "         'key': 'AN',\n",
       "         'type': 'A',\n",
       "         'routeIdxFrom': 0,\n",
       "         'routeIdxTo': 4,\n",
       "         'txtN': 'Rullstolslyft'},\n",
       "        {'value': 'WiFi',\n",
       "         'key': 'AW',\n",
       "         'type': 'A',\n",
       "         'routeIdxFrom': 0,\n",
       "         'routeIdxTo': 4,\n",
       "         'txtN': 'WiFi'},\n",
       "        {'value': '2 klass lugn',\n",
       "         'key': 'BL',\n",
       "         'type': 'A',\n",
       "         'routeIdxFrom': 0,\n",
       "         'routeIdxTo': 4,\n",
       "         'txtN': '2 klass lugn'},\n",
       "        {'value': 'EU förordning 2021/782',\n",
       "         'key': 'EJ',\n",
       "         'type': 'A',\n",
       "         'routeIdxFrom': 0,\n",
       "         'routeIdxTo': 4,\n",
       "         'txtN': 'EU förordning 2021/782'},\n",
       "        {'value': 'Maträtt',\n",
       "         'key': 'SM',\n",
       "         'type': 'A',\n",
       "         'routeIdxFrom': 0,\n",
       "         'routeIdxTo': 4,\n",
       "         'txtN': 'Maträtt'},\n",
       "        {'value': '1 klass med extra komfort',\n",
       "         'key': 'SU',\n",
       "         'type': 'A',\n",
       "         'routeIdxFrom': 0,\n",
       "         'routeIdxTo': 4,\n",
       "         'txtN': '1 klass med extra komfort'},\n",
       "        {'value': 'Kaffebuffé 1 klass',\n",
       "         'key': 'SZ',\n",
       "         'type': 'A',\n",
       "         'routeIdxFrom': 0,\n",
       "         'routeIdxTo': 4,\n",
       "         'txtN': 'Kaffebuffé 1 klass'}]},\n",
       "      'JourneyDetailRef': {'ref': '1|69186|0|1|9012025'},\n",
       "      'JourneyStatus': 'P',\n",
       "      'Product': [{'icon': {'res': 'prod_gen'},\n",
       "        'operatorInfo': {'name': 'SJ',\n",
       "         'nameS': '74',\n",
       "         'nameN': '74',\n",
       "         'nameL': 'SJ',\n",
       "         'id': '74'},\n",
       "        'name': 'Snabbtåg 446',\n",
       "        'internalName': 'Snabbtåg 446',\n",
       "        'displayNumber': '446',\n",
       "        'num': '446',\n",
       "        'line': '446',\n",
       "        'lineId': '1074044600001',\n",
       "        'catOut': 'JST',\n",
       "        'catIn': 'JST',\n",
       "        'catCode': '1',\n",
       "        'cls': '2',\n",
       "        'catOutS': 'JST',\n",
       "        'catOutL': 'Snabbtåg',\n",
       "        'operatorCode': '74',\n",
       "        'operator': 'SJ',\n",
       "        'admin': '074___',\n",
       "        'routeIdxFrom': 0,\n",
       "        'routeIdxTo': 4,\n",
       "        'matchId': '446;446;7827'}],\n",
       "      'Stops': {'Stop': [{'name': 'Göteborg Centralstation',\n",
       "         'id': 'A=1@O=Göteborg Centralstation@X=11973479@Y=57708895@U=1@L=740000002@',\n",
       "         'extId': '740000002',\n",
       "         'routeIdx': 0,\n",
       "         'lon': 11.973479,\n",
       "         'lat': 57.708895,\n",
       "         'depPrognosisType': 'PROGNOSED',\n",
       "         'depTime': '18:18:00',\n",
       "         'depDate': '2025-01-09',\n",
       "         'depDir': 'Stockholm Centralstation',\n",
       "         'minimumChangeDuration': 'PT15M'},\n",
       "        {'name': 'Skövde Centralstation',\n",
       "         'id': 'A=1@O=Skövde Centralstation@X=13853195@Y=58390898@U=1@L=740000008@',\n",
       "         'extId': '740000008',\n",
       "         'routeIdx': 1,\n",
       "         'lon': 13.853195,\n",
       "         'lat': 58.390898,\n",
       "         'depTime': '19:27:00',\n",
       "         'depDate': '2025-01-09',\n",
       "         'arrTime': '19:26:00',\n",
       "         'arrDate': '2025-01-09',\n",
       "         'minimumChangeDuration': 'PT10M'},\n",
       "        {'name': 'Katrineholm Centralstation',\n",
       "         'id': 'A=1@O=Katrineholm Centralstation@X=16208324@Y=58996591@U=1@L=740000166@',\n",
       "         'extId': '740000166',\n",
       "         'routeIdx': 2,\n",
       "         'lon': 16.208324,\n",
       "         'lat': 58.996591,\n",
       "         'depTime': '20:47:00',\n",
       "         'depDate': '2025-01-09',\n",
       "         'arrTime': '20:46:00',\n",
       "         'arrDate': '2025-01-09',\n",
       "         'minimumChangeDuration': 'PT10M'},\n",
       "        {'Notes': {'Note': [{'value': 'Stannar endast för avstigande',\n",
       "            'key': 'text.realtime.stop.entry.disabled',\n",
       "            'type': 'R',\n",
       "            'txtN': 'Stannar endast för avstigande'}]},\n",
       "         'name': 'Södertälje Syd station',\n",
       "         'id': 'A=1@O=Södertälje Syd station@X=17645367@Y=59162415@U=1@L=740000055@',\n",
       "         'extId': '740000055',\n",
       "         'routeIdx': 3,\n",
       "         'lon': 17.645367,\n",
       "         'lat': 59.162415,\n",
       "         'arrTime': '21:25:00',\n",
       "         'arrDate': '2025-01-09',\n",
       "         'boarding': False,\n",
       "         'minimumChangeDuration': 'PT10M'},\n",
       "        {'name': 'Stockholm Centralstation',\n",
       "         'id': 'A=1@O=Stockholm Centralstation@X=18058151@Y=59330136@U=1@L=740000001@',\n",
       "         'extId': '740000001',\n",
       "         'routeIdx': 4,\n",
       "         'lon': 18.058151,\n",
       "         'lat': 59.330136,\n",
       "         'arrPrognosisType': 'PROGNOSED',\n",
       "         'arrTime': '21:44:00',\n",
       "         'arrDate': '2025-01-09',\n",
       "         'minimumChangeDuration': 'PT20M'}]},\n",
       "      'JourneyDetail': {'ref': '1|69186|0|1|9012025',\n",
       "       'dayOfOperation': '2025-01-09'},\n",
       "      'id': '0',\n",
       "      'idx': 0,\n",
       "      'name': 'Snabbtåg 446',\n",
       "      'number': '446',\n",
       "      'category': 'JST',\n",
       "      'type': 'JNY',\n",
       "      'reachable': True,\n",
       "      'waitingState': 'UNDEF',\n",
       "      'direction': 'Stockholm Centralstation',\n",
       "      'directionFlag': '1',\n",
       "      'duration': 'PT3H26M'}]},\n",
       "   'calculation': 'INITIAL',\n",
       "   'TripStatus': {'hintCode': 0},\n",
       "   'idx': 4,\n",
       "   'tripId': 'C-4',\n",
       "   'ctxRecon': '¶HKI¶T$A=1@O=Göteborg Centralstation@L=740000002@a=128@$A=1@O=Stockholm Centralstation@L=740000001@a=128@$202501091818$202501092144$JST  446$$1$$$$$$¶KC¶#VE#2#CF#100#CA#0#CM#0#SICT#0#AM#81#AM2#0#RT#4#¶KRCC¶#VE#1#',\n",
       "   'duration': 'PT3H26M',\n",
       "   'rtDuration': 'PT3H26M',\n",
       "   'checksum': 'ea2cfb8e_3'}],\n",
       " 'ResultStatus': {'timeDiffCritical': False},\n",
       " 'TechnicalMessages': {'TechnicalMessage': [{'value': '2025-01-09 15:30:09',\n",
       "    'key': 'requestTime'},\n",
       "   {'value': 'ttp=16439#16603 plancode0=z3a28 planid=1736397394 planid0=1736397394 planid_adr=1479298166 plancode_adr=q0r10 srvv=5.45.SAMTRAFIKEN.15.0.1 (customer/hcusamtrafiken/release/2023.10.0) [2023-10-19] tlibv=TRFVER: rel/pproxy/4.00.0 2022-10-24 18:24:51 +0200 Relay_EnrichmentProxy v1 jno=1',\n",
       "    'key': 'backendInfo'}]},\n",
       " 'serverVersion': '2.45.1',\n",
       " 'dialectVersion': '2.45',\n",
       " 'planRtTs': '1970-01-01T01:00:00.000+01:00',\n",
       " 'requestId': 'vjgafnuc4qs884wx',\n",
       " 'scrB': '3|OB|MTµ14µ13938µ13919µ14143µ14204µ0µ0µ365µ13890µ1µ0µ64µ0µ0µ-2147483648µ1µ2|PDHµ28ae6d8eb5910081bc7fddfcf72006b2|RDµ9012025|RTµ153009|USµ1|RSµINIT',\n",
       " 'scrF': '3|OF|MTµ14µ14058µ14058µ14264µ14264µ0µ0µ365µ13980µ5µ0µ1058µ0µ0µ-2147483648µ1µ2|PDHµ28ae6d8eb5910081bc7fddfcf72006b2|RDµ9012025|RTµ153009|USµ1|RSµINIT'}"
      ]
     },
     "execution_count": 21,
     "metadata": {},
     "output_type": "execute_result"
    }
   ],
   "source": [
    "trips = route_planner(740098001, 740098000)\n",
    "trips"
   ]
  },
  {
   "cell_type": "code",
   "execution_count": 22,
   "metadata": {},
   "outputs": [],
   "source": [
    "trip= trips[\"Trip\"][0]"
   ]
  },
  {
   "cell_type": "code",
   "execution_count": 23,
   "metadata": {},
   "outputs": [],
   "source": [
    "stops= trip[\"LegList\"][\"Leg\"][0][\"Stops\"][\"Stop\"]"
   ]
  },
  {
   "cell_type": "code",
   "execution_count": 24,
   "metadata": {},
   "outputs": [
    {
     "data": {
      "text/plain": [
       "[{'Göteborg Centralstation': None},\n",
       " {'Alingsås station': '16:28:00'},\n",
       " {'Vårgårda station': '16:40:00'},\n",
       " {'Herrljunga station': '16:47:00'},\n",
       " {'Falköping Centralstation': '17:03:00'},\n",
       " {'Skövde Centralstation': '17:18:00'},\n",
       " {'Töreboda station': '17:35:00'},\n",
       " {'Laxå station': '17:59:00'},\n",
       " {'Hallsberg station': '18:25:00'},\n",
       " {'Kumla station': '18:35:00'},\n",
       " {'Örebro Södra station': '18:46:00'},\n",
       " {'Örebro Centralstation': '18:49:00'},\n",
       " {'Arboga station': '19:18:00'},\n",
       " {'Köping station': '19:29:00'},\n",
       " {'Västerås Centralstation': '19:46:00'},\n",
       " {'Enköping station': '20:03:00'},\n",
       " {'Bålsta station (Håbo kn)': '20:15:00'},\n",
       " {'Sundbyberg station': '20:36:00'},\n",
       " {'Stockholm Centralstation': '20:44:00'}]"
      ]
     },
     "execution_count": 24,
     "metadata": {},
     "output_type": "execute_result"
    }
   ],
   "source": [
    "[{stop[\"name\"]: stop.get(\"arrTime\")}for stop in stops]"
   ]
  },
  {
   "cell_type": "code",
   "execution_count": 25,
   "metadata": {},
   "outputs": [],
   "source": [
    "coords= []\n",
    "for stop in stops:\n",
    "    city= get_lookup(stop.get(\"name\"))\n",
    "    city= city[\"stopLocationOrCoordLocation\"][0][\"StopLocation\"]\n",
    "    coords.append((city[\"lon\"], city[\"lat\"]))"
   ]
  },
  {
   "cell_type": "code",
   "execution_count": 26,
   "metadata": {},
   "outputs": [
    {
     "data": {
      "text/plain": [
       "[(11.973479, 57.708895),\n",
       " (12.532491, 57.926857),\n",
       " (12.810285, 58.031204),\n",
       " (13.021279, 58.079188),\n",
       " (13.553791, 58.176101),\n",
       " (13.853195, 58.390898),\n",
       " (14.128391, 58.706024),\n",
       " (14.616658, 58.989391),\n",
       " (15.110391, 59.066698),\n",
       " (15.14028, 59.126377),\n",
       " (15.202332, 59.269989),\n",
       " (15.211348, 59.278942),\n",
       " (15.841061, 59.397105),\n",
       " (16.004215, 59.506675),\n",
       " (16.551712, 59.607705),\n",
       " (17.086741, 59.644327),\n",
       " (17.532813, 59.568754),\n",
       " (17.970938, 59.361032),\n",
       " (18.058151, 59.330136)]"
      ]
     },
     "execution_count": 26,
     "metadata": {},
     "output_type": "execute_result"
    }
   ],
   "source": [
    "coords"
   ]
  },
  {
   "cell_type": "code",
   "execution_count": 27,
   "metadata": {},
   "outputs": [
    {
     "data": {
      "text/html": [
       "<div>\n",
       "<style scoped>\n",
       "    .dataframe tbody tr th:only-of-type {\n",
       "        vertical-align: middle;\n",
       "    }\n",
       "\n",
       "    .dataframe tbody tr th {\n",
       "        vertical-align: top;\n",
       "    }\n",
       "\n",
       "    .dataframe thead th {\n",
       "        text-align: right;\n",
       "    }\n",
       "</style>\n",
       "<table border=\"1\" class=\"dataframe\">\n",
       "  <thead>\n",
       "    <tr style=\"text-align: right;\">\n",
       "      <th></th>\n",
       "      <th>lon</th>\n",
       "      <th>lat</th>\n",
       "    </tr>\n",
       "  </thead>\n",
       "  <tbody>\n",
       "    <tr>\n",
       "      <th>0</th>\n",
       "      <td>11.973479</td>\n",
       "      <td>57.708895</td>\n",
       "    </tr>\n",
       "    <tr>\n",
       "      <th>1</th>\n",
       "      <td>12.532491</td>\n",
       "      <td>57.926857</td>\n",
       "    </tr>\n",
       "    <tr>\n",
       "      <th>2</th>\n",
       "      <td>12.810285</td>\n",
       "      <td>58.031204</td>\n",
       "    </tr>\n",
       "    <tr>\n",
       "      <th>3</th>\n",
       "      <td>13.021279</td>\n",
       "      <td>58.079188</td>\n",
       "    </tr>\n",
       "    <tr>\n",
       "      <th>4</th>\n",
       "      <td>13.553791</td>\n",
       "      <td>58.176101</td>\n",
       "    </tr>\n",
       "    <tr>\n",
       "      <th>5</th>\n",
       "      <td>13.853195</td>\n",
       "      <td>58.390898</td>\n",
       "    </tr>\n",
       "    <tr>\n",
       "      <th>6</th>\n",
       "      <td>14.128391</td>\n",
       "      <td>58.706024</td>\n",
       "    </tr>\n",
       "    <tr>\n",
       "      <th>7</th>\n",
       "      <td>14.616658</td>\n",
       "      <td>58.989391</td>\n",
       "    </tr>\n",
       "    <tr>\n",
       "      <th>8</th>\n",
       "      <td>15.110391</td>\n",
       "      <td>59.066698</td>\n",
       "    </tr>\n",
       "    <tr>\n",
       "      <th>9</th>\n",
       "      <td>15.140280</td>\n",
       "      <td>59.126377</td>\n",
       "    </tr>\n",
       "    <tr>\n",
       "      <th>10</th>\n",
       "      <td>15.202332</td>\n",
       "      <td>59.269989</td>\n",
       "    </tr>\n",
       "    <tr>\n",
       "      <th>11</th>\n",
       "      <td>15.211348</td>\n",
       "      <td>59.278942</td>\n",
       "    </tr>\n",
       "    <tr>\n",
       "      <th>12</th>\n",
       "      <td>15.841061</td>\n",
       "      <td>59.397105</td>\n",
       "    </tr>\n",
       "    <tr>\n",
       "      <th>13</th>\n",
       "      <td>16.004215</td>\n",
       "      <td>59.506675</td>\n",
       "    </tr>\n",
       "    <tr>\n",
       "      <th>14</th>\n",
       "      <td>16.551712</td>\n",
       "      <td>59.607705</td>\n",
       "    </tr>\n",
       "    <tr>\n",
       "      <th>15</th>\n",
       "      <td>17.086741</td>\n",
       "      <td>59.644327</td>\n",
       "    </tr>\n",
       "    <tr>\n",
       "      <th>16</th>\n",
       "      <td>17.532813</td>\n",
       "      <td>59.568754</td>\n",
       "    </tr>\n",
       "    <tr>\n",
       "      <th>17</th>\n",
       "      <td>17.970938</td>\n",
       "      <td>59.361032</td>\n",
       "    </tr>\n",
       "    <tr>\n",
       "      <th>18</th>\n",
       "      <td>18.058151</td>\n",
       "      <td>59.330136</td>\n",
       "    </tr>\n",
       "  </tbody>\n",
       "</table>\n",
       "</div>"
      ],
      "text/plain": [
       "          lon        lat\n",
       "0   11.973479  57.708895\n",
       "1   12.532491  57.926857\n",
       "2   12.810285  58.031204\n",
       "3   13.021279  58.079188\n",
       "4   13.553791  58.176101\n",
       "5   13.853195  58.390898\n",
       "6   14.128391  58.706024\n",
       "7   14.616658  58.989391\n",
       "8   15.110391  59.066698\n",
       "9   15.140280  59.126377\n",
       "10  15.202332  59.269989\n",
       "11  15.211348  59.278942\n",
       "12  15.841061  59.397105\n",
       "13  16.004215  59.506675\n",
       "14  16.551712  59.607705\n",
       "15  17.086741  59.644327\n",
       "16  17.532813  59.568754\n",
       "17  17.970938  59.361032\n",
       "18  18.058151  59.330136"
      ]
     },
     "execution_count": 27,
     "metadata": {},
     "output_type": "execute_result"
    }
   ],
   "source": [
    "data= pd.DataFrame(coords, columns=[\"lon\", \"lat\"])\n",
    "data"
   ]
  },
  {
   "cell_type": "code",
   "execution_count": 38,
   "metadata": {},
   "outputs": [
    {
     "data": {
      "application/vnd.plotly.v1+json": {
       "config": {
        "plotlyServerURL": "https://plot.ly"
       },
       "data": [
        {
         "hovertemplate": "lat=%{lat}<br>lon=%{lon}<extra></extra>",
         "lat": [
          57.708895,
          57.926857,
          58.031204,
          58.079188,
          58.176101,
          58.390898,
          58.706024,
          58.989391,
          59.066698,
          59.126377,
          59.269989,
          59.278942,
          59.397105,
          59.506675,
          59.607705,
          59.644327,
          59.568754,
          59.361032,
          59.330136
         ],
         "legendgroup": "",
         "line": {
          "color": "#636efa"
         },
         "lon": [
          11.973479,
          12.532491,
          12.810285,
          13.021279,
          13.553791,
          13.853195,
          14.128391,
          14.616658,
          15.110391,
          15.14028,
          15.202332,
          15.211348,
          15.841061,
          16.004215,
          16.551712,
          17.086741,
          17.532813,
          17.970938,
          18.058151
         ],
         "mode": "lines",
         "name": "",
         "showlegend": false,
         "subplot": "mapbox",
         "type": "scattermapbox"
        }
       ],
       "layout": {
        "legend": {
         "tracegroupgap": 0
        },
        "mapbox": {
         "center": {
          "lat": 58.903489368421056,
          "lon": 15.063134263157897
         },
         "domain": {
          "x": [
           0,
           1
          ],
          "y": [
           0,
           1
          ]
         },
         "style": "open-street-map",
         "zoom": 6.5
        },
        "margin": {
         "t": 60
        },
        "template": {
         "data": {
          "bar": [
           {
            "error_x": {
             "color": "#2a3f5f"
            },
            "error_y": {
             "color": "#2a3f5f"
            },
            "marker": {
             "line": {
              "color": "#E5ECF6",
              "width": 0.5
             },
             "pattern": {
              "fillmode": "overlay",
              "size": 10,
              "solidity": 0.2
             }
            },
            "type": "bar"
           }
          ],
          "barpolar": [
           {
            "marker": {
             "line": {
              "color": "#E5ECF6",
              "width": 0.5
             },
             "pattern": {
              "fillmode": "overlay",
              "size": 10,
              "solidity": 0.2
             }
            },
            "type": "barpolar"
           }
          ],
          "carpet": [
           {
            "aaxis": {
             "endlinecolor": "#2a3f5f",
             "gridcolor": "white",
             "linecolor": "white",
             "minorgridcolor": "white",
             "startlinecolor": "#2a3f5f"
            },
            "baxis": {
             "endlinecolor": "#2a3f5f",
             "gridcolor": "white",
             "linecolor": "white",
             "minorgridcolor": "white",
             "startlinecolor": "#2a3f5f"
            },
            "type": "carpet"
           }
          ],
          "choropleth": [
           {
            "colorbar": {
             "outlinewidth": 0,
             "ticks": ""
            },
            "type": "choropleth"
           }
          ],
          "contour": [
           {
            "colorbar": {
             "outlinewidth": 0,
             "ticks": ""
            },
            "colorscale": [
             [
              0,
              "#0d0887"
             ],
             [
              0.1111111111111111,
              "#46039f"
             ],
             [
              0.2222222222222222,
              "#7201a8"
             ],
             [
              0.3333333333333333,
              "#9c179e"
             ],
             [
              0.4444444444444444,
              "#bd3786"
             ],
             [
              0.5555555555555556,
              "#d8576b"
             ],
             [
              0.6666666666666666,
              "#ed7953"
             ],
             [
              0.7777777777777778,
              "#fb9f3a"
             ],
             [
              0.8888888888888888,
              "#fdca26"
             ],
             [
              1,
              "#f0f921"
             ]
            ],
            "type": "contour"
           }
          ],
          "contourcarpet": [
           {
            "colorbar": {
             "outlinewidth": 0,
             "ticks": ""
            },
            "type": "contourcarpet"
           }
          ],
          "heatmap": [
           {
            "colorbar": {
             "outlinewidth": 0,
             "ticks": ""
            },
            "colorscale": [
             [
              0,
              "#0d0887"
             ],
             [
              0.1111111111111111,
              "#46039f"
             ],
             [
              0.2222222222222222,
              "#7201a8"
             ],
             [
              0.3333333333333333,
              "#9c179e"
             ],
             [
              0.4444444444444444,
              "#bd3786"
             ],
             [
              0.5555555555555556,
              "#d8576b"
             ],
             [
              0.6666666666666666,
              "#ed7953"
             ],
             [
              0.7777777777777778,
              "#fb9f3a"
             ],
             [
              0.8888888888888888,
              "#fdca26"
             ],
             [
              1,
              "#f0f921"
             ]
            ],
            "type": "heatmap"
           }
          ],
          "heatmapgl": [
           {
            "colorbar": {
             "outlinewidth": 0,
             "ticks": ""
            },
            "colorscale": [
             [
              0,
              "#0d0887"
             ],
             [
              0.1111111111111111,
              "#46039f"
             ],
             [
              0.2222222222222222,
              "#7201a8"
             ],
             [
              0.3333333333333333,
              "#9c179e"
             ],
             [
              0.4444444444444444,
              "#bd3786"
             ],
             [
              0.5555555555555556,
              "#d8576b"
             ],
             [
              0.6666666666666666,
              "#ed7953"
             ],
             [
              0.7777777777777778,
              "#fb9f3a"
             ],
             [
              0.8888888888888888,
              "#fdca26"
             ],
             [
              1,
              "#f0f921"
             ]
            ],
            "type": "heatmapgl"
           }
          ],
          "histogram": [
           {
            "marker": {
             "pattern": {
              "fillmode": "overlay",
              "size": 10,
              "solidity": 0.2
             }
            },
            "type": "histogram"
           }
          ],
          "histogram2d": [
           {
            "colorbar": {
             "outlinewidth": 0,
             "ticks": ""
            },
            "colorscale": [
             [
              0,
              "#0d0887"
             ],
             [
              0.1111111111111111,
              "#46039f"
             ],
             [
              0.2222222222222222,
              "#7201a8"
             ],
             [
              0.3333333333333333,
              "#9c179e"
             ],
             [
              0.4444444444444444,
              "#bd3786"
             ],
             [
              0.5555555555555556,
              "#d8576b"
             ],
             [
              0.6666666666666666,
              "#ed7953"
             ],
             [
              0.7777777777777778,
              "#fb9f3a"
             ],
             [
              0.8888888888888888,
              "#fdca26"
             ],
             [
              1,
              "#f0f921"
             ]
            ],
            "type": "histogram2d"
           }
          ],
          "histogram2dcontour": [
           {
            "colorbar": {
             "outlinewidth": 0,
             "ticks": ""
            },
            "colorscale": [
             [
              0,
              "#0d0887"
             ],
             [
              0.1111111111111111,
              "#46039f"
             ],
             [
              0.2222222222222222,
              "#7201a8"
             ],
             [
              0.3333333333333333,
              "#9c179e"
             ],
             [
              0.4444444444444444,
              "#bd3786"
             ],
             [
              0.5555555555555556,
              "#d8576b"
             ],
             [
              0.6666666666666666,
              "#ed7953"
             ],
             [
              0.7777777777777778,
              "#fb9f3a"
             ],
             [
              0.8888888888888888,
              "#fdca26"
             ],
             [
              1,
              "#f0f921"
             ]
            ],
            "type": "histogram2dcontour"
           }
          ],
          "mesh3d": [
           {
            "colorbar": {
             "outlinewidth": 0,
             "ticks": ""
            },
            "type": "mesh3d"
           }
          ],
          "parcoords": [
           {
            "line": {
             "colorbar": {
              "outlinewidth": 0,
              "ticks": ""
             }
            },
            "type": "parcoords"
           }
          ],
          "pie": [
           {
            "automargin": true,
            "type": "pie"
           }
          ],
          "scatter": [
           {
            "fillpattern": {
             "fillmode": "overlay",
             "size": 10,
             "solidity": 0.2
            },
            "type": "scatter"
           }
          ],
          "scatter3d": [
           {
            "line": {
             "colorbar": {
              "outlinewidth": 0,
              "ticks": ""
             }
            },
            "marker": {
             "colorbar": {
              "outlinewidth": 0,
              "ticks": ""
             }
            },
            "type": "scatter3d"
           }
          ],
          "scattercarpet": [
           {
            "marker": {
             "colorbar": {
              "outlinewidth": 0,
              "ticks": ""
             }
            },
            "type": "scattercarpet"
           }
          ],
          "scattergeo": [
           {
            "marker": {
             "colorbar": {
              "outlinewidth": 0,
              "ticks": ""
             }
            },
            "type": "scattergeo"
           }
          ],
          "scattergl": [
           {
            "marker": {
             "colorbar": {
              "outlinewidth": 0,
              "ticks": ""
             }
            },
            "type": "scattergl"
           }
          ],
          "scattermapbox": [
           {
            "marker": {
             "colorbar": {
              "outlinewidth": 0,
              "ticks": ""
             }
            },
            "type": "scattermapbox"
           }
          ],
          "scatterpolar": [
           {
            "marker": {
             "colorbar": {
              "outlinewidth": 0,
              "ticks": ""
             }
            },
            "type": "scatterpolar"
           }
          ],
          "scatterpolargl": [
           {
            "marker": {
             "colorbar": {
              "outlinewidth": 0,
              "ticks": ""
             }
            },
            "type": "scatterpolargl"
           }
          ],
          "scatterternary": [
           {
            "marker": {
             "colorbar": {
              "outlinewidth": 0,
              "ticks": ""
             }
            },
            "type": "scatterternary"
           }
          ],
          "surface": [
           {
            "colorbar": {
             "outlinewidth": 0,
             "ticks": ""
            },
            "colorscale": [
             [
              0,
              "#0d0887"
             ],
             [
              0.1111111111111111,
              "#46039f"
             ],
             [
              0.2222222222222222,
              "#7201a8"
             ],
             [
              0.3333333333333333,
              "#9c179e"
             ],
             [
              0.4444444444444444,
              "#bd3786"
             ],
             [
              0.5555555555555556,
              "#d8576b"
             ],
             [
              0.6666666666666666,
              "#ed7953"
             ],
             [
              0.7777777777777778,
              "#fb9f3a"
             ],
             [
              0.8888888888888888,
              "#fdca26"
             ],
             [
              1,
              "#f0f921"
             ]
            ],
            "type": "surface"
           }
          ],
          "table": [
           {
            "cells": {
             "fill": {
              "color": "#EBF0F8"
             },
             "line": {
              "color": "white"
             }
            },
            "header": {
             "fill": {
              "color": "#C8D4E3"
             },
             "line": {
              "color": "white"
             }
            },
            "type": "table"
           }
          ]
         },
         "layout": {
          "annotationdefaults": {
           "arrowcolor": "#2a3f5f",
           "arrowhead": 0,
           "arrowwidth": 1
          },
          "autotypenumbers": "strict",
          "coloraxis": {
           "colorbar": {
            "outlinewidth": 0,
            "ticks": ""
           }
          },
          "colorscale": {
           "diverging": [
            [
             0,
             "#8e0152"
            ],
            [
             0.1,
             "#c51b7d"
            ],
            [
             0.2,
             "#de77ae"
            ],
            [
             0.3,
             "#f1b6da"
            ],
            [
             0.4,
             "#fde0ef"
            ],
            [
             0.5,
             "#f7f7f7"
            ],
            [
             0.6,
             "#e6f5d0"
            ],
            [
             0.7,
             "#b8e186"
            ],
            [
             0.8,
             "#7fbc41"
            ],
            [
             0.9,
             "#4d9221"
            ],
            [
             1,
             "#276419"
            ]
           ],
           "sequential": [
            [
             0,
             "#0d0887"
            ],
            [
             0.1111111111111111,
             "#46039f"
            ],
            [
             0.2222222222222222,
             "#7201a8"
            ],
            [
             0.3333333333333333,
             "#9c179e"
            ],
            [
             0.4444444444444444,
             "#bd3786"
            ],
            [
             0.5555555555555556,
             "#d8576b"
            ],
            [
             0.6666666666666666,
             "#ed7953"
            ],
            [
             0.7777777777777778,
             "#fb9f3a"
            ],
            [
             0.8888888888888888,
             "#fdca26"
            ],
            [
             1,
             "#f0f921"
            ]
           ],
           "sequentialminus": [
            [
             0,
             "#0d0887"
            ],
            [
             0.1111111111111111,
             "#46039f"
            ],
            [
             0.2222222222222222,
             "#7201a8"
            ],
            [
             0.3333333333333333,
             "#9c179e"
            ],
            [
             0.4444444444444444,
             "#bd3786"
            ],
            [
             0.5555555555555556,
             "#d8576b"
            ],
            [
             0.6666666666666666,
             "#ed7953"
            ],
            [
             0.7777777777777778,
             "#fb9f3a"
            ],
            [
             0.8888888888888888,
             "#fdca26"
            ],
            [
             1,
             "#f0f921"
            ]
           ]
          },
          "colorway": [
           "#636efa",
           "#EF553B",
           "#00cc96",
           "#ab63fa",
           "#FFA15A",
           "#19d3f3",
           "#FF6692",
           "#B6E880",
           "#FF97FF",
           "#FECB52"
          ],
          "font": {
           "color": "#2a3f5f"
          },
          "geo": {
           "bgcolor": "white",
           "lakecolor": "white",
           "landcolor": "#E5ECF6",
           "showlakes": true,
           "showland": true,
           "subunitcolor": "white"
          },
          "hoverlabel": {
           "align": "left"
          },
          "hovermode": "closest",
          "mapbox": {
           "style": "light"
          },
          "paper_bgcolor": "white",
          "plot_bgcolor": "#E5ECF6",
          "polar": {
           "angularaxis": {
            "gridcolor": "white",
            "linecolor": "white",
            "ticks": ""
           },
           "bgcolor": "#E5ECF6",
           "radialaxis": {
            "gridcolor": "white",
            "linecolor": "white",
            "ticks": ""
           }
          },
          "scene": {
           "xaxis": {
            "backgroundcolor": "#E5ECF6",
            "gridcolor": "white",
            "gridwidth": 2,
            "linecolor": "white",
            "showbackground": true,
            "ticks": "",
            "zerolinecolor": "white"
           },
           "yaxis": {
            "backgroundcolor": "#E5ECF6",
            "gridcolor": "white",
            "gridwidth": 2,
            "linecolor": "white",
            "showbackground": true,
            "ticks": "",
            "zerolinecolor": "white"
           },
           "zaxis": {
            "backgroundcolor": "#E5ECF6",
            "gridcolor": "white",
            "gridwidth": 2,
            "linecolor": "white",
            "showbackground": true,
            "ticks": "",
            "zerolinecolor": "white"
           }
          },
          "shapedefaults": {
           "line": {
            "color": "#2a3f5f"
           }
          },
          "ternary": {
           "aaxis": {
            "gridcolor": "white",
            "linecolor": "white",
            "ticks": ""
           },
           "baxis": {
            "gridcolor": "white",
            "linecolor": "white",
            "ticks": ""
           },
           "bgcolor": "#E5ECF6",
           "caxis": {
            "gridcolor": "white",
            "linecolor": "white",
            "ticks": ""
           }
          },
          "title": {
           "x": 0.05
          },
          "xaxis": {
           "automargin": true,
           "gridcolor": "white",
           "linecolor": "white",
           "ticks": "",
           "title": {
            "standoff": 15
           },
           "zerolinecolor": "white",
           "zerolinewidth": 2
          },
          "yaxis": {
           "automargin": true,
           "gridcolor": "white",
           "linecolor": "white",
           "ticks": "",
           "title": {
            "standoff": 15
           },
           "zerolinecolor": "white",
           "zerolinewidth": 2
          }
         }
        },
        "width": 800
       }
      }
     },
     "metadata": {},
     "output_type": "display_data"
    }
   ],
   "source": [
    "fig= px.line_mapbox(data, \"lat\", \"lon\", mapbox_style=\"open-street-map\", zoom= 6.5, width= 800)\n",
    "fig.show()"
   ]
  },
  {
   "cell_type": "code",
   "execution_count": null,
   "metadata": {},
   "outputs": [],
   "source": []
  }
 ],
 "metadata": {
  "kernelspec": {
   "display_name": ".venv",
   "language": "python",
   "name": "python3"
  },
  "language_info": {
   "codemirror_mode": {
    "name": "ipython",
    "version": 3
   },
   "file_extension": ".py",
   "mimetype": "text/x-python",
   "name": "python",
   "nbconvert_exporter": "python",
   "pygments_lexer": "ipython3",
   "version": "3.11.9"
  }
 },
 "nbformat": 4,
 "nbformat_minor": 2
}
