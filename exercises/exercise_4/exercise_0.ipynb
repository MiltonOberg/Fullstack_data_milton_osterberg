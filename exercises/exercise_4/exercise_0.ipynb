{
 "cells": [
  {
   "cell_type": "markdown",
   "metadata": {},
   "source": [
    "# 0\n",
    "### A)"
   ]
  },
  {
   "cell_type": "code",
   "execution_count": 15,
   "metadata": {},
   "outputs": [],
   "source": [
    "from pathlib import Path\n",
    "from dotenv import load_dotenv\n",
    "import requests\n",
    "import os"
   ]
  },
  {
   "cell_type": "code",
   "execution_count": 16,
   "metadata": {},
   "outputs": [
    {
     "data": {
      "text/plain": [
       "dict_keys(['Trip', 'ResultStatus', 'TechnicalMessages', 'serverVersion', 'dialectVersion', 'planRtTs', 'requestId', 'scrB', 'scrF'])"
      ]
     },
     "execution_count": 16,
     "metadata": {},
     "output_type": "execute_result"
    }
   ],
   "source": [
    "env_path = Path(\"../../code_alongs/11_data_from_API/.env\")\n",
    "load_dotenv(env_path)\n",
    "\n",
    "\n",
    "API_KEY = os.getenv(\"API_KEY\")\n",
    "\n",
    "url = f\"https://api.resrobot.se/v2.1/trip?format=json&originId=740000002&destId=740000003&passlist=true&showPassingPoints=true&accessId={API_KEY}\"\n",
    "\n",
    "response = requests.get(url)\n",
    "\n",
    "result = response.json()\n",
    "\n",
    "\n",
    "\n",
    "result.keys()"
   ]
  },
  {
   "cell_type": "code",
   "execution_count": 17,
   "metadata": {},
   "outputs": [],
   "source": [
    "def get_departures(api):\n",
    "    url = f\"https://api.resrobot.se/v2.1/departureBoard?id=740000002&format=json&accessId={api}\"\n",
    "    response = requests.get(url)\n",
    "    return response.json()\n",
    "\n",
    "\n",
    "def get_arrivals(api):\n",
    "    url = f\"https://api.resrobot.se/v2.1/arrivalBoard?id=740000002&format=json&accessId={api}\"\n",
    "    response = requests.get(url)\n",
    "    return response.json()"
   ]
  },
  {
   "cell_type": "code",
   "execution_count": 18,
   "metadata": {},
   "outputs": [],
   "source": [
    "departures = get_departures(api=API_KEY)\n",
    "arrivals = get_arrivals(api=API_KEY)"
   ]
  },
  {
   "cell_type": "code",
   "execution_count": 19,
   "metadata": {},
   "outputs": [
    {
     "data": {
      "text/plain": [
       "(dict_keys(['Departure', 'TechnicalMessages', 'serverVersion', 'dialectVersion', 'planRtTs', 'requestId']),\n",
       " dict_keys(['Arrival', 'TechnicalMessages', 'serverVersion', 'dialectVersion', 'planRtTs', 'requestId']))"
      ]
     },
     "execution_count": 19,
     "metadata": {},
     "output_type": "execute_result"
    }
   ],
   "source": [
    "departures.keys(), arrivals.keys()"
   ]
  },
  {
   "cell_type": "markdown",
   "metadata": {},
   "source": [
    "### B)"
   ]
  },
  {
   "cell_type": "code",
   "execution_count": 20,
   "metadata": {},
   "outputs": [
    {
     "data": {
      "text/plain": [
       "170"
      ]
     },
     "execution_count": 20,
     "metadata": {},
     "output_type": "execute_result"
    }
   ],
   "source": [
    "len(arrivals[\"Arrival\"])"
   ]
  },
  {
   "cell_type": "markdown",
   "metadata": {},
   "source": [
    "### C)"
   ]
  },
  {
   "cell_type": "code",
   "execution_count": 21,
   "metadata": {},
   "outputs": [
    {
     "data": {
      "text/plain": [
       "176"
      ]
     },
     "execution_count": 21,
     "metadata": {},
     "output_type": "execute_result"
    }
   ],
   "source": [
    "len(departures[\"Departure\"])"
   ]
  },
  {
   "cell_type": "markdown",
   "metadata": {},
   "source": [
    "### D)"
   ]
  },
  {
   "cell_type": "code",
   "execution_count": 22,
   "metadata": {},
   "outputs": [
    {
     "data": {
      "text/plain": [
       "dict_keys(['JourneyDetailRef', 'JourneyStatus', 'ProductAtStop', 'Product', 'Notes', 'name', 'type', 'stop', 'stopid', 'stopExtId', 'lon', 'lat', 'time', 'date', 'reachable', 'direction', 'directionFlag'])"
      ]
     },
     "execution_count": 22,
     "metadata": {},
     "output_type": "execute_result"
    }
   ],
   "source": [
    "departures[\"Departure\"][0].keys()"
   ]
  },
  {
   "cell_type": "code",
   "execution_count": 23,
   "metadata": {},
   "outputs": [
    {
     "name": "stdout",
     "output_type": "stream",
     "text": [
      "Länstrafik - Spårväg 1, Tynnered Opaltorget (Göteborg kn), 13:30:00\n",
      "Länstrafik - Spårväg 6, Kortedala Aprilgatan (Göteborg kn), 13:36:00\n",
      "Länstrafik - Spårväg 6, Göteborg Varmfrontsgatan, 13:39:00\n",
      "Länstrafik - Spårväg 6, Kortedala Aprilgatan (Göteborg kn), 13:46:00\n",
      "Länstrafik - Spårväg 6, Göteborg Varmfrontsgatan, 13:49:00\n",
      "Länstrafik - Spårväg 6, Kortedala Aprilgatan (Göteborg kn), 13:55:00\n",
      "Länstrafik - Spårväg 6, Göteborg Varmfrontsgatan, 13:59:00\n",
      "Länstrafik - Spårväg 2, Mölndals Innerstad, 14:00:00\n",
      "Länstrafik - Spårväg 6, Kortedala Aprilgatan (Göteborg kn), 14:03:00\n",
      "Länstrafik - Spårväg 6, Göteborg Varmfrontsgatan, 14:10:00\n",
      "Länstrafik - Spårväg 6, Kortedala Aprilgatan (Göteborg kn), 14:11:00\n",
      "Länstrafik - Spårväg 6, Kortedala Aprilgatan (Göteborg kn), 14:19:00\n",
      "Länstrafik - Spårväg 6, Göteborg Varmfrontsgatan, 14:20:00\n",
      "Länstrafik - Spårväg 6, Kortedala Aprilgatan (Göteborg kn), 14:28:00\n",
      "Länstrafik - Spårväg 6, Göteborg Varmfrontsgatan, 14:30:00\n"
     ]
    }
   ],
   "source": [
    "for depart in departures[\"Departure\"]:\n",
    "    if \"Spårväg\" in depart[\"name\"]:\n",
    "        print(f\"{depart['name']}, {depart['direction']}, {depart['time']}\")"
   ]
  },
  {
   "cell_type": "markdown",
   "metadata": {},
   "source": [
    "### E)"
   ]
  },
  {
   "cell_type": "code",
   "execution_count": 24,
   "metadata": {},
   "outputs": [],
   "source": [
    "# point map över spårvagnar"
   ]
  },
  {
   "cell_type": "markdown",
   "metadata": {},
   "source": [
    "### F)"
   ]
  },
  {
   "cell_type": "code",
   "execution_count": null,
   "metadata": {},
   "outputs": [],
   "source": []
  },
  {
   "cell_type": "markdown",
   "metadata": {},
   "source": [
    "# 1\n",
    "### A)"
   ]
  },
  {
   "cell_type": "markdown",
   "metadata": {},
   "source": [
    "# Stop Lookup"
   ]
  },
  {
   "cell_type": "code",
   "execution_count": 42,
   "metadata": {},
   "outputs": [],
   "source": [
    "def get_lookup(search):\n",
    "    url= f\"https://api.resrobot.se/v2.1/location.name?input={search}&format=json&accessId={API_KEY}\"\n",
    "    return requests.get(url).json()"
   ]
  },
  {
   "cell_type": "code",
   "execution_count": 58,
   "metadata": {},
   "outputs": [
    {
     "data": {
      "text/plain": [
       "'740098038'"
      ]
     },
     "execution_count": 58,
     "metadata": {},
     "output_type": "execute_result"
    }
   ],
   "source": [
    "lund= get_lookup(\"Lund\")\n",
    "lund[\"stopLocationOrCoordLocation\"][0][\"StopLocation\"][\"extId\"]"
   ]
  },
  {
   "cell_type": "code",
   "execution_count": 61,
   "metadata": {},
   "outputs": [
    {
     "data": {
      "text/plain": [
       "'740098001'"
      ]
     },
     "execution_count": 61,
     "metadata": {},
     "output_type": "execute_result"
    }
   ],
   "source": [
    "gothenburg= get_lookup(\"Göteborg\")\n",
    "gothenburg[\"stopLocationOrCoordLocation\"][0][\"StopLocation\"][\"extId\"]"
   ]
  },
  {
   "cell_type": "code",
   "execution_count": 59,
   "metadata": {},
   "outputs": [],
   "source": [
    "def route_planner(org, des):\n",
    "    \n",
    "    url= f\"https://api.resrobot.se/v2.1/trip?format=json&originId={org}&destId={des}&passlist=true&showPassingPoints=true&accessId={API_KEY}\"\n",
    "\n",
    "    return requests.get(url).json()"
   ]
  },
  {
   "cell_type": "code",
   "execution_count": 62,
   "metadata": {},
   "outputs": [],
   "source": [
    "trip= route_planner(740098001, 740098038)"
   ]
  },
  {
   "cell_type": "code",
   "execution_count": 66,
   "metadata": {},
   "outputs": [
    {
     "data": {
      "text/plain": [
       "dict_keys(['Trip', 'ResultStatus', 'TechnicalMessages', 'serverVersion', 'dialectVersion', 'planRtTs', 'requestId', 'scrB', 'scrF'])"
      ]
     },
     "execution_count": 66,
     "metadata": {},
     "output_type": "execute_result"
    }
   ],
   "source": [
    "trip.keys()"
   ]
  },
  {
   "cell_type": "code",
   "execution_count": 73,
   "metadata": {},
   "outputs": [],
   "source": [
    "example_trip = trip[\"Trip\"][0]"
   ]
  },
  {
   "cell_type": "code",
   "execution_count": 85,
   "metadata": {},
   "outputs": [
    {
     "data": {
      "text/plain": [
       "[{'name': 'Göteborg Centralstation',\n",
       "  'id': 'A=1@O=Göteborg Centralstation@X=11973479@Y=57708895@U=1@L=740000002@',\n",
       "  'extId': '740000002',\n",
       "  'routeIdx': 0,\n",
       "  'lon': 11.973479,\n",
       "  'lat': 57.708895,\n",
       "  'depPrognosisType': 'PROGNOSED',\n",
       "  'depTime': '14:40:00',\n",
       "  'depDate': '2025-01-09',\n",
       "  'depDir': 'Köpenhamn Österport (Danmark)',\n",
       "  'minimumChangeDuration': 'PT15M'},\n",
       " {'name': 'Mölndal station',\n",
       "  'id': 'A=1@O=Mölndal station@X=12018722@Y=57655958@U=1@L=740000315@',\n",
       "  'extId': '740000315',\n",
       "  'routeIdx': 1,\n",
       "  'lon': 12.018722,\n",
       "  'lat': 57.655958,\n",
       "  'depTime': '14:48:00',\n",
       "  'depDate': '2025-01-09',\n",
       "  'arrTime': '14:48:00',\n",
       "  'arrDate': '2025-01-09',\n",
       "  'minimumChangeDuration': 'PT9M'},\n",
       " {'name': 'Kungsbacka station',\n",
       "  'id': 'A=1@O=Kungsbacka station@X=12079614@Y=57490556@U=1@L=740000161@',\n",
       "  'extId': '740000161',\n",
       "  'routeIdx': 2,\n",
       "  'lon': 12.079614,\n",
       "  'lat': 57.490556,\n",
       "  'depTime': '14:59:00',\n",
       "  'depDate': '2025-01-09',\n",
       "  'arrTime': '14:59:00',\n",
       "  'arrDate': '2025-01-09',\n",
       "  'minimumChangeDuration': 'PT5M'},\n",
       " {'name': 'Varberg station',\n",
       "  'id': 'A=1@O=Varberg station@X=12248081@Y=57109378@U=1@L=740000110@',\n",
       "  'extId': '740000110',\n",
       "  'routeIdx': 3,\n",
       "  'lon': 12.248081,\n",
       "  'lat': 57.109378,\n",
       "  'depTime': '15:29:00',\n",
       "  'depDate': '2025-01-09',\n",
       "  'arrTime': '15:25:00',\n",
       "  'arrDate': '2025-01-09',\n",
       "  'minimumChangeDuration': 'PT5M'},\n",
       " {'name': 'Falkenberg station',\n",
       "  'id': 'A=1@O=Falkenberg station@X=12507555@Y=56919768@U=1@L=740001579@',\n",
       "  'extId': '740001579',\n",
       "  'routeIdx': 4,\n",
       "  'lon': 12.507555,\n",
       "  'lat': 56.919768,\n",
       "  'depTime': '15:45:00',\n",
       "  'depDate': '2025-01-09',\n",
       "  'arrTime': '15:45:00',\n",
       "  'arrDate': '2025-01-09',\n",
       "  'minimumChangeDuration': 'PT4M'},\n",
       " {'name': 'Halmstad Centralstation',\n",
       "  'id': 'A=1@O=Halmstad Centralstation@X=12864840@Y=56669275@U=1@L=740000080@',\n",
       "  'extId': '740000080',\n",
       "  'routeIdx': 5,\n",
       "  'lon': 12.86484,\n",
       "  'lat': 56.669275,\n",
       "  'depTime': '16:13:00',\n",
       "  'depDate': '2025-01-09',\n",
       "  'arrTime': '16:03:00',\n",
       "  'arrDate': '2025-01-09',\n",
       "  'minimumChangeDuration': 'PT10M'},\n",
       " {'name': 'Laholm station',\n",
       "  'id': 'A=1@O=Laholm station@X=12999606@Y=56501905@U=1@L=740000058@',\n",
       "  'extId': '740000058',\n",
       "  'routeIdx': 6,\n",
       "  'lon': 12.999606,\n",
       "  'lat': 56.501905,\n",
       "  'depTime': '16:25:00',\n",
       "  'depDate': '2025-01-09',\n",
       "  'arrTime': '16:25:00',\n",
       "  'arrDate': '2025-01-09',\n",
       "  'minimumChangeDuration': 'PT9M'},\n",
       " {'name': 'Båstad station',\n",
       "  'id': 'A=1@O=Båstad station@X=12906991@Y=56431834@U=1@L=740001603@',\n",
       "  'extId': '740001603',\n",
       "  'routeIdx': 7,\n",
       "  'lon': 12.906991,\n",
       "  'lat': 56.431834,\n",
       "  'depTime': '16:32:00',\n",
       "  'depDate': '2025-01-09',\n",
       "  'arrTime': '16:32:00',\n",
       "  'arrDate': '2025-01-09',\n",
       "  'minimumChangeDuration': 'PT4M'},\n",
       " {'name': 'Ängelholm station',\n",
       "  'id': 'A=1@O=Ängelholm station@X=12854197@Y=56245200@U=1@L=740000064@',\n",
       "  'extId': '740000064',\n",
       "  'routeIdx': 8,\n",
       "  'lon': 12.854197,\n",
       "  'lat': 56.2452,\n",
       "  'depTime': '16:43:00',\n",
       "  'depDate': '2025-01-09',\n",
       "  'arrTime': '16:43:00',\n",
       "  'arrDate': '2025-01-09',\n",
       "  'minimumChangeDuration': 'PT10M'},\n",
       " {'name': 'Helsingborg Centralstation',\n",
       "  'id': 'A=1@O=Helsingborg Centralstation@X=12694261@Y=56044408@U=1@L=740000044@',\n",
       "  'extId': '740000044',\n",
       "  'routeIdx': 9,\n",
       "  'lon': 12.694261,\n",
       "  'lat': 56.044408,\n",
       "  'depTime': '17:07:00',\n",
       "  'depDate': '2025-01-09',\n",
       "  'arrTime': '17:04:00',\n",
       "  'arrDate': '2025-01-09',\n",
       "  'minimumChangeDuration': 'PT9M'},\n",
       " {'name': 'Landskrona station',\n",
       "  'id': 'A=1@O=Landskrona station@X=12857406@Y=55878898@U=1@L=740001554@',\n",
       "  'extId': '740001554',\n",
       "  'routeIdx': 10,\n",
       "  'lon': 12.857406,\n",
       "  'lat': 55.878898,\n",
       "  'depTime': '17:19:00',\n",
       "  'depDate': '2025-01-09',\n",
       "  'arrTime': '17:19:00',\n",
       "  'arrDate': '2025-01-09',\n",
       "  'minimumChangeDuration': 'PT9M'},\n",
       " {'name': 'Lund Centralstation',\n",
       "  'id': 'A=1@O=Lund Centralstation@X=13186897@Y=55708094@U=1@L=740000120@',\n",
       "  'extId': '740000120',\n",
       "  'routeIdx': 11,\n",
       "  'lon': 13.186897,\n",
       "  'lat': 55.708094,\n",
       "  'arrTime': '17:36:00',\n",
       "  'arrDate': '2025-01-09',\n",
       "  'minimumChangeDuration': 'PT10M'}]"
      ]
     },
     "execution_count": 85,
     "metadata": {},
     "output_type": "execute_result"
    }
   ],
   "source": [
    "stops=example_trip[\"LegList\"][\"Leg\"][0][\"Stops\"][\"Stop\"]\n",
    "stops"
   ]
  },
  {
   "cell_type": "code",
   "execution_count": 86,
   "metadata": {},
   "outputs": [
    {
     "data": {
      "text/plain": [
       "['Göteborg Centralstation',\n",
       " 'Mölndal station',\n",
       " 'Kungsbacka station',\n",
       " 'Varberg station',\n",
       " 'Falkenberg station',\n",
       " 'Halmstad Centralstation',\n",
       " 'Laholm station',\n",
       " 'Båstad station',\n",
       " 'Ängelholm station',\n",
       " 'Helsingborg Centralstation',\n",
       " 'Landskrona station',\n",
       " 'Lund Centralstation']"
      ]
     },
     "execution_count": 86,
     "metadata": {},
     "output_type": "execute_result"
    }
   ],
   "source": [
    "[stop.get(\"name\")for stop in stops]"
   ]
  },
  {
   "cell_type": "markdown",
   "metadata": {},
   "source": [
    "### B)"
   ]
  },
  {
   "cell_type": "code",
   "execution_count": null,
   "metadata": {},
   "outputs": [],
   "source": []
  }
 ],
 "metadata": {
  "kernelspec": {
   "display_name": ".venv",
   "language": "python",
   "name": "python3"
  },
  "language_info": {
   "codemirror_mode": {
    "name": "ipython",
    "version": 3
   },
   "file_extension": ".py",
   "mimetype": "text/x-python",
   "name": "python",
   "nbconvert_exporter": "python",
   "pygments_lexer": "ipython3",
   "version": "3.11.9"
  }
 },
 "nbformat": 4,
 "nbformat_minor": 2
}
