{
 "cells": [
  {
   "cell_type": "markdown",
   "metadata": {},
   "source": [
    "# 0\n",
    "### A)"
   ]
  },
  {
   "cell_type": "code",
   "execution_count": 578,
   "metadata": {},
   "outputs": [],
   "source": [
    "from pathlib import Path\n",
    "from dotenv import load_dotenv\n",
    "import requests\n",
    "import os\n",
    "import pandas as pd\n",
    "import matplotlib.pyplot as plt\n",
    "import plotly.express as px"
   ]
  },
  {
   "cell_type": "code",
   "execution_count": 579,
   "metadata": {},
   "outputs": [
    {
     "data": {
      "text/plain": [
       "dict_keys(['Trip', 'ResultStatus', 'TechnicalMessages', 'serverVersion', 'dialectVersion', 'planRtTs', 'requestId', 'scrB', 'scrF'])"
      ]
     },
     "execution_count": 579,
     "metadata": {},
     "output_type": "execute_result"
    }
   ],
   "source": [
    "env_path = Path(\"../../code_alongs/11_data_from_API/.env\")\n",
    "load_dotenv(env_path)\n",
    "\n",
    "\n",
    "API_KEY = os.getenv(\"API_KEY\")\n",
    "\n",
    "url = f\"https://api.resrobot.se/v2.1/trip?format=json&originId=740000002&destId=740000003&passlist=true&showPassingPoints=true&accessId={API_KEY}\"\n",
    "\n",
    "response = requests.get(url)\n",
    "\n",
    "result = response.json()\n",
    "\n",
    "\n",
    "\n",
    "result.keys()"
   ]
  },
  {
   "cell_type": "code",
   "execution_count": 580,
   "metadata": {},
   "outputs": [],
   "source": [
    "def get_departures(api, id = \"740000002\"):\n",
    "    url = f\"https://api.resrobot.se/v2.1/departureBoard?id={id}&format=json&accessId={api}\"\n",
    "    response = requests.get(url)\n",
    "    return response.json()\n",
    "\n",
    "\n",
    "def get_arrivals(api, id = \"740000002\"):\n",
    "    url = f\"https://api.resrobot.se/v2.1/arrivalBoard?id={id}&format=json&accessId={api}\"\n",
    "    response = requests.get(url)\n",
    "    return response.json()"
   ]
  },
  {
   "cell_type": "code",
   "execution_count": 581,
   "metadata": {},
   "outputs": [],
   "source": [
    "departures = get_departures(api=API_KEY)\n",
    "arrivals = get_arrivals(api=API_KEY)"
   ]
  },
  {
   "cell_type": "code",
   "execution_count": 582,
   "metadata": {},
   "outputs": [
    {
     "data": {
      "text/plain": [
       "(dict_keys(['Departure', 'TechnicalMessages', 'serverVersion', 'dialectVersion', 'planRtTs', 'requestId']),\n",
       " dict_keys(['Arrival', 'TechnicalMessages', 'serverVersion', 'dialectVersion', 'planRtTs', 'requestId']))"
      ]
     },
     "execution_count": 582,
     "metadata": {},
     "output_type": "execute_result"
    }
   ],
   "source": [
    "departures.keys(), arrivals.keys()"
   ]
  },
  {
   "cell_type": "markdown",
   "metadata": {},
   "source": [
    "### B)"
   ]
  },
  {
   "cell_type": "code",
   "execution_count": 583,
   "metadata": {},
   "outputs": [
    {
     "data": {
      "text/plain": [
       "153"
      ]
     },
     "execution_count": 583,
     "metadata": {},
     "output_type": "execute_result"
    }
   ],
   "source": [
    "len(arrivals[\"Arrival\"])"
   ]
  },
  {
   "cell_type": "markdown",
   "metadata": {},
   "source": [
    "### C)"
   ]
  },
  {
   "cell_type": "code",
   "execution_count": 584,
   "metadata": {},
   "outputs": [
    {
     "data": {
      "text/plain": [
       "154"
      ]
     },
     "execution_count": 584,
     "metadata": {},
     "output_type": "execute_result"
    }
   ],
   "source": [
    "len(departures[\"Departure\"])"
   ]
  },
  {
   "cell_type": "markdown",
   "metadata": {},
   "source": [
    "### D)"
   ]
  },
  {
   "cell_type": "code",
   "execution_count": 585,
   "metadata": {},
   "outputs": [
    {
     "data": {
      "text/plain": [
       "dict_keys(['JourneyDetailRef', 'JourneyStatus', 'ProductAtStop', 'Product', 'Notes', 'name', 'type', 'stop', 'stopid', 'stopExtId', 'lon', 'lat', 'time', 'date', 'reachable', 'direction', 'directionFlag'])"
      ]
     },
     "execution_count": 585,
     "metadata": {},
     "output_type": "execute_result"
    }
   ],
   "source": [
    "departures[\"Departure\"][0].keys()"
   ]
  },
  {
   "cell_type": "code",
   "execution_count": 586,
   "metadata": {},
   "outputs": [
    {
     "name": "stdout",
     "output_type": "stream",
     "text": [
      "Länstrafik - Spårväg 6, Kortedala Aprilgatan (Göteborg kn), 12:16:00\n",
      "Länstrafik - Spårväg 6, Göteborg Varmfrontsgatan, 12:19:00\n",
      "Länstrafik - Spårväg 6, Kortedala Aprilgatan (Göteborg kn), 12:26:00\n",
      "Länstrafik - Spårväg 6, Göteborg Varmfrontsgatan, 12:29:00\n",
      "Länstrafik - Spårväg 6, Kortedala Aprilgatan (Göteborg kn), 12:36:00\n",
      "Länstrafik - Spårväg 6, Göteborg Varmfrontsgatan, 12:39:00\n",
      "Länstrafik - Spårväg 6, Kortedala Aprilgatan (Göteborg kn), 12:46:00\n",
      "Länstrafik - Spårväg 6, Göteborg Varmfrontsgatan, 12:49:00\n",
      "Länstrafik - Spårväg 6, Kortedala Aprilgatan (Göteborg kn), 12:56:00\n",
      "Länstrafik - Spårväg 6, Göteborg Varmfrontsgatan, 12:59:00\n",
      "Länstrafik - Spårväg 6, Kortedala Aprilgatan (Göteborg kn), 13:06:00\n",
      "Länstrafik - Spårväg 6, Göteborg Varmfrontsgatan, 13:09:00\n"
     ]
    }
   ],
   "source": [
    "for depart in departures[\"Departure\"]:\n",
    "    if \"Spårväg\" in depart[\"name\"]:\n",
    "        print(f\"{depart['name']}, {depart['direction']}, {depart['time']}\")"
   ]
  },
  {
   "cell_type": "markdown",
   "metadata": {},
   "source": [
    "### E)"
   ]
  },
  {
   "cell_type": "code",
   "execution_count": 587,
   "metadata": {},
   "outputs": [],
   "source": [
    "departures = departures[\"Departure\"]"
   ]
  },
  {
   "cell_type": "code",
   "execution_count": 588,
   "metadata": {},
   "outputs": [],
   "source": [
    "trams = [\n",
    "    {\n",
    "        \"name\": tram.get(\"name\"),\n",
    "        \"lat\": tram.get(\"lat\"),\n",
    "        \"lon\": tram.get(\"lon\"),\n",
    "        \"direction\": tram.get(\"direction\"),\n",
    "    }\n",
    "    for tram in departures\n",
    "    if \"Spårväg\" in tram.get(\"name\")\n",
    "]"
   ]
  },
  {
   "cell_type": "code",
   "execution_count": 589,
   "metadata": {},
   "outputs": [],
   "source": [
    "data= pd.DataFrame(trams)"
   ]
  },
  {
   "cell_type": "code",
   "execution_count": 590,
   "metadata": {},
   "outputs": [
    {
     "data": {
      "application/vnd.plotly.v1+json": {
       "config": {
        "plotlyServerURL": "https://plot.ly"
       },
       "data": [
        {
         "hovertemplate": "<b>%{hovertext}</b><br><br>lat=%{lat}<br>lon=%{lon}<extra></extra>",
         "hovertext": [
          "Kortedala Aprilgatan (Göteborg kn)",
          "Göteborg Varmfrontsgatan",
          "Kortedala Aprilgatan (Göteborg kn)",
          "Göteborg Varmfrontsgatan",
          "Kortedala Aprilgatan (Göteborg kn)",
          "Göteborg Varmfrontsgatan",
          "Kortedala Aprilgatan (Göteborg kn)",
          "Göteborg Varmfrontsgatan",
          "Kortedala Aprilgatan (Göteborg kn)",
          "Göteborg Varmfrontsgatan",
          "Kortedala Aprilgatan (Göteborg kn)",
          "Göteborg Varmfrontsgatan"
         ],
         "lat": [
          57.709246,
          57.709246,
          57.709246,
          57.709246,
          57.709246,
          57.709246,
          57.709246,
          57.709246,
          57.709246,
          57.709246,
          57.709246,
          57.709246
         ],
         "legendgroup": "",
         "lon": [
          11.970791,
          11.970791,
          11.970791,
          11.970791,
          11.970791,
          11.970791,
          11.970791,
          11.970791,
          11.970791,
          11.970791,
          11.970791,
          11.970791
         ],
         "marker": {
          "color": "#636efa"
         },
         "mode": "markers",
         "name": "",
         "showlegend": false,
         "subplot": "mapbox",
         "type": "scattermapbox"
        }
       ],
       "layout": {
        "legend": {
         "tracegroupgap": 0
        },
        "mapbox": {
         "center": {
          "lat": 57.709246,
          "lon": 11.970791
         },
         "domain": {
          "x": [
           0,
           1
          ],
          "y": [
           0,
           1
          ]
         },
         "style": "open-street-map",
         "zoom": 15
        },
        "margin": {
         "t": 60
        },
        "template": {
         "data": {
          "bar": [
           {
            "error_x": {
             "color": "#2a3f5f"
            },
            "error_y": {
             "color": "#2a3f5f"
            },
            "marker": {
             "line": {
              "color": "#E5ECF6",
              "width": 0.5
             },
             "pattern": {
              "fillmode": "overlay",
              "size": 10,
              "solidity": 0.2
             }
            },
            "type": "bar"
           }
          ],
          "barpolar": [
           {
            "marker": {
             "line": {
              "color": "#E5ECF6",
              "width": 0.5
             },
             "pattern": {
              "fillmode": "overlay",
              "size": 10,
              "solidity": 0.2
             }
            },
            "type": "barpolar"
           }
          ],
          "carpet": [
           {
            "aaxis": {
             "endlinecolor": "#2a3f5f",
             "gridcolor": "white",
             "linecolor": "white",
             "minorgridcolor": "white",
             "startlinecolor": "#2a3f5f"
            },
            "baxis": {
             "endlinecolor": "#2a3f5f",
             "gridcolor": "white",
             "linecolor": "white",
             "minorgridcolor": "white",
             "startlinecolor": "#2a3f5f"
            },
            "type": "carpet"
           }
          ],
          "choropleth": [
           {
            "colorbar": {
             "outlinewidth": 0,
             "ticks": ""
            },
            "type": "choropleth"
           }
          ],
          "contour": [
           {
            "colorbar": {
             "outlinewidth": 0,
             "ticks": ""
            },
            "colorscale": [
             [
              0,
              "#0d0887"
             ],
             [
              0.1111111111111111,
              "#46039f"
             ],
             [
              0.2222222222222222,
              "#7201a8"
             ],
             [
              0.3333333333333333,
              "#9c179e"
             ],
             [
              0.4444444444444444,
              "#bd3786"
             ],
             [
              0.5555555555555556,
              "#d8576b"
             ],
             [
              0.6666666666666666,
              "#ed7953"
             ],
             [
              0.7777777777777778,
              "#fb9f3a"
             ],
             [
              0.8888888888888888,
              "#fdca26"
             ],
             [
              1,
              "#f0f921"
             ]
            ],
            "type": "contour"
           }
          ],
          "contourcarpet": [
           {
            "colorbar": {
             "outlinewidth": 0,
             "ticks": ""
            },
            "type": "contourcarpet"
           }
          ],
          "heatmap": [
           {
            "colorbar": {
             "outlinewidth": 0,
             "ticks": ""
            },
            "colorscale": [
             [
              0,
              "#0d0887"
             ],
             [
              0.1111111111111111,
              "#46039f"
             ],
             [
              0.2222222222222222,
              "#7201a8"
             ],
             [
              0.3333333333333333,
              "#9c179e"
             ],
             [
              0.4444444444444444,
              "#bd3786"
             ],
             [
              0.5555555555555556,
              "#d8576b"
             ],
             [
              0.6666666666666666,
              "#ed7953"
             ],
             [
              0.7777777777777778,
              "#fb9f3a"
             ],
             [
              0.8888888888888888,
              "#fdca26"
             ],
             [
              1,
              "#f0f921"
             ]
            ],
            "type": "heatmap"
           }
          ],
          "heatmapgl": [
           {
            "colorbar": {
             "outlinewidth": 0,
             "ticks": ""
            },
            "colorscale": [
             [
              0,
              "#0d0887"
             ],
             [
              0.1111111111111111,
              "#46039f"
             ],
             [
              0.2222222222222222,
              "#7201a8"
             ],
             [
              0.3333333333333333,
              "#9c179e"
             ],
             [
              0.4444444444444444,
              "#bd3786"
             ],
             [
              0.5555555555555556,
              "#d8576b"
             ],
             [
              0.6666666666666666,
              "#ed7953"
             ],
             [
              0.7777777777777778,
              "#fb9f3a"
             ],
             [
              0.8888888888888888,
              "#fdca26"
             ],
             [
              1,
              "#f0f921"
             ]
            ],
            "type": "heatmapgl"
           }
          ],
          "histogram": [
           {
            "marker": {
             "pattern": {
              "fillmode": "overlay",
              "size": 10,
              "solidity": 0.2
             }
            },
            "type": "histogram"
           }
          ],
          "histogram2d": [
           {
            "colorbar": {
             "outlinewidth": 0,
             "ticks": ""
            },
            "colorscale": [
             [
              0,
              "#0d0887"
             ],
             [
              0.1111111111111111,
              "#46039f"
             ],
             [
              0.2222222222222222,
              "#7201a8"
             ],
             [
              0.3333333333333333,
              "#9c179e"
             ],
             [
              0.4444444444444444,
              "#bd3786"
             ],
             [
              0.5555555555555556,
              "#d8576b"
             ],
             [
              0.6666666666666666,
              "#ed7953"
             ],
             [
              0.7777777777777778,
              "#fb9f3a"
             ],
             [
              0.8888888888888888,
              "#fdca26"
             ],
             [
              1,
              "#f0f921"
             ]
            ],
            "type": "histogram2d"
           }
          ],
          "histogram2dcontour": [
           {
            "colorbar": {
             "outlinewidth": 0,
             "ticks": ""
            },
            "colorscale": [
             [
              0,
              "#0d0887"
             ],
             [
              0.1111111111111111,
              "#46039f"
             ],
             [
              0.2222222222222222,
              "#7201a8"
             ],
             [
              0.3333333333333333,
              "#9c179e"
             ],
             [
              0.4444444444444444,
              "#bd3786"
             ],
             [
              0.5555555555555556,
              "#d8576b"
             ],
             [
              0.6666666666666666,
              "#ed7953"
             ],
             [
              0.7777777777777778,
              "#fb9f3a"
             ],
             [
              0.8888888888888888,
              "#fdca26"
             ],
             [
              1,
              "#f0f921"
             ]
            ],
            "type": "histogram2dcontour"
           }
          ],
          "mesh3d": [
           {
            "colorbar": {
             "outlinewidth": 0,
             "ticks": ""
            },
            "type": "mesh3d"
           }
          ],
          "parcoords": [
           {
            "line": {
             "colorbar": {
              "outlinewidth": 0,
              "ticks": ""
             }
            },
            "type": "parcoords"
           }
          ],
          "pie": [
           {
            "automargin": true,
            "type": "pie"
           }
          ],
          "scatter": [
           {
            "fillpattern": {
             "fillmode": "overlay",
             "size": 10,
             "solidity": 0.2
            },
            "type": "scatter"
           }
          ],
          "scatter3d": [
           {
            "line": {
             "colorbar": {
              "outlinewidth": 0,
              "ticks": ""
             }
            },
            "marker": {
             "colorbar": {
              "outlinewidth": 0,
              "ticks": ""
             }
            },
            "type": "scatter3d"
           }
          ],
          "scattercarpet": [
           {
            "marker": {
             "colorbar": {
              "outlinewidth": 0,
              "ticks": ""
             }
            },
            "type": "scattercarpet"
           }
          ],
          "scattergeo": [
           {
            "marker": {
             "colorbar": {
              "outlinewidth": 0,
              "ticks": ""
             }
            },
            "type": "scattergeo"
           }
          ],
          "scattergl": [
           {
            "marker": {
             "colorbar": {
              "outlinewidth": 0,
              "ticks": ""
             }
            },
            "type": "scattergl"
           }
          ],
          "scattermapbox": [
           {
            "marker": {
             "colorbar": {
              "outlinewidth": 0,
              "ticks": ""
             }
            },
            "type": "scattermapbox"
           }
          ],
          "scatterpolar": [
           {
            "marker": {
             "colorbar": {
              "outlinewidth": 0,
              "ticks": ""
             }
            },
            "type": "scatterpolar"
           }
          ],
          "scatterpolargl": [
           {
            "marker": {
             "colorbar": {
              "outlinewidth": 0,
              "ticks": ""
             }
            },
            "type": "scatterpolargl"
           }
          ],
          "scatterternary": [
           {
            "marker": {
             "colorbar": {
              "outlinewidth": 0,
              "ticks": ""
             }
            },
            "type": "scatterternary"
           }
          ],
          "surface": [
           {
            "colorbar": {
             "outlinewidth": 0,
             "ticks": ""
            },
            "colorscale": [
             [
              0,
              "#0d0887"
             ],
             [
              0.1111111111111111,
              "#46039f"
             ],
             [
              0.2222222222222222,
              "#7201a8"
             ],
             [
              0.3333333333333333,
              "#9c179e"
             ],
             [
              0.4444444444444444,
              "#bd3786"
             ],
             [
              0.5555555555555556,
              "#d8576b"
             ],
             [
              0.6666666666666666,
              "#ed7953"
             ],
             [
              0.7777777777777778,
              "#fb9f3a"
             ],
             [
              0.8888888888888888,
              "#fdca26"
             ],
             [
              1,
              "#f0f921"
             ]
            ],
            "type": "surface"
           }
          ],
          "table": [
           {
            "cells": {
             "fill": {
              "color": "#EBF0F8"
             },
             "line": {
              "color": "white"
             }
            },
            "header": {
             "fill": {
              "color": "#C8D4E3"
             },
             "line": {
              "color": "white"
             }
            },
            "type": "table"
           }
          ]
         },
         "layout": {
          "annotationdefaults": {
           "arrowcolor": "#2a3f5f",
           "arrowhead": 0,
           "arrowwidth": 1
          },
          "autotypenumbers": "strict",
          "coloraxis": {
           "colorbar": {
            "outlinewidth": 0,
            "ticks": ""
           }
          },
          "colorscale": {
           "diverging": [
            [
             0,
             "#8e0152"
            ],
            [
             0.1,
             "#c51b7d"
            ],
            [
             0.2,
             "#de77ae"
            ],
            [
             0.3,
             "#f1b6da"
            ],
            [
             0.4,
             "#fde0ef"
            ],
            [
             0.5,
             "#f7f7f7"
            ],
            [
             0.6,
             "#e6f5d0"
            ],
            [
             0.7,
             "#b8e186"
            ],
            [
             0.8,
             "#7fbc41"
            ],
            [
             0.9,
             "#4d9221"
            ],
            [
             1,
             "#276419"
            ]
           ],
           "sequential": [
            [
             0,
             "#0d0887"
            ],
            [
             0.1111111111111111,
             "#46039f"
            ],
            [
             0.2222222222222222,
             "#7201a8"
            ],
            [
             0.3333333333333333,
             "#9c179e"
            ],
            [
             0.4444444444444444,
             "#bd3786"
            ],
            [
             0.5555555555555556,
             "#d8576b"
            ],
            [
             0.6666666666666666,
             "#ed7953"
            ],
            [
             0.7777777777777778,
             "#fb9f3a"
            ],
            [
             0.8888888888888888,
             "#fdca26"
            ],
            [
             1,
             "#f0f921"
            ]
           ],
           "sequentialminus": [
            [
             0,
             "#0d0887"
            ],
            [
             0.1111111111111111,
             "#46039f"
            ],
            [
             0.2222222222222222,
             "#7201a8"
            ],
            [
             0.3333333333333333,
             "#9c179e"
            ],
            [
             0.4444444444444444,
             "#bd3786"
            ],
            [
             0.5555555555555556,
             "#d8576b"
            ],
            [
             0.6666666666666666,
             "#ed7953"
            ],
            [
             0.7777777777777778,
             "#fb9f3a"
            ],
            [
             0.8888888888888888,
             "#fdca26"
            ],
            [
             1,
             "#f0f921"
            ]
           ]
          },
          "colorway": [
           "#636efa",
           "#EF553B",
           "#00cc96",
           "#ab63fa",
           "#FFA15A",
           "#19d3f3",
           "#FF6692",
           "#B6E880",
           "#FF97FF",
           "#FECB52"
          ],
          "font": {
           "color": "#2a3f5f"
          },
          "geo": {
           "bgcolor": "white",
           "lakecolor": "white",
           "landcolor": "#E5ECF6",
           "showlakes": true,
           "showland": true,
           "subunitcolor": "white"
          },
          "hoverlabel": {
           "align": "left"
          },
          "hovermode": "closest",
          "mapbox": {
           "style": "light"
          },
          "paper_bgcolor": "white",
          "plot_bgcolor": "#E5ECF6",
          "polar": {
           "angularaxis": {
            "gridcolor": "white",
            "linecolor": "white",
            "ticks": ""
           },
           "bgcolor": "#E5ECF6",
           "radialaxis": {
            "gridcolor": "white",
            "linecolor": "white",
            "ticks": ""
           }
          },
          "scene": {
           "xaxis": {
            "backgroundcolor": "#E5ECF6",
            "gridcolor": "white",
            "gridwidth": 2,
            "linecolor": "white",
            "showbackground": true,
            "ticks": "",
            "zerolinecolor": "white"
           },
           "yaxis": {
            "backgroundcolor": "#E5ECF6",
            "gridcolor": "white",
            "gridwidth": 2,
            "linecolor": "white",
            "showbackground": true,
            "ticks": "",
            "zerolinecolor": "white"
           },
           "zaxis": {
            "backgroundcolor": "#E5ECF6",
            "gridcolor": "white",
            "gridwidth": 2,
            "linecolor": "white",
            "showbackground": true,
            "ticks": "",
            "zerolinecolor": "white"
           }
          },
          "shapedefaults": {
           "line": {
            "color": "#2a3f5f"
           }
          },
          "ternary": {
           "aaxis": {
            "gridcolor": "white",
            "linecolor": "white",
            "ticks": ""
           },
           "baxis": {
            "gridcolor": "white",
            "linecolor": "white",
            "ticks": ""
           },
           "bgcolor": "#E5ECF6",
           "caxis": {
            "gridcolor": "white",
            "linecolor": "white",
            "ticks": ""
           }
          },
          "title": {
           "x": 0.05
          },
          "xaxis": {
           "automargin": true,
           "gridcolor": "white",
           "linecolor": "white",
           "ticks": "",
           "title": {
            "standoff": 15
           },
           "zerolinecolor": "white",
           "zerolinewidth": 2
          },
          "yaxis": {
           "automargin": true,
           "gridcolor": "white",
           "linecolor": "white",
           "ticks": "",
           "title": {
            "standoff": 15
           },
           "zerolinecolor": "white",
           "zerolinewidth": 2
          }
         }
        }
       }
      }
     },
     "metadata": {},
     "output_type": "display_data"
    }
   ],
   "source": [
    "fig = px.scatter_mapbox(data, lat=\"lat\", lon= \"lon\", hover_name=\"direction\", mapbox_style= \"open-street-map\", zoom= 15)\n",
    "\n",
    "fig.show()"
   ]
  },
  {
   "cell_type": "markdown",
   "metadata": {},
   "source": [
    "### F)"
   ]
  },
  {
   "cell_type": "code",
   "execution_count": null,
   "metadata": {},
   "outputs": [],
   "source": []
  },
  {
   "cell_type": "markdown",
   "metadata": {},
   "source": [
    "# 1\n",
    "### A)"
   ]
  },
  {
   "cell_type": "markdown",
   "metadata": {},
   "source": [
    "# Stop Lookup"
   ]
  },
  {
   "cell_type": "code",
   "execution_count": 591,
   "metadata": {},
   "outputs": [],
   "source": [
    "def get_lookup(search):\n",
    "    url= f\"https://api.resrobot.se/v2.1/location.name?input={search}&format=json&accessId={API_KEY}\"\n",
    "    return requests.get(url).json()"
   ]
  },
  {
   "cell_type": "code",
   "execution_count": 592,
   "metadata": {},
   "outputs": [
    {
     "data": {
      "text/plain": [
       "'740098038'"
      ]
     },
     "execution_count": 592,
     "metadata": {},
     "output_type": "execute_result"
    }
   ],
   "source": [
    "lund= get_lookup(\"Lund\")\n",
    "lund[\"stopLocationOrCoordLocation\"][0][\"StopLocation\"][\"extId\"]"
   ]
  },
  {
   "cell_type": "code",
   "execution_count": 593,
   "metadata": {},
   "outputs": [
    {
     "data": {
      "text/plain": [
       "'740098001'"
      ]
     },
     "execution_count": 593,
     "metadata": {},
     "output_type": "execute_result"
    }
   ],
   "source": [
    "gothenburg= get_lookup(\"Göteborg\")\n",
    "gothenburg[\"stopLocationOrCoordLocation\"][0][\"StopLocation\"][\"extId\"]"
   ]
  },
  {
   "cell_type": "code",
   "execution_count": 594,
   "metadata": {},
   "outputs": [],
   "source": [
    "def route_planner(org, des):\n",
    "    \n",
    "    url= f\"https://api.resrobot.se/v2.1/trip?format=json&originId={org}&destId={des}&passlist=true&showPassingPoints=true&accessId={API_KEY}\"\n",
    "\n",
    "    return requests.get(url).json()"
   ]
  },
  {
   "cell_type": "code",
   "execution_count": 595,
   "metadata": {},
   "outputs": [],
   "source": [
    "trip= route_planner(740098001, 740098038)"
   ]
  },
  {
   "cell_type": "code",
   "execution_count": 596,
   "metadata": {},
   "outputs": [
    {
     "data": {
      "text/plain": [
       "dict_keys(['Trip', 'ResultStatus', 'TechnicalMessages', 'serverVersion', 'dialectVersion', 'planRtTs', 'requestId', 'scrB', 'scrF'])"
      ]
     },
     "execution_count": 596,
     "metadata": {},
     "output_type": "execute_result"
    }
   ],
   "source": [
    "trip.keys()"
   ]
  },
  {
   "cell_type": "code",
   "execution_count": 597,
   "metadata": {},
   "outputs": [],
   "source": [
    "example_trip = trip[\"Trip\"][0]"
   ]
  },
  {
   "cell_type": "code",
   "execution_count": 598,
   "metadata": {},
   "outputs": [
    {
     "data": {
      "text/plain": [
       "[{'name': 'Göteborg Centralstation',\n",
       "  'id': 'A=1@O=Göteborg Centralstation@X=11973479@Y=57708895@U=1@L=740000002@',\n",
       "  'extId': '740000002',\n",
       "  'routeIdx': 0,\n",
       "  'lon': 11.973479,\n",
       "  'lat': 57.708895,\n",
       "  'depPrognosisType': 'PROGNOSED',\n",
       "  'depTime': '12:40:00',\n",
       "  'depDate': '2025-01-16',\n",
       "  'depDir': 'Köpenhamn Österport (Danmark)',\n",
       "  'minimumChangeDuration': 'PT15M'},\n",
       " {'name': 'Mölndal station',\n",
       "  'id': 'A=1@O=Mölndal station@X=12018722@Y=57655958@U=1@L=740000315@',\n",
       "  'extId': '740000315',\n",
       "  'routeIdx': 1,\n",
       "  'lon': 12.018722,\n",
       "  'lat': 57.655958,\n",
       "  'depTime': '12:48:00',\n",
       "  'depDate': '2025-01-16',\n",
       "  'arrTime': '12:48:00',\n",
       "  'arrDate': '2025-01-16',\n",
       "  'minimumChangeDuration': 'PT9M'},\n",
       " {'name': 'Kungsbacka station',\n",
       "  'id': 'A=1@O=Kungsbacka station@X=12079614@Y=57490556@U=1@L=740000161@',\n",
       "  'extId': '740000161',\n",
       "  'routeIdx': 2,\n",
       "  'lon': 12.079614,\n",
       "  'lat': 57.490556,\n",
       "  'depTime': '12:59:00',\n",
       "  'depDate': '2025-01-16',\n",
       "  'arrTime': '12:59:00',\n",
       "  'arrDate': '2025-01-16',\n",
       "  'minimumChangeDuration': 'PT5M'},\n",
       " {'name': 'Varberg station',\n",
       "  'id': 'A=1@O=Varberg station@X=12248081@Y=57109378@U=1@L=740000110@',\n",
       "  'extId': '740000110',\n",
       "  'routeIdx': 3,\n",
       "  'lon': 12.248081,\n",
       "  'lat': 57.109378,\n",
       "  'depTime': '13:29:00',\n",
       "  'depDate': '2025-01-16',\n",
       "  'arrTime': '13:25:00',\n",
       "  'arrDate': '2025-01-16',\n",
       "  'minimumChangeDuration': 'PT5M'},\n",
       " {'name': 'Falkenberg station',\n",
       "  'id': 'A=1@O=Falkenberg station@X=12507555@Y=56919768@U=1@L=740001579@',\n",
       "  'extId': '740001579',\n",
       "  'routeIdx': 4,\n",
       "  'lon': 12.507555,\n",
       "  'lat': 56.919768,\n",
       "  'depTime': '13:45:00',\n",
       "  'depDate': '2025-01-16',\n",
       "  'arrTime': '13:45:00',\n",
       "  'arrDate': '2025-01-16',\n",
       "  'minimumChangeDuration': 'PT4M'},\n",
       " {'name': 'Halmstad Centralstation',\n",
       "  'id': 'A=1@O=Halmstad Centralstation@X=12864840@Y=56669275@U=1@L=740000080@',\n",
       "  'extId': '740000080',\n",
       "  'routeIdx': 5,\n",
       "  'lon': 12.86484,\n",
       "  'lat': 56.669275,\n",
       "  'depTime': '14:13:00',\n",
       "  'depDate': '2025-01-16',\n",
       "  'arrTime': '14:03:00',\n",
       "  'arrDate': '2025-01-16',\n",
       "  'minimumChangeDuration': 'PT10M'},\n",
       " {'name': 'Laholm station',\n",
       "  'id': 'A=1@O=Laholm station@X=12999606@Y=56501905@U=1@L=740000058@',\n",
       "  'extId': '740000058',\n",
       "  'routeIdx': 6,\n",
       "  'lon': 12.999606,\n",
       "  'lat': 56.501905,\n",
       "  'depTime': '14:25:00',\n",
       "  'depDate': '2025-01-16',\n",
       "  'arrTime': '14:25:00',\n",
       "  'arrDate': '2025-01-16',\n",
       "  'minimumChangeDuration': 'PT9M'},\n",
       " {'name': 'Båstad station',\n",
       "  'id': 'A=1@O=Båstad station@X=12906991@Y=56431834@U=1@L=740001603@',\n",
       "  'extId': '740001603',\n",
       "  'routeIdx': 7,\n",
       "  'lon': 12.906991,\n",
       "  'lat': 56.431834,\n",
       "  'depTime': '14:32:00',\n",
       "  'depDate': '2025-01-16',\n",
       "  'arrTime': '14:32:00',\n",
       "  'arrDate': '2025-01-16',\n",
       "  'minimumChangeDuration': 'PT4M'},\n",
       " {'name': 'Ängelholm station',\n",
       "  'id': 'A=1@O=Ängelholm station@X=12854197@Y=56245200@U=1@L=740000064@',\n",
       "  'extId': '740000064',\n",
       "  'routeIdx': 8,\n",
       "  'lon': 12.854197,\n",
       "  'lat': 56.2452,\n",
       "  'depTime': '14:43:00',\n",
       "  'depDate': '2025-01-16',\n",
       "  'arrTime': '14:43:00',\n",
       "  'arrDate': '2025-01-16',\n",
       "  'minimumChangeDuration': 'PT10M'},\n",
       " {'name': 'Helsingborg Centralstation',\n",
       "  'id': 'A=1@O=Helsingborg Centralstation@X=12694261@Y=56044408@U=1@L=740000044@',\n",
       "  'extId': '740000044',\n",
       "  'routeIdx': 9,\n",
       "  'lon': 12.694261,\n",
       "  'lat': 56.044408,\n",
       "  'depTime': '15:07:00',\n",
       "  'depDate': '2025-01-16',\n",
       "  'arrTime': '15:04:00',\n",
       "  'arrDate': '2025-01-16',\n",
       "  'minimumChangeDuration': 'PT9M'},\n",
       " {'name': 'Landskrona station',\n",
       "  'id': 'A=1@O=Landskrona station@X=12857406@Y=55878898@U=1@L=740001554@',\n",
       "  'extId': '740001554',\n",
       "  'routeIdx': 10,\n",
       "  'lon': 12.857406,\n",
       "  'lat': 55.878898,\n",
       "  'depTime': '15:19:00',\n",
       "  'depDate': '2025-01-16',\n",
       "  'arrTime': '15:19:00',\n",
       "  'arrDate': '2025-01-16',\n",
       "  'minimumChangeDuration': 'PT9M'},\n",
       " {'name': 'Lund Centralstation',\n",
       "  'id': 'A=1@O=Lund Centralstation@X=13186897@Y=55708094@U=1@L=740000120@',\n",
       "  'extId': '740000120',\n",
       "  'routeIdx': 11,\n",
       "  'lon': 13.186897,\n",
       "  'lat': 55.708094,\n",
       "  'arrTime': '15:36:00',\n",
       "  'arrDate': '2025-01-16',\n",
       "  'minimumChangeDuration': 'PT10M'}]"
      ]
     },
     "execution_count": 598,
     "metadata": {},
     "output_type": "execute_result"
    }
   ],
   "source": [
    "stops=example_trip[\"LegList\"][\"Leg\"][0][\"Stops\"][\"Stop\"]\n",
    "stops"
   ]
  },
  {
   "cell_type": "code",
   "execution_count": 599,
   "metadata": {},
   "outputs": [
    {
     "data": {
      "text/plain": [
       "['Göteborg Centralstation',\n",
       " 'Mölndal station',\n",
       " 'Kungsbacka station',\n",
       " 'Varberg station',\n",
       " 'Falkenberg station',\n",
       " 'Halmstad Centralstation',\n",
       " 'Laholm station',\n",
       " 'Båstad station',\n",
       " 'Ängelholm station',\n",
       " 'Helsingborg Centralstation',\n",
       " 'Landskrona station',\n",
       " 'Lund Centralstation']"
      ]
     },
     "execution_count": 599,
     "metadata": {},
     "output_type": "execute_result"
    }
   ],
   "source": [
    "[stop.get(\"name\")for stop in stops]"
   ]
  },
  {
   "cell_type": "markdown",
   "metadata": {},
   "source": [
    "### B)"
   ]
  },
  {
   "cell_type": "code",
   "execution_count": 600,
   "metadata": {},
   "outputs": [
    {
     "data": {
      "text/plain": [
       "'740098000'"
      ]
     },
     "execution_count": 600,
     "metadata": {},
     "output_type": "execute_result"
    }
   ],
   "source": [
    "sthlm= get_lookup(\"Stockholm\")\n",
    "sthlm[\"stopLocationOrCoordLocation\"][0][\"StopLocation\"][\"extId\"]"
   ]
  },
  {
   "cell_type": "code",
   "execution_count": 601,
   "metadata": {},
   "outputs": [
    {
     "data": {
      "text/plain": [
       "{'Trip': [{'Origin': {'name': 'Göteborg Centralstation',\n",
       "    'type': 'ST',\n",
       "    'id': 'A=1@O=Göteborg Centralstation@X=11973479@Y=57708895@U=1@L=740000002@',\n",
       "    'extId': '740000002',\n",
       "    'lon': 11.973479,\n",
       "    'lat': 57.708895,\n",
       "    'routeIdx': 0,\n",
       "    'prognosisType': 'PROGNOSED',\n",
       "    'time': '12:18:00',\n",
       "    'date': '2025-01-16',\n",
       "    'minimumChangeDuration': 'PT15M'},\n",
       "   'Destination': {'name': 'Stockholm Centralstation',\n",
       "    'type': 'ST',\n",
       "    'id': 'A=1@O=Stockholm Centralstation@X=18058151@Y=59330136@U=1@L=740000001@',\n",
       "    'extId': '740000001',\n",
       "    'lon': 18.058151,\n",
       "    'lat': 59.330136,\n",
       "    'routeIdx': 4,\n",
       "    'prognosisType': 'PROGNOSED',\n",
       "    'time': '15:41:00',\n",
       "    'date': '2025-01-16',\n",
       "    'minimumChangeDuration': 'PT20M'},\n",
       "   'ServiceDays': [{'planningPeriodBegin': '2025-01-02',\n",
       "     'planningPeriodEnd': '2025-06-15',\n",
       "     'sDaysR': 'inte varje dag',\n",
       "     'sDaysI': '16. jan t o m 9. jun 2025; 22. mar t o m 20. apr 2025 mån - fre; 3. maj t o m 7. jun 2025 mån - fre; utom 18., 21. apr, 1., 2., 29., 30. maj',\n",
       "     'sDaysB': '003FFFFFFFFFFFFFFFFE7CF9F3C3FE1F3E7CE1F600'}],\n",
       "   'LegList': {'Leg': [{'Origin': {'name': 'Göteborg Centralstation',\n",
       "       'type': 'ST',\n",
       "       'id': 'A=1@O=Göteborg Centralstation@X=11973479@Y=57708895@U=1@L=740000002@',\n",
       "       'extId': '740000002',\n",
       "       'lon': 11.973479,\n",
       "       'lat': 57.708895,\n",
       "       'routeIdx': 0,\n",
       "       'prognosisType': 'PROGNOSED',\n",
       "       'time': '12:18:00',\n",
       "       'date': '2025-01-16',\n",
       "       'minimumChangeDuration': 'PT15M'},\n",
       "      'Destination': {'name': 'Stockholm Centralstation',\n",
       "       'type': 'ST',\n",
       "       'id': 'A=1@O=Stockholm Centralstation@X=18058151@Y=59330136@U=1@L=740000001@',\n",
       "       'extId': '740000001',\n",
       "       'lon': 18.058151,\n",
       "       'lat': 59.330136,\n",
       "       'routeIdx': 4,\n",
       "       'prognosisType': 'PROGNOSED',\n",
       "       'time': '15:41:00',\n",
       "       'date': '2025-01-16',\n",
       "       'minimumChangeDuration': 'PT20M'},\n",
       "      'Notes': {'Note': [{'value': 'X2000',\n",
       "         'key': 'VX',\n",
       "         'type': 'A',\n",
       "         'routeIdxFrom': 0,\n",
       "         'routeIdxTo': 4,\n",
       "         'txtN': 'X2000'},\n",
       "        {'value': 'Mat 1 klass',\n",
       "         'key': 'A1',\n",
       "         'type': 'A',\n",
       "         'routeIdxFrom': 0,\n",
       "         'routeIdxTo': 4,\n",
       "         'txtN': 'Mat 1 klass'},\n",
       "        {'value': 'Bistrovagn',\n",
       "         'key': 'AD',\n",
       "         'type': 'A',\n",
       "         'routeIdxFrom': 0,\n",
       "         'routeIdxTo': 4,\n",
       "         'txtN': 'Bistrovagn'},\n",
       "        {'value': 'Obligatorisk platsbokning',\n",
       "         'key': 'AF',\n",
       "         'type': 'A',\n",
       "         'routeIdxFrom': 0,\n",
       "         'routeIdxTo': 4,\n",
       "         'txtN': 'Obligatorisk platsbokning'},\n",
       "        {'value': 'Rullstolslyft',\n",
       "         'key': 'AN',\n",
       "         'type': 'A',\n",
       "         'routeIdxFrom': 0,\n",
       "         'routeIdxTo': 4,\n",
       "         'txtN': 'Rullstolslyft'},\n",
       "        {'value': 'WiFi',\n",
       "         'key': 'AW',\n",
       "         'type': 'A',\n",
       "         'routeIdxFrom': 0,\n",
       "         'routeIdxTo': 4,\n",
       "         'txtN': 'WiFi'},\n",
       "        {'value': '2 klass lugn',\n",
       "         'key': 'BL',\n",
       "         'type': 'A',\n",
       "         'routeIdxFrom': 0,\n",
       "         'routeIdxTo': 4,\n",
       "         'txtN': '2 klass lugn'},\n",
       "        {'value': 'EU förordning 2021/782',\n",
       "         'key': 'EJ',\n",
       "         'type': 'A',\n",
       "         'routeIdxFrom': 0,\n",
       "         'routeIdxTo': 4,\n",
       "         'txtN': 'EU förordning 2021/782'},\n",
       "        {'value': 'Maträtt',\n",
       "         'key': 'SM',\n",
       "         'type': 'A',\n",
       "         'routeIdxFrom': 0,\n",
       "         'routeIdxTo': 4,\n",
       "         'txtN': 'Maträtt'},\n",
       "        {'value': '1 klass med extra komfort',\n",
       "         'key': 'SU',\n",
       "         'type': 'A',\n",
       "         'routeIdxFrom': 0,\n",
       "         'routeIdxTo': 4,\n",
       "         'txtN': '1 klass med extra komfort'},\n",
       "        {'value': 'Kaffebuffé 1 klass',\n",
       "         'key': 'SZ',\n",
       "         'type': 'A',\n",
       "         'routeIdxFrom': 0,\n",
       "         'routeIdxTo': 4,\n",
       "         'txtN': 'Kaffebuffé 1 klass'}]},\n",
       "      'JourneyDetailRef': {'ref': '1|42911|0|1|16012025'},\n",
       "      'JourneyStatus': 'P',\n",
       "      'Product': [{'icon': {'res': 'prod_gen'},\n",
       "        'operatorInfo': {'name': 'SJ',\n",
       "         'nameS': '74',\n",
       "         'nameN': '74',\n",
       "         'nameL': 'SJ',\n",
       "         'id': '74'},\n",
       "        'name': 'Snabbtåg 434',\n",
       "        'internalName': 'Snabbtåg 434',\n",
       "        'displayNumber': '434',\n",
       "        'num': '434',\n",
       "        'line': '434',\n",
       "        'lineId': '1074043400001',\n",
       "        'catOut': 'JST',\n",
       "        'catIn': 'JST',\n",
       "        'catCode': '1',\n",
       "        'cls': '2',\n",
       "        'catOutS': 'JST',\n",
       "        'catOutL': 'Snabbtåg',\n",
       "        'operatorCode': '74',\n",
       "        'operator': 'SJ',\n",
       "        'admin': '074___',\n",
       "        'routeIdxFrom': 0,\n",
       "        'routeIdxTo': 4,\n",
       "        'matchId': '434;434;48403'}],\n",
       "      'Stops': {'Stop': [{'name': 'Göteborg Centralstation',\n",
       "         'id': 'A=1@O=Göteborg Centralstation@X=11973479@Y=57708895@U=1@L=740000002@',\n",
       "         'extId': '740000002',\n",
       "         'routeIdx': 0,\n",
       "         'lon': 11.973479,\n",
       "         'lat': 57.708895,\n",
       "         'depPrognosisType': 'PROGNOSED',\n",
       "         'depTime': '12:18:00',\n",
       "         'depDate': '2025-01-16',\n",
       "         'depDir': 'Stockholm Centralstation',\n",
       "         'minimumChangeDuration': 'PT15M'},\n",
       "        {'name': 'Herrljunga station',\n",
       "         'id': 'A=1@O=Herrljunga station@X=13021279@Y=58079188@U=1@L=740000040@',\n",
       "         'extId': '740000040',\n",
       "         'routeIdx': 1,\n",
       "         'lon': 13.021279,\n",
       "         'lat': 58.079188,\n",
       "         'depTime': '13:02:00',\n",
       "         'depDate': '2025-01-16',\n",
       "         'arrTime': '13:01:00',\n",
       "         'arrDate': '2025-01-16',\n",
       "         'minimumChangeDuration': 'PT8M'},\n",
       "        {'name': 'Skövde Centralstation',\n",
       "         'id': 'A=1@O=Skövde Centralstation@X=13853195@Y=58390898@U=1@L=740000008@',\n",
       "         'extId': '740000008',\n",
       "         'routeIdx': 2,\n",
       "         'lon': 13.853195,\n",
       "         'lat': 58.390898,\n",
       "         'depTime': '13:28:00',\n",
       "         'depDate': '2025-01-16',\n",
       "         'arrTime': '13:27:00',\n",
       "         'arrDate': '2025-01-16',\n",
       "         'minimumChangeDuration': 'PT10M'},\n",
       "        {'name': 'Katrineholm Centralstation',\n",
       "         'id': 'A=1@O=Katrineholm Centralstation@X=16208324@Y=58996591@U=1@L=740000166@',\n",
       "         'extId': '740000166',\n",
       "         'routeIdx': 3,\n",
       "         'lon': 16.208324,\n",
       "         'lat': 58.996591,\n",
       "         'depTime': '14:48:00',\n",
       "         'depDate': '2025-01-16',\n",
       "         'arrTime': '14:47:00',\n",
       "         'arrDate': '2025-01-16',\n",
       "         'minimumChangeDuration': 'PT10M'},\n",
       "        {'name': 'Stockholm Centralstation',\n",
       "         'id': 'A=1@O=Stockholm Centralstation@X=18058151@Y=59330136@U=1@L=740000001@',\n",
       "         'extId': '740000001',\n",
       "         'routeIdx': 4,\n",
       "         'lon': 18.058151,\n",
       "         'lat': 59.330136,\n",
       "         'arrPrognosisType': 'PROGNOSED',\n",
       "         'arrTime': '15:41:00',\n",
       "         'arrDate': '2025-01-16',\n",
       "         'minimumChangeDuration': 'PT20M'}]},\n",
       "      'JourneyDetail': {'ref': '1|42911|0|1|16012025',\n",
       "       'dayOfOperation': '2025-01-16'},\n",
       "      'id': '0',\n",
       "      'idx': 0,\n",
       "      'name': 'Snabbtåg 434',\n",
       "      'number': '434',\n",
       "      'category': 'JST',\n",
       "      'type': 'JNY',\n",
       "      'reachable': True,\n",
       "      'waitingState': 'UNDEF',\n",
       "      'direction': 'Stockholm Centralstation',\n",
       "      'directionFlag': '1',\n",
       "      'duration': 'PT3H23M'}]},\n",
       "   'calculation': 'INITIAL',\n",
       "   'TripStatus': {'hintCode': 0},\n",
       "   'idx': 0,\n",
       "   'tripId': 'C-0',\n",
       "   'ctxRecon': '¶HKI¶T$A=1@O=Göteborg Centralstation@L=740000002@a=128@$A=1@O=Stockholm Centralstation@L=740000001@a=128@$202501161218$202501161541$JST  434$$1$$$$$$¶KC¶#VE#2#CF#100#CA#0#CM#0#SICT#0#AM#81#AM2#0#RT#4#¶KRCC¶#VE#1#',\n",
       "   'duration': 'PT3H23M',\n",
       "   'rtDuration': 'PT3H23M',\n",
       "   'checksum': '1788a55e_3'},\n",
       "  {'Origin': {'name': 'Göteborg Nils Ericsonterminal',\n",
       "    'type': 'ST',\n",
       "    'id': 'A=1@O=Göteborg Nils Ericsonterminal@X=11971852@Y=57710271@U=1@L=740020483@',\n",
       "    'extId': '740020483',\n",
       "    'lon': 11.971852,\n",
       "    'lat': 57.710271,\n",
       "    'routeIdx': 0,\n",
       "    'prognosisType': 'PROGNOSED',\n",
       "    'time': '12:25:00',\n",
       "    'date': '2025-01-16',\n",
       "    'minimumChangeDuration': 'PT5M'},\n",
       "   'Destination': {'name': 'Stockholm Cityterminalen',\n",
       "    'type': 'ST',\n",
       "    'id': 'A=1@O=Stockholm Cityterminalen@X=18056371@Y=59330846@U=1@L=740000622@',\n",
       "    'extId': '740000622',\n",
       "    'lon': 18.056371,\n",
       "    'lat': 59.330846,\n",
       "    'routeIdx': 7,\n",
       "    'prognosisType': 'PROGNOSED',\n",
       "    'time': '19:15:00',\n",
       "    'date': '2025-01-16',\n",
       "    'minimumChangeDuration': 'PT20M'},\n",
       "   'ServiceDays': [{'planningPeriodBegin': '2025-01-02',\n",
       "     'planningPeriodEnd': '2025-06-15',\n",
       "     'sDaysR': 'inte varje dag',\n",
       "     'sDaysI': '16. jan t o m 10. apr 2025 tor',\n",
       "     'sDaysB': '040204081020408102040810200000000000000000'}],\n",
       "   'LegList': {'Leg': [{'Origin': {'name': 'Göteborg Nils Ericsonterminal',\n",
       "       'type': 'ST',\n",
       "       'id': 'A=1@O=Göteborg Nils Ericsonterminal@X=11971852@Y=57710271@U=1@L=740020483@',\n",
       "       'extId': '740020483',\n",
       "       'lon': 11.971852,\n",
       "       'lat': 57.710271,\n",
       "       'routeIdx': 0,\n",
       "       'prognosisType': 'PROGNOSED',\n",
       "       'time': '12:25:00',\n",
       "       'date': '2025-01-16',\n",
       "       'minimumChangeDuration': 'PT5M'},\n",
       "      'Destination': {'name': 'Stockholm Cityterminalen',\n",
       "       'type': 'ST',\n",
       "       'id': 'A=1@O=Stockholm Cityterminalen@X=18056371@Y=59330846@U=1@L=740000622@',\n",
       "       'extId': '740000622',\n",
       "       'lon': 18.056371,\n",
       "       'lat': 59.330846,\n",
       "       'routeIdx': 7,\n",
       "       'prognosisType': 'PROGNOSED',\n",
       "       'time': '19:15:00',\n",
       "       'date': '2025-01-16',\n",
       "       'minimumChangeDuration': 'PT20M'},\n",
       "      'Notes': {'Note': [{'value': 'Obligatorisk platsbokning',\n",
       "         'key': 'AF',\n",
       "         'type': 'A',\n",
       "         'routeIdxFrom': 0,\n",
       "         'routeIdxTo': 7,\n",
       "         'txtN': 'Obligatorisk platsbokning'},\n",
       "        {'value': 'Internetuppkoppling',\n",
       "         'key': 'AV',\n",
       "         'type': 'A',\n",
       "         'routeIdxFrom': 0,\n",
       "         'routeIdxTo': 7,\n",
       "         'txtN': 'Internetuppkoppling'},\n",
       "        {'value': 'EU förordning 181/2011',\n",
       "         'key': 'EB',\n",
       "         'type': 'A',\n",
       "         'routeIdxFrom': 0,\n",
       "         'routeIdxTo': 7,\n",
       "         'txtN': 'EU förordning 181/2011'}]},\n",
       "      'JourneyDetailRef': {'ref': '1|146767|0|1|16012025'},\n",
       "      'JourneyStatus': 'P',\n",
       "      'Product': [{'icon': {'res': 'prod_gen'},\n",
       "        'operatorInfo': {'name': 'Vy Bus4You',\n",
       "         'nameS': '327',\n",
       "         'nameN': '327',\n",
       "         'nameL': 'Vy Bus4You',\n",
       "         'id': '327'},\n",
       "        'name': 'Expressbuss 400',\n",
       "        'internalName': 'Expressbuss 400',\n",
       "        'displayNumber': '400',\n",
       "        'num': '400',\n",
       "        'line': '400',\n",
       "        'lineId': '1327040000001',\n",
       "        'catOut': 'BXB',\n",
       "        'catIn': 'BXB',\n",
       "        'catCode': '3',\n",
       "        'cls': '8',\n",
       "        'catOutS': 'BXB',\n",
       "        'catOutL': 'Expressbuss',\n",
       "        'operatorCode': '327',\n",
       "        'operator': 'Vy Bus4You',\n",
       "        'admin': '327___',\n",
       "        'routeIdxFrom': 0,\n",
       "        'routeIdxTo': 7,\n",
       "        'matchId': '400;400;414'}],\n",
       "      'Stops': {'Stop': [{'name': 'Göteborg Nils Ericsonterminal',\n",
       "         'id': 'A=1@O=Göteborg Nils Ericsonterminal@X=11971852@Y=57710271@U=1@L=740020483@',\n",
       "         'extId': '740020483',\n",
       "         'routeIdx': 0,\n",
       "         'lon': 11.971852,\n",
       "         'lat': 57.710271,\n",
       "         'depPrognosisType': 'PROGNOSED',\n",
       "         'depTime': '12:25:00',\n",
       "         'depDate': '2025-01-16',\n",
       "         'depDir': 'Arlanda terminal 4 buss (Sigtuna kn)',\n",
       "         'minimumChangeDuration': 'PT5M'},\n",
       "        {'name': 'Landvetter Airport (Härryda kn)',\n",
       "         'id': 'A=1@O=Landvetter Airport (Härryda kn)@X=12295940@Y=57667878@U=1@L=740000554@',\n",
       "         'extId': '740000554',\n",
       "         'routeIdx': 1,\n",
       "         'lon': 12.29594,\n",
       "         'lat': 57.667878,\n",
       "         'depTime': '12:55:00',\n",
       "         'depDate': '2025-01-16',\n",
       "         'arrTime': '12:55:00',\n",
       "         'arrDate': '2025-01-16',\n",
       "         'minimumChangeDuration': 'PT30M'},\n",
       "        {'name': 'Borås Centralstation',\n",
       "         'id': 'A=1@O=Borås Centralstation@X=12932008@Y=57720842@U=1@L=740000300@',\n",
       "         'extId': '740000300',\n",
       "         'routeIdx': 2,\n",
       "         'lon': 12.932008,\n",
       "         'lat': 57.720842,\n",
       "         'depTime': '13:30:00',\n",
       "         'depDate': '2025-01-16',\n",
       "         'arrTime': '13:30:00',\n",
       "         'arrDate': '2025-01-16',\n",
       "         'minimumChangeDuration': 'PT10M'},\n",
       "        {'name': 'Jönköping Centralstation',\n",
       "         'id': 'A=1@O=Jönköping Centralstation@X=14163323@Y=57784710@U=1@L=740000090@',\n",
       "         'extId': '740000090',\n",
       "         'routeIdx': 3,\n",
       "         'lon': 14.163323,\n",
       "         'lat': 57.78471,\n",
       "         'depTime': '14:45:00',\n",
       "         'depDate': '2025-01-16',\n",
       "         'arrTime': '14:45:00',\n",
       "         'arrDate': '2025-01-16',\n",
       "         'minimumChangeDuration': 'PT10M'},\n",
       "        {'name': 'Mjölby station',\n",
       "         'id': 'A=1@O=Mjölby station@X=15131992@Y=58322984@U=1@L=740000180@',\n",
       "         'extId': '740000180',\n",
       "         'routeIdx': 4,\n",
       "         'lon': 15.131992,\n",
       "         'lat': 58.322984,\n",
       "         'depTime': '15:55:00',\n",
       "         'depDate': '2025-01-16',\n",
       "         'arrTime': '15:55:00',\n",
       "         'arrDate': '2025-01-16',\n",
       "         'minimumChangeDuration': 'PT10M'},\n",
       "        {'name': 'Linköping Fjärrbussterminal',\n",
       "         'id': 'A=1@O=Linköping Fjärrbussterminal@X=15618587@Y=58419430@U=1@L=740010955@',\n",
       "         'extId': '740010955',\n",
       "         'routeIdx': 5,\n",
       "         'lon': 15.618587,\n",
       "         'lat': 58.41943,\n",
       "         'depTime': '16:35:00',\n",
       "         'depDate': '2025-01-16',\n",
       "         'arrTime': '16:30:00',\n",
       "         'arrDate': '2025-01-16',\n",
       "         'minimumChangeDuration': 'PT20M'},\n",
       "        {'name': 'Norrköping Centralstation',\n",
       "         'id': 'A=1@O=Norrköping Centralstation@X=16183343@Y=58596625@U=1@L=740000007@',\n",
       "         'extId': '740000007',\n",
       "         'routeIdx': 6,\n",
       "         'lon': 16.183343,\n",
       "         'lat': 58.596625,\n",
       "         'depTime': '17:15:00',\n",
       "         'depDate': '2025-01-16',\n",
       "         'arrTime': '17:15:00',\n",
       "         'arrDate': '2025-01-16',\n",
       "         'minimumChangeDuration': 'PT10M'},\n",
       "        {'name': 'Stockholm Cityterminalen',\n",
       "         'id': 'A=1@O=Stockholm Cityterminalen@X=18056371@Y=59330846@U=1@L=740000622@',\n",
       "         'extId': '740000622',\n",
       "         'routeIdx': 7,\n",
       "         'lon': 18.056371,\n",
       "         'lat': 59.330846,\n",
       "         'arrTime': '19:15:00',\n",
       "         'arrDate': '2025-01-16',\n",
       "         'minimumChangeDuration': 'PT20M'}]},\n",
       "      'JourneyDetail': {'ref': '1|146767|0|1|16012025',\n",
       "       'dayOfOperation': '2025-01-16'},\n",
       "      'id': '0',\n",
       "      'idx': 0,\n",
       "      'name': 'Expressbuss 400',\n",
       "      'number': '400',\n",
       "      'category': 'BXB',\n",
       "      'type': 'JNY',\n",
       "      'reachable': True,\n",
       "      'waitingState': 'UNDEF',\n",
       "      'direction': 'Arlanda terminal 4 buss (Sigtuna kn)',\n",
       "      'directionFlag': '2',\n",
       "      'duration': 'PT6H50M'}]},\n",
       "   'calculation': 'INITIAL',\n",
       "   'TripStatus': {'economic': True, 'convenient': True, 'hintCode': 0},\n",
       "   'idx': 1,\n",
       "   'tripId': 'C-1',\n",
       "   'ctxRecon': '¶HKI¶T$A=1@O=Göteborg Nils Ericsonterminal@L=740020483@a=128@$A=1@O=Stockholm Cityterminalen@L=740000622@a=128@$202501161225$202501161915$BXB  400$$1$$$$$$¶KC¶#VE#2#CF#100#CA#0#CM#0#SICT#0#AM#81#AM2#0#RT#4#¶KRCC¶#VE#1#',\n",
       "   'duration': 'PT6H50M',\n",
       "   'rtDuration': 'PT6H50M',\n",
       "   'checksum': '1f48f5b6_3'},\n",
       "  {'Origin': {'name': 'Göteborg Centralstation',\n",
       "    'type': 'ST',\n",
       "    'id': 'A=1@O=Göteborg Centralstation@X=11973479@Y=57708895@U=1@L=740000002@',\n",
       "    'extId': '740000002',\n",
       "    'lon': 11.973479,\n",
       "    'lat': 57.708895,\n",
       "    'routeIdx': 0,\n",
       "    'prognosisType': 'PROGNOSED',\n",
       "    'time': '12:59:00',\n",
       "    'date': '2025-01-16',\n",
       "    'minimumChangeDuration': 'PT15M'},\n",
       "   'Destination': {'name': 'Stockholm Centralstation',\n",
       "    'type': 'ST',\n",
       "    'id': 'A=1@O=Stockholm Centralstation@X=18058151@Y=59330136@U=1@L=740000001@',\n",
       "    'extId': '740000001',\n",
       "    'lon': 18.058151,\n",
       "    'lat': 59.330136,\n",
       "    'routeIdx': 5,\n",
       "    'prognosisType': 'PROGNOSED',\n",
       "    'time': '16:29:00',\n",
       "    'date': '2025-01-16',\n",
       "    'minimumChangeDuration': 'PT20M'},\n",
       "   'ServiceDays': [{'planningPeriodBegin': '2025-01-02',\n",
       "     'planningPeriodEnd': '2025-06-15',\n",
       "     'sDaysR': 'inte varje dag',\n",
       "     'sDaysI': '16. jan t o m 28. maj 2025 mån - fre; 18. jan t o m 15. mar 2025 mån - lör; utom 18., 21. apr, 1., 2. maj; och 26. apr',\n",
       "     'sDaysB': '001FBF7EFDFBF7EFDFBE7CF9F3C3EE1F3E7CE00000'}],\n",
       "   'LegList': {'Leg': [{'Origin': {'name': 'Göteborg Centralstation',\n",
       "       'type': 'ST',\n",
       "       'id': 'A=1@O=Göteborg Centralstation@X=11973479@Y=57708895@U=1@L=740000002@',\n",
       "       'extId': '740000002',\n",
       "       'lon': 11.973479,\n",
       "       'lat': 57.708895,\n",
       "       'routeIdx': 0,\n",
       "       'prognosisType': 'PROGNOSED',\n",
       "       'time': '12:59:00',\n",
       "       'date': '2025-01-16',\n",
       "       'minimumChangeDuration': 'PT15M'},\n",
       "      'Destination': {'name': 'Stockholm Centralstation',\n",
       "       'type': 'ST',\n",
       "       'id': 'A=1@O=Stockholm Centralstation@X=18058151@Y=59330136@U=1@L=740000001@',\n",
       "       'extId': '740000001',\n",
       "       'lon': 18.058151,\n",
       "       'lat': 59.330136,\n",
       "       'routeIdx': 5,\n",
       "       'prognosisType': 'PROGNOSED',\n",
       "       'time': '16:29:00',\n",
       "       'date': '2025-01-16',\n",
       "       'minimumChangeDuration': 'PT20M'},\n",
       "      'Notes': {'Note': [{'value': 'Mat 1 klass',\n",
       "         'key': 'A1',\n",
       "         'type': 'A',\n",
       "         'routeIdxFrom': 0,\n",
       "         'routeIdxTo': 5,\n",
       "         'txtN': 'Mat 1 klass'},\n",
       "        {'value': 'Obligatorisk platsbokning',\n",
       "         'key': 'AF',\n",
       "         'type': 'A',\n",
       "         'routeIdxFrom': 0,\n",
       "         'routeIdxTo': 5,\n",
       "         'txtN': 'Obligatorisk platsbokning'},\n",
       "        {'value': 'Rullstolslyft',\n",
       "         'key': 'AN',\n",
       "         'type': 'A',\n",
       "         'routeIdxFrom': 0,\n",
       "         'routeIdxTo': 5,\n",
       "         'txtN': 'Rullstolslyft'},\n",
       "        {'value': 'WiFi',\n",
       "         'key': 'AW',\n",
       "         'type': 'A',\n",
       "         'routeIdxFrom': 0,\n",
       "         'routeIdxTo': 5,\n",
       "         'txtN': 'WiFi'},\n",
       "        {'value': 'EU förordning 2021/782',\n",
       "         'key': 'EJ',\n",
       "         'type': 'A',\n",
       "         'routeIdxFrom': 0,\n",
       "         'routeIdxTo': 5,\n",
       "         'txtN': 'EU förordning 2021/782'},\n",
       "        {'value': 'Eluttag vid sittplats',\n",
       "         'key': 'EL',\n",
       "         'type': 'A',\n",
       "         'routeIdxFrom': 0,\n",
       "         'routeIdxTo': 5,\n",
       "         'txtN': 'Eluttag vid sittplats'},\n",
       "        {'value': 'Kafé',\n",
       "         'key': 'SK',\n",
       "         'type': 'A',\n",
       "         'routeIdxFrom': 0,\n",
       "         'routeIdxTo': 5,\n",
       "         'txtN': 'Kafé'}]},\n",
       "      'JourneyDetailRef': {'ref': '1|75670|0|1|16012025'},\n",
       "      'JourneyStatus': 'P',\n",
       "      'Product': [{'icon': {'res': 'prod_gen'},\n",
       "        'operatorInfo': {'name': 'VR Snabbtåg',\n",
       "         'nameS': '812',\n",
       "         'nameN': '812',\n",
       "         'nameL': 'VR Snabbtåg',\n",
       "         'id': '812'},\n",
       "        'name': 'Express 2036',\n",
       "        'internalName': 'Express 2036',\n",
       "        'displayNumber': '2036',\n",
       "        'num': '2036',\n",
       "        'line': '2036',\n",
       "        'lineId': '1812003700006',\n",
       "        'catOut': 'JEX',\n",
       "        'catIn': 'JEX',\n",
       "        'catCode': '1',\n",
       "        'cls': '2',\n",
       "        'catOutS': 'JEX',\n",
       "        'catOutL': 'Express',\n",
       "        'operatorCode': '812',\n",
       "        'operator': 'VR Snabbtåg',\n",
       "        'admin': '812___',\n",
       "        'routeIdxFrom': 0,\n",
       "        'routeIdxTo': 5,\n",
       "        'matchId': '2034;37;4412'}],\n",
       "      'Stops': {'Stop': [{'name': 'Göteborg Centralstation',\n",
       "         'id': 'A=1@O=Göteborg Centralstation@X=11973479@Y=57708895@U=1@L=740000002@',\n",
       "         'extId': '740000002',\n",
       "         'routeIdx': 0,\n",
       "         'lon': 11.973479,\n",
       "         'lat': 57.708895,\n",
       "         'depPrognosisType': 'PROGNOSED',\n",
       "         'depTime': '12:59:00',\n",
       "         'depDate': '2025-01-16',\n",
       "         'depDir': 'Stockholm Centralstation',\n",
       "         'minimumChangeDuration': 'PT15M'},\n",
       "        {'Notes': {'Note': [{'value': 'Stannar endast för påstigande',\n",
       "            'key': 'text.realtime.stop.exit.disabled',\n",
       "            'type': 'R',\n",
       "            'txtN': 'Stannar endast för påstigande'}]},\n",
       "         'name': 'Alingsås station',\n",
       "         'id': 'A=1@O=Alingsås station@X=12532491@Y=57926857@U=1@L=740000018@',\n",
       "         'extId': '740000018',\n",
       "         'routeIdx': 1,\n",
       "         'lon': 12.532491,\n",
       "         'lat': 57.926857,\n",
       "         'depTime': '13:27:00',\n",
       "         'depDate': '2025-01-16',\n",
       "         'alighting': False,\n",
       "         'minimumChangeDuration': 'PT7M'},\n",
       "        {'name': 'Falköping Centralstation',\n",
       "         'id': 'A=1@O=Falköping Centralstation@X=13553791@Y=58176101@U=1@L=740000060@',\n",
       "         'extId': '740000060',\n",
       "         'routeIdx': 2,\n",
       "         'lon': 13.553791,\n",
       "         'lat': 58.176101,\n",
       "         'depTime': '13:56:00',\n",
       "         'depDate': '2025-01-16',\n",
       "         'arrTime': '13:56:00',\n",
       "         'arrDate': '2025-01-16',\n",
       "         'minimumChangeDuration': 'PT8M'},\n",
       "        {'name': 'Skövde Centralstation',\n",
       "         'id': 'A=1@O=Skövde Centralstation@X=13853195@Y=58390898@U=1@L=740000008@',\n",
       "         'extId': '740000008',\n",
       "         'routeIdx': 3,\n",
       "         'lon': 13.853195,\n",
       "         'lat': 58.390898,\n",
       "         'depTime': '14:10:00',\n",
       "         'depDate': '2025-01-16',\n",
       "         'arrTime': '14:10:00',\n",
       "         'arrDate': '2025-01-16',\n",
       "         'minimumChangeDuration': 'PT10M'},\n",
       "        {'Notes': {'Note': [{'value': 'Stannar endast för avstigande',\n",
       "            'key': 'text.realtime.stop.entry.disabled',\n",
       "            'type': 'R',\n",
       "            'txtN': 'Stannar endast för avstigande'}]},\n",
       "         'name': 'Flemingsberg station (Huddinge kn)',\n",
       "         'id': 'A=1@O=Flemingsberg station (Huddinge kn)@X=17945678@Y=59217959@U=1@L=740000031@',\n",
       "         'extId': '740000031',\n",
       "         'routeIdx': 4,\n",
       "         'lon': 17.945678,\n",
       "         'lat': 59.217959,\n",
       "         'arrTime': '16:16:00',\n",
       "         'arrDate': '2025-01-16',\n",
       "         'boarding': False,\n",
       "         'minimumChangeDuration': 'PT10M'},\n",
       "        {'name': 'Stockholm Centralstation',\n",
       "         'id': 'A=1@O=Stockholm Centralstation@X=18058151@Y=59330136@U=1@L=740000001@',\n",
       "         'extId': '740000001',\n",
       "         'routeIdx': 5,\n",
       "         'lon': 18.058151,\n",
       "         'lat': 59.330136,\n",
       "         'arrPrognosisType': 'PROGNOSED',\n",
       "         'arrTime': '16:29:00',\n",
       "         'arrDate': '2025-01-16',\n",
       "         'minimumChangeDuration': 'PT20M'}]},\n",
       "      'JourneyDetail': {'ref': '1|75670|0|1|16012025',\n",
       "       'dayOfOperation': '2025-01-16'},\n",
       "      'id': '0',\n",
       "      'idx': 0,\n",
       "      'name': 'Express 2036',\n",
       "      'number': '2036',\n",
       "      'category': 'JEX',\n",
       "      'type': 'JNY',\n",
       "      'reachable': True,\n",
       "      'waitingState': 'UNDEF',\n",
       "      'direction': 'Stockholm Centralstation',\n",
       "      'directionFlag': '2',\n",
       "      'duration': 'PT3H30M'}]},\n",
       "   'calculation': 'INITIAL',\n",
       "   'TripStatus': {'hintCode': 0},\n",
       "   'idx': 2,\n",
       "   'tripId': 'C-2',\n",
       "   'ctxRecon': '¶HKI¶T$A=1@O=Göteborg Centralstation@L=740000002@a=128@$A=1@O=Stockholm Centralstation@L=740000001@a=128@$202501161259$202501161629$JEX 2036$$1$$$$$$¶KC¶#VE#2#CF#100#CA#0#CM#0#SICT#0#AM#81#AM2#0#RT#4#¶KRCC¶#VE#1#',\n",
       "   'duration': 'PT3H30M',\n",
       "   'rtDuration': 'PT3H30M',\n",
       "   'checksum': '3ff18879_3'},\n",
       "  {'Origin': {'name': 'Göteborg Centralstation',\n",
       "    'type': 'ST',\n",
       "    'id': 'A=1@O=Göteborg Centralstation@X=11973479@Y=57708895@U=1@L=740000002@',\n",
       "    'extId': '740000002',\n",
       "    'lon': 11.973479,\n",
       "    'lat': 57.708895,\n",
       "    'routeIdx': 0,\n",
       "    'prognosisType': 'PROGNOSED',\n",
       "    'time': '13:02:00',\n",
       "    'date': '2025-01-16',\n",
       "    'minimumChangeDuration': 'PT15M'},\n",
       "   'Destination': {'name': 'Stockholm Centralstation',\n",
       "    'type': 'ST',\n",
       "    'id': 'A=1@O=Stockholm Centralstation@X=18058151@Y=59330136@U=1@L=740000001@',\n",
       "    'extId': '740000001',\n",
       "    'lon': 18.058151,\n",
       "    'lat': 59.330136,\n",
       "    'routeIdx': 18,\n",
       "    'prognosisType': 'PROGNOSED',\n",
       "    'time': '17:44:00',\n",
       "    'date': '2025-01-16',\n",
       "    'minimumChangeDuration': 'PT20M'},\n",
       "   'ServiceDays': [{'planningPeriodBegin': '2025-01-02',\n",
       "     'planningPeriodEnd': '2025-06-15',\n",
       "     'sDaysR': 'inte varje dag',\n",
       "     'sDaysI': '16. jan t o m 9. jun 2025; 22. mar t o m 27. apr 2025 mån - fre; 10. maj t o m 1. jun 2025 mån - fre; utom 17. t o m 21. apr 2025, 29., 30. maj',\n",
       "     'sDaysB': '003FFFFFFFFFFFFFFFFE7CF9F383CFFF3E7CE1FE00'}],\n",
       "   'LegList': {'Leg': [{'Origin': {'name': 'Göteborg Centralstation',\n",
       "       'type': 'ST',\n",
       "       'id': 'A=1@O=Göteborg Centralstation@X=11973479@Y=57708895@U=1@L=740000002@',\n",
       "       'extId': '740000002',\n",
       "       'lon': 11.973479,\n",
       "       'lat': 57.708895,\n",
       "       'routeIdx': 0,\n",
       "       'prognosisType': 'PROGNOSED',\n",
       "       'time': '13:02:00',\n",
       "       'date': '2025-01-16',\n",
       "       'minimumChangeDuration': 'PT15M'},\n",
       "      'Destination': {'name': 'Stockholm Centralstation',\n",
       "       'type': 'ST',\n",
       "       'id': 'A=1@O=Stockholm Centralstation@X=18058151@Y=59330136@U=1@L=740000001@',\n",
       "       'extId': '740000001',\n",
       "       'lon': 18.058151,\n",
       "       'lat': 59.330136,\n",
       "       'routeIdx': 18,\n",
       "       'prognosisType': 'PROGNOSED',\n",
       "       'time': '17:44:00',\n",
       "       'date': '2025-01-16',\n",
       "       'minimumChangeDuration': 'PT20M'},\n",
       "      'Notes': {'Note': [{'value': '2 kl har ej reservering',\n",
       "         'key': 'AB',\n",
       "         'type': 'A',\n",
       "         'routeIdxFrom': 0,\n",
       "         'routeIdxTo': 5,\n",
       "         'txtN': '2 kl har ej reservering'},\n",
       "        {'value': '2 kl har ej reservering',\n",
       "         'key': 'AB',\n",
       "         'type': 'A',\n",
       "         'routeIdxFrom': 8,\n",
       "         'routeIdxTo': 11,\n",
       "         'txtN': '2 kl har ej reservering'},\n",
       "        {'value': '2 kl har ej reservering',\n",
       "         'key': 'AB',\n",
       "         'type': 'A',\n",
       "         'routeIdxFrom': 13,\n",
       "         'routeIdxTo': 18,\n",
       "         'txtN': '2 kl har ej reservering'},\n",
       "        {'value': 'Obligatorisk platsbokning',\n",
       "         'key': 'AF',\n",
       "         'type': 'A',\n",
       "         'routeIdxFrom': 0,\n",
       "         'routeIdxTo': 18,\n",
       "         'txtN': 'Obligatorisk platsbokning'},\n",
       "        {'value': 'Rullstolslyft',\n",
       "         'key': 'AN',\n",
       "         'type': 'A',\n",
       "         'routeIdxFrom': 0,\n",
       "         'routeIdxTo': 18,\n",
       "         'txtN': 'Rullstolslyft'},\n",
       "        {'value': 'WiFi',\n",
       "         'key': 'AW',\n",
       "         'type': 'A',\n",
       "         'routeIdxFrom': 0,\n",
       "         'routeIdxTo': 18,\n",
       "         'txtN': 'WiFi'},\n",
       "        {'value': 'EU förordning 2021/782',\n",
       "         'key': 'EJ',\n",
       "         'type': 'A',\n",
       "         'routeIdxFrom': 0,\n",
       "         'routeIdxTo': 18,\n",
       "         'txtN': 'EU förordning 2021/782'},\n",
       "        {'value': 'Servering finns ej',\n",
       "         'key': 'SI',\n",
       "         'type': 'A',\n",
       "         'routeIdxFrom': 0,\n",
       "         'routeIdxTo': 18,\n",
       "         'txtN': 'Servering finns ej'}]},\n",
       "      'JourneyDetailRef': {'ref': '1|156880|0|1|16012025'},\n",
       "      'JourneyStatus': 'P',\n",
       "      'Product': [{'icon': {'res': 'prod_gen'},\n",
       "        'operatorInfo': {'name': 'SJ',\n",
       "         'nameS': '74',\n",
       "         'nameN': '74',\n",
       "         'nameL': 'SJ',\n",
       "         'id': '74'},\n",
       "        'name': 'Regional Tåg 178',\n",
       "        'internalName': 'Regional Tåg 178',\n",
       "        'displayNumber': '178',\n",
       "        'num': '178',\n",
       "        'line': '178',\n",
       "        'lineId': '1074017800001',\n",
       "        'catOut': 'JRE',\n",
       "        'catIn': 'JRE',\n",
       "        'catCode': '2',\n",
       "        'cls': '4',\n",
       "        'catOutS': 'JRE',\n",
       "        'catOutL': 'Regional Tåg',\n",
       "        'operatorCode': '74',\n",
       "        'operator': 'SJ',\n",
       "        'admin': '074___',\n",
       "        'routeIdxFrom': 0,\n",
       "        'routeIdxTo': 18,\n",
       "        'matchId': '178;178;2627'}],\n",
       "      'Stops': {'Stop': [{'name': 'Göteborg Centralstation',\n",
       "         'id': 'A=1@O=Göteborg Centralstation@X=11973479@Y=57708895@U=1@L=740000002@',\n",
       "         'extId': '740000002',\n",
       "         'routeIdx': 0,\n",
       "         'lon': 11.973479,\n",
       "         'lat': 57.708895,\n",
       "         'depPrognosisType': 'PROGNOSED',\n",
       "         'depTime': '13:02:00',\n",
       "         'depDate': '2025-01-16',\n",
       "         'depDir': 'Stockholm Centralstation',\n",
       "         'minimumChangeDuration': 'PT15M'},\n",
       "        {'name': 'Alingsås station',\n",
       "         'id': 'A=1@O=Alingsås station@X=12532491@Y=57926857@U=1@L=740000018@',\n",
       "         'extId': '740000018',\n",
       "         'routeIdx': 1,\n",
       "         'lon': 12.532491,\n",
       "         'lat': 57.926857,\n",
       "         'depTime': '13:31:00',\n",
       "         'depDate': '2025-01-16',\n",
       "         'arrTime': '13:31:00',\n",
       "         'arrDate': '2025-01-16',\n",
       "         'minimumChangeDuration': 'PT7M'},\n",
       "        {'name': 'Vårgårda station',\n",
       "         'id': 'A=1@O=Vårgårda station@X=12810285@Y=58031204@U=1@L=740000569@',\n",
       "         'extId': '740000569',\n",
       "         'routeIdx': 2,\n",
       "         'lon': 12.810285,\n",
       "         'lat': 58.031204,\n",
       "         'depTime': '13:43:00',\n",
       "         'depDate': '2025-01-16',\n",
       "         'arrTime': '13:43:00',\n",
       "         'arrDate': '2025-01-16',\n",
       "         'minimumChangeDuration': 'PT10M'},\n",
       "        {'name': 'Herrljunga station',\n",
       "         'id': 'A=1@O=Herrljunga station@X=13021279@Y=58079188@U=1@L=740000040@',\n",
       "         'extId': '740000040',\n",
       "         'routeIdx': 3,\n",
       "         'lon': 13.021279,\n",
       "         'lat': 58.079188,\n",
       "         'depTime': '13:51:00',\n",
       "         'depDate': '2025-01-16',\n",
       "         'arrTime': '13:50:00',\n",
       "         'arrDate': '2025-01-16',\n",
       "         'minimumChangeDuration': 'PT8M'},\n",
       "        {'name': 'Falköping Centralstation',\n",
       "         'id': 'A=1@O=Falköping Centralstation@X=13553791@Y=58176101@U=1@L=740000060@',\n",
       "         'extId': '740000060',\n",
       "         'routeIdx': 4,\n",
       "         'lon': 13.553791,\n",
       "         'lat': 58.176101,\n",
       "         'depTime': '14:07:00',\n",
       "         'depDate': '2025-01-16',\n",
       "         'arrTime': '14:06:00',\n",
       "         'arrDate': '2025-01-16',\n",
       "         'minimumChangeDuration': 'PT8M'},\n",
       "        {'name': 'Skövde Centralstation',\n",
       "         'id': 'A=1@O=Skövde Centralstation@X=13853195@Y=58390898@U=1@L=740000008@',\n",
       "         'extId': '740000008',\n",
       "         'routeIdx': 5,\n",
       "         'lon': 13.853195,\n",
       "         'lat': 58.390898,\n",
       "         'depTime': '14:22:00',\n",
       "         'depDate': '2025-01-16',\n",
       "         'arrTime': '14:21:00',\n",
       "         'arrDate': '2025-01-16',\n",
       "         'minimumChangeDuration': 'PT10M'},\n",
       "        {'name': 'Töreboda station',\n",
       "         'id': 'A=1@O=Töreboda station@X=14128391@Y=58706024@U=1@L=740000183@',\n",
       "         'extId': '740000183',\n",
       "         'routeIdx': 6,\n",
       "         'lon': 14.128391,\n",
       "         'lat': 58.706024,\n",
       "         'depTime': '14:44:00',\n",
       "         'depDate': '2025-01-16',\n",
       "         'arrTime': '14:38:00',\n",
       "         'arrDate': '2025-01-16',\n",
       "         'minimumChangeDuration': 'PT8M'},\n",
       "        {'name': 'Laxå station',\n",
       "         'id': 'A=1@O=Laxå station@X=14616658@Y=58989391@U=1@L=740000194@',\n",
       "         'extId': '740000194',\n",
       "         'routeIdx': 7,\n",
       "         'lon': 14.616658,\n",
       "         'lat': 58.989391,\n",
       "         'depTime': '15:08:00',\n",
       "         'depDate': '2025-01-16',\n",
       "         'arrTime': '15:08:00',\n",
       "         'arrDate': '2025-01-16',\n",
       "         'minimumChangeDuration': 'PT10M'},\n",
       "        {'name': 'Hallsberg station',\n",
       "         'id': 'A=1@O=Hallsberg station@X=15110391@Y=59066698@U=1@L=740000077@',\n",
       "         'extId': '740000077',\n",
       "         'routeIdx': 8,\n",
       "         'lon': 15.110391,\n",
       "         'lat': 59.066698,\n",
       "         'depTime': '15:28:00',\n",
       "         'depDate': '2025-01-16',\n",
       "         'arrTime': '15:25:00',\n",
       "         'arrDate': '2025-01-16',\n",
       "         'minimumChangeDuration': 'PT10M'},\n",
       "        {'name': 'Kumla station',\n",
       "         'id': 'A=1@O=Kumla station@X=15140280@Y=59126377@U=1@L=740000192@',\n",
       "         'extId': '740000192',\n",
       "         'routeIdx': 9,\n",
       "         'lon': 15.14028,\n",
       "         'lat': 59.126377,\n",
       "         'depTime': '15:35:00',\n",
       "         'depDate': '2025-01-16',\n",
       "         'arrTime': '15:35:00',\n",
       "         'arrDate': '2025-01-16',\n",
       "         'minimumChangeDuration': 'PT10M'},\n",
       "        {'name': 'Örebro Södra station',\n",
       "         'id': 'A=1@O=Örebro Södra station@X=15202332@Y=59269989@U=1@L=740000361@',\n",
       "         'extId': '740000361',\n",
       "         'routeIdx': 10,\n",
       "         'lon': 15.202332,\n",
       "         'lat': 59.269989,\n",
       "         'depTime': '15:46:00',\n",
       "         'depDate': '2025-01-16',\n",
       "         'arrTime': '15:46:00',\n",
       "         'arrDate': '2025-01-16',\n",
       "         'minimumChangeDuration': 'PT1H30M'},\n",
       "        {'name': 'Örebro Centralstation',\n",
       "         'id': 'A=1@O=Örebro Centralstation@X=15211348@Y=59278942@U=1@L=740000133@',\n",
       "         'extId': '740000133',\n",
       "         'routeIdx': 11,\n",
       "         'lon': 15.211348,\n",
       "         'lat': 59.278942,\n",
       "         'depTime': '15:56:00',\n",
       "         'depDate': '2025-01-16',\n",
       "         'arrTime': '15:50:00',\n",
       "         'arrDate': '2025-01-16',\n",
       "         'minimumChangeDuration': 'PT10M'},\n",
       "        {'name': 'Arboga station',\n",
       "         'id': 'A=1@O=Arboga station@X=15841061@Y=59397105@U=1@L=740000262@',\n",
       "         'extId': '740000262',\n",
       "         'routeIdx': 12,\n",
       "         'lon': 15.841061,\n",
       "         'lat': 59.397105,\n",
       "         'depTime': '16:18:00',\n",
       "         'depDate': '2025-01-16',\n",
       "         'arrTime': '16:18:00',\n",
       "         'arrDate': '2025-01-16',\n",
       "         'minimumChangeDuration': 'PT5M'},\n",
       "        {'name': 'Köping station',\n",
       "         'id': 'A=1@O=Köping station@X=16004215@Y=59506675@U=1@L=740000167@',\n",
       "         'extId': '740000167',\n",
       "         'routeIdx': 13,\n",
       "         'lon': 16.004215,\n",
       "         'lat': 59.506675,\n",
       "         'depTime': '16:29:00',\n",
       "         'depDate': '2025-01-16',\n",
       "         'arrTime': '16:29:00',\n",
       "         'arrDate': '2025-01-16',\n",
       "         'minimumChangeDuration': 'PT5M'},\n",
       "        {'name': 'Västerås Centralstation',\n",
       "         'id': 'A=1@O=Västerås Centralstation@X=16551712@Y=59607705@U=1@L=740000099@',\n",
       "         'extId': '740000099',\n",
       "         'routeIdx': 14,\n",
       "         'lon': 16.551712,\n",
       "         'lat': 59.607705,\n",
       "         'depTime': '16:48:00',\n",
       "         'depDate': '2025-01-16',\n",
       "         'arrTime': '16:46:00',\n",
       "         'arrDate': '2025-01-16',\n",
       "         'minimumChangeDuration': 'PT8M'},\n",
       "        {'name': 'Enköping station',\n",
       "         'id': 'A=1@O=Enköping station@X=17086741@Y=59644327@U=1@L=740000072@',\n",
       "         'extId': '740000072',\n",
       "         'routeIdx': 15,\n",
       "         'lon': 17.086741,\n",
       "         'lat': 59.644327,\n",
       "         'depTime': '17:03:00',\n",
       "         'depDate': '2025-01-16',\n",
       "         'arrTime': '17:03:00',\n",
       "         'arrDate': '2025-01-16',\n",
       "         'minimumChangeDuration': 'PT8M'},\n",
       "        {'name': 'Bålsta station (Håbo kn)',\n",
       "         'id': 'A=1@O=Bålsta station (Håbo kn)@X=17532813@Y=59568754@U=1@L=740000660@',\n",
       "         'extId': '740000660',\n",
       "         'routeIdx': 16,\n",
       "         'lon': 17.532813,\n",
       "         'lat': 59.568754,\n",
       "         'depTime': '17:15:00',\n",
       "         'depDate': '2025-01-16',\n",
       "         'arrTime': '17:15:00',\n",
       "         'arrDate': '2025-01-16',\n",
       "         'minimumChangeDuration': 'PT10M'},\n",
       "        {'Notes': {'Note': [{'value': 'Stannar endast för avstigande',\n",
       "            'key': 'text.realtime.stop.entry.disabled',\n",
       "            'type': 'R',\n",
       "            'txtN': 'Stannar endast för avstigande'}]},\n",
       "         'name': 'Sundbyberg station',\n",
       "         'id': 'A=1@O=Sundbyberg station@X=17970938@Y=59361032@U=1@L=740000773@',\n",
       "         'extId': '740000773',\n",
       "         'routeIdx': 17,\n",
       "         'lon': 17.970938,\n",
       "         'lat': 59.361032,\n",
       "         'arrTime': '17:37:00',\n",
       "         'arrDate': '2025-01-16',\n",
       "         'boarding': False,\n",
       "         'minimumChangeDuration': 'PT10M'},\n",
       "        {'name': 'Stockholm Centralstation',\n",
       "         'id': 'A=1@O=Stockholm Centralstation@X=18058151@Y=59330136@U=1@L=740000001@',\n",
       "         'extId': '740000001',\n",
       "         'routeIdx': 18,\n",
       "         'lon': 18.058151,\n",
       "         'lat': 59.330136,\n",
       "         'arrPrognosisType': 'PROGNOSED',\n",
       "         'arrTime': '17:44:00',\n",
       "         'arrDate': '2025-01-16',\n",
       "         'minimumChangeDuration': 'PT20M'}]},\n",
       "      'JourneyDetail': {'ref': '1|156880|0|1|16012025',\n",
       "       'dayOfOperation': '2025-01-16'},\n",
       "      'id': '0',\n",
       "      'idx': 0,\n",
       "      'name': 'Regional Tåg 178',\n",
       "      'number': '178',\n",
       "      'category': 'JRE',\n",
       "      'type': 'JNY',\n",
       "      'reachable': True,\n",
       "      'waitingState': 'UNDEF',\n",
       "      'direction': 'Stockholm Centralstation',\n",
       "      'directionFlag': '1',\n",
       "      'duration': 'PT4H42M'}]},\n",
       "   'calculation': 'INITIAL',\n",
       "   'TripStatus': {'economic': True, 'convenient': True, 'hintCode': 0},\n",
       "   'idx': 3,\n",
       "   'tripId': 'C-3',\n",
       "   'ctxRecon': '¶HKI¶T$A=1@O=Göteborg Centralstation@L=740000002@a=128@$A=1@O=Stockholm Centralstation@L=740000001@a=128@$202501161302$202501161744$JRE  178$$1$$$$$$¶KC¶#VE#2#CF#100#CA#0#CM#0#SICT#0#AM#81#AM2#0#RT#4#¶KRCC¶#VE#1#',\n",
       "   'duration': 'PT4H42M',\n",
       "   'rtDuration': 'PT4H42M',\n",
       "   'checksum': '2451bea4_3'},\n",
       "  {'Origin': {'name': 'Göteborg Centralstation',\n",
       "    'type': 'ST',\n",
       "    'id': 'A=1@O=Göteborg Centralstation@X=11973479@Y=57708895@U=1@L=740000002@',\n",
       "    'extId': '740000002',\n",
       "    'lon': 11.973479,\n",
       "    'lat': 57.708895,\n",
       "    'routeIdx': 0,\n",
       "    'prognosisType': 'PROGNOSED',\n",
       "    'time': '13:18:00',\n",
       "    'date': '2025-01-16',\n",
       "    'minimumChangeDuration': 'PT15M'},\n",
       "   'Destination': {'name': 'Stockholm Centralstation',\n",
       "    'type': 'ST',\n",
       "    'id': 'A=1@O=Stockholm Centralstation@X=18058151@Y=59330136@U=1@L=740000001@',\n",
       "    'extId': '740000001',\n",
       "    'lon': 18.058151,\n",
       "    'lat': 59.330136,\n",
       "    'routeIdx': 4,\n",
       "    'prognosisType': 'PROGNOSED',\n",
       "    'time': '16:44:00',\n",
       "    'date': '2025-01-16',\n",
       "    'minimumChangeDuration': 'PT20M'},\n",
       "   'ServiceDays': [{'planningPeriodBegin': '2025-01-02',\n",
       "     'planningPeriodEnd': '2025-06-15',\n",
       "     'sDaysR': 'inte varje dag',\n",
       "     'sDaysI': '16. jan t o m 9. jun 2025 mån - fre; 19. jan t o m 16. mar 2025 mån - fre, sön; utom 18., 21. apr, 1., 2., 29., 30. maj, 6. jun; och 27. apr',\n",
       "     'sDaysB': '003F7EFDFBF7EFDFBF7E7CF9F3C3DE1F3E7CE1E200'}],\n",
       "   'LegList': {'Leg': [{'Origin': {'name': 'Göteborg Centralstation',\n",
       "       'type': 'ST',\n",
       "       'id': 'A=1@O=Göteborg Centralstation@X=11973479@Y=57708895@U=1@L=740000002@',\n",
       "       'extId': '740000002',\n",
       "       'lon': 11.973479,\n",
       "       'lat': 57.708895,\n",
       "       'routeIdx': 0,\n",
       "       'prognosisType': 'PROGNOSED',\n",
       "       'time': '13:18:00',\n",
       "       'date': '2025-01-16',\n",
       "       'minimumChangeDuration': 'PT15M'},\n",
       "      'Destination': {'name': 'Stockholm Centralstation',\n",
       "       'type': 'ST',\n",
       "       'id': 'A=1@O=Stockholm Centralstation@X=18058151@Y=59330136@U=1@L=740000001@',\n",
       "       'extId': '740000001',\n",
       "       'lon': 18.058151,\n",
       "       'lat': 59.330136,\n",
       "       'routeIdx': 4,\n",
       "       'prognosisType': 'PROGNOSED',\n",
       "       'time': '16:44:00',\n",
       "       'date': '2025-01-16',\n",
       "       'minimumChangeDuration': 'PT20M'},\n",
       "      'Notes': {'Note': [{'value': 'X2000',\n",
       "         'key': 'VX',\n",
       "         'type': 'A',\n",
       "         'routeIdxFrom': 0,\n",
       "         'routeIdxTo': 4,\n",
       "         'txtN': 'X2000'},\n",
       "        {'value': 'Mat 1 klass',\n",
       "         'key': 'A1',\n",
       "         'type': 'A',\n",
       "         'routeIdxFrom': 0,\n",
       "         'routeIdxTo': 4,\n",
       "         'txtN': 'Mat 1 klass'},\n",
       "        {'value': 'Bistrovagn',\n",
       "         'key': 'AD',\n",
       "         'type': 'A',\n",
       "         'routeIdxFrom': 0,\n",
       "         'routeIdxTo': 4,\n",
       "         'txtN': 'Bistrovagn'},\n",
       "        {'value': 'Obligatorisk platsbokning',\n",
       "         'key': 'AF',\n",
       "         'type': 'A',\n",
       "         'routeIdxFrom': 0,\n",
       "         'routeIdxTo': 4,\n",
       "         'txtN': 'Obligatorisk platsbokning'},\n",
       "        {'value': 'Rullstolslyft',\n",
       "         'key': 'AN',\n",
       "         'type': 'A',\n",
       "         'routeIdxFrom': 0,\n",
       "         'routeIdxTo': 4,\n",
       "         'txtN': 'Rullstolslyft'},\n",
       "        {'value': 'WiFi',\n",
       "         'key': 'AW',\n",
       "         'type': 'A',\n",
       "         'routeIdxFrom': 0,\n",
       "         'routeIdxTo': 4,\n",
       "         'txtN': 'WiFi'},\n",
       "        {'value': '2 klass lugn',\n",
       "         'key': 'BL',\n",
       "         'type': 'A',\n",
       "         'routeIdxFrom': 0,\n",
       "         'routeIdxTo': 4,\n",
       "         'txtN': '2 klass lugn'},\n",
       "        {'value': 'EU förordning 2021/782',\n",
       "         'key': 'EJ',\n",
       "         'type': 'A',\n",
       "         'routeIdxFrom': 0,\n",
       "         'routeIdxTo': 4,\n",
       "         'txtN': 'EU förordning 2021/782'},\n",
       "        {'value': 'Maträtt',\n",
       "         'key': 'SM',\n",
       "         'type': 'A',\n",
       "         'routeIdxFrom': 0,\n",
       "         'routeIdxTo': 4,\n",
       "         'txtN': 'Maträtt'},\n",
       "        {'value': '1 klass med extra komfort',\n",
       "         'key': 'SU',\n",
       "         'type': 'A',\n",
       "         'routeIdxFrom': 0,\n",
       "         'routeIdxTo': 4,\n",
       "         'txtN': '1 klass med extra komfort'},\n",
       "        {'value': 'Kaffebuffé 1 klass',\n",
       "         'key': 'SZ',\n",
       "         'type': 'A',\n",
       "         'routeIdxFrom': 0,\n",
       "         'routeIdxTo': 4,\n",
       "         'txtN': 'Kaffebuffé 1 klass'}]},\n",
       "      'JourneyDetailRef': {'ref': '1|106081|0|1|16012025'},\n",
       "      'JourneyStatus': 'P',\n",
       "      'Product': [{'icon': {'res': 'prod_gen'},\n",
       "        'operatorInfo': {'name': 'SJ',\n",
       "         'nameS': '74',\n",
       "         'nameN': '74',\n",
       "         'nameL': 'SJ',\n",
       "         'id': '74'},\n",
       "        'name': 'Snabbtåg 436',\n",
       "        'internalName': 'Snabbtåg 436',\n",
       "        'displayNumber': '436',\n",
       "        'num': '436',\n",
       "        'line': '436',\n",
       "        'lineId': '1074043600001',\n",
       "        'catOut': 'JST',\n",
       "        'catIn': 'JST',\n",
       "        'catCode': '1',\n",
       "        'cls': '2',\n",
       "        'catOutS': 'JST',\n",
       "        'catOutL': 'Snabbtåg',\n",
       "        'operatorCode': '74',\n",
       "        'operator': 'SJ',\n",
       "        'admin': '074___',\n",
       "        'routeIdxFrom': 0,\n",
       "        'routeIdxTo': 4,\n",
       "        'matchId': '436;436;12115'}],\n",
       "      'Stops': {'Stop': [{'name': 'Göteborg Centralstation',\n",
       "         'id': 'A=1@O=Göteborg Centralstation@X=11973479@Y=57708895@U=1@L=740000002@',\n",
       "         'extId': '740000002',\n",
       "         'routeIdx': 0,\n",
       "         'lon': 11.973479,\n",
       "         'lat': 57.708895,\n",
       "         'depPrognosisType': 'PROGNOSED',\n",
       "         'depTime': '13:18:00',\n",
       "         'depDate': '2025-01-16',\n",
       "         'depDir': 'Stockholm Centralstation',\n",
       "         'minimumChangeDuration': 'PT15M'},\n",
       "        {'name': 'Skövde Centralstation',\n",
       "         'id': 'A=1@O=Skövde Centralstation@X=13853195@Y=58390898@U=1@L=740000008@',\n",
       "         'extId': '740000008',\n",
       "         'routeIdx': 1,\n",
       "         'lon': 13.853195,\n",
       "         'lat': 58.390898,\n",
       "         'depTime': '14:27:00',\n",
       "         'depDate': '2025-01-16',\n",
       "         'arrTime': '14:26:00',\n",
       "         'arrDate': '2025-01-16',\n",
       "         'minimumChangeDuration': 'PT10M'},\n",
       "        {'name': 'Katrineholm Centralstation',\n",
       "         'id': 'A=1@O=Katrineholm Centralstation@X=16208324@Y=58996591@U=1@L=740000166@',\n",
       "         'extId': '740000166',\n",
       "         'routeIdx': 2,\n",
       "         'lon': 16.208324,\n",
       "         'lat': 58.996591,\n",
       "         'depTime': '15:47:00',\n",
       "         'depDate': '2025-01-16',\n",
       "         'arrTime': '15:46:00',\n",
       "         'arrDate': '2025-01-16',\n",
       "         'minimumChangeDuration': 'PT10M'},\n",
       "        {'Notes': {'Note': [{'value': 'Stannar endast för avstigande',\n",
       "            'key': 'text.realtime.stop.entry.disabled',\n",
       "            'type': 'R',\n",
       "            'txtN': 'Stannar endast för avstigande'}]},\n",
       "         'name': 'Södertälje Syd station',\n",
       "         'id': 'A=1@O=Södertälje Syd station@X=17645367@Y=59162415@U=1@L=740000055@',\n",
       "         'extId': '740000055',\n",
       "         'routeIdx': 3,\n",
       "         'lon': 17.645367,\n",
       "         'lat': 59.162415,\n",
       "         'arrTime': '16:25:00',\n",
       "         'arrDate': '2025-01-16',\n",
       "         'boarding': False,\n",
       "         'minimumChangeDuration': 'PT10M'},\n",
       "        {'name': 'Stockholm Centralstation',\n",
       "         'id': 'A=1@O=Stockholm Centralstation@X=18058151@Y=59330136@U=1@L=740000001@',\n",
       "         'extId': '740000001',\n",
       "         'routeIdx': 4,\n",
       "         'lon': 18.058151,\n",
       "         'lat': 59.330136,\n",
       "         'arrPrognosisType': 'PROGNOSED',\n",
       "         'arrTime': '16:44:00',\n",
       "         'arrDate': '2025-01-16',\n",
       "         'minimumChangeDuration': 'PT20M'}]},\n",
       "      'JourneyDetail': {'ref': '1|106081|0|1|16012025',\n",
       "       'dayOfOperation': '2025-01-16'},\n",
       "      'id': '0',\n",
       "      'idx': 0,\n",
       "      'name': 'Snabbtåg 436',\n",
       "      'number': '436',\n",
       "      'category': 'JST',\n",
       "      'type': 'JNY',\n",
       "      'reachable': True,\n",
       "      'waitingState': 'UNDEF',\n",
       "      'direction': 'Stockholm Centralstation',\n",
       "      'directionFlag': '1',\n",
       "      'duration': 'PT3H26M'}]},\n",
       "   'calculation': 'INITIAL',\n",
       "   'TripStatus': {'hintCode': 0},\n",
       "   'idx': 4,\n",
       "   'tripId': 'C-4',\n",
       "   'ctxRecon': '¶HKI¶T$A=1@O=Göteborg Centralstation@L=740000002@a=128@$A=1@O=Stockholm Centralstation@L=740000001@a=128@$202501161318$202501161644$JST  436$$1$$$$$$¶KC¶#VE#2#CF#100#CA#0#CM#0#SICT#0#AM#81#AM2#0#RT#4#¶KRCC¶#VE#1#',\n",
       "   'duration': 'PT3H26M',\n",
       "   'rtDuration': 'PT3H26M',\n",
       "   'checksum': 'daf9fa9f_3'}],\n",
       " 'ResultStatus': {'timeDiffCritical': False},\n",
       " 'TechnicalMessages': {'TechnicalMessage': [{'value': '2025-01-16 12:13:36',\n",
       "    'key': 'requestTime'},\n",
       "   {'value': 'ttp=16439#16603 plancode0=0f9rg planid=1737002202 planid0=1737002202 planid_adr=1479298166 plancode_adr=q0r10 srvv=5.45.SAMTRAFIKEN.15.0.1 (customer/hcusamtrafiken/release/2023.10.0) [2023-10-19] tlibv=TRFVER: rel/pproxy/4.00.0 2022-10-24 18:24:51 +0200 Relay_EnrichmentProxy v1 jno=1',\n",
       "    'key': 'backendInfo'}]},\n",
       " 'serverVersion': '2.45.1',\n",
       " 'dialectVersion': '2.45',\n",
       " 'planRtTs': '1970-01-01T01:00:00.000+01:00',\n",
       " 'requestId': 'nviqkhigmgxiwk8g',\n",
       " 'scrB': '3|OB|MTµ14µ23778µ23778µ23981µ23981µ0µ0µ365µ23773µ1µ0µ1058µ0µ0µ-2147483648µ1µ2|PDHµb1eb0727c70c3ae52acd3e4b638b5c7a|RDµ16012025|RTµ121336|USµ1|RSµINIT',\n",
       " 'scrF': '3|OF|MTµ14µ23838µ23838µ24044µ24044µ0µ0µ365µ23820µ5µ0µ1058µ0µ0µ-2147483648µ1µ2|PDHµb1eb0727c70c3ae52acd3e4b638b5c7a|RDµ16012025|RTµ121336|USµ1|RSµINIT'}"
      ]
     },
     "execution_count": 601,
     "metadata": {},
     "output_type": "execute_result"
    }
   ],
   "source": [
    "trips = route_planner(740098001, 740098000)\n",
    "trips"
   ]
  },
  {
   "cell_type": "code",
   "execution_count": 602,
   "metadata": {},
   "outputs": [],
   "source": [
    "trip= trips[\"Trip\"][0]"
   ]
  },
  {
   "cell_type": "code",
   "execution_count": 603,
   "metadata": {},
   "outputs": [],
   "source": [
    "stops= trip[\"LegList\"][\"Leg\"][0][\"Stops\"][\"Stop\"]"
   ]
  },
  {
   "cell_type": "code",
   "execution_count": 604,
   "metadata": {},
   "outputs": [
    {
     "data": {
      "text/plain": [
       "[{'Göteborg Centralstation': None},\n",
       " {'Herrljunga station': '13:01:00'},\n",
       " {'Skövde Centralstation': '13:27:00'},\n",
       " {'Katrineholm Centralstation': '14:47:00'},\n",
       " {'Stockholm Centralstation': '15:41:00'}]"
      ]
     },
     "execution_count": 604,
     "metadata": {},
     "output_type": "execute_result"
    }
   ],
   "source": [
    "[{stop[\"name\"]: stop.get(\"arrTime\")}for stop in stops]"
   ]
  },
  {
   "cell_type": "code",
   "execution_count": 605,
   "metadata": {},
   "outputs": [],
   "source": [
    "coords= []\n",
    "for stop in stops:\n",
    "    city= get_lookup(stop.get(\"name\"))\n",
    "    city= city[\"stopLocationOrCoordLocation\"][0][\"StopLocation\"]\n",
    "    coords.append((city[\"lon\"], city[\"lat\"]))"
   ]
  },
  {
   "cell_type": "code",
   "execution_count": 606,
   "metadata": {},
   "outputs": [
    {
     "data": {
      "text/plain": [
       "[(11.973479, 57.708895),\n",
       " (13.021279, 58.079188),\n",
       " (13.853195, 58.390898),\n",
       " (16.208324, 58.996591),\n",
       " (18.058151, 59.330136)]"
      ]
     },
     "execution_count": 606,
     "metadata": {},
     "output_type": "execute_result"
    }
   ],
   "source": [
    "coords"
   ]
  },
  {
   "cell_type": "code",
   "execution_count": 607,
   "metadata": {},
   "outputs": [
    {
     "data": {
      "text/html": [
       "<div>\n",
       "<style scoped>\n",
       "    .dataframe tbody tr th:only-of-type {\n",
       "        vertical-align: middle;\n",
       "    }\n",
       "\n",
       "    .dataframe tbody tr th {\n",
       "        vertical-align: top;\n",
       "    }\n",
       "\n",
       "    .dataframe thead th {\n",
       "        text-align: right;\n",
       "    }\n",
       "</style>\n",
       "<table border=\"1\" class=\"dataframe\">\n",
       "  <thead>\n",
       "    <tr style=\"text-align: right;\">\n",
       "      <th></th>\n",
       "      <th>lon</th>\n",
       "      <th>lat</th>\n",
       "    </tr>\n",
       "  </thead>\n",
       "  <tbody>\n",
       "    <tr>\n",
       "      <th>0</th>\n",
       "      <td>11.973479</td>\n",
       "      <td>57.708895</td>\n",
       "    </tr>\n",
       "    <tr>\n",
       "      <th>1</th>\n",
       "      <td>13.021279</td>\n",
       "      <td>58.079188</td>\n",
       "    </tr>\n",
       "    <tr>\n",
       "      <th>2</th>\n",
       "      <td>13.853195</td>\n",
       "      <td>58.390898</td>\n",
       "    </tr>\n",
       "    <tr>\n",
       "      <th>3</th>\n",
       "      <td>16.208324</td>\n",
       "      <td>58.996591</td>\n",
       "    </tr>\n",
       "    <tr>\n",
       "      <th>4</th>\n",
       "      <td>18.058151</td>\n",
       "      <td>59.330136</td>\n",
       "    </tr>\n",
       "  </tbody>\n",
       "</table>\n",
       "</div>"
      ],
      "text/plain": [
       "         lon        lat\n",
       "0  11.973479  57.708895\n",
       "1  13.021279  58.079188\n",
       "2  13.853195  58.390898\n",
       "3  16.208324  58.996591\n",
       "4  18.058151  59.330136"
      ]
     },
     "execution_count": 607,
     "metadata": {},
     "output_type": "execute_result"
    }
   ],
   "source": [
    "data= pd.DataFrame(coords, columns=[\"lon\", \"lat\"])\n",
    "data"
   ]
  },
  {
   "cell_type": "code",
   "execution_count": 608,
   "metadata": {},
   "outputs": [
    {
     "data": {
      "text/html": [
       "<div style=\"width:100%;\"><div style=\"position:relative;width:100%;height:0;padding-bottom:60%;\"><span style=\"color:#565656\">Make this Notebook Trusted to load map: File -> Trust Notebook</span><iframe srcdoc=\"&lt;!DOCTYPE html&gt;\n",
       "&lt;html&gt;\n",
       "&lt;head&gt;\n",
       "    \n",
       "    &lt;meta http-equiv=&quot;content-type&quot; content=&quot;text/html; charset=UTF-8&quot; /&gt;\n",
       "    \n",
       "        &lt;script&gt;\n",
       "            L_NO_TOUCH = false;\n",
       "            L_DISABLE_3D = false;\n",
       "        &lt;/script&gt;\n",
       "    \n",
       "    &lt;style&gt;html, body {width: 100%;height: 100%;margin: 0;padding: 0;}&lt;/style&gt;\n",
       "    &lt;style&gt;#map {position:absolute;top:0;bottom:0;right:0;left:0;}&lt;/style&gt;\n",
       "    &lt;script src=&quot;https://cdn.jsdelivr.net/npm/leaflet@1.9.3/dist/leaflet.js&quot;&gt;&lt;/script&gt;\n",
       "    &lt;script src=&quot;https://code.jquery.com/jquery-3.7.1.min.js&quot;&gt;&lt;/script&gt;\n",
       "    &lt;script src=&quot;https://cdn.jsdelivr.net/npm/bootstrap@5.2.2/dist/js/bootstrap.bundle.min.js&quot;&gt;&lt;/script&gt;\n",
       "    &lt;script src=&quot;https://cdnjs.cloudflare.com/ajax/libs/Leaflet.awesome-markers/2.0.2/leaflet.awesome-markers.js&quot;&gt;&lt;/script&gt;\n",
       "    &lt;link rel=&quot;stylesheet&quot; href=&quot;https://cdn.jsdelivr.net/npm/leaflet@1.9.3/dist/leaflet.css&quot;/&gt;\n",
       "    &lt;link rel=&quot;stylesheet&quot; href=&quot;https://cdn.jsdelivr.net/npm/bootstrap@5.2.2/dist/css/bootstrap.min.css&quot;/&gt;\n",
       "    &lt;link rel=&quot;stylesheet&quot; href=&quot;https://netdna.bootstrapcdn.com/bootstrap/3.0.0/css/bootstrap-glyphicons.css&quot;/&gt;\n",
       "    &lt;link rel=&quot;stylesheet&quot; href=&quot;https://cdn.jsdelivr.net/npm/@fortawesome/fontawesome-free@6.2.0/css/all.min.css&quot;/&gt;\n",
       "    &lt;link rel=&quot;stylesheet&quot; href=&quot;https://cdnjs.cloudflare.com/ajax/libs/Leaflet.awesome-markers/2.0.2/leaflet.awesome-markers.css&quot;/&gt;\n",
       "    &lt;link rel=&quot;stylesheet&quot; href=&quot;https://cdn.jsdelivr.net/gh/python-visualization/folium/folium/templates/leaflet.awesome.rotate.min.css&quot;/&gt;\n",
       "    \n",
       "            &lt;meta name=&quot;viewport&quot; content=&quot;width=device-width,\n",
       "                initial-scale=1.0, maximum-scale=1.0, user-scalable=no&quot; /&gt;\n",
       "            &lt;style&gt;\n",
       "                #map_308f035969db9a47b842186b3d621e90 {\n",
       "                    position: relative;\n",
       "                    width: 100.0%;\n",
       "                    height: 100.0%;\n",
       "                    left: 0.0%;\n",
       "                    top: 0.0%;\n",
       "                }\n",
       "                .leaflet-container { font-size: 1rem; }\n",
       "            &lt;/style&gt;\n",
       "        \n",
       "&lt;/head&gt;\n",
       "&lt;body&gt;\n",
       "    \n",
       "    \n",
       "            &lt;div class=&quot;folium-map&quot; id=&quot;map_308f035969db9a47b842186b3d621e90&quot; &gt;&lt;/div&gt;\n",
       "        \n",
       "&lt;/body&gt;\n",
       "&lt;script&gt;\n",
       "    \n",
       "    \n",
       "            var map_308f035969db9a47b842186b3d621e90 = L.map(\n",
       "                &quot;map_308f035969db9a47b842186b3d621e90&quot;,\n",
       "                {\n",
       "                    center: [58.5011416, 14.622885599999998],\n",
       "                    crs: L.CRS.EPSG3857,\n",
       "                    ...{\n",
       "  &quot;zoom&quot;: 10,\n",
       "  &quot;zoomControl&quot;: true,\n",
       "  &quot;preferCanvas&quot;: false,\n",
       "}\n",
       "\n",
       "                }\n",
       "            );\n",
       "\n",
       "            \n",
       "\n",
       "        \n",
       "    \n",
       "            var tile_layer_040a17e338d4daf866a60fd512421ee0 = L.tileLayer(\n",
       "                &quot;https://tile.openstreetmap.org/{z}/{x}/{y}.png&quot;,\n",
       "                {\n",
       "  &quot;minZoom&quot;: 0,\n",
       "  &quot;maxZoom&quot;: 19,\n",
       "  &quot;maxNativeZoom&quot;: 19,\n",
       "  &quot;noWrap&quot;: false,\n",
       "  &quot;attribution&quot;: &quot;\\u0026copy; \\u003ca href=\\&quot;https://www.openstreetmap.org/copyright\\&quot;\\u003eOpenStreetMap\\u003c/a\\u003e contributors&quot;,\n",
       "  &quot;subdomains&quot;: &quot;abc&quot;,\n",
       "  &quot;detectRetina&quot;: false,\n",
       "  &quot;tms&quot;: false,\n",
       "  &quot;opacity&quot;: 1,\n",
       "}\n",
       "\n",
       "            );\n",
       "        \n",
       "    \n",
       "            tile_layer_040a17e338d4daf866a60fd512421ee0.addTo(map_308f035969db9a47b842186b3d621e90);\n",
       "        \n",
       "    \n",
       "            var marker_08d23689118fceeb717ad7305bd0d18e = L.marker(\n",
       "                [57.708895, 11.973479],\n",
       "                {\n",
       "}\n",
       "            ).addTo(map_308f035969db9a47b842186b3d621e90);\n",
       "        \n",
       "    \n",
       "            var marker_01b86140f5460b1d0924ead2a49ac5d1 = L.marker(\n",
       "                [58.079188, 13.021279],\n",
       "                {\n",
       "}\n",
       "            ).addTo(map_308f035969db9a47b842186b3d621e90);\n",
       "        \n",
       "    \n",
       "            var marker_e282cc14e7fe1f99433bcd37fb197180 = L.marker(\n",
       "                [58.390898, 13.853195],\n",
       "                {\n",
       "}\n",
       "            ).addTo(map_308f035969db9a47b842186b3d621e90);\n",
       "        \n",
       "    \n",
       "            var marker_b71fc580df68053b2b415f61215c8b95 = L.marker(\n",
       "                [58.996591, 16.208324],\n",
       "                {\n",
       "}\n",
       "            ).addTo(map_308f035969db9a47b842186b3d621e90);\n",
       "        \n",
       "    \n",
       "            var marker_c993001bc1bf018127257f1c4698c8fe = L.marker(\n",
       "                [59.330136, 18.058151],\n",
       "                {\n",
       "}\n",
       "            ).addTo(map_308f035969db9a47b842186b3d621e90);\n",
       "        \n",
       "&lt;/script&gt;\n",
       "&lt;/html&gt;\" style=\"position:absolute;width:100%;height:100%;left:0;top:0;border:none !important;\" allowfullscreen webkitallowfullscreen mozallowfullscreen></iframe></div></div>"
      ],
      "text/plain": [
       "<folium.folium.Map at 0x1f922ac8c20>"
      ]
     },
     "execution_count": 608,
     "metadata": {},
     "output_type": "execute_result"
    }
   ],
   "source": [
    "import folium\n",
    "map= folium.Map(location= [data[\"lat\"].mean(), data[\"lon\"].mean()])\n",
    "\n",
    "for lat, lon in zip(data[\"lat\"], data[\"lon\"]):\n",
    "    folium.Marker(location= [lat, lon]).add_to(map)\n",
    "\n",
    "map"
   ]
  },
  {
   "cell_type": "code",
   "execution_count": 609,
   "metadata": {},
   "outputs": [
    {
     "data": {
      "text/html": [
       "<div style=\"width:100%;\"><div style=\"position:relative;width:100%;height:0;padding-bottom:60%;\"><span style=\"color:#565656\">Make this Notebook Trusted to load map: File -> Trust Notebook</span><iframe srcdoc=\"&lt;!DOCTYPE html&gt;\n",
       "&lt;html&gt;\n",
       "&lt;head&gt;\n",
       "    \n",
       "    &lt;meta http-equiv=&quot;content-type&quot; content=&quot;text/html; charset=UTF-8&quot; /&gt;\n",
       "    \n",
       "        &lt;script&gt;\n",
       "            L_NO_TOUCH = false;\n",
       "            L_DISABLE_3D = false;\n",
       "        &lt;/script&gt;\n",
       "    \n",
       "    &lt;style&gt;html, body {width: 100%;height: 100%;margin: 0;padding: 0;}&lt;/style&gt;\n",
       "    &lt;style&gt;#map {position:absolute;top:0;bottom:0;right:0;left:0;}&lt;/style&gt;\n",
       "    &lt;script src=&quot;https://cdn.jsdelivr.net/npm/leaflet@1.9.3/dist/leaflet.js&quot;&gt;&lt;/script&gt;\n",
       "    &lt;script src=&quot;https://code.jquery.com/jquery-3.7.1.min.js&quot;&gt;&lt;/script&gt;\n",
       "    &lt;script src=&quot;https://cdn.jsdelivr.net/npm/bootstrap@5.2.2/dist/js/bootstrap.bundle.min.js&quot;&gt;&lt;/script&gt;\n",
       "    &lt;script src=&quot;https://cdnjs.cloudflare.com/ajax/libs/Leaflet.awesome-markers/2.0.2/leaflet.awesome-markers.js&quot;&gt;&lt;/script&gt;\n",
       "    &lt;link rel=&quot;stylesheet&quot; href=&quot;https://cdn.jsdelivr.net/npm/leaflet@1.9.3/dist/leaflet.css&quot;/&gt;\n",
       "    &lt;link rel=&quot;stylesheet&quot; href=&quot;https://cdn.jsdelivr.net/npm/bootstrap@5.2.2/dist/css/bootstrap.min.css&quot;/&gt;\n",
       "    &lt;link rel=&quot;stylesheet&quot; href=&quot;https://netdna.bootstrapcdn.com/bootstrap/3.0.0/css/bootstrap-glyphicons.css&quot;/&gt;\n",
       "    &lt;link rel=&quot;stylesheet&quot; href=&quot;https://cdn.jsdelivr.net/npm/@fortawesome/fontawesome-free@6.2.0/css/all.min.css&quot;/&gt;\n",
       "    &lt;link rel=&quot;stylesheet&quot; href=&quot;https://cdnjs.cloudflare.com/ajax/libs/Leaflet.awesome-markers/2.0.2/leaflet.awesome-markers.css&quot;/&gt;\n",
       "    &lt;link rel=&quot;stylesheet&quot; href=&quot;https://cdn.jsdelivr.net/gh/python-visualization/folium/folium/templates/leaflet.awesome.rotate.min.css&quot;/&gt;\n",
       "    \n",
       "            &lt;meta name=&quot;viewport&quot; content=&quot;width=device-width,\n",
       "                initial-scale=1.0, maximum-scale=1.0, user-scalable=no&quot; /&gt;\n",
       "            &lt;style&gt;\n",
       "                #map_2478be462b0e9151d7b5cd2cd3b69278 {\n",
       "                    position: relative;\n",
       "                    width: 100.0%;\n",
       "                    height: 100.0%;\n",
       "                    left: 0.0%;\n",
       "                    top: 0.0%;\n",
       "                }\n",
       "                .leaflet-container { font-size: 1rem; }\n",
       "            &lt;/style&gt;\n",
       "        \n",
       "&lt;/head&gt;\n",
       "&lt;body&gt;\n",
       "    \n",
       "    \n",
       "            &lt;div class=&quot;folium-map&quot; id=&quot;map_2478be462b0e9151d7b5cd2cd3b69278&quot; &gt;&lt;/div&gt;\n",
       "        \n",
       "&lt;/body&gt;\n",
       "&lt;script&gt;\n",
       "    \n",
       "    \n",
       "            var map_2478be462b0e9151d7b5cd2cd3b69278 = L.map(\n",
       "                &quot;map_2478be462b0e9151d7b5cd2cd3b69278&quot;,\n",
       "                {\n",
       "                    center: [58.5011416, 14.622885599999998],\n",
       "                    crs: L.CRS.EPSG3857,\n",
       "                    ...{\n",
       "  &quot;zoom&quot;: 10,\n",
       "  &quot;zoomControl&quot;: true,\n",
       "  &quot;preferCanvas&quot;: false,\n",
       "}\n",
       "\n",
       "                }\n",
       "            );\n",
       "\n",
       "            \n",
       "\n",
       "        \n",
       "    \n",
       "            var tile_layer_c5a53a88325e8159b05494675cdabb34 = L.tileLayer(\n",
       "                &quot;https://tile.openstreetmap.org/{z}/{x}/{y}.png&quot;,\n",
       "                {\n",
       "  &quot;minZoom&quot;: 0,\n",
       "  &quot;maxZoom&quot;: 19,\n",
       "  &quot;maxNativeZoom&quot;: 19,\n",
       "  &quot;noWrap&quot;: false,\n",
       "  &quot;attribution&quot;: &quot;\\u0026copy; \\u003ca href=\\&quot;https://www.openstreetmap.org/copyright\\&quot;\\u003eOpenStreetMap\\u003c/a\\u003e contributors&quot;,\n",
       "  &quot;subdomains&quot;: &quot;abc&quot;,\n",
       "  &quot;detectRetina&quot;: false,\n",
       "  &quot;tms&quot;: false,\n",
       "  &quot;opacity&quot;: 1,\n",
       "}\n",
       "\n",
       "            );\n",
       "        \n",
       "    \n",
       "            tile_layer_c5a53a88325e8159b05494675cdabb34.addTo(map_2478be462b0e9151d7b5cd2cd3b69278);\n",
       "        \n",
       "    \n",
       "            var poly_line_84b12c0bf854524a431a8e265ddec94c = L.polyline(\n",
       "                [[57.708895, 11.973479], [58.079188, 13.021279], [58.390898, 13.853195], [58.996591, 16.208324], [59.330136, 18.058151]],\n",
       "                {&quot;bubblingMouseEvents&quot;: true, &quot;color&quot;: &quot;#3388ff&quot;, &quot;dashArray&quot;: null, &quot;dashOffset&quot;: null, &quot;fill&quot;: false, &quot;fillColor&quot;: &quot;#3388ff&quot;, &quot;fillOpacity&quot;: 0.2, &quot;fillRule&quot;: &quot;evenodd&quot;, &quot;lineCap&quot;: &quot;round&quot;, &quot;lineJoin&quot;: &quot;round&quot;, &quot;noClip&quot;: false, &quot;opacity&quot;: 1.0, &quot;smoothFactor&quot;: 1.0, &quot;stroke&quot;: true, &quot;weight&quot;: 3}\n",
       "            ).addTo(map_2478be462b0e9151d7b5cd2cd3b69278);\n",
       "        \n",
       "&lt;/script&gt;\n",
       "&lt;/html&gt;\" style=\"position:absolute;width:100%;height:100%;left:0;top:0;border:none !important;\" allowfullscreen webkitallowfullscreen mozallowfullscreen></iframe></div></div>"
      ],
      "text/plain": [
       "<folium.folium.Map at 0x1f921589400>"
      ]
     },
     "execution_count": 609,
     "metadata": {},
     "output_type": "execute_result"
    }
   ],
   "source": [
    "map= folium.Map(location= [data[\"lat\"].mean(), data[\"lon\"].mean()])\n",
    "coords = [[lat, lon] for lat, lon in zip(data[\"lat\"], data[\"lon\"])]\n",
    "folium.PolyLine(locations= coords).add_to(map)\n",
    "\n",
    "map"
   ]
  },
  {
   "cell_type": "code",
   "execution_count": 610,
   "metadata": {},
   "outputs": [
    {
     "data": {
      "application/vnd.plotly.v1+json": {
       "config": {
        "plotlyServerURL": "https://plot.ly"
       },
       "data": [
        {
         "hovertemplate": "lat=%{lat}<br>lon=%{lon}<extra></extra>",
         "lat": [
          57.708895,
          58.079188,
          58.390898,
          58.996591,
          59.330136
         ],
         "legendgroup": "",
         "line": {
          "color": "#636efa"
         },
         "lon": [
          11.973479,
          13.021279,
          13.853195,
          16.208324,
          18.058151
         ],
         "mode": "lines",
         "name": "",
         "showlegend": false,
         "subplot": "mapbox",
         "type": "scattermapbox"
        }
       ],
       "layout": {
        "legend": {
         "tracegroupgap": 0
        },
        "mapbox": {
         "center": {
          "lat": 58.5011416,
          "lon": 14.622885599999998
         },
         "domain": {
          "x": [
           0,
           1
          ],
          "y": [
           0,
           1
          ]
         },
         "style": "open-street-map",
         "zoom": 6.5
        },
        "margin": {
         "t": 60
        },
        "template": {
         "data": {
          "bar": [
           {
            "error_x": {
             "color": "#2a3f5f"
            },
            "error_y": {
             "color": "#2a3f5f"
            },
            "marker": {
             "line": {
              "color": "#E5ECF6",
              "width": 0.5
             },
             "pattern": {
              "fillmode": "overlay",
              "size": 10,
              "solidity": 0.2
             }
            },
            "type": "bar"
           }
          ],
          "barpolar": [
           {
            "marker": {
             "line": {
              "color": "#E5ECF6",
              "width": 0.5
             },
             "pattern": {
              "fillmode": "overlay",
              "size": 10,
              "solidity": 0.2
             }
            },
            "type": "barpolar"
           }
          ],
          "carpet": [
           {
            "aaxis": {
             "endlinecolor": "#2a3f5f",
             "gridcolor": "white",
             "linecolor": "white",
             "minorgridcolor": "white",
             "startlinecolor": "#2a3f5f"
            },
            "baxis": {
             "endlinecolor": "#2a3f5f",
             "gridcolor": "white",
             "linecolor": "white",
             "minorgridcolor": "white",
             "startlinecolor": "#2a3f5f"
            },
            "type": "carpet"
           }
          ],
          "choropleth": [
           {
            "colorbar": {
             "outlinewidth": 0,
             "ticks": ""
            },
            "type": "choropleth"
           }
          ],
          "contour": [
           {
            "colorbar": {
             "outlinewidth": 0,
             "ticks": ""
            },
            "colorscale": [
             [
              0,
              "#0d0887"
             ],
             [
              0.1111111111111111,
              "#46039f"
             ],
             [
              0.2222222222222222,
              "#7201a8"
             ],
             [
              0.3333333333333333,
              "#9c179e"
             ],
             [
              0.4444444444444444,
              "#bd3786"
             ],
             [
              0.5555555555555556,
              "#d8576b"
             ],
             [
              0.6666666666666666,
              "#ed7953"
             ],
             [
              0.7777777777777778,
              "#fb9f3a"
             ],
             [
              0.8888888888888888,
              "#fdca26"
             ],
             [
              1,
              "#f0f921"
             ]
            ],
            "type": "contour"
           }
          ],
          "contourcarpet": [
           {
            "colorbar": {
             "outlinewidth": 0,
             "ticks": ""
            },
            "type": "contourcarpet"
           }
          ],
          "heatmap": [
           {
            "colorbar": {
             "outlinewidth": 0,
             "ticks": ""
            },
            "colorscale": [
             [
              0,
              "#0d0887"
             ],
             [
              0.1111111111111111,
              "#46039f"
             ],
             [
              0.2222222222222222,
              "#7201a8"
             ],
             [
              0.3333333333333333,
              "#9c179e"
             ],
             [
              0.4444444444444444,
              "#bd3786"
             ],
             [
              0.5555555555555556,
              "#d8576b"
             ],
             [
              0.6666666666666666,
              "#ed7953"
             ],
             [
              0.7777777777777778,
              "#fb9f3a"
             ],
             [
              0.8888888888888888,
              "#fdca26"
             ],
             [
              1,
              "#f0f921"
             ]
            ],
            "type": "heatmap"
           }
          ],
          "heatmapgl": [
           {
            "colorbar": {
             "outlinewidth": 0,
             "ticks": ""
            },
            "colorscale": [
             [
              0,
              "#0d0887"
             ],
             [
              0.1111111111111111,
              "#46039f"
             ],
             [
              0.2222222222222222,
              "#7201a8"
             ],
             [
              0.3333333333333333,
              "#9c179e"
             ],
             [
              0.4444444444444444,
              "#bd3786"
             ],
             [
              0.5555555555555556,
              "#d8576b"
             ],
             [
              0.6666666666666666,
              "#ed7953"
             ],
             [
              0.7777777777777778,
              "#fb9f3a"
             ],
             [
              0.8888888888888888,
              "#fdca26"
             ],
             [
              1,
              "#f0f921"
             ]
            ],
            "type": "heatmapgl"
           }
          ],
          "histogram": [
           {
            "marker": {
             "pattern": {
              "fillmode": "overlay",
              "size": 10,
              "solidity": 0.2
             }
            },
            "type": "histogram"
           }
          ],
          "histogram2d": [
           {
            "colorbar": {
             "outlinewidth": 0,
             "ticks": ""
            },
            "colorscale": [
             [
              0,
              "#0d0887"
             ],
             [
              0.1111111111111111,
              "#46039f"
             ],
             [
              0.2222222222222222,
              "#7201a8"
             ],
             [
              0.3333333333333333,
              "#9c179e"
             ],
             [
              0.4444444444444444,
              "#bd3786"
             ],
             [
              0.5555555555555556,
              "#d8576b"
             ],
             [
              0.6666666666666666,
              "#ed7953"
             ],
             [
              0.7777777777777778,
              "#fb9f3a"
             ],
             [
              0.8888888888888888,
              "#fdca26"
             ],
             [
              1,
              "#f0f921"
             ]
            ],
            "type": "histogram2d"
           }
          ],
          "histogram2dcontour": [
           {
            "colorbar": {
             "outlinewidth": 0,
             "ticks": ""
            },
            "colorscale": [
             [
              0,
              "#0d0887"
             ],
             [
              0.1111111111111111,
              "#46039f"
             ],
             [
              0.2222222222222222,
              "#7201a8"
             ],
             [
              0.3333333333333333,
              "#9c179e"
             ],
             [
              0.4444444444444444,
              "#bd3786"
             ],
             [
              0.5555555555555556,
              "#d8576b"
             ],
             [
              0.6666666666666666,
              "#ed7953"
             ],
             [
              0.7777777777777778,
              "#fb9f3a"
             ],
             [
              0.8888888888888888,
              "#fdca26"
             ],
             [
              1,
              "#f0f921"
             ]
            ],
            "type": "histogram2dcontour"
           }
          ],
          "mesh3d": [
           {
            "colorbar": {
             "outlinewidth": 0,
             "ticks": ""
            },
            "type": "mesh3d"
           }
          ],
          "parcoords": [
           {
            "line": {
             "colorbar": {
              "outlinewidth": 0,
              "ticks": ""
             }
            },
            "type": "parcoords"
           }
          ],
          "pie": [
           {
            "automargin": true,
            "type": "pie"
           }
          ],
          "scatter": [
           {
            "fillpattern": {
             "fillmode": "overlay",
             "size": 10,
             "solidity": 0.2
            },
            "type": "scatter"
           }
          ],
          "scatter3d": [
           {
            "line": {
             "colorbar": {
              "outlinewidth": 0,
              "ticks": ""
             }
            },
            "marker": {
             "colorbar": {
              "outlinewidth": 0,
              "ticks": ""
             }
            },
            "type": "scatter3d"
           }
          ],
          "scattercarpet": [
           {
            "marker": {
             "colorbar": {
              "outlinewidth": 0,
              "ticks": ""
             }
            },
            "type": "scattercarpet"
           }
          ],
          "scattergeo": [
           {
            "marker": {
             "colorbar": {
              "outlinewidth": 0,
              "ticks": ""
             }
            },
            "type": "scattergeo"
           }
          ],
          "scattergl": [
           {
            "marker": {
             "colorbar": {
              "outlinewidth": 0,
              "ticks": ""
             }
            },
            "type": "scattergl"
           }
          ],
          "scattermapbox": [
           {
            "marker": {
             "colorbar": {
              "outlinewidth": 0,
              "ticks": ""
             }
            },
            "type": "scattermapbox"
           }
          ],
          "scatterpolar": [
           {
            "marker": {
             "colorbar": {
              "outlinewidth": 0,
              "ticks": ""
             }
            },
            "type": "scatterpolar"
           }
          ],
          "scatterpolargl": [
           {
            "marker": {
             "colorbar": {
              "outlinewidth": 0,
              "ticks": ""
             }
            },
            "type": "scatterpolargl"
           }
          ],
          "scatterternary": [
           {
            "marker": {
             "colorbar": {
              "outlinewidth": 0,
              "ticks": ""
             }
            },
            "type": "scatterternary"
           }
          ],
          "surface": [
           {
            "colorbar": {
             "outlinewidth": 0,
             "ticks": ""
            },
            "colorscale": [
             [
              0,
              "#0d0887"
             ],
             [
              0.1111111111111111,
              "#46039f"
             ],
             [
              0.2222222222222222,
              "#7201a8"
             ],
             [
              0.3333333333333333,
              "#9c179e"
             ],
             [
              0.4444444444444444,
              "#bd3786"
             ],
             [
              0.5555555555555556,
              "#d8576b"
             ],
             [
              0.6666666666666666,
              "#ed7953"
             ],
             [
              0.7777777777777778,
              "#fb9f3a"
             ],
             [
              0.8888888888888888,
              "#fdca26"
             ],
             [
              1,
              "#f0f921"
             ]
            ],
            "type": "surface"
           }
          ],
          "table": [
           {
            "cells": {
             "fill": {
              "color": "#EBF0F8"
             },
             "line": {
              "color": "white"
             }
            },
            "header": {
             "fill": {
              "color": "#C8D4E3"
             },
             "line": {
              "color": "white"
             }
            },
            "type": "table"
           }
          ]
         },
         "layout": {
          "annotationdefaults": {
           "arrowcolor": "#2a3f5f",
           "arrowhead": 0,
           "arrowwidth": 1
          },
          "autotypenumbers": "strict",
          "coloraxis": {
           "colorbar": {
            "outlinewidth": 0,
            "ticks": ""
           }
          },
          "colorscale": {
           "diverging": [
            [
             0,
             "#8e0152"
            ],
            [
             0.1,
             "#c51b7d"
            ],
            [
             0.2,
             "#de77ae"
            ],
            [
             0.3,
             "#f1b6da"
            ],
            [
             0.4,
             "#fde0ef"
            ],
            [
             0.5,
             "#f7f7f7"
            ],
            [
             0.6,
             "#e6f5d0"
            ],
            [
             0.7,
             "#b8e186"
            ],
            [
             0.8,
             "#7fbc41"
            ],
            [
             0.9,
             "#4d9221"
            ],
            [
             1,
             "#276419"
            ]
           ],
           "sequential": [
            [
             0,
             "#0d0887"
            ],
            [
             0.1111111111111111,
             "#46039f"
            ],
            [
             0.2222222222222222,
             "#7201a8"
            ],
            [
             0.3333333333333333,
             "#9c179e"
            ],
            [
             0.4444444444444444,
             "#bd3786"
            ],
            [
             0.5555555555555556,
             "#d8576b"
            ],
            [
             0.6666666666666666,
             "#ed7953"
            ],
            [
             0.7777777777777778,
             "#fb9f3a"
            ],
            [
             0.8888888888888888,
             "#fdca26"
            ],
            [
             1,
             "#f0f921"
            ]
           ],
           "sequentialminus": [
            [
             0,
             "#0d0887"
            ],
            [
             0.1111111111111111,
             "#46039f"
            ],
            [
             0.2222222222222222,
             "#7201a8"
            ],
            [
             0.3333333333333333,
             "#9c179e"
            ],
            [
             0.4444444444444444,
             "#bd3786"
            ],
            [
             0.5555555555555556,
             "#d8576b"
            ],
            [
             0.6666666666666666,
             "#ed7953"
            ],
            [
             0.7777777777777778,
             "#fb9f3a"
            ],
            [
             0.8888888888888888,
             "#fdca26"
            ],
            [
             1,
             "#f0f921"
            ]
           ]
          },
          "colorway": [
           "#636efa",
           "#EF553B",
           "#00cc96",
           "#ab63fa",
           "#FFA15A",
           "#19d3f3",
           "#FF6692",
           "#B6E880",
           "#FF97FF",
           "#FECB52"
          ],
          "font": {
           "color": "#2a3f5f"
          },
          "geo": {
           "bgcolor": "white",
           "lakecolor": "white",
           "landcolor": "#E5ECF6",
           "showlakes": true,
           "showland": true,
           "subunitcolor": "white"
          },
          "hoverlabel": {
           "align": "left"
          },
          "hovermode": "closest",
          "mapbox": {
           "style": "light"
          },
          "paper_bgcolor": "white",
          "plot_bgcolor": "#E5ECF6",
          "polar": {
           "angularaxis": {
            "gridcolor": "white",
            "linecolor": "white",
            "ticks": ""
           },
           "bgcolor": "#E5ECF6",
           "radialaxis": {
            "gridcolor": "white",
            "linecolor": "white",
            "ticks": ""
           }
          },
          "scene": {
           "xaxis": {
            "backgroundcolor": "#E5ECF6",
            "gridcolor": "white",
            "gridwidth": 2,
            "linecolor": "white",
            "showbackground": true,
            "ticks": "",
            "zerolinecolor": "white"
           },
           "yaxis": {
            "backgroundcolor": "#E5ECF6",
            "gridcolor": "white",
            "gridwidth": 2,
            "linecolor": "white",
            "showbackground": true,
            "ticks": "",
            "zerolinecolor": "white"
           },
           "zaxis": {
            "backgroundcolor": "#E5ECF6",
            "gridcolor": "white",
            "gridwidth": 2,
            "linecolor": "white",
            "showbackground": true,
            "ticks": "",
            "zerolinecolor": "white"
           }
          },
          "shapedefaults": {
           "line": {
            "color": "#2a3f5f"
           }
          },
          "ternary": {
           "aaxis": {
            "gridcolor": "white",
            "linecolor": "white",
            "ticks": ""
           },
           "baxis": {
            "gridcolor": "white",
            "linecolor": "white",
            "ticks": ""
           },
           "bgcolor": "#E5ECF6",
           "caxis": {
            "gridcolor": "white",
            "linecolor": "white",
            "ticks": ""
           }
          },
          "title": {
           "x": 0.05
          },
          "xaxis": {
           "automargin": true,
           "gridcolor": "white",
           "linecolor": "white",
           "ticks": "",
           "title": {
            "standoff": 15
           },
           "zerolinecolor": "white",
           "zerolinewidth": 2
          },
          "yaxis": {
           "automargin": true,
           "gridcolor": "white",
           "linecolor": "white",
           "ticks": "",
           "title": {
            "standoff": 15
           },
           "zerolinecolor": "white",
           "zerolinewidth": 2
          }
         }
        },
        "width": 800
       }
      }
     },
     "metadata": {},
     "output_type": "display_data"
    }
   ],
   "source": [
    "fig= px.line_mapbox(data, \"lat\", \"lon\", mapbox_style=\"open-street-map\", zoom= 6.5, width= 800)\n",
    "fig.show()"
   ]
  },
  {
   "cell_type": "markdown",
   "metadata": {},
   "source": [
    "# 2\n"
   ]
  },
  {
   "cell_type": "markdown",
   "metadata": {},
   "source": [
    "### A)"
   ]
  },
  {
   "cell_type": "code",
   "execution_count": 611,
   "metadata": {},
   "outputs": [],
   "source": [
    "from datetime import datetime"
   ]
  },
  {
   "cell_type": "code",
   "execution_count": 612,
   "metadata": {},
   "outputs": [],
   "source": [
    "beryll = get_lookup(\"Beryllgatan\")"
   ]
  },
  {
   "cell_type": "code",
   "execution_count": 613,
   "metadata": {},
   "outputs": [
    {
     "data": {
      "text/plain": [
       "dict_keys(['stopLocationOrCoordLocation', 'TechnicalMessages', 'serverVersion', 'dialectVersion', 'requestId'])"
      ]
     },
     "execution_count": 613,
     "metadata": {},
     "output_type": "execute_result"
    }
   ],
   "source": [
    "beryll.keys()"
   ]
  },
  {
   "cell_type": "code",
   "execution_count": 614,
   "metadata": {},
   "outputs": [
    {
     "data": {
      "text/plain": [
       "'740059121'"
      ]
     },
     "execution_count": 614,
     "metadata": {},
     "output_type": "execute_result"
    }
   ],
   "source": [
    "beryll[\"stopLocationOrCoordLocation\"][0][\"StopLocation\"][\"extId\"]"
   ]
  },
  {
   "cell_type": "code",
   "execution_count": 615,
   "metadata": {},
   "outputs": [],
   "source": [
    "beryll_departures= get_departures(API_KEY, 740059121)[\"Departure\"]"
   ]
  },
  {
   "cell_type": "code",
   "execution_count": 616,
   "metadata": {},
   "outputs": [],
   "source": [
    "kungs= get_lookup(\"Kungsportsplatsen\")"
   ]
  },
  {
   "cell_type": "code",
   "execution_count": 617,
   "metadata": {},
   "outputs": [
    {
     "data": {
      "text/plain": [
       "'740016358'"
      ]
     },
     "execution_count": 617,
     "metadata": {},
     "output_type": "execute_result"
    }
   ],
   "source": [
    "kungs[\"stopLocationOrCoordLocation\"][0][\"StopLocation\"][\"extId\"]"
   ]
  },
  {
   "cell_type": "code",
   "execution_count": 618,
   "metadata": {},
   "outputs": [],
   "source": [
    "kungs_departures= get_departures(API_KEY, \"740016358\")[\"Departure\"]"
   ]
  },
  {
   "cell_type": "code",
   "execution_count": 619,
   "metadata": {},
   "outputs": [],
   "source": [
    "def get_departure_station(departures):\n",
    "    time= int(datetime.now().strftime(\"%H:%M:%S\").split(\":\")[1])\n",
    "    \n",
    "    for trip in departures[:5]:\n",
    "        departure_time= trip.get('time').split(\":\")\n",
    "        departure_minutes= int(departure_time[1]) - time\n",
    "        print(f\"{''.join(trip.get('name').split('- ')[1:])} mot {trip.get('direction')}: {departure_minutes}\")"
   ]
  },
  {
   "cell_type": "code",
   "execution_count": 620,
   "metadata": {},
   "outputs": [
    {
     "name": "stdout",
     "output_type": "stream",
     "text": [
      "Buss 50 mot Göteborg Brunnsparken: 3\n",
      "Buss 97 mot Fiskebäcks Småbåtshamn (Göteborg kn): 4\n",
      "Buss 50 mot Frölunda torg (Göteborg kn): 5\n",
      "Buss 97 mot Frölunda torg (Göteborg kn): 6\n",
      "Buss 50 mot Göteborg Brunnsparken: 13\n"
     ]
    }
   ],
   "source": [
    "get_departure_station(beryll_departures)"
   ]
  },
  {
   "cell_type": "code",
   "execution_count": 621,
   "metadata": {},
   "outputs": [
    {
     "name": "stdout",
     "output_type": "stream",
     "text": [
      "Buss 18 mot Bäckebol Norra (Göteborg kn): 0\n",
      "Spårväg 10 mot Göteborg Eketrägatan: 0\n",
      "Spårväg 5 mot Göteborg Östra sjukhuset: 0\n",
      "Spårväg 4 mot Angered centrum (Göteborg kn): 1\n",
      "Spårväg 3 mot Virginsgatan (Göteborg kn): 1\n"
     ]
    }
   ],
   "source": [
    "get_departure_station(kungs_departures)"
   ]
  },
  {
   "cell_type": "code",
   "execution_count": null,
   "metadata": {},
   "outputs": [],
   "source": []
  }
 ],
 "metadata": {
  "kernelspec": {
   "display_name": ".venv",
   "language": "python",
   "name": "python3"
  },
  "language_info": {
   "codemirror_mode": {
    "name": "ipython",
    "version": 3
   },
   "file_extension": ".py",
   "mimetype": "text/x-python",
   "name": "python",
   "nbconvert_exporter": "python",
   "pygments_lexer": "ipython3",
   "version": "3.12.6"
  }
 },
 "nbformat": 4,
 "nbformat_minor": 2
}
