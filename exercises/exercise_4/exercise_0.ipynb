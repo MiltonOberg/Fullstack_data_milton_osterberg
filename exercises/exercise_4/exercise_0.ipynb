{
 "cells": [
  {
   "cell_type": "markdown",
   "metadata": {},
   "source": [
    "# 0\n",
    "### A)"
   ]
  },
  {
   "cell_type": "code",
   "execution_count": 942,
   "metadata": {},
   "outputs": [],
   "source": [
    "from pathlib import Path\n",
    "from dotenv import load_dotenv\n",
    "import requests\n",
    "import os\n",
    "import pandas as pd\n",
    "import matplotlib.pyplot as plt\n",
    "import plotly.express as px"
   ]
  },
  {
   "cell_type": "code",
   "execution_count": 943,
   "metadata": {},
   "outputs": [
    {
     "data": {
      "text/plain": [
       "dict_keys(['Trip', 'ResultStatus', 'TechnicalMessages', 'serverVersion', 'dialectVersion', 'planRtTs', 'requestId', 'scrB', 'scrF'])"
      ]
     },
     "execution_count": 943,
     "metadata": {},
     "output_type": "execute_result"
    }
   ],
   "source": [
    "env_path = Path(\"../../code_alongs/11_data_from_API/.env\")\n",
    "load_dotenv(env_path)\n",
    "\n",
    "\n",
    "API_KEY = os.getenv(\"API_KEY\")\n",
    "\n",
    "url = f\"https://api.resrobot.se/v2.1/trip?format=json&originId=740000002&destId=740000003&passlist=true&showPassingPoints=true&accessId={API_KEY}\"\n",
    "\n",
    "response = requests.get(url)\n",
    "\n",
    "result = response.json()\n",
    "\n",
    "\n",
    "\n",
    "result.keys()"
   ]
  },
  {
   "cell_type": "code",
   "execution_count": 944,
   "metadata": {},
   "outputs": [],
   "source": [
    "def get_departures(api):\n",
    "    url = f\"https://api.resrobot.se/v2.1/departureBoard?id=740000002&format=json&accessId={api}\"\n",
    "    response = requests.get(url)\n",
    "    return response.json()\n",
    "\n",
    "\n",
    "def get_arrivals(api):\n",
    "    url = f\"https://api.resrobot.se/v2.1/arrivalBoard?id=740000002&format=json&accessId={api}\"\n",
    "    response = requests.get(url)\n",
    "    return response.json()"
   ]
  },
  {
   "cell_type": "code",
   "execution_count": 945,
   "metadata": {},
   "outputs": [],
   "source": [
    "departures = get_departures(api=API_KEY)\n",
    "arrivals = get_arrivals(api=API_KEY)"
   ]
  },
  {
   "cell_type": "code",
   "execution_count": 946,
   "metadata": {},
   "outputs": [
    {
     "data": {
      "text/plain": [
       "(dict_keys(['Departure', 'TechnicalMessages', 'serverVersion', 'dialectVersion', 'planRtTs', 'requestId']),\n",
       " dict_keys(['Arrival', 'TechnicalMessages', 'serverVersion', 'dialectVersion', 'planRtTs', 'requestId']))"
      ]
     },
     "execution_count": 946,
     "metadata": {},
     "output_type": "execute_result"
    }
   ],
   "source": [
    "departures.keys(), arrivals.keys()"
   ]
  },
  {
   "cell_type": "markdown",
   "metadata": {},
   "source": [
    "### B)"
   ]
  },
  {
   "cell_type": "code",
   "execution_count": 947,
   "metadata": {},
   "outputs": [
    {
     "data": {
      "text/plain": [
       "235"
      ]
     },
     "execution_count": 947,
     "metadata": {},
     "output_type": "execute_result"
    }
   ],
   "source": [
    "len(arrivals[\"Arrival\"])"
   ]
  },
  {
   "cell_type": "markdown",
   "metadata": {},
   "source": [
    "### C)"
   ]
  },
  {
   "cell_type": "code",
   "execution_count": 948,
   "metadata": {},
   "outputs": [
    {
     "data": {
      "text/plain": [
       "239"
      ]
     },
     "execution_count": 948,
     "metadata": {},
     "output_type": "execute_result"
    }
   ],
   "source": [
    "len(departures[\"Departure\"])"
   ]
  },
  {
   "cell_type": "markdown",
   "metadata": {},
   "source": [
    "### D)"
   ]
  },
  {
   "cell_type": "code",
   "execution_count": 949,
   "metadata": {},
   "outputs": [
    {
     "data": {
      "text/plain": [
       "dict_keys(['JourneyDetailRef', 'JourneyStatus', 'ProductAtStop', 'Product', 'Notes', 'name', 'type', 'stop', 'stopid', 'stopExtId', 'lon', 'lat', 'time', 'date', 'reachable', 'direction', 'directionFlag'])"
      ]
     },
     "execution_count": 949,
     "metadata": {},
     "output_type": "execute_result"
    }
   ],
   "source": [
    "departures[\"Departure\"][0].keys()"
   ]
  },
  {
   "cell_type": "code",
   "execution_count": 950,
   "metadata": {},
   "outputs": [
    {
     "name": "stdout",
     "output_type": "stream",
     "text": [
      "Länstrafik - Spårväg 6, Kortedala Aprilgatan (Göteborg kn), 16:26:00\n",
      "Länstrafik - Spårväg 6, Göteborg Varmfrontsgatan, 16:30:00\n",
      "Länstrafik - Spårväg 6, Kortedala Aprilgatan (Göteborg kn), 16:34:00\n",
      "Länstrafik - Spårväg 6, Göteborg Varmfrontsgatan, 16:38:00\n",
      "Länstrafik - Spårväg 6, Göteborg Varmfrontsgatan, 16:46:00\n",
      "Länstrafik - Spårväg 6, Kortedala Aprilgatan (Göteborg kn), 16:47:00\n",
      "Länstrafik - Spårväg 6, Göteborg Varmfrontsgatan, 16:54:00\n",
      "Länstrafik - Spårväg 6, Kortedala Aprilgatan (Göteborg kn), 16:56:00\n",
      "Länstrafik - Spårväg 6, Kortedala Aprilgatan (Göteborg kn), 17:04:00\n",
      "Länstrafik - Spårväg 6, Göteborg Varmfrontsgatan, 17:04:00\n",
      "Länstrafik - Spårväg 6, Kortedala Aprilgatan (Göteborg kn), 17:13:00\n",
      "Länstrafik - Spårväg 6, Göteborg Varmfrontsgatan, 17:15:00\n",
      "Länstrafik - Spårväg 6, Kortedala Aprilgatan (Göteborg kn), 17:22:00\n",
      "Länstrafik - Spårväg 6, Göteborg Varmfrontsgatan, 17:24:00\n"
     ]
    }
   ],
   "source": [
    "for depart in departures[\"Departure\"]:\n",
    "    if \"Spårväg\" in depart[\"name\"]:\n",
    "        print(f\"{depart['name']}, {depart['direction']}, {depart['time']}\")"
   ]
  },
  {
   "cell_type": "markdown",
   "metadata": {},
   "source": [
    "### E)"
   ]
  },
  {
   "cell_type": "code",
   "execution_count": 951,
   "metadata": {},
   "outputs": [],
   "source": [
    "departures = departures[\"Departure\"]"
   ]
  },
  {
   "cell_type": "code",
   "execution_count": 952,
   "metadata": {},
   "outputs": [],
   "source": [
    "trams = [\n",
    "    {\n",
    "        \"name\": tram.get(\"name\"),\n",
    "        \"lat\": tram.get(\"lat\"),\n",
    "        \"lon\": tram.get(\"lon\"),\n",
    "        \"direction\": tram.get(\"direction\"),\n",
    "    }\n",
    "    for tram in departures\n",
    "    if \"Spårväg\" in tram.get(\"name\")\n",
    "]"
   ]
  },
  {
   "cell_type": "code",
   "execution_count": 953,
   "metadata": {},
   "outputs": [],
   "source": [
    "data= pd.DataFrame(trams)"
   ]
  },
  {
   "cell_type": "code",
   "execution_count": 954,
   "metadata": {},
   "outputs": [
    {
     "data": {
      "application/vnd.plotly.v1+json": {
       "config": {
        "plotlyServerURL": "https://plot.ly"
       },
       "data": [
        {
         "hovertemplate": "<b>%{hovertext}</b><br><br>lat=%{lat}<br>lon=%{lon}<extra></extra>",
         "hovertext": [
          "Kortedala Aprilgatan (Göteborg kn)",
          "Göteborg Varmfrontsgatan",
          "Kortedala Aprilgatan (Göteborg kn)",
          "Göteborg Varmfrontsgatan",
          "Göteborg Varmfrontsgatan",
          "Kortedala Aprilgatan (Göteborg kn)",
          "Göteborg Varmfrontsgatan",
          "Kortedala Aprilgatan (Göteborg kn)",
          "Kortedala Aprilgatan (Göteborg kn)",
          "Göteborg Varmfrontsgatan",
          "Kortedala Aprilgatan (Göteborg kn)",
          "Göteborg Varmfrontsgatan",
          "Kortedala Aprilgatan (Göteborg kn)",
          "Göteborg Varmfrontsgatan"
         ],
         "lat": [
          57.709246,
          57.709246,
          57.709246,
          57.709246,
          57.709246,
          57.709246,
          57.709246,
          57.709246,
          57.709246,
          57.709246,
          57.709246,
          57.709246,
          57.709246,
          57.709246
         ],
         "legendgroup": "",
         "lon": [
          11.970791,
          11.970791,
          11.970791,
          11.970791,
          11.970791,
          11.970791,
          11.970791,
          11.970791,
          11.970791,
          11.970791,
          11.970791,
          11.970791,
          11.970791,
          11.970791
         ],
         "marker": {
          "color": "#636efa"
         },
         "mode": "markers",
         "name": "",
         "showlegend": false,
         "subplot": "mapbox",
         "type": "scattermapbox"
        }
       ],
       "layout": {
        "legend": {
         "tracegroupgap": 0
        },
        "mapbox": {
         "center": {
          "lat": 57.709246,
          "lon": 11.970791
         },
         "domain": {
          "x": [
           0,
           1
          ],
          "y": [
           0,
           1
          ]
         },
         "style": "open-street-map",
         "zoom": 15
        },
        "margin": {
         "t": 60
        },
        "template": {
         "data": {
          "bar": [
           {
            "error_x": {
             "color": "#2a3f5f"
            },
            "error_y": {
             "color": "#2a3f5f"
            },
            "marker": {
             "line": {
              "color": "#E5ECF6",
              "width": 0.5
             },
             "pattern": {
              "fillmode": "overlay",
              "size": 10,
              "solidity": 0.2
             }
            },
            "type": "bar"
           }
          ],
          "barpolar": [
           {
            "marker": {
             "line": {
              "color": "#E5ECF6",
              "width": 0.5
             },
             "pattern": {
              "fillmode": "overlay",
              "size": 10,
              "solidity": 0.2
             }
            },
            "type": "barpolar"
           }
          ],
          "carpet": [
           {
            "aaxis": {
             "endlinecolor": "#2a3f5f",
             "gridcolor": "white",
             "linecolor": "white",
             "minorgridcolor": "white",
             "startlinecolor": "#2a3f5f"
            },
            "baxis": {
             "endlinecolor": "#2a3f5f",
             "gridcolor": "white",
             "linecolor": "white",
             "minorgridcolor": "white",
             "startlinecolor": "#2a3f5f"
            },
            "type": "carpet"
           }
          ],
          "choropleth": [
           {
            "colorbar": {
             "outlinewidth": 0,
             "ticks": ""
            },
            "type": "choropleth"
           }
          ],
          "contour": [
           {
            "colorbar": {
             "outlinewidth": 0,
             "ticks": ""
            },
            "colorscale": [
             [
              0,
              "#0d0887"
             ],
             [
              0.1111111111111111,
              "#46039f"
             ],
             [
              0.2222222222222222,
              "#7201a8"
             ],
             [
              0.3333333333333333,
              "#9c179e"
             ],
             [
              0.4444444444444444,
              "#bd3786"
             ],
             [
              0.5555555555555556,
              "#d8576b"
             ],
             [
              0.6666666666666666,
              "#ed7953"
             ],
             [
              0.7777777777777778,
              "#fb9f3a"
             ],
             [
              0.8888888888888888,
              "#fdca26"
             ],
             [
              1,
              "#f0f921"
             ]
            ],
            "type": "contour"
           }
          ],
          "contourcarpet": [
           {
            "colorbar": {
             "outlinewidth": 0,
             "ticks": ""
            },
            "type": "contourcarpet"
           }
          ],
          "heatmap": [
           {
            "colorbar": {
             "outlinewidth": 0,
             "ticks": ""
            },
            "colorscale": [
             [
              0,
              "#0d0887"
             ],
             [
              0.1111111111111111,
              "#46039f"
             ],
             [
              0.2222222222222222,
              "#7201a8"
             ],
             [
              0.3333333333333333,
              "#9c179e"
             ],
             [
              0.4444444444444444,
              "#bd3786"
             ],
             [
              0.5555555555555556,
              "#d8576b"
             ],
             [
              0.6666666666666666,
              "#ed7953"
             ],
             [
              0.7777777777777778,
              "#fb9f3a"
             ],
             [
              0.8888888888888888,
              "#fdca26"
             ],
             [
              1,
              "#f0f921"
             ]
            ],
            "type": "heatmap"
           }
          ],
          "heatmapgl": [
           {
            "colorbar": {
             "outlinewidth": 0,
             "ticks": ""
            },
            "colorscale": [
             [
              0,
              "#0d0887"
             ],
             [
              0.1111111111111111,
              "#46039f"
             ],
             [
              0.2222222222222222,
              "#7201a8"
             ],
             [
              0.3333333333333333,
              "#9c179e"
             ],
             [
              0.4444444444444444,
              "#bd3786"
             ],
             [
              0.5555555555555556,
              "#d8576b"
             ],
             [
              0.6666666666666666,
              "#ed7953"
             ],
             [
              0.7777777777777778,
              "#fb9f3a"
             ],
             [
              0.8888888888888888,
              "#fdca26"
             ],
             [
              1,
              "#f0f921"
             ]
            ],
            "type": "heatmapgl"
           }
          ],
          "histogram": [
           {
            "marker": {
             "pattern": {
              "fillmode": "overlay",
              "size": 10,
              "solidity": 0.2
             }
            },
            "type": "histogram"
           }
          ],
          "histogram2d": [
           {
            "colorbar": {
             "outlinewidth": 0,
             "ticks": ""
            },
            "colorscale": [
             [
              0,
              "#0d0887"
             ],
             [
              0.1111111111111111,
              "#46039f"
             ],
             [
              0.2222222222222222,
              "#7201a8"
             ],
             [
              0.3333333333333333,
              "#9c179e"
             ],
             [
              0.4444444444444444,
              "#bd3786"
             ],
             [
              0.5555555555555556,
              "#d8576b"
             ],
             [
              0.6666666666666666,
              "#ed7953"
             ],
             [
              0.7777777777777778,
              "#fb9f3a"
             ],
             [
              0.8888888888888888,
              "#fdca26"
             ],
             [
              1,
              "#f0f921"
             ]
            ],
            "type": "histogram2d"
           }
          ],
          "histogram2dcontour": [
           {
            "colorbar": {
             "outlinewidth": 0,
             "ticks": ""
            },
            "colorscale": [
             [
              0,
              "#0d0887"
             ],
             [
              0.1111111111111111,
              "#46039f"
             ],
             [
              0.2222222222222222,
              "#7201a8"
             ],
             [
              0.3333333333333333,
              "#9c179e"
             ],
             [
              0.4444444444444444,
              "#bd3786"
             ],
             [
              0.5555555555555556,
              "#d8576b"
             ],
             [
              0.6666666666666666,
              "#ed7953"
             ],
             [
              0.7777777777777778,
              "#fb9f3a"
             ],
             [
              0.8888888888888888,
              "#fdca26"
             ],
             [
              1,
              "#f0f921"
             ]
            ],
            "type": "histogram2dcontour"
           }
          ],
          "mesh3d": [
           {
            "colorbar": {
             "outlinewidth": 0,
             "ticks": ""
            },
            "type": "mesh3d"
           }
          ],
          "parcoords": [
           {
            "line": {
             "colorbar": {
              "outlinewidth": 0,
              "ticks": ""
             }
            },
            "type": "parcoords"
           }
          ],
          "pie": [
           {
            "automargin": true,
            "type": "pie"
           }
          ],
          "scatter": [
           {
            "fillpattern": {
             "fillmode": "overlay",
             "size": 10,
             "solidity": 0.2
            },
            "type": "scatter"
           }
          ],
          "scatter3d": [
           {
            "line": {
             "colorbar": {
              "outlinewidth": 0,
              "ticks": ""
             }
            },
            "marker": {
             "colorbar": {
              "outlinewidth": 0,
              "ticks": ""
             }
            },
            "type": "scatter3d"
           }
          ],
          "scattercarpet": [
           {
            "marker": {
             "colorbar": {
              "outlinewidth": 0,
              "ticks": ""
             }
            },
            "type": "scattercarpet"
           }
          ],
          "scattergeo": [
           {
            "marker": {
             "colorbar": {
              "outlinewidth": 0,
              "ticks": ""
             }
            },
            "type": "scattergeo"
           }
          ],
          "scattergl": [
           {
            "marker": {
             "colorbar": {
              "outlinewidth": 0,
              "ticks": ""
             }
            },
            "type": "scattergl"
           }
          ],
          "scattermapbox": [
           {
            "marker": {
             "colorbar": {
              "outlinewidth": 0,
              "ticks": ""
             }
            },
            "type": "scattermapbox"
           }
          ],
          "scatterpolar": [
           {
            "marker": {
             "colorbar": {
              "outlinewidth": 0,
              "ticks": ""
             }
            },
            "type": "scatterpolar"
           }
          ],
          "scatterpolargl": [
           {
            "marker": {
             "colorbar": {
              "outlinewidth": 0,
              "ticks": ""
             }
            },
            "type": "scatterpolargl"
           }
          ],
          "scatterternary": [
           {
            "marker": {
             "colorbar": {
              "outlinewidth": 0,
              "ticks": ""
             }
            },
            "type": "scatterternary"
           }
          ],
          "surface": [
           {
            "colorbar": {
             "outlinewidth": 0,
             "ticks": ""
            },
            "colorscale": [
             [
              0,
              "#0d0887"
             ],
             [
              0.1111111111111111,
              "#46039f"
             ],
             [
              0.2222222222222222,
              "#7201a8"
             ],
             [
              0.3333333333333333,
              "#9c179e"
             ],
             [
              0.4444444444444444,
              "#bd3786"
             ],
             [
              0.5555555555555556,
              "#d8576b"
             ],
             [
              0.6666666666666666,
              "#ed7953"
             ],
             [
              0.7777777777777778,
              "#fb9f3a"
             ],
             [
              0.8888888888888888,
              "#fdca26"
             ],
             [
              1,
              "#f0f921"
             ]
            ],
            "type": "surface"
           }
          ],
          "table": [
           {
            "cells": {
             "fill": {
              "color": "#EBF0F8"
             },
             "line": {
              "color": "white"
             }
            },
            "header": {
             "fill": {
              "color": "#C8D4E3"
             },
             "line": {
              "color": "white"
             }
            },
            "type": "table"
           }
          ]
         },
         "layout": {
          "annotationdefaults": {
           "arrowcolor": "#2a3f5f",
           "arrowhead": 0,
           "arrowwidth": 1
          },
          "autotypenumbers": "strict",
          "coloraxis": {
           "colorbar": {
            "outlinewidth": 0,
            "ticks": ""
           }
          },
          "colorscale": {
           "diverging": [
            [
             0,
             "#8e0152"
            ],
            [
             0.1,
             "#c51b7d"
            ],
            [
             0.2,
             "#de77ae"
            ],
            [
             0.3,
             "#f1b6da"
            ],
            [
             0.4,
             "#fde0ef"
            ],
            [
             0.5,
             "#f7f7f7"
            ],
            [
             0.6,
             "#e6f5d0"
            ],
            [
             0.7,
             "#b8e186"
            ],
            [
             0.8,
             "#7fbc41"
            ],
            [
             0.9,
             "#4d9221"
            ],
            [
             1,
             "#276419"
            ]
           ],
           "sequential": [
            [
             0,
             "#0d0887"
            ],
            [
             0.1111111111111111,
             "#46039f"
            ],
            [
             0.2222222222222222,
             "#7201a8"
            ],
            [
             0.3333333333333333,
             "#9c179e"
            ],
            [
             0.4444444444444444,
             "#bd3786"
            ],
            [
             0.5555555555555556,
             "#d8576b"
            ],
            [
             0.6666666666666666,
             "#ed7953"
            ],
            [
             0.7777777777777778,
             "#fb9f3a"
            ],
            [
             0.8888888888888888,
             "#fdca26"
            ],
            [
             1,
             "#f0f921"
            ]
           ],
           "sequentialminus": [
            [
             0,
             "#0d0887"
            ],
            [
             0.1111111111111111,
             "#46039f"
            ],
            [
             0.2222222222222222,
             "#7201a8"
            ],
            [
             0.3333333333333333,
             "#9c179e"
            ],
            [
             0.4444444444444444,
             "#bd3786"
            ],
            [
             0.5555555555555556,
             "#d8576b"
            ],
            [
             0.6666666666666666,
             "#ed7953"
            ],
            [
             0.7777777777777778,
             "#fb9f3a"
            ],
            [
             0.8888888888888888,
             "#fdca26"
            ],
            [
             1,
             "#f0f921"
            ]
           ]
          },
          "colorway": [
           "#636efa",
           "#EF553B",
           "#00cc96",
           "#ab63fa",
           "#FFA15A",
           "#19d3f3",
           "#FF6692",
           "#B6E880",
           "#FF97FF",
           "#FECB52"
          ],
          "font": {
           "color": "#2a3f5f"
          },
          "geo": {
           "bgcolor": "white",
           "lakecolor": "white",
           "landcolor": "#E5ECF6",
           "showlakes": true,
           "showland": true,
           "subunitcolor": "white"
          },
          "hoverlabel": {
           "align": "left"
          },
          "hovermode": "closest",
          "mapbox": {
           "style": "light"
          },
          "paper_bgcolor": "white",
          "plot_bgcolor": "#E5ECF6",
          "polar": {
           "angularaxis": {
            "gridcolor": "white",
            "linecolor": "white",
            "ticks": ""
           },
           "bgcolor": "#E5ECF6",
           "radialaxis": {
            "gridcolor": "white",
            "linecolor": "white",
            "ticks": ""
           }
          },
          "scene": {
           "xaxis": {
            "backgroundcolor": "#E5ECF6",
            "gridcolor": "white",
            "gridwidth": 2,
            "linecolor": "white",
            "showbackground": true,
            "ticks": "",
            "zerolinecolor": "white"
           },
           "yaxis": {
            "backgroundcolor": "#E5ECF6",
            "gridcolor": "white",
            "gridwidth": 2,
            "linecolor": "white",
            "showbackground": true,
            "ticks": "",
            "zerolinecolor": "white"
           },
           "zaxis": {
            "backgroundcolor": "#E5ECF6",
            "gridcolor": "white",
            "gridwidth": 2,
            "linecolor": "white",
            "showbackground": true,
            "ticks": "",
            "zerolinecolor": "white"
           }
          },
          "shapedefaults": {
           "line": {
            "color": "#2a3f5f"
           }
          },
          "ternary": {
           "aaxis": {
            "gridcolor": "white",
            "linecolor": "white",
            "ticks": ""
           },
           "baxis": {
            "gridcolor": "white",
            "linecolor": "white",
            "ticks": ""
           },
           "bgcolor": "#E5ECF6",
           "caxis": {
            "gridcolor": "white",
            "linecolor": "white",
            "ticks": ""
           }
          },
          "title": {
           "x": 0.05
          },
          "xaxis": {
           "automargin": true,
           "gridcolor": "white",
           "linecolor": "white",
           "ticks": "",
           "title": {
            "standoff": 15
           },
           "zerolinecolor": "white",
           "zerolinewidth": 2
          },
          "yaxis": {
           "automargin": true,
           "gridcolor": "white",
           "linecolor": "white",
           "ticks": "",
           "title": {
            "standoff": 15
           },
           "zerolinecolor": "white",
           "zerolinewidth": 2
          }
         }
        }
       }
      }
     },
     "metadata": {},
     "output_type": "display_data"
    }
   ],
   "source": [
    "fig = px.scatter_mapbox(data, lat=\"lat\", lon= \"lon\", hover_name=\"direction\", mapbox_style= \"open-street-map\", zoom= 15)\n",
    "\n",
    "fig.show()"
   ]
  },
  {
   "cell_type": "markdown",
   "metadata": {},
   "source": [
    "### F)"
   ]
  },
  {
   "cell_type": "code",
   "execution_count": null,
   "metadata": {},
   "outputs": [],
   "source": []
  },
  {
   "cell_type": "markdown",
   "metadata": {},
   "source": [
    "# 1\n",
    "### A)"
   ]
  },
  {
   "cell_type": "markdown",
   "metadata": {},
   "source": [
    "# Stop Lookup"
   ]
  },
  {
   "cell_type": "code",
   "execution_count": 955,
   "metadata": {},
   "outputs": [],
   "source": [
    "def get_lookup(search):\n",
    "    url= f\"https://api.resrobot.se/v2.1/location.name?input={search}&format=json&accessId={API_KEY}\"\n",
    "    return requests.get(url).json()"
   ]
  },
  {
   "cell_type": "code",
   "execution_count": 956,
   "metadata": {},
   "outputs": [
    {
     "data": {
      "text/plain": [
       "'740098038'"
      ]
     },
     "execution_count": 956,
     "metadata": {},
     "output_type": "execute_result"
    }
   ],
   "source": [
    "lund= get_lookup(\"Lund\")\n",
    "lund[\"stopLocationOrCoordLocation\"][0][\"StopLocation\"][\"extId\"]"
   ]
  },
  {
   "cell_type": "code",
   "execution_count": 957,
   "metadata": {},
   "outputs": [
    {
     "data": {
      "text/plain": [
       "'740098001'"
      ]
     },
     "execution_count": 957,
     "metadata": {},
     "output_type": "execute_result"
    }
   ],
   "source": [
    "gothenburg= get_lookup(\"Göteborg\")\n",
    "gothenburg[\"stopLocationOrCoordLocation\"][0][\"StopLocation\"][\"extId\"]"
   ]
  },
  {
   "cell_type": "code",
   "execution_count": 958,
   "metadata": {},
   "outputs": [],
   "source": [
    "def route_planner(org, des):\n",
    "    \n",
    "    url= f\"https://api.resrobot.se/v2.1/trip?format=json&originId={org}&destId={des}&passlist=true&showPassingPoints=true&accessId={API_KEY}\"\n",
    "\n",
    "    return requests.get(url).json()"
   ]
  },
  {
   "cell_type": "code",
   "execution_count": 959,
   "metadata": {},
   "outputs": [],
   "source": [
    "trip= route_planner(740098001, 740098038)"
   ]
  },
  {
   "cell_type": "code",
   "execution_count": 960,
   "metadata": {},
   "outputs": [
    {
     "data": {
      "text/plain": [
       "dict_keys(['Trip', 'ResultStatus', 'TechnicalMessages', 'serverVersion', 'dialectVersion', 'planRtTs', 'requestId', 'scrB', 'scrF'])"
      ]
     },
     "execution_count": 960,
     "metadata": {},
     "output_type": "execute_result"
    }
   ],
   "source": [
    "trip.keys()"
   ]
  },
  {
   "cell_type": "code",
   "execution_count": 961,
   "metadata": {},
   "outputs": [],
   "source": [
    "example_trip = trip[\"Trip\"][0]"
   ]
  },
  {
   "cell_type": "code",
   "execution_count": 962,
   "metadata": {},
   "outputs": [
    {
     "data": {
      "text/plain": [
       "[{'name': 'Göteborg Centralstation',\n",
       "  'id': 'A=1@O=Göteborg Centralstation@X=11973479@Y=57708895@U=1@L=740000002@',\n",
       "  'extId': '740000002',\n",
       "  'routeIdx': 0,\n",
       "  'lon': 11.973479,\n",
       "  'lat': 57.708895,\n",
       "  'depPrognosisType': 'PROGNOSED',\n",
       "  'depTime': '16:40:00',\n",
       "  'depDate': '2025-01-09',\n",
       "  'depDir': 'Köpenhamn Österport (Danmark)',\n",
       "  'minimumChangeDuration': 'PT15M'},\n",
       " {'name': 'Mölndal station',\n",
       "  'id': 'A=1@O=Mölndal station@X=12018722@Y=57655958@U=1@L=740000315@',\n",
       "  'extId': '740000315',\n",
       "  'routeIdx': 1,\n",
       "  'lon': 12.018722,\n",
       "  'lat': 57.655958,\n",
       "  'depTime': '16:48:00',\n",
       "  'depDate': '2025-01-09',\n",
       "  'arrTime': '16:48:00',\n",
       "  'arrDate': '2025-01-09',\n",
       "  'minimumChangeDuration': 'PT9M'},\n",
       " {'name': 'Kungsbacka station',\n",
       "  'id': 'A=1@O=Kungsbacka station@X=12079614@Y=57490556@U=1@L=740000161@',\n",
       "  'extId': '740000161',\n",
       "  'routeIdx': 2,\n",
       "  'lon': 12.079614,\n",
       "  'lat': 57.490556,\n",
       "  'depTime': '16:59:00',\n",
       "  'depDate': '2025-01-09',\n",
       "  'arrTime': '16:59:00',\n",
       "  'arrDate': '2025-01-09',\n",
       "  'minimumChangeDuration': 'PT5M'},\n",
       " {'name': 'Varberg station',\n",
       "  'id': 'A=1@O=Varberg station@X=12248081@Y=57109378@U=1@L=740000110@',\n",
       "  'extId': '740000110',\n",
       "  'routeIdx': 3,\n",
       "  'lon': 12.248081,\n",
       "  'lat': 57.109378,\n",
       "  'depTime': '17:29:00',\n",
       "  'depDate': '2025-01-09',\n",
       "  'arrTime': '17:25:00',\n",
       "  'arrDate': '2025-01-09',\n",
       "  'minimumChangeDuration': 'PT5M'},\n",
       " {'name': 'Falkenberg station',\n",
       "  'id': 'A=1@O=Falkenberg station@X=12507555@Y=56919768@U=1@L=740001579@',\n",
       "  'extId': '740001579',\n",
       "  'routeIdx': 4,\n",
       "  'lon': 12.507555,\n",
       "  'lat': 56.919768,\n",
       "  'depTime': '17:45:00',\n",
       "  'depDate': '2025-01-09',\n",
       "  'arrTime': '17:45:00',\n",
       "  'arrDate': '2025-01-09',\n",
       "  'minimumChangeDuration': 'PT4M'},\n",
       " {'name': 'Halmstad Centralstation',\n",
       "  'id': 'A=1@O=Halmstad Centralstation@X=12864840@Y=56669275@U=1@L=740000080@',\n",
       "  'extId': '740000080',\n",
       "  'routeIdx': 5,\n",
       "  'lon': 12.86484,\n",
       "  'lat': 56.669275,\n",
       "  'depTime': '18:13:00',\n",
       "  'depDate': '2025-01-09',\n",
       "  'arrTime': '18:03:00',\n",
       "  'arrDate': '2025-01-09',\n",
       "  'minimumChangeDuration': 'PT10M'},\n",
       " {'name': 'Laholm station',\n",
       "  'id': 'A=1@O=Laholm station@X=12999606@Y=56501905@U=1@L=740000058@',\n",
       "  'extId': '740000058',\n",
       "  'routeIdx': 6,\n",
       "  'lon': 12.999606,\n",
       "  'lat': 56.501905,\n",
       "  'depTime': '18:25:00',\n",
       "  'depDate': '2025-01-09',\n",
       "  'arrTime': '18:25:00',\n",
       "  'arrDate': '2025-01-09',\n",
       "  'minimumChangeDuration': 'PT9M'},\n",
       " {'name': 'Båstad station',\n",
       "  'id': 'A=1@O=Båstad station@X=12906991@Y=56431834@U=1@L=740001603@',\n",
       "  'extId': '740001603',\n",
       "  'routeIdx': 7,\n",
       "  'lon': 12.906991,\n",
       "  'lat': 56.431834,\n",
       "  'depTime': '18:32:00',\n",
       "  'depDate': '2025-01-09',\n",
       "  'arrTime': '18:32:00',\n",
       "  'arrDate': '2025-01-09',\n",
       "  'minimumChangeDuration': 'PT4M'},\n",
       " {'name': 'Ängelholm station',\n",
       "  'id': 'A=1@O=Ängelholm station@X=12854197@Y=56245200@U=1@L=740000064@',\n",
       "  'extId': '740000064',\n",
       "  'routeIdx': 8,\n",
       "  'lon': 12.854197,\n",
       "  'lat': 56.2452,\n",
       "  'depTime': '18:43:00',\n",
       "  'depDate': '2025-01-09',\n",
       "  'arrTime': '18:43:00',\n",
       "  'arrDate': '2025-01-09',\n",
       "  'minimumChangeDuration': 'PT10M'},\n",
       " {'name': 'Helsingborg Centralstation',\n",
       "  'id': 'A=1@O=Helsingborg Centralstation@X=12694261@Y=56044408@U=1@L=740000044@',\n",
       "  'extId': '740000044',\n",
       "  'routeIdx': 9,\n",
       "  'lon': 12.694261,\n",
       "  'lat': 56.044408,\n",
       "  'depTime': '19:07:00',\n",
       "  'depDate': '2025-01-09',\n",
       "  'arrTime': '19:04:00',\n",
       "  'arrDate': '2025-01-09',\n",
       "  'minimumChangeDuration': 'PT9M'},\n",
       " {'name': 'Landskrona station',\n",
       "  'id': 'A=1@O=Landskrona station@X=12857406@Y=55878898@U=1@L=740001554@',\n",
       "  'extId': '740001554',\n",
       "  'routeIdx': 10,\n",
       "  'lon': 12.857406,\n",
       "  'lat': 55.878898,\n",
       "  'depTime': '19:19:00',\n",
       "  'depDate': '2025-01-09',\n",
       "  'arrTime': '19:19:00',\n",
       "  'arrDate': '2025-01-09',\n",
       "  'minimumChangeDuration': 'PT9M'},\n",
       " {'name': 'Lund Centralstation',\n",
       "  'id': 'A=1@O=Lund Centralstation@X=13186897@Y=55708094@U=1@L=740000120@',\n",
       "  'extId': '740000120',\n",
       "  'routeIdx': 11,\n",
       "  'lon': 13.186897,\n",
       "  'lat': 55.708094,\n",
       "  'arrTime': '19:36:00',\n",
       "  'arrDate': '2025-01-09',\n",
       "  'minimumChangeDuration': 'PT10M'}]"
      ]
     },
     "execution_count": 962,
     "metadata": {},
     "output_type": "execute_result"
    }
   ],
   "source": [
    "stops=example_trip[\"LegList\"][\"Leg\"][0][\"Stops\"][\"Stop\"]\n",
    "stops"
   ]
  },
  {
   "cell_type": "code",
   "execution_count": 963,
   "metadata": {},
   "outputs": [
    {
     "data": {
      "text/plain": [
       "['Göteborg Centralstation',\n",
       " 'Mölndal station',\n",
       " 'Kungsbacka station',\n",
       " 'Varberg station',\n",
       " 'Falkenberg station',\n",
       " 'Halmstad Centralstation',\n",
       " 'Laholm station',\n",
       " 'Båstad station',\n",
       " 'Ängelholm station',\n",
       " 'Helsingborg Centralstation',\n",
       " 'Landskrona station',\n",
       " 'Lund Centralstation']"
      ]
     },
     "execution_count": 963,
     "metadata": {},
     "output_type": "execute_result"
    }
   ],
   "source": [
    "[stop.get(\"name\")for stop in stops]"
   ]
  },
  {
   "cell_type": "markdown",
   "metadata": {},
   "source": [
    "### B)"
   ]
  },
  {
   "cell_type": "code",
   "execution_count": 964,
   "metadata": {},
   "outputs": [
    {
     "data": {
      "text/plain": [
       "'740098000'"
      ]
     },
     "execution_count": 964,
     "metadata": {},
     "output_type": "execute_result"
    }
   ],
   "source": [
    "sthlm= get_lookup(\"Stockholm\")\n",
    "sthlm[\"stopLocationOrCoordLocation\"][0][\"StopLocation\"][\"extId\"]"
   ]
  },
  {
   "cell_type": "code",
   "execution_count": 965,
   "metadata": {},
   "outputs": [
    {
     "data": {
      "text/plain": [
       "{'Trip': [{'Origin': {'name': 'Göteborg Centralstation',\n",
       "    'type': 'ST',\n",
       "    'id': 'A=1@O=Göteborg Centralstation@X=11973479@Y=57708895@U=1@L=740000002@',\n",
       "    'extId': '740000002',\n",
       "    'lon': 11.973479,\n",
       "    'lat': 57.708895,\n",
       "    'routeIdx': 0,\n",
       "    'prognosisType': 'PROGNOSED',\n",
       "    'time': '16:59:00',\n",
       "    'date': '2025-01-09',\n",
       "    'minimumChangeDuration': 'PT15M'},\n",
       "   'Destination': {'name': 'Stockholm Centralstation',\n",
       "    'type': 'ST',\n",
       "    'id': 'A=1@O=Stockholm Centralstation@X=18058151@Y=59330136@U=1@L=740000001@',\n",
       "    'extId': '740000001',\n",
       "    'lon': 18.058151,\n",
       "    'lat': 59.330136,\n",
       "    'routeIdx': 6,\n",
       "    'prognosisType': 'PROGNOSED',\n",
       "    'time': '20:33:00',\n",
       "    'date': '2025-01-09',\n",
       "    'minimumChangeDuration': 'PT20M'},\n",
       "   'ServiceDays': [{'planningPeriodBegin': '2025-01-02',\n",
       "     'planningPeriodEnd': '2025-06-15',\n",
       "     'sDaysR': 'inte varje dag',\n",
       "     'sDaysI': '9., 10. jan',\n",
       "     'sDaysB': '1F8000000000000000000000000000000000000000'}],\n",
       "   'LegList': {'Leg': [{'Origin': {'name': 'Göteborg Centralstation',\n",
       "       'type': 'ST',\n",
       "       'id': 'A=1@O=Göteborg Centralstation@X=11973479@Y=57708895@U=1@L=740000002@',\n",
       "       'extId': '740000002',\n",
       "       'lon': 11.973479,\n",
       "       'lat': 57.708895,\n",
       "       'routeIdx': 0,\n",
       "       'prognosisType': 'PROGNOSED',\n",
       "       'time': '16:59:00',\n",
       "       'date': '2025-01-09',\n",
       "       'minimumChangeDuration': 'PT15M'},\n",
       "      'Destination': {'name': 'Stockholm Centralstation',\n",
       "       'type': 'ST',\n",
       "       'id': 'A=1@O=Stockholm Centralstation@X=18058151@Y=59330136@U=1@L=740000001@',\n",
       "       'extId': '740000001',\n",
       "       'lon': 18.058151,\n",
       "       'lat': 59.330136,\n",
       "       'routeIdx': 6,\n",
       "       'prognosisType': 'PROGNOSED',\n",
       "       'time': '20:33:00',\n",
       "       'date': '2025-01-09',\n",
       "       'minimumChangeDuration': 'PT20M'},\n",
       "      'Notes': {'Note': [{'value': 'Mat 1 klass',\n",
       "         'key': 'A1',\n",
       "         'type': 'A',\n",
       "         'routeIdxFrom': 0,\n",
       "         'routeIdxTo': 6,\n",
       "         'txtN': 'Mat 1 klass'},\n",
       "        {'value': 'Obligatorisk platsbokning',\n",
       "         'key': 'AF',\n",
       "         'type': 'A',\n",
       "         'routeIdxFrom': 0,\n",
       "         'routeIdxTo': 6,\n",
       "         'txtN': 'Obligatorisk platsbokning'},\n",
       "        {'value': 'Rullstolslyft',\n",
       "         'key': 'AN',\n",
       "         'type': 'A',\n",
       "         'routeIdxFrom': 0,\n",
       "         'routeIdxTo': 6,\n",
       "         'txtN': 'Rullstolslyft'},\n",
       "        {'value': 'WiFi',\n",
       "         'key': 'AW',\n",
       "         'type': 'A',\n",
       "         'routeIdxFrom': 0,\n",
       "         'routeIdxTo': 6,\n",
       "         'txtN': 'WiFi'},\n",
       "        {'value': 'EU förordning 2021/782',\n",
       "         'key': 'EJ',\n",
       "         'type': 'A',\n",
       "         'routeIdxFrom': 0,\n",
       "         'routeIdxTo': 6,\n",
       "         'txtN': 'EU förordning 2021/782'},\n",
       "        {'value': 'Eluttag vid sittplats',\n",
       "         'key': 'EL',\n",
       "         'type': 'A',\n",
       "         'routeIdxFrom': 0,\n",
       "         'routeIdxTo': 6,\n",
       "         'txtN': 'Eluttag vid sittplats'},\n",
       "        {'value': 'Kafé',\n",
       "         'key': 'SK',\n",
       "         'type': 'A',\n",
       "         'routeIdxFrom': 0,\n",
       "         'routeIdxTo': 6,\n",
       "         'txtN': 'Kafé'}]},\n",
       "      'JourneyDetailRef': {'ref': '1|69255|0|1|9012025'},\n",
       "      'JourneyStatus': 'P',\n",
       "      'Product': [{'icon': {'res': 'prod_gen'},\n",
       "        'operatorInfo': {'name': 'VR Snabbtåg',\n",
       "         'nameS': '812',\n",
       "         'nameN': '812',\n",
       "         'nameL': 'VR Snabbtåg',\n",
       "         'id': '812'},\n",
       "        'name': 'Express 22044',\n",
       "        'internalName': 'Express 22044',\n",
       "        'displayNumber': '22044',\n",
       "        'num': '22044',\n",
       "        'line': '22044',\n",
       "        'lineId': '1812003700020',\n",
       "        'catOut': 'JEX',\n",
       "        'catIn': 'JEX',\n",
       "        'catCode': '1',\n",
       "        'cls': '2',\n",
       "        'catOutS': 'JEX',\n",
       "        'catOutL': 'Express',\n",
       "        'operatorCode': '812',\n",
       "        'operator': 'VR Snabbtåg',\n",
       "        'admin': '812___',\n",
       "        'routeIdxFrom': 0,\n",
       "        'routeIdxTo': 6,\n",
       "        'matchId': '2034;37;4156'}],\n",
       "      'Stops': {'Stop': [{'name': 'Göteborg Centralstation',\n",
       "         'id': 'A=1@O=Göteborg Centralstation@X=11973479@Y=57708895@U=1@L=740000002@',\n",
       "         'extId': '740000002',\n",
       "         'routeIdx': 0,\n",
       "         'lon': 11.973479,\n",
       "         'lat': 57.708895,\n",
       "         'depPrognosisType': 'PROGNOSED',\n",
       "         'depTime': '16:59:00',\n",
       "         'depDate': '2025-01-09',\n",
       "         'depDir': 'Stockholm Centralstation',\n",
       "         'minimumChangeDuration': 'PT15M'},\n",
       "        {'Notes': {'Note': [{'value': 'Stannar endast för påstigande',\n",
       "            'key': 'text.realtime.stop.exit.disabled',\n",
       "            'type': 'R',\n",
       "            'txtN': 'Stannar endast för påstigande'}]},\n",
       "         'name': 'Alingsås station',\n",
       "         'id': 'A=1@O=Alingsås station@X=12532491@Y=57926857@U=1@L=740000018@',\n",
       "         'extId': '740000018',\n",
       "         'routeIdx': 1,\n",
       "         'lon': 12.532491,\n",
       "         'lat': 57.926857,\n",
       "         'depTime': '17:30:00',\n",
       "         'depDate': '2025-01-09',\n",
       "         'alighting': False,\n",
       "         'minimumChangeDuration': 'PT7M'},\n",
       "        {'name': 'Herrljunga station',\n",
       "         'id': 'A=1@O=Herrljunga station@X=13021279@Y=58079188@U=1@L=740000040@',\n",
       "         'extId': '740000040',\n",
       "         'routeIdx': 2,\n",
       "         'lon': 13.021279,\n",
       "         'lat': 58.079188,\n",
       "         'depTime': '17:45:00',\n",
       "         'depDate': '2025-01-09',\n",
       "         'arrTime': '17:45:00',\n",
       "         'arrDate': '2025-01-09',\n",
       "         'minimumChangeDuration': 'PT8M'},\n",
       "        {'name': 'Falköping Centralstation',\n",
       "         'id': 'A=1@O=Falköping Centralstation@X=13553791@Y=58176101@U=1@L=740000060@',\n",
       "         'extId': '740000060',\n",
       "         'routeIdx': 3,\n",
       "         'lon': 13.553791,\n",
       "         'lat': 58.176101,\n",
       "         'depTime': '18:01:00',\n",
       "         'depDate': '2025-01-09',\n",
       "         'arrTime': '18:01:00',\n",
       "         'arrDate': '2025-01-09',\n",
       "         'minimumChangeDuration': 'PT8M'},\n",
       "        {'name': 'Skövde Centralstation',\n",
       "         'id': 'A=1@O=Skövde Centralstation@X=13853195@Y=58390898@U=1@L=740000008@',\n",
       "         'extId': '740000008',\n",
       "         'routeIdx': 4,\n",
       "         'lon': 13.853195,\n",
       "         'lat': 58.390898,\n",
       "         'depTime': '18:16:00',\n",
       "         'depDate': '2025-01-09',\n",
       "         'arrTime': '18:16:00',\n",
       "         'arrDate': '2025-01-09',\n",
       "         'minimumChangeDuration': 'PT10M'},\n",
       "        {'Notes': {'Note': [{'value': 'Stannar endast för avstigande',\n",
       "            'key': 'text.realtime.stop.entry.disabled',\n",
       "            'type': 'R',\n",
       "            'txtN': 'Stannar endast för avstigande'}]},\n",
       "         'name': 'Flemingsberg station (Huddinge kn)',\n",
       "         'id': 'A=1@O=Flemingsberg station (Huddinge kn)@X=17945678@Y=59217959@U=1@L=740000031@',\n",
       "         'extId': '740000031',\n",
       "         'routeIdx': 5,\n",
       "         'lon': 17.945678,\n",
       "         'lat': 59.217959,\n",
       "         'arrTime': '20:21:00',\n",
       "         'arrDate': '2025-01-09',\n",
       "         'boarding': False,\n",
       "         'minimumChangeDuration': 'PT10M'},\n",
       "        {'name': 'Stockholm Centralstation',\n",
       "         'id': 'A=1@O=Stockholm Centralstation@X=18058151@Y=59330136@U=1@L=740000001@',\n",
       "         'extId': '740000001',\n",
       "         'routeIdx': 6,\n",
       "         'lon': 18.058151,\n",
       "         'lat': 59.330136,\n",
       "         'arrPrognosisType': 'PROGNOSED',\n",
       "         'arrTime': '20:33:00',\n",
       "         'arrDate': '2025-01-09',\n",
       "         'minimumChangeDuration': 'PT20M'}]},\n",
       "      'JourneyDetail': {'ref': '1|69255|0|1|9012025',\n",
       "       'dayOfOperation': '2025-01-09'},\n",
       "      'id': '0',\n",
       "      'idx': 0,\n",
       "      'name': 'Express 22044',\n",
       "      'number': '22044',\n",
       "      'category': 'JEX',\n",
       "      'type': 'JNY',\n",
       "      'reachable': True,\n",
       "      'waitingState': 'UNDEF',\n",
       "      'direction': 'Stockholm Centralstation',\n",
       "      'directionFlag': '2',\n",
       "      'duration': 'PT3H34M'}]},\n",
       "   'calculation': 'INITIAL',\n",
       "   'TripStatus': {'hintCode': 0},\n",
       "   'idx': 0,\n",
       "   'tripId': 'C-0',\n",
       "   'ctxRecon': '¶HKI¶T$A=1@O=Göteborg Centralstation@L=740000002@a=128@$A=1@O=Stockholm Centralstation@L=740000001@a=128@$202501091659$202501092033$JEX22044$$1$$$$$$¶KC¶#VE#2#CF#100#CA#0#CM#0#SICT#0#AM#81#AM2#0#RT#4#¶KRCC¶#VE#1#',\n",
       "   'duration': 'PT3H34M',\n",
       "   'rtDuration': 'PT3H34M',\n",
       "   'checksum': 'e87e2a56_3'},\n",
       "  {'Origin': {'name': 'Göteborg Centralstation',\n",
       "    'type': 'ST',\n",
       "    'id': 'A=1@O=Göteborg Centralstation@X=11973479@Y=57708895@U=1@L=740000002@',\n",
       "    'extId': '740000002',\n",
       "    'lon': 11.973479,\n",
       "    'lat': 57.708895,\n",
       "    'routeIdx': 0,\n",
       "    'prognosisType': 'PROGNOSED',\n",
       "    'time': '18:02:00',\n",
       "    'date': '2025-01-09',\n",
       "    'minimumChangeDuration': 'PT15M'},\n",
       "   'Destination': {'name': 'Stockholm Centralstation',\n",
       "    'type': 'ST',\n",
       "    'id': 'A=1@O=Stockholm Centralstation@X=18058151@Y=59330136@U=1@L=740000001@',\n",
       "    'extId': '740000001',\n",
       "    'lon': 18.058151,\n",
       "    'lat': 59.330136,\n",
       "    'routeIdx': 18,\n",
       "    'prognosisType': 'PROGNOSED',\n",
       "    'time': '22:44:00',\n",
       "    'date': '2025-01-09',\n",
       "    'minimumChangeDuration': 'PT20M'},\n",
       "   'ServiceDays': [{'planningPeriodBegin': '2025-01-02',\n",
       "     'planningPeriodEnd': '2025-06-15',\n",
       "     'sDaysR': 'inte varje dag',\n",
       "     'sDaysI': '9. jan t o m 9. jun 2025; 22. mar t o m 26. apr 2025 mån - fre, sön; 10. t o m 31. maj 2025 mån - fre, sön; utom 17. t o m 21. apr 2025, 27. apr, 18. maj, 29. maj t o m 1. jun 2025',\n",
       "     'sDaysB': '1FFFFFFFFFFFFFFFFFFEFDFBF783CFFF7E7DE1FE00'}],\n",
       "   'LegList': {'Leg': [{'Origin': {'name': 'Göteborg Centralstation',\n",
       "       'type': 'ST',\n",
       "       'id': 'A=1@O=Göteborg Centralstation@X=11973479@Y=57708895@U=1@L=740000002@',\n",
       "       'extId': '740000002',\n",
       "       'lon': 11.973479,\n",
       "       'lat': 57.708895,\n",
       "       'routeIdx': 0,\n",
       "       'prognosisType': 'PROGNOSED',\n",
       "       'time': '18:02:00',\n",
       "       'date': '2025-01-09',\n",
       "       'minimumChangeDuration': 'PT15M'},\n",
       "      'Destination': {'name': 'Stockholm Centralstation',\n",
       "       'type': 'ST',\n",
       "       'id': 'A=1@O=Stockholm Centralstation@X=18058151@Y=59330136@U=1@L=740000001@',\n",
       "       'extId': '740000001',\n",
       "       'lon': 18.058151,\n",
       "       'lat': 59.330136,\n",
       "       'routeIdx': 18,\n",
       "       'prognosisType': 'PROGNOSED',\n",
       "       'time': '22:44:00',\n",
       "       'date': '2025-01-09',\n",
       "       'minimumChangeDuration': 'PT20M'},\n",
       "      'Notes': {'Note': [{'value': '2 kl har ej reservering',\n",
       "         'key': 'AB',\n",
       "         'type': 'A',\n",
       "         'routeIdxFrom': 0,\n",
       "         'routeIdxTo': 5,\n",
       "         'txtN': '2 kl har ej reservering'},\n",
       "        {'value': '2 kl har ej reservering',\n",
       "         'key': 'AB',\n",
       "         'type': 'A',\n",
       "         'routeIdxFrom': 8,\n",
       "         'routeIdxTo': 11,\n",
       "         'txtN': '2 kl har ej reservering'},\n",
       "        {'value': '2 kl har ej reservering',\n",
       "         'key': 'AB',\n",
       "         'type': 'A',\n",
       "         'routeIdxFrom': 13,\n",
       "         'routeIdxTo': 18,\n",
       "         'txtN': '2 kl har ej reservering'},\n",
       "        {'value': 'Obligatorisk platsbokning',\n",
       "         'key': 'AF',\n",
       "         'type': 'A',\n",
       "         'routeIdxFrom': 0,\n",
       "         'routeIdxTo': 18,\n",
       "         'txtN': 'Obligatorisk platsbokning'},\n",
       "        {'value': 'Rullstolslyft',\n",
       "         'key': 'AN',\n",
       "         'type': 'A',\n",
       "         'routeIdxFrom': 0,\n",
       "         'routeIdxTo': 18,\n",
       "         'txtN': 'Rullstolslyft'},\n",
       "        {'value': 'WiFi',\n",
       "         'key': 'AW',\n",
       "         'type': 'A',\n",
       "         'routeIdxFrom': 0,\n",
       "         'routeIdxTo': 18,\n",
       "         'txtN': 'WiFi'},\n",
       "        {'value': 'EU förordning 2021/782',\n",
       "         'key': 'EJ',\n",
       "         'type': 'A',\n",
       "         'routeIdxFrom': 0,\n",
       "         'routeIdxTo': 18,\n",
       "         'txtN': 'EU förordning 2021/782'},\n",
       "        {'value': 'Servering finns ej',\n",
       "         'key': 'SI',\n",
       "         'type': 'A',\n",
       "         'routeIdxFrom': 0,\n",
       "         'routeIdxTo': 18,\n",
       "         'txtN': 'Servering finns ej'}]},\n",
       "      'JourneyDetailRef': {'ref': '1|32638|0|1|9012025'},\n",
       "      'JourneyStatus': 'P',\n",
       "      'Product': [{'icon': {'res': 'prod_gen'},\n",
       "        'operatorInfo': {'name': 'SJ',\n",
       "         'nameS': '74',\n",
       "         'nameN': '74',\n",
       "         'nameL': 'SJ',\n",
       "         'id': '74'},\n",
       "        'name': 'Regional Tåg 188',\n",
       "        'internalName': 'Regional Tåg 188',\n",
       "        'displayNumber': '188',\n",
       "        'num': '188',\n",
       "        'line': '188',\n",
       "        'lineId': '1074018800001',\n",
       "        'catOut': 'JRE',\n",
       "        'catIn': 'JRE',\n",
       "        'catCode': '2',\n",
       "        'cls': '4',\n",
       "        'catOutS': 'JRE',\n",
       "        'catOutL': 'Regional Tåg',\n",
       "        'operatorCode': '74',\n",
       "        'operator': 'SJ',\n",
       "        'admin': '074___',\n",
       "        'routeIdxFrom': 0,\n",
       "        'routeIdxTo': 18,\n",
       "        'matchId': '188;188;42371'}],\n",
       "      'Stops': {'Stop': [{'name': 'Göteborg Centralstation',\n",
       "         'id': 'A=1@O=Göteborg Centralstation@X=11973479@Y=57708895@U=1@L=740000002@',\n",
       "         'extId': '740000002',\n",
       "         'routeIdx': 0,\n",
       "         'lon': 11.973479,\n",
       "         'lat': 57.708895,\n",
       "         'depPrognosisType': 'PROGNOSED',\n",
       "         'depTime': '18:02:00',\n",
       "         'depDate': '2025-01-09',\n",
       "         'depDir': 'Stockholm Centralstation',\n",
       "         'minimumChangeDuration': 'PT15M'},\n",
       "        {'name': 'Alingsås station',\n",
       "         'id': 'A=1@O=Alingsås station@X=12532491@Y=57926857@U=1@L=740000018@',\n",
       "         'extId': '740000018',\n",
       "         'routeIdx': 1,\n",
       "         'lon': 12.532491,\n",
       "         'lat': 57.926857,\n",
       "         'depTime': '18:34:00',\n",
       "         'depDate': '2025-01-09',\n",
       "         'arrTime': '18:34:00',\n",
       "         'arrDate': '2025-01-09',\n",
       "         'minimumChangeDuration': 'PT7M'},\n",
       "        {'name': 'Vårgårda station',\n",
       "         'id': 'A=1@O=Vårgårda station@X=12810285@Y=58031204@U=1@L=740000569@',\n",
       "         'extId': '740000569',\n",
       "         'routeIdx': 2,\n",
       "         'lon': 12.810285,\n",
       "         'lat': 58.031204,\n",
       "         'depTime': '18:45:00',\n",
       "         'depDate': '2025-01-09',\n",
       "         'arrTime': '18:45:00',\n",
       "         'arrDate': '2025-01-09',\n",
       "         'minimumChangeDuration': 'PT10M'},\n",
       "        {'name': 'Herrljunga station',\n",
       "         'id': 'A=1@O=Herrljunga station@X=13021279@Y=58079188@U=1@L=740000040@',\n",
       "         'extId': '740000040',\n",
       "         'routeIdx': 3,\n",
       "         'lon': 13.021279,\n",
       "         'lat': 58.079188,\n",
       "         'depTime': '18:53:00',\n",
       "         'depDate': '2025-01-09',\n",
       "         'arrTime': '18:52:00',\n",
       "         'arrDate': '2025-01-09',\n",
       "         'minimumChangeDuration': 'PT8M'},\n",
       "        {'name': 'Falköping Centralstation',\n",
       "         'id': 'A=1@O=Falköping Centralstation@X=13553791@Y=58176101@U=1@L=740000060@',\n",
       "         'extId': '740000060',\n",
       "         'routeIdx': 4,\n",
       "         'lon': 13.553791,\n",
       "         'lat': 58.176101,\n",
       "         'depTime': '19:09:00',\n",
       "         'depDate': '2025-01-09',\n",
       "         'arrTime': '19:08:00',\n",
       "         'arrDate': '2025-01-09',\n",
       "         'minimumChangeDuration': 'PT8M'},\n",
       "        {'name': 'Skövde Centralstation',\n",
       "         'id': 'A=1@O=Skövde Centralstation@X=13853195@Y=58390898@U=1@L=740000008@',\n",
       "         'extId': '740000008',\n",
       "         'routeIdx': 5,\n",
       "         'lon': 13.853195,\n",
       "         'lat': 58.390898,\n",
       "         'depTime': '19:24:00',\n",
       "         'depDate': '2025-01-09',\n",
       "         'arrTime': '19:23:00',\n",
       "         'arrDate': '2025-01-09',\n",
       "         'minimumChangeDuration': 'PT10M'},\n",
       "        {'name': 'Töreboda station',\n",
       "         'id': 'A=1@O=Töreboda station@X=14128391@Y=58706024@U=1@L=740000183@',\n",
       "         'extId': '740000183',\n",
       "         'routeIdx': 6,\n",
       "         'lon': 14.128391,\n",
       "         'lat': 58.706024,\n",
       "         'depTime': '19:44:00',\n",
       "         'depDate': '2025-01-09',\n",
       "         'arrTime': '19:40:00',\n",
       "         'arrDate': '2025-01-09',\n",
       "         'minimumChangeDuration': 'PT8M'},\n",
       "        {'name': 'Laxå station',\n",
       "         'id': 'A=1@O=Laxå station@X=14616658@Y=58989391@U=1@L=740000194@',\n",
       "         'extId': '740000194',\n",
       "         'routeIdx': 7,\n",
       "         'lon': 14.616658,\n",
       "         'lat': 58.989391,\n",
       "         'depTime': '20:08:00',\n",
       "         'depDate': '2025-01-09',\n",
       "         'arrTime': '20:08:00',\n",
       "         'arrDate': '2025-01-09',\n",
       "         'minimumChangeDuration': 'PT10M'},\n",
       "        {'name': 'Hallsberg station',\n",
       "         'id': 'A=1@O=Hallsberg station@X=15110391@Y=59066698@U=1@L=740000077@',\n",
       "         'extId': '740000077',\n",
       "         'routeIdx': 8,\n",
       "         'lon': 15.110391,\n",
       "         'lat': 59.066698,\n",
       "         'depTime': '20:28:00',\n",
       "         'depDate': '2025-01-09',\n",
       "         'arrTime': '20:25:00',\n",
       "         'arrDate': '2025-01-09',\n",
       "         'minimumChangeDuration': 'PT10M'},\n",
       "        {'name': 'Kumla station',\n",
       "         'id': 'A=1@O=Kumla station@X=15140280@Y=59126377@U=1@L=740000192@',\n",
       "         'extId': '740000192',\n",
       "         'routeIdx': 9,\n",
       "         'lon': 15.14028,\n",
       "         'lat': 59.126377,\n",
       "         'depTime': '20:35:00',\n",
       "         'depDate': '2025-01-09',\n",
       "         'arrTime': '20:35:00',\n",
       "         'arrDate': '2025-01-09',\n",
       "         'minimumChangeDuration': 'PT10M'},\n",
       "        {'name': 'Örebro Södra station',\n",
       "         'id': 'A=1@O=Örebro Södra station@X=15202332@Y=59269989@U=1@L=740000361@',\n",
       "         'extId': '740000361',\n",
       "         'routeIdx': 10,\n",
       "         'lon': 15.202332,\n",
       "         'lat': 59.269989,\n",
       "         'depTime': '20:46:00',\n",
       "         'depDate': '2025-01-09',\n",
       "         'arrTime': '20:46:00',\n",
       "         'arrDate': '2025-01-09',\n",
       "         'minimumChangeDuration': 'PT1H30M'},\n",
       "        {'name': 'Örebro Centralstation',\n",
       "         'id': 'A=1@O=Örebro Centralstation@X=15211348@Y=59278942@U=1@L=740000133@',\n",
       "         'extId': '740000133',\n",
       "         'routeIdx': 11,\n",
       "         'lon': 15.211348,\n",
       "         'lat': 59.278942,\n",
       "         'depTime': '20:56:00',\n",
       "         'depDate': '2025-01-09',\n",
       "         'arrTime': '20:49:00',\n",
       "         'arrDate': '2025-01-09',\n",
       "         'minimumChangeDuration': 'PT10M'},\n",
       "        {'name': 'Arboga station',\n",
       "         'id': 'A=1@O=Arboga station@X=15841061@Y=59397105@U=1@L=740000262@',\n",
       "         'extId': '740000262',\n",
       "         'routeIdx': 12,\n",
       "         'lon': 15.841061,\n",
       "         'lat': 59.397105,\n",
       "         'depTime': '21:18:00',\n",
       "         'depDate': '2025-01-09',\n",
       "         'arrTime': '21:18:00',\n",
       "         'arrDate': '2025-01-09',\n",
       "         'minimumChangeDuration': 'PT5M'},\n",
       "        {'name': 'Köping station',\n",
       "         'id': 'A=1@O=Köping station@X=16004215@Y=59506675@U=1@L=740000167@',\n",
       "         'extId': '740000167',\n",
       "         'routeIdx': 13,\n",
       "         'lon': 16.004215,\n",
       "         'lat': 59.506675,\n",
       "         'depTime': '21:29:00',\n",
       "         'depDate': '2025-01-09',\n",
       "         'arrTime': '21:29:00',\n",
       "         'arrDate': '2025-01-09',\n",
       "         'minimumChangeDuration': 'PT5M'},\n",
       "        {'name': 'Västerås Centralstation',\n",
       "         'id': 'A=1@O=Västerås Centralstation@X=16551712@Y=59607705@U=1@L=740000099@',\n",
       "         'extId': '740000099',\n",
       "         'routeIdx': 14,\n",
       "         'lon': 16.551712,\n",
       "         'lat': 59.607705,\n",
       "         'depTime': '21:48:00',\n",
       "         'depDate': '2025-01-09',\n",
       "         'arrTime': '21:46:00',\n",
       "         'arrDate': '2025-01-09',\n",
       "         'minimumChangeDuration': 'PT8M'},\n",
       "        {'name': 'Enköping station',\n",
       "         'id': 'A=1@O=Enköping station@X=17086741@Y=59644327@U=1@L=740000072@',\n",
       "         'extId': '740000072',\n",
       "         'routeIdx': 15,\n",
       "         'lon': 17.086741,\n",
       "         'lat': 59.644327,\n",
       "         'depTime': '22:03:00',\n",
       "         'depDate': '2025-01-09',\n",
       "         'arrTime': '22:03:00',\n",
       "         'arrDate': '2025-01-09',\n",
       "         'minimumChangeDuration': 'PT8M'},\n",
       "        {'name': 'Bålsta station (Håbo kn)',\n",
       "         'id': 'A=1@O=Bålsta station (Håbo kn)@X=17532813@Y=59568754@U=1@L=740000660@',\n",
       "         'extId': '740000660',\n",
       "         'routeIdx': 16,\n",
       "         'lon': 17.532813,\n",
       "         'lat': 59.568754,\n",
       "         'depTime': '22:15:00',\n",
       "         'depDate': '2025-01-09',\n",
       "         'arrTime': '22:15:00',\n",
       "         'arrDate': '2025-01-09',\n",
       "         'minimumChangeDuration': 'PT10M'},\n",
       "        {'Notes': {'Note': [{'value': 'Stannar endast för avstigande',\n",
       "            'key': 'text.realtime.stop.entry.disabled',\n",
       "            'type': 'R',\n",
       "            'txtN': 'Stannar endast för avstigande'}]},\n",
       "         'name': 'Sundbyberg station',\n",
       "         'id': 'A=1@O=Sundbyberg station@X=17970938@Y=59361032@U=1@L=740000773@',\n",
       "         'extId': '740000773',\n",
       "         'routeIdx': 17,\n",
       "         'lon': 17.970938,\n",
       "         'lat': 59.361032,\n",
       "         'arrTime': '22:36:00',\n",
       "         'arrDate': '2025-01-09',\n",
       "         'boarding': False,\n",
       "         'minimumChangeDuration': 'PT10M'},\n",
       "        {'name': 'Stockholm Centralstation',\n",
       "         'id': 'A=1@O=Stockholm Centralstation@X=18058151@Y=59330136@U=1@L=740000001@',\n",
       "         'extId': '740000001',\n",
       "         'routeIdx': 18,\n",
       "         'lon': 18.058151,\n",
       "         'lat': 59.330136,\n",
       "         'arrPrognosisType': 'PROGNOSED',\n",
       "         'arrTime': '22:44:00',\n",
       "         'arrDate': '2025-01-09',\n",
       "         'minimumChangeDuration': 'PT20M'}]},\n",
       "      'JourneyDetail': {'ref': '1|32638|0|1|9012025',\n",
       "       'dayOfOperation': '2025-01-09'},\n",
       "      'id': '0',\n",
       "      'idx': 0,\n",
       "      'name': 'Regional Tåg 188',\n",
       "      'number': '188',\n",
       "      'category': 'JRE',\n",
       "      'type': 'JNY',\n",
       "      'reachable': True,\n",
       "      'waitingState': 'UNDEF',\n",
       "      'direction': 'Stockholm Centralstation',\n",
       "      'directionFlag': '1',\n",
       "      'duration': 'PT4H42M'}]},\n",
       "   'calculation': 'INITIAL',\n",
       "   'TripStatus': {'economic': True, 'convenient': True, 'hintCode': 0},\n",
       "   'idx': 1,\n",
       "   'tripId': 'C-1',\n",
       "   'ctxRecon': '¶HKI¶T$A=1@O=Göteborg Centralstation@L=740000002@a=128@$A=1@O=Stockholm Centralstation@L=740000001@a=128@$202501091802$202501092244$JRE  188$$1$$$$$$¶KC¶#VE#2#CF#100#CA#0#CM#0#SICT#0#AM#81#AM2#0#RT#4#¶KRCC¶#VE#1#',\n",
       "   'duration': 'PT4H42M',\n",
       "   'rtDuration': 'PT4H42M',\n",
       "   'checksum': '7434fbe4_3'},\n",
       "  {'Origin': {'name': 'Göteborg Centralstation',\n",
       "    'type': 'ST',\n",
       "    'id': 'A=1@O=Göteborg Centralstation@X=11973479@Y=57708895@U=1@L=740000002@',\n",
       "    'extId': '740000002',\n",
       "    'lon': 11.973479,\n",
       "    'lat': 57.708895,\n",
       "    'routeIdx': 0,\n",
       "    'prognosisType': 'PROGNOSED',\n",
       "    'time': '18:18:00',\n",
       "    'date': '2025-01-09',\n",
       "    'minimumChangeDuration': 'PT15M'},\n",
       "   'Destination': {'name': 'Stockholm Centralstation',\n",
       "    'type': 'ST',\n",
       "    'id': 'A=1@O=Stockholm Centralstation@X=18058151@Y=59330136@U=1@L=740000001@',\n",
       "    'extId': '740000001',\n",
       "    'lon': 18.058151,\n",
       "    'lat': 59.330136,\n",
       "    'routeIdx': 4,\n",
       "    'prognosisType': 'PROGNOSED',\n",
       "    'time': '21:44:00',\n",
       "    'date': '2025-01-09',\n",
       "    'minimumChangeDuration': 'PT20M'},\n",
       "   'ServiceDays': [{'planningPeriodBegin': '2025-01-02',\n",
       "     'planningPeriodEnd': '2025-06-15',\n",
       "     'sDaysR': 'inte varje dag',\n",
       "     'sDaysI': '9. jan t o m 9. jun 2025; 22. mar t o m 19. apr 2025 mån - fre, sön; utom 18. t o m 21. apr 2025, 1. t o m 4. maj 2025, 10., 17., 18., 24. maj, 29. maj t o m 1. jun 2025, 8. jun',\n",
       "     'sDaysB': '1FFFFFFFFFFFFFFFFFFEFDFBF7C3FE1F7E7DE1FA00'}],\n",
       "   'LegList': {'Leg': [{'Origin': {'name': 'Göteborg Centralstation',\n",
       "       'type': 'ST',\n",
       "       'id': 'A=1@O=Göteborg Centralstation@X=11973479@Y=57708895@U=1@L=740000002@',\n",
       "       'extId': '740000002',\n",
       "       'lon': 11.973479,\n",
       "       'lat': 57.708895,\n",
       "       'routeIdx': 0,\n",
       "       'prognosisType': 'PROGNOSED',\n",
       "       'time': '18:18:00',\n",
       "       'date': '2025-01-09',\n",
       "       'minimumChangeDuration': 'PT15M'},\n",
       "      'Destination': {'name': 'Stockholm Centralstation',\n",
       "       'type': 'ST',\n",
       "       'id': 'A=1@O=Stockholm Centralstation@X=18058151@Y=59330136@U=1@L=740000001@',\n",
       "       'extId': '740000001',\n",
       "       'lon': 18.058151,\n",
       "       'lat': 59.330136,\n",
       "       'routeIdx': 4,\n",
       "       'prognosisType': 'PROGNOSED',\n",
       "       'time': '21:44:00',\n",
       "       'date': '2025-01-09',\n",
       "       'minimumChangeDuration': 'PT20M'},\n",
       "      'Notes': {'Note': [{'value': 'X2000',\n",
       "         'key': 'VX',\n",
       "         'type': 'A',\n",
       "         'routeIdxFrom': 0,\n",
       "         'routeIdxTo': 4,\n",
       "         'txtN': 'X2000'},\n",
       "        {'value': 'Mat 1 klass',\n",
       "         'key': 'A1',\n",
       "         'type': 'A',\n",
       "         'routeIdxFrom': 0,\n",
       "         'routeIdxTo': 4,\n",
       "         'txtN': 'Mat 1 klass'},\n",
       "        {'value': 'Bistrovagn',\n",
       "         'key': 'AD',\n",
       "         'type': 'A',\n",
       "         'routeIdxFrom': 0,\n",
       "         'routeIdxTo': 4,\n",
       "         'txtN': 'Bistrovagn'},\n",
       "        {'value': 'Obligatorisk platsbokning',\n",
       "         'key': 'AF',\n",
       "         'type': 'A',\n",
       "         'routeIdxFrom': 0,\n",
       "         'routeIdxTo': 4,\n",
       "         'txtN': 'Obligatorisk platsbokning'},\n",
       "        {'value': 'Rullstolslyft',\n",
       "         'key': 'AN',\n",
       "         'type': 'A',\n",
       "         'routeIdxFrom': 0,\n",
       "         'routeIdxTo': 4,\n",
       "         'txtN': 'Rullstolslyft'},\n",
       "        {'value': 'WiFi',\n",
       "         'key': 'AW',\n",
       "         'type': 'A',\n",
       "         'routeIdxFrom': 0,\n",
       "         'routeIdxTo': 4,\n",
       "         'txtN': 'WiFi'},\n",
       "        {'value': '2 klass lugn',\n",
       "         'key': 'BL',\n",
       "         'type': 'A',\n",
       "         'routeIdxFrom': 0,\n",
       "         'routeIdxTo': 4,\n",
       "         'txtN': '2 klass lugn'},\n",
       "        {'value': 'EU förordning 2021/782',\n",
       "         'key': 'EJ',\n",
       "         'type': 'A',\n",
       "         'routeIdxFrom': 0,\n",
       "         'routeIdxTo': 4,\n",
       "         'txtN': 'EU förordning 2021/782'},\n",
       "        {'value': 'Maträtt',\n",
       "         'key': 'SM',\n",
       "         'type': 'A',\n",
       "         'routeIdxFrom': 0,\n",
       "         'routeIdxTo': 4,\n",
       "         'txtN': 'Maträtt'},\n",
       "        {'value': '1 klass med extra komfort',\n",
       "         'key': 'SU',\n",
       "         'type': 'A',\n",
       "         'routeIdxFrom': 0,\n",
       "         'routeIdxTo': 4,\n",
       "         'txtN': '1 klass med extra komfort'},\n",
       "        {'value': 'Kaffebuffé 1 klass',\n",
       "         'key': 'SZ',\n",
       "         'type': 'A',\n",
       "         'routeIdxFrom': 0,\n",
       "         'routeIdxTo': 4,\n",
       "         'txtN': 'Kaffebuffé 1 klass'}]},\n",
       "      'JourneyDetailRef': {'ref': '1|69186|0|1|9012025'},\n",
       "      'JourneyStatus': 'P',\n",
       "      'Product': [{'icon': {'res': 'prod_gen'},\n",
       "        'operatorInfo': {'name': 'SJ',\n",
       "         'nameS': '74',\n",
       "         'nameN': '74',\n",
       "         'nameL': 'SJ',\n",
       "         'id': '74'},\n",
       "        'name': 'Snabbtåg 446',\n",
       "        'internalName': 'Snabbtåg 446',\n",
       "        'displayNumber': '446',\n",
       "        'num': '446',\n",
       "        'line': '446',\n",
       "        'lineId': '1074044600001',\n",
       "        'catOut': 'JST',\n",
       "        'catIn': 'JST',\n",
       "        'catCode': '1',\n",
       "        'cls': '2',\n",
       "        'catOutS': 'JST',\n",
       "        'catOutL': 'Snabbtåg',\n",
       "        'operatorCode': '74',\n",
       "        'operator': 'SJ',\n",
       "        'admin': '074___',\n",
       "        'routeIdxFrom': 0,\n",
       "        'routeIdxTo': 4,\n",
       "        'matchId': '446;446;7827'}],\n",
       "      'Stops': {'Stop': [{'name': 'Göteborg Centralstation',\n",
       "         'id': 'A=1@O=Göteborg Centralstation@X=11973479@Y=57708895@U=1@L=740000002@',\n",
       "         'extId': '740000002',\n",
       "         'routeIdx': 0,\n",
       "         'lon': 11.973479,\n",
       "         'lat': 57.708895,\n",
       "         'depPrognosisType': 'PROGNOSED',\n",
       "         'depTime': '18:18:00',\n",
       "         'depDate': '2025-01-09',\n",
       "         'depDir': 'Stockholm Centralstation',\n",
       "         'minimumChangeDuration': 'PT15M'},\n",
       "        {'name': 'Skövde Centralstation',\n",
       "         'id': 'A=1@O=Skövde Centralstation@X=13853195@Y=58390898@U=1@L=740000008@',\n",
       "         'extId': '740000008',\n",
       "         'routeIdx': 1,\n",
       "         'lon': 13.853195,\n",
       "         'lat': 58.390898,\n",
       "         'depTime': '19:27:00',\n",
       "         'depDate': '2025-01-09',\n",
       "         'arrTime': '19:26:00',\n",
       "         'arrDate': '2025-01-09',\n",
       "         'minimumChangeDuration': 'PT10M'},\n",
       "        {'name': 'Katrineholm Centralstation',\n",
       "         'id': 'A=1@O=Katrineholm Centralstation@X=16208324@Y=58996591@U=1@L=740000166@',\n",
       "         'extId': '740000166',\n",
       "         'routeIdx': 2,\n",
       "         'lon': 16.208324,\n",
       "         'lat': 58.996591,\n",
       "         'depTime': '20:47:00',\n",
       "         'depDate': '2025-01-09',\n",
       "         'arrTime': '20:46:00',\n",
       "         'arrDate': '2025-01-09',\n",
       "         'minimumChangeDuration': 'PT10M'},\n",
       "        {'Notes': {'Note': [{'value': 'Stannar endast för avstigande',\n",
       "            'key': 'text.realtime.stop.entry.disabled',\n",
       "            'type': 'R',\n",
       "            'txtN': 'Stannar endast för avstigande'}]},\n",
       "         'name': 'Södertälje Syd station',\n",
       "         'id': 'A=1@O=Södertälje Syd station@X=17645367@Y=59162415@U=1@L=740000055@',\n",
       "         'extId': '740000055',\n",
       "         'routeIdx': 3,\n",
       "         'lon': 17.645367,\n",
       "         'lat': 59.162415,\n",
       "         'arrTime': '21:25:00',\n",
       "         'arrDate': '2025-01-09',\n",
       "         'boarding': False,\n",
       "         'minimumChangeDuration': 'PT10M'},\n",
       "        {'name': 'Stockholm Centralstation',\n",
       "         'id': 'A=1@O=Stockholm Centralstation@X=18058151@Y=59330136@U=1@L=740000001@',\n",
       "         'extId': '740000001',\n",
       "         'routeIdx': 4,\n",
       "         'lon': 18.058151,\n",
       "         'lat': 59.330136,\n",
       "         'arrPrognosisType': 'PROGNOSED',\n",
       "         'arrTime': '21:44:00',\n",
       "         'arrDate': '2025-01-09',\n",
       "         'minimumChangeDuration': 'PT20M'}]},\n",
       "      'JourneyDetail': {'ref': '1|69186|0|1|9012025',\n",
       "       'dayOfOperation': '2025-01-09'},\n",
       "      'id': '0',\n",
       "      'idx': 0,\n",
       "      'name': 'Snabbtåg 446',\n",
       "      'number': '446',\n",
       "      'category': 'JST',\n",
       "      'type': 'JNY',\n",
       "      'reachable': True,\n",
       "      'waitingState': 'UNDEF',\n",
       "      'direction': 'Stockholm Centralstation',\n",
       "      'directionFlag': '1',\n",
       "      'duration': 'PT3H26M'}]},\n",
       "   'calculation': 'INITIAL',\n",
       "   'TripStatus': {'hintCode': 0},\n",
       "   'idx': 2,\n",
       "   'tripId': 'C-2',\n",
       "   'ctxRecon': '¶HKI¶T$A=1@O=Göteborg Centralstation@L=740000002@a=128@$A=1@O=Stockholm Centralstation@L=740000001@a=128@$202501091818$202501092144$JST  446$$1$$$$$$¶KC¶#VE#2#CF#100#CA#0#CM#0#SICT#0#AM#81#AM2#0#RT#4#¶KRCC¶#VE#1#',\n",
       "   'duration': 'PT3H26M',\n",
       "   'rtDuration': 'PT3H26M',\n",
       "   'checksum': 'ea2cfb8e_3'},\n",
       "  {'Origin': {'name': 'Göteborg Centralstation',\n",
       "    'type': 'ST',\n",
       "    'id': 'A=1@O=Göteborg Centralstation@X=11973479@Y=57708895@U=1@L=740000002@',\n",
       "    'extId': '740000002',\n",
       "    'lon': 11.973479,\n",
       "    'lat': 57.708895,\n",
       "    'routeIdx': 0,\n",
       "    'prognosisType': 'PROGNOSED',\n",
       "    'time': '19:02:00',\n",
       "    'date': '2025-01-09',\n",
       "    'minimumChangeDuration': 'PT15M'},\n",
       "   'Destination': {'name': 'STOCKHOLM',\n",
       "    'type': 'ST',\n",
       "    'id': 'A=1@O=STOCKHOLM@X=18058151@Y=59330136@U=1@L=740098000@',\n",
       "    'extId': '740098000',\n",
       "    'lon': 18.058151,\n",
       "    'lat': 59.330136,\n",
       "    'time': '03:13:00',\n",
       "    'date': '2025-01-10',\n",
       "    'minimumChangeDuration': 'PT26M'},\n",
       "   'ServiceDays': [{'planningPeriodBegin': '2025-01-02',\n",
       "     'planningPeriodEnd': '2025-06-15',\n",
       "     'sDaysR': 'inte varje dag',\n",
       "     'sDaysI': '9. jan t o m 9. jun 2025 mån - tor; utom 17., 21., 30. apr, 1., 28., 29. maj, 5. jun',\n",
       "     'sDaysB': '071E3C78F1E3C78F1E3C78F1E3838C1E3C78C1C200'}],\n",
       "   'LegList': {'Leg': [{'Origin': {'name': 'Göteborg Centralstation',\n",
       "       'type': 'ST',\n",
       "       'id': 'A=1@O=Göteborg Centralstation@X=11973479@Y=57708895@U=1@L=740000002@',\n",
       "       'extId': '740000002',\n",
       "       'lon': 11.973479,\n",
       "       'lat': 57.708895,\n",
       "       'routeIdx': 0,\n",
       "       'prognosisType': 'PROGNOSED',\n",
       "       'time': '19:02:00',\n",
       "       'date': '2025-01-09',\n",
       "       'minimumChangeDuration': 'PT15M'},\n",
       "      'Destination': {'name': 'Västerås Centralstation',\n",
       "       'type': 'ST',\n",
       "       'id': 'A=1@O=Västerås Centralstation@X=16551712@Y=59607705@U=1@L=740000099@',\n",
       "       'extId': '740000099',\n",
       "       'lon': 16.551712,\n",
       "       'lat': 59.607705,\n",
       "       'routeIdx': 14,\n",
       "       'prognosisType': 'PROGNOSED',\n",
       "       'time': '22:47:00',\n",
       "       'date': '2025-01-09',\n",
       "       'minimumChangeDuration': 'PT8M'},\n",
       "      'Notes': {'Note': [{'value': '2 kl har ej reservering',\n",
       "         'key': 'AB',\n",
       "         'type': 'A',\n",
       "         'routeIdxFrom': 0,\n",
       "         'routeIdxTo': 5,\n",
       "         'txtN': '2 kl har ej reservering'},\n",
       "        {'value': '2 kl har ej reservering',\n",
       "         'key': 'AB',\n",
       "         'type': 'A',\n",
       "         'routeIdxFrom': 8,\n",
       "         'routeIdxTo': 11,\n",
       "         'txtN': '2 kl har ej reservering'},\n",
       "        {'value': '2 kl har ej reservering',\n",
       "         'key': 'AB',\n",
       "         'type': 'A',\n",
       "         'routeIdxFrom': 13,\n",
       "         'routeIdxTo': 14,\n",
       "         'txtN': '2 kl har ej reservering'},\n",
       "        {'value': 'Obligatorisk platsbokning',\n",
       "         'key': 'AF',\n",
       "         'type': 'A',\n",
       "         'routeIdxFrom': 0,\n",
       "         'routeIdxTo': 14,\n",
       "         'txtN': 'Obligatorisk platsbokning'},\n",
       "        {'value': 'Rullstolslyft',\n",
       "         'key': 'AN',\n",
       "         'type': 'A',\n",
       "         'routeIdxFrom': 0,\n",
       "         'routeIdxTo': 14,\n",
       "         'txtN': 'Rullstolslyft'},\n",
       "        {'value': 'WiFi',\n",
       "         'key': 'AW',\n",
       "         'type': 'A',\n",
       "         'routeIdxFrom': 0,\n",
       "         'routeIdxTo': 14,\n",
       "         'txtN': 'WiFi'},\n",
       "        {'value': 'EU förordning 2021/782',\n",
       "         'key': 'EJ',\n",
       "         'type': 'A',\n",
       "         'routeIdxFrom': 0,\n",
       "         'routeIdxTo': 14,\n",
       "         'txtN': 'EU förordning 2021/782'},\n",
       "        {'value': 'Servering finns ej',\n",
       "         'key': 'SI',\n",
       "         'type': 'A',\n",
       "         'routeIdxFrom': 0,\n",
       "         'routeIdxTo': 14,\n",
       "         'txtN': 'Servering finns ej'}]},\n",
       "      'JourneyDetailRef': {'ref': '1|37276|0|1|9012025'},\n",
       "      'JourneyStatus': 'P',\n",
       "      'Product': [{'icon': {'res': 'prod_gen'},\n",
       "        'operatorInfo': {'name': 'SJ',\n",
       "         'nameS': '74',\n",
       "         'nameN': '74',\n",
       "         'nameL': 'SJ',\n",
       "         'id': '74'},\n",
       "        'name': 'Regional Tåg 190',\n",
       "        'internalName': 'Regional Tåg 190',\n",
       "        'displayNumber': '190',\n",
       "        'num': '190',\n",
       "        'line': '190',\n",
       "        'lineId': '1074019000002',\n",
       "        'catOut': 'JRE',\n",
       "        'catIn': 'JRE',\n",
       "        'catCode': '2',\n",
       "        'cls': '4',\n",
       "        'catOutS': 'JRE',\n",
       "        'catOutL': 'Regional Tåg',\n",
       "        'operatorCode': '74',\n",
       "        'operator': 'SJ',\n",
       "        'admin': '074___',\n",
       "        'routeIdxFrom': 0,\n",
       "        'routeIdxTo': 14,\n",
       "        'matchId': '190;190;52931'}],\n",
       "      'Stops': {'Stop': [{'name': 'Göteborg Centralstation',\n",
       "         'id': 'A=1@O=Göteborg Centralstation@X=11973479@Y=57708895@U=1@L=740000002@',\n",
       "         'extId': '740000002',\n",
       "         'routeIdx': 0,\n",
       "         'lon': 11.973479,\n",
       "         'lat': 57.708895,\n",
       "         'depPrognosisType': 'PROGNOSED',\n",
       "         'depTime': '19:02:00',\n",
       "         'depDate': '2025-01-09',\n",
       "         'depDir': 'Västerås Centralstation',\n",
       "         'minimumChangeDuration': 'PT15M'},\n",
       "        {'name': 'Alingsås station',\n",
       "         'id': 'A=1@O=Alingsås station@X=12532491@Y=57926857@U=1@L=740000018@',\n",
       "         'extId': '740000018',\n",
       "         'routeIdx': 1,\n",
       "         'lon': 12.532491,\n",
       "         'lat': 57.926857,\n",
       "         'depTime': '19:31:00',\n",
       "         'depDate': '2025-01-09',\n",
       "         'arrTime': '19:31:00',\n",
       "         'arrDate': '2025-01-09',\n",
       "         'minimumChangeDuration': 'PT7M'},\n",
       "        {'name': 'Vårgårda station',\n",
       "         'id': 'A=1@O=Vårgårda station@X=12810285@Y=58031204@U=1@L=740000569@',\n",
       "         'extId': '740000569',\n",
       "         'routeIdx': 2,\n",
       "         'lon': 12.810285,\n",
       "         'lat': 58.031204,\n",
       "         'depTime': '19:43:00',\n",
       "         'depDate': '2025-01-09',\n",
       "         'arrTime': '19:43:00',\n",
       "         'arrDate': '2025-01-09',\n",
       "         'minimumChangeDuration': 'PT10M'},\n",
       "        {'name': 'Herrljunga station',\n",
       "         'id': 'A=1@O=Herrljunga station@X=13021279@Y=58079188@U=1@L=740000040@',\n",
       "         'extId': '740000040',\n",
       "         'routeIdx': 3,\n",
       "         'lon': 13.021279,\n",
       "         'lat': 58.079188,\n",
       "         'depTime': '19:51:00',\n",
       "         'depDate': '2025-01-09',\n",
       "         'arrTime': '19:50:00',\n",
       "         'arrDate': '2025-01-09',\n",
       "         'minimumChangeDuration': 'PT8M'},\n",
       "        {'name': 'Falköping Centralstation',\n",
       "         'id': 'A=1@O=Falköping Centralstation@X=13553791@Y=58176101@U=1@L=740000060@',\n",
       "         'extId': '740000060',\n",
       "         'routeIdx': 4,\n",
       "         'lon': 13.553791,\n",
       "         'lat': 58.176101,\n",
       "         'depTime': '20:07:00',\n",
       "         'depDate': '2025-01-09',\n",
       "         'arrTime': '20:06:00',\n",
       "         'arrDate': '2025-01-09',\n",
       "         'minimumChangeDuration': 'PT8M'},\n",
       "        {'name': 'Skövde Centralstation',\n",
       "         'id': 'A=1@O=Skövde Centralstation@X=13853195@Y=58390898@U=1@L=740000008@',\n",
       "         'extId': '740000008',\n",
       "         'routeIdx': 5,\n",
       "         'lon': 13.853195,\n",
       "         'lat': 58.390898,\n",
       "         'depTime': '20:23:00',\n",
       "         'depDate': '2025-01-09',\n",
       "         'arrTime': '20:22:00',\n",
       "         'arrDate': '2025-01-09',\n",
       "         'minimumChangeDuration': 'PT10M'},\n",
       "        {'name': 'Töreboda station',\n",
       "         'id': 'A=1@O=Töreboda station@X=14128391@Y=58706024@U=1@L=740000183@',\n",
       "         'extId': '740000183',\n",
       "         'routeIdx': 6,\n",
       "         'lon': 14.128391,\n",
       "         'lat': 58.706024,\n",
       "         'depTime': '20:49:00',\n",
       "         'depDate': '2025-01-09',\n",
       "         'arrTime': '20:40:00',\n",
       "         'arrDate': '2025-01-09',\n",
       "         'minimumChangeDuration': 'PT8M'},\n",
       "        {'name': 'Laxå station',\n",
       "         'id': 'A=1@O=Laxå station@X=14616658@Y=58989391@U=1@L=740000194@',\n",
       "         'extId': '740000194',\n",
       "         'routeIdx': 7,\n",
       "         'lon': 14.616658,\n",
       "         'lat': 58.989391,\n",
       "         'depTime': '21:12:00',\n",
       "         'depDate': '2025-01-09',\n",
       "         'arrTime': '21:12:00',\n",
       "         'arrDate': '2025-01-09',\n",
       "         'minimumChangeDuration': 'PT10M'},\n",
       "        {'name': 'Hallsberg station',\n",
       "         'id': 'A=1@O=Hallsberg station@X=15110391@Y=59066698@U=1@L=740000077@',\n",
       "         'extId': '740000077',\n",
       "         'routeIdx': 8,\n",
       "         'lon': 15.110391,\n",
       "         'lat': 59.066698,\n",
       "         'depTime': '21:30:00',\n",
       "         'depDate': '2025-01-09',\n",
       "         'arrTime': '21:28:00',\n",
       "         'arrDate': '2025-01-09',\n",
       "         'minimumChangeDuration': 'PT10M'},\n",
       "        {'name': 'Kumla station',\n",
       "         'id': 'A=1@O=Kumla station@X=15140280@Y=59126377@U=1@L=740000192@',\n",
       "         'extId': '740000192',\n",
       "         'routeIdx': 9,\n",
       "         'lon': 15.14028,\n",
       "         'lat': 59.126377,\n",
       "         'depTime': '21:37:00',\n",
       "         'depDate': '2025-01-09',\n",
       "         'arrTime': '21:37:00',\n",
       "         'arrDate': '2025-01-09',\n",
       "         'minimumChangeDuration': 'PT10M'},\n",
       "        {'name': 'Örebro Södra station',\n",
       "         'id': 'A=1@O=Örebro Södra station@X=15202332@Y=59269989@U=1@L=740000361@',\n",
       "         'extId': '740000361',\n",
       "         'routeIdx': 10,\n",
       "         'lon': 15.202332,\n",
       "         'lat': 59.269989,\n",
       "         'depTime': '21:47:00',\n",
       "         'depDate': '2025-01-09',\n",
       "         'arrTime': '21:47:00',\n",
       "         'arrDate': '2025-01-09',\n",
       "         'minimumChangeDuration': 'PT1H30M'},\n",
       "        {'name': 'Örebro Centralstation',\n",
       "         'id': 'A=1@O=Örebro Centralstation@X=15211348@Y=59278942@U=1@L=740000133@',\n",
       "         'extId': '740000133',\n",
       "         'routeIdx': 11,\n",
       "         'lon': 15.211348,\n",
       "         'lat': 59.278942,\n",
       "         'depTime': '21:56:00',\n",
       "         'depDate': '2025-01-09',\n",
       "         'arrTime': '21:50:00',\n",
       "         'arrDate': '2025-01-09',\n",
       "         'minimumChangeDuration': 'PT10M'},\n",
       "        {'name': 'Arboga station',\n",
       "         'id': 'A=1@O=Arboga station@X=15841061@Y=59397105@U=1@L=740000262@',\n",
       "         'extId': '740000262',\n",
       "         'routeIdx': 12,\n",
       "         'lon': 15.841061,\n",
       "         'lat': 59.397105,\n",
       "         'depTime': '22:18:00',\n",
       "         'depDate': '2025-01-09',\n",
       "         'arrTime': '22:18:00',\n",
       "         'arrDate': '2025-01-09',\n",
       "         'minimumChangeDuration': 'PT5M'},\n",
       "        {'name': 'Köping station',\n",
       "         'id': 'A=1@O=Köping station@X=16004215@Y=59506675@U=1@L=740000167@',\n",
       "         'extId': '740000167',\n",
       "         'routeIdx': 13,\n",
       "         'lon': 16.004215,\n",
       "         'lat': 59.506675,\n",
       "         'depTime': '22:29:00',\n",
       "         'depDate': '2025-01-09',\n",
       "         'arrTime': '22:29:00',\n",
       "         'arrDate': '2025-01-09',\n",
       "         'minimumChangeDuration': 'PT5M'},\n",
       "        {'name': 'Västerås Centralstation',\n",
       "         'id': 'A=1@O=Västerås Centralstation@X=16551712@Y=59607705@U=1@L=740000099@',\n",
       "         'extId': '740000099',\n",
       "         'routeIdx': 14,\n",
       "         'lon': 16.551712,\n",
       "         'lat': 59.607705,\n",
       "         'arrPrognosisType': 'PROGNOSED',\n",
       "         'arrTime': '22:47:00',\n",
       "         'arrDate': '2025-01-09',\n",
       "         'minimumChangeDuration': 'PT8M'}]},\n",
       "      'JourneyDetail': {'ref': '1|37276|0|1|9012025',\n",
       "       'dayOfOperation': '2025-01-09'},\n",
       "      'id': '0',\n",
       "      'idx': 0,\n",
       "      'name': 'Regional Tåg 190',\n",
       "      'number': '190',\n",
       "      'category': 'JRE',\n",
       "      'type': 'JNY',\n",
       "      'reachable': True,\n",
       "      'waitingState': 'UNDEF',\n",
       "      'direction': 'Västerås Centralstation',\n",
       "      'directionFlag': '1',\n",
       "      'duration': 'PT3H45M',\n",
       "      'minimumChangeDuration': 'PT10M'},\n",
       "     {'Origin': {'name': 'Västerås Centralstation',\n",
       "       'type': 'ST',\n",
       "       'id': 'A=1@O=Västerås Centralstation@X=16551712@Y=59607705@U=1@L=740000099@',\n",
       "       'extId': '740000099',\n",
       "       'lon': 16.551712,\n",
       "       'lat': 59.607705,\n",
       "       'routeIdx': 0,\n",
       "       'prognosisType': 'PROGNOSED',\n",
       "       'time': '23:10:00',\n",
       "       'date': '2025-01-09',\n",
       "       'minimumChangeDuration': 'PT8M'},\n",
       "      'Destination': {'name': 'Enköping station',\n",
       "       'type': 'ST',\n",
       "       'id': 'A=1@O=Enköping station@X=17086741@Y=59644327@U=1@L=740000072@',\n",
       "       'extId': '740000072',\n",
       "       'lon': 17.086741,\n",
       "       'lat': 59.644327,\n",
       "       'routeIdx': 16,\n",
       "       'prognosisType': 'PROGNOSED',\n",
       "       'time': '23:50:00',\n",
       "       'date': '2025-01-09',\n",
       "       'minimumChangeDuration': 'PT8M'},\n",
       "      'Notes': {'Note': [{'value': 'Lag 2015:953 tillämpas',\n",
       "         'key': 'EG',\n",
       "         'type': 'A',\n",
       "         'routeIdxFrom': 0,\n",
       "         'routeIdxTo': 16,\n",
       "         'txtN': 'Lag 2015:953 tillämpas'}]},\n",
       "      'JourneyDetailRef': {'ref': '1|84948|0|1|9012025'},\n",
       "      'JourneyStatus': 'P',\n",
       "      'Product': [{'icon': {'res': 'prod_gen'},\n",
       "        'operatorInfo': {'name': 'UL',\n",
       "         'nameS': '251',\n",
       "         'nameN': '251',\n",
       "         'nameL': 'UL',\n",
       "         'id': '251'},\n",
       "        'name': 'Länstrafik - Buss 874',\n",
       "        'internalName': 'Länstrafik - Buss 874',\n",
       "        'displayNumber': '874',\n",
       "        'num': '874',\n",
       "        'line': '874',\n",
       "        'lineId': '1251087400001',\n",
       "        'catOut': 'BLT',\n",
       "        'catIn': 'BLT',\n",
       "        'catCode': '7',\n",
       "        'cls': '128',\n",
       "        'catOutS': 'BLT',\n",
       "        'catOutL': 'Länstrafik - Buss',\n",
       "        'operatorCode': '251',\n",
       "        'operator': 'UL',\n",
       "        'admin': '251___',\n",
       "        'routeIdxFrom': 0,\n",
       "        'routeIdxTo': 16,\n",
       "        'matchId': '874;874;49'}],\n",
       "      'Stops': {'Stop': [{'name': 'Västerås Centralstation',\n",
       "         'id': 'A=1@O=Västerås Centralstation@X=16551712@Y=59607705@U=1@L=740000099@',\n",
       "         'extId': '740000099',\n",
       "         'routeIdx': 0,\n",
       "         'lon': 16.551712,\n",
       "         'lat': 59.607705,\n",
       "         'depPrognosisType': 'PROGNOSED',\n",
       "         'depTime': '23:10:00',\n",
       "         'depDate': '2025-01-09',\n",
       "         'depDir': 'Enköping station',\n",
       "         'minimumChangeDuration': 'PT8M'},\n",
       "        {'Notes': {'Note': [{'value': 'Stannar endast för påstigande',\n",
       "            'key': 'text.realtime.stop.exit.disabled',\n",
       "            'type': 'R',\n",
       "            'txtN': 'Stannar endast för påstigande'}]},\n",
       "         'name': 'Västerås Tegnér',\n",
       "         'id': 'A=1@O=Västerås Tegnér@X=16553941@Y=59617224@U=1@L=740043471@',\n",
       "         'extId': '740043471',\n",
       "         'routeIdx': 1,\n",
       "         'lon': 16.553941,\n",
       "         'lat': 59.617224,\n",
       "         'depTime': '23:12:00',\n",
       "         'depDate': '2025-01-09',\n",
       "         'alighting': False,\n",
       "         'minimumChangeDuration': 'PT0S'},\n",
       "        {'Notes': {'Note': [{'value': 'Stannar endast för påstigande',\n",
       "            'key': 'text.realtime.stop.exit.disabled',\n",
       "            'type': 'R',\n",
       "            'txtN': 'Stannar endast för påstigande'}]},\n",
       "         'name': 'Västerås Knektgatan',\n",
       "         'id': 'A=1@O=Västerås Knektgatan@X=16578257@Y=59615238@U=1@L=740023577@',\n",
       "         'extId': '740023577',\n",
       "         'routeIdx': 2,\n",
       "         'lon': 16.578257,\n",
       "         'lat': 59.615238,\n",
       "         'depTime': '23:15:00',\n",
       "         'depDate': '2025-01-09',\n",
       "         'alighting': False,\n",
       "         'minimumChangeDuration': 'PT0S'},\n",
       "        {'Notes': {'Note': [{'value': 'Stannar endast för påstigande',\n",
       "            'key': 'text.realtime.stop.exit.disabled',\n",
       "            'type': 'R',\n",
       "            'txtN': 'Stannar endast för påstigande'}]},\n",
       "         'name': 'Skiljebomotet (Västerås)',\n",
       "         'id': 'A=1@O=Skiljebomotet (Västerås)@X=16599822@Y=59613916@U=1@L=740037534@',\n",
       "         'extId': '740037534',\n",
       "         'routeIdx': 3,\n",
       "         'lon': 16.599822,\n",
       "         'lat': 59.613916,\n",
       "         'depTime': '23:16:00',\n",
       "         'depDate': '2025-01-09',\n",
       "         'alighting': False,\n",
       "         'minimumChangeDuration': 'PT0S'},\n",
       "        {'name': 'Östanbro (Västerås kn)',\n",
       "         'id': 'A=1@O=Östanbro (Västerås kn)@X=16861363@Y=59622267@U=1@L=740011973@',\n",
       "         'extId': '740011973',\n",
       "         'routeIdx': 4,\n",
       "         'lon': 16.861363,\n",
       "         'lat': 59.622267,\n",
       "         'depTime': '23:27:00',\n",
       "         'depDate': '2025-01-09',\n",
       "         'arrTime': '23:27:00',\n",
       "         'arrDate': '2025-01-09',\n",
       "         'minimumChangeDuration': 'PT0S'},\n",
       "        {'name': 'Nykvarn (Enköping kn)',\n",
       "         'id': 'A=1@O=Nykvarn (Enköping kn)@X=16898660@Y=59622789@U=1@L=740009465@',\n",
       "         'extId': '740009465',\n",
       "         'routeIdx': 5,\n",
       "         'lon': 16.89866,\n",
       "         'lat': 59.622789,\n",
       "         'depTime': '23:30:00',\n",
       "         'depDate': '2025-01-09',\n",
       "         'arrTime': '23:30:00',\n",
       "         'arrDate': '2025-01-09',\n",
       "         'minimumChangeDuration': 'PT0S'},\n",
       "        {'name': 'Tedavägen (Enköping kn)',\n",
       "         'id': 'A=1@O=Tedavägen (Enköping kn)@X=16906184@Y=59622474@U=1@L=740009464@',\n",
       "         'extId': '740009464',\n",
       "         'routeIdx': 6,\n",
       "         'lon': 16.906184,\n",
       "         'lat': 59.622474,\n",
       "         'depTime': '23:30:00',\n",
       "         'depDate': '2025-01-09',\n",
       "         'arrTime': '23:30:00',\n",
       "         'arrDate': '2025-01-09',\n",
       "         'minimumChangeDuration': 'PT0S'},\n",
       "        {'name': 'Drällsta vägskäl (Enköping kn)',\n",
       "         'id': 'A=1@O=Drällsta vägskäl (Enköping kn)@X=16926301@Y=59621683@U=1@L=740009462@',\n",
       "         'extId': '740009462',\n",
       "         'routeIdx': 7,\n",
       "         'lon': 16.926301,\n",
       "         'lat': 59.621683,\n",
       "         'depTime': '23:31:00',\n",
       "         'depDate': '2025-01-09',\n",
       "         'arrTime': '23:31:00',\n",
       "         'arrDate': '2025-01-09',\n",
       "         'minimumChangeDuration': 'PT0S'},\n",
       "        {'name': 'Hummelsta centrum (Enköping kn)',\n",
       "         'id': 'A=1@O=Hummelsta centrum (Enköping kn)@X=16943561@Y=59625836@U=1@L=740001085@',\n",
       "         'extId': '740001085',\n",
       "         'routeIdx': 8,\n",
       "         'lon': 16.943561,\n",
       "         'lat': 59.625836,\n",
       "         'depTime': '23:34:00',\n",
       "         'depDate': '2025-01-09',\n",
       "         'arrTime': '23:34:00',\n",
       "         'arrDate': '2025-01-09',\n",
       "         'minimumChangeDuration': 'PT0S'},\n",
       "        {'name': 'Hummelsta Myrbyvägen (Enköping kn)',\n",
       "         'id': 'A=1@O=Hummelsta Myrbyvägen (Enköping kn)@X=16953359@Y=59628173@U=1@L=740009472@',\n",
       "         'extId': '740009472',\n",
       "         'routeIdx': 9,\n",
       "         'lon': 16.953359,\n",
       "         'lat': 59.628173,\n",
       "         'depTime': '23:34:00',\n",
       "         'depDate': '2025-01-09',\n",
       "         'arrTime': '23:34:00',\n",
       "         'arrDate': '2025-01-09',\n",
       "         'minimumChangeDuration': 'PT0S'},\n",
       "        {'name': 'Dorsilla vägskäl (Enköping kn)',\n",
       "         'id': 'A=1@O=Dorsilla vägskäl (Enköping kn)@X=16964317@Y=59629405@U=1@L=740009474@',\n",
       "         'extId': '740009474',\n",
       "         'routeIdx': 10,\n",
       "         'lon': 16.964317,\n",
       "         'lat': 59.629405,\n",
       "         'depTime': '23:35:00',\n",
       "         'depDate': '2025-01-09',\n",
       "         'arrTime': '23:35:00',\n",
       "         'arrDate': '2025-01-09',\n",
       "         'minimumChangeDuration': 'PT0S'},\n",
       "        {'name': 'Tillinge kyrka (Enköping kn)',\n",
       "         'id': 'A=1@O=Tillinge kyrka (Enköping kn)@X=16987635@Y=59631670@U=1@L=740009481@',\n",
       "         'extId': '740009481',\n",
       "         'routeIdx': 11,\n",
       "         'lon': 16.987635,\n",
       "         'lat': 59.63167,\n",
       "         'depTime': '23:36:00',\n",
       "         'depDate': '2025-01-09',\n",
       "         'arrTime': '23:36:00',\n",
       "         'arrDate': '2025-01-09',\n",
       "         'minimumChangeDuration': 'PT0S'},\n",
       "        {'name': 'Hovdesta (Enköping kn)',\n",
       "         'id': 'A=1@O=Hovdesta (Enköping kn)@X=17010333@Y=59633872@U=1@L=740009487@',\n",
       "         'extId': '740009487',\n",
       "         'routeIdx': 12,\n",
       "         'lon': 17.010333,\n",
       "         'lat': 59.633872,\n",
       "         'depTime': '23:37:00',\n",
       "         'depDate': '2025-01-09',\n",
       "         'arrTime': '23:37:00',\n",
       "         'arrDate': '2025-01-09',\n",
       "         'minimumChangeDuration': 'PT0S'},\n",
       "        {'name': 'Enköping Storängen',\n",
       "         'id': 'A=1@O=Enköping Storängen@X=17051135@Y=59636201@U=1@L=740009489@',\n",
       "         'extId': '740009489',\n",
       "         'routeIdx': 13,\n",
       "         'lon': 17.051135,\n",
       "         'lat': 59.636201,\n",
       "         'depTime': '23:39:00',\n",
       "         'depDate': '2025-01-09',\n",
       "         'arrTime': '23:39:00',\n",
       "         'arrDate': '2025-01-09',\n",
       "         'minimumChangeDuration': 'PT0S'},\n",
       "        {'name': 'Enköping Västerleden',\n",
       "         'id': 'A=1@O=Enköping Västerleden@X=17064088@Y=59637468@U=1@L=740064720@',\n",
       "         'extId': '740064720',\n",
       "         'routeIdx': 14,\n",
       "         'lon': 17.064088,\n",
       "         'lat': 59.637468,\n",
       "         'depTime': '23:40:00',\n",
       "         'depDate': '2025-01-09',\n",
       "         'arrTime': '23:40:00',\n",
       "         'arrDate': '2025-01-09',\n",
       "         'minimumChangeDuration': 'PT0S'},\n",
       "        {'name': 'Enköping Gustav Adolfs plan',\n",
       "         'id': 'A=1@O=Enköping Gustav Adolfs plan@X=17075450@Y=59636785@U=1@L=740012655@',\n",
       "         'extId': '740012655',\n",
       "         'routeIdx': 15,\n",
       "         'lon': 17.07545,\n",
       "         'lat': 59.636785,\n",
       "         'depTime': '23:43:00',\n",
       "         'depDate': '2025-01-09',\n",
       "         'arrTime': '23:43:00',\n",
       "         'arrDate': '2025-01-09',\n",
       "         'minimumChangeDuration': 'PT2M'},\n",
       "        {'name': 'Enköping station',\n",
       "         'id': 'A=1@O=Enköping station@X=17086741@Y=59644327@U=1@L=740000072@',\n",
       "         'extId': '740000072',\n",
       "         'routeIdx': 16,\n",
       "         'lon': 17.086741,\n",
       "         'lat': 59.644327,\n",
       "         'arrPrognosisType': 'PROGNOSED',\n",
       "         'arrTime': '23:50:00',\n",
       "         'arrDate': '2025-01-09',\n",
       "         'minimumChangeDuration': 'PT8M'}]},\n",
       "      'JourneyDetail': {'ref': '1|84948|0|1|9012025',\n",
       "       'dayOfOperation': '2025-01-09'},\n",
       "      'id': '1',\n",
       "      'idx': 1,\n",
       "      'name': 'Länstrafik - Buss 874',\n",
       "      'number': '874',\n",
       "      'category': 'BLT',\n",
       "      'type': 'JNY',\n",
       "      'reachable': True,\n",
       "      'waitingState': 'UNDEF',\n",
       "      'direction': 'Enköping station',\n",
       "      'directionFlag': '1',\n",
       "      'duration': 'PT40M',\n",
       "      'minimumChangeDuration': 'PT0S'},\n",
       "     {'Origin': {'name': 'Enköping station',\n",
       "       'type': 'ST',\n",
       "       'id': 'A=1@O=Enköping station@X=17086741@Y=59644327@U=1@L=740000072@',\n",
       "       'extId': '740000072',\n",
       "       'lon': 17.086741,\n",
       "       'lat': 59.644327,\n",
       "       'routeIdx': 1,\n",
       "       'prognosisType': 'PROGNOSED',\n",
       "       'time': '00:29:00',\n",
       "       'date': '2025-01-10',\n",
       "       'minimumChangeDuration': 'PT8M'},\n",
       "      'Destination': {'name': 'Uppsala Centralstation',\n",
       "       'type': 'ST',\n",
       "       'id': 'A=1@O=Uppsala Centralstation@X=17646086@Y=59858531@U=1@L=740000005@',\n",
       "       'extId': '740000005',\n",
       "       'lon': 17.646086,\n",
       "       'lat': 59.858531,\n",
       "       'routeIdx': 49,\n",
       "       'prognosisType': 'PROGNOSED',\n",
       "       'time': '01:23:00',\n",
       "       'date': '2025-01-10',\n",
       "       'minimumChangeDuration': 'PT10M'},\n",
       "      'Notes': {'Note': [{'value': 'Lag 2015:953 tillämpas',\n",
       "         'key': 'EG',\n",
       "         'type': 'A',\n",
       "         'routeIdxFrom': 1,\n",
       "         'routeIdxTo': 49,\n",
       "         'txtN': 'Lag 2015:953 tillämpas'}]},\n",
       "      'JourneyDetailRef': {'ref': '1|84224|0|1|10012025'},\n",
       "      'JourneyStatus': 'P',\n",
       "      'Product': [{'icon': {'res': 'prod_gen'},\n",
       "        'operatorInfo': {'name': 'UL',\n",
       "         'nameS': '251',\n",
       "         'nameN': '251',\n",
       "         'nameL': 'UL',\n",
       "         'id': '251'},\n",
       "        'name': 'Länstrafik - Buss 804',\n",
       "        'internalName': 'Länstrafik - Buss 804',\n",
       "        'displayNumber': '804',\n",
       "        'num': '804',\n",
       "        'line': '804',\n",
       "        'lineId': '1251080400001',\n",
       "        'catOut': 'BLT',\n",
       "        'catIn': 'BLT',\n",
       "        'catCode': '7',\n",
       "        'cls': '128',\n",
       "        'catOutS': 'BLT',\n",
       "        'catOutL': 'Länstrafik - Buss',\n",
       "        'operatorCode': '251',\n",
       "        'operator': 'UL',\n",
       "        'admin': '251___',\n",
       "        'routeIdxFrom': 1,\n",
       "        'routeIdxTo': 49,\n",
       "        'matchId': '804;804;131'}],\n",
       "      'Stops': {'Stop': [{'name': 'Enköping station',\n",
       "         'id': 'A=1@O=Enköping station@X=17086741@Y=59644327@U=1@L=740000072@',\n",
       "         'extId': '740000072',\n",
       "         'routeIdx': 1,\n",
       "         'lon': 17.086741,\n",
       "         'lat': 59.644327,\n",
       "         'depTime': '00:29:00',\n",
       "         'depDate': '2025-01-10',\n",
       "         'depDir': 'Uppsala Centralstation',\n",
       "         'minimumChangeDuration': 'PT8M'},\n",
       "        {'name': 'Enköping Herrgården',\n",
       "         'id': 'A=1@O=Enköping Herrgården@X=17104225@Y=59644596@U=1@L=740009527@',\n",
       "         'extId': '740009527',\n",
       "         'routeIdx': 2,\n",
       "         'lon': 17.104225,\n",
       "         'lat': 59.644596,\n",
       "         'depTime': '00:30:00',\n",
       "         'depDate': '2025-01-10',\n",
       "         'arrTime': '00:30:00',\n",
       "         'arrDate': '2025-01-10',\n",
       "         'minimumChangeDuration': 'PT8M'},\n",
       "        {'name': 'Enköping Stenvreten',\n",
       "         'id': 'A=1@O=Enköping Stenvreten@X=17115902@Y=59645415@U=1@L=740009357@',\n",
       "         'extId': '740009357',\n",
       "         'routeIdx': 3,\n",
       "         'lon': 17.115902,\n",
       "         'lat': 59.645415,\n",
       "         'depTime': '00:31:00',\n",
       "         'depDate': '2025-01-10',\n",
       "         'arrTime': '00:31:00',\n",
       "         'arrDate': '2025-01-10',\n",
       "         'minimumChangeDuration': 'PT0S'},\n",
       "        {'name': 'Enköping Barkan',\n",
       "         'id': 'A=1@O=Enköping Barkan@X=17125889@Y=59646268@U=1@L=740009531@',\n",
       "         'extId': '740009531',\n",
       "         'routeIdx': 4,\n",
       "         'lon': 17.125889,\n",
       "         'lat': 59.646268,\n",
       "         'depTime': '00:32:00',\n",
       "         'depDate': '2025-01-10',\n",
       "         'arrTime': '00:32:00',\n",
       "         'arrDate': '2025-01-10',\n",
       "         'minimumChangeDuration': 'PT0S'},\n",
       "        {'name': 'Enköping Annelund',\n",
       "         'id': 'A=1@O=Enköping Annelund@X=17138402@Y=59645990@U=1@L=740009534@',\n",
       "         'extId': '740009534',\n",
       "         'routeIdx': 5,\n",
       "         'lon': 17.138402,\n",
       "         'lat': 59.64599,\n",
       "         'depTime': '00:32:00',\n",
       "         'depDate': '2025-01-10',\n",
       "         'arrTime': '00:32:00',\n",
       "         'arrDate': '2025-01-10',\n",
       "         'minimumChangeDuration': 'PT0S'},\n",
       "        {'name': 'Enköpings företagspark',\n",
       "         'id': 'A=1@O=Enköpings företagspark@X=17150888@Y=59649594@U=1@L=740009683@',\n",
       "         'extId': '740009683',\n",
       "         'routeIdx': 6,\n",
       "         'lon': 17.150888,\n",
       "         'lat': 59.649594,\n",
       "         'depTime': '00:33:00',\n",
       "         'depDate': '2025-01-10',\n",
       "         'arrTime': '00:33:00',\n",
       "         'arrDate': '2025-01-10',\n",
       "         'minimumChangeDuration': 'PT0S'},\n",
       "        {'name': 'Varghällar (Enköping kn)',\n",
       "         'id': 'A=1@O=Varghällar (Enköping kn)@X=17157801@Y=59650457@U=1@L=740009536@',\n",
       "         'extId': '740009536',\n",
       "         'routeIdx': 7,\n",
       "         'lon': 17.157801,\n",
       "         'lat': 59.650457,\n",
       "         'depTime': '00:34:00',\n",
       "         'depDate': '2025-01-10',\n",
       "         'arrTime': '00:34:00',\n",
       "         'arrDate': '2025-01-10',\n",
       "         'minimumChangeDuration': 'PT0S'},\n",
       "        {'name': 'Östertorp (Enköping kn)',\n",
       "         'id': 'A=1@O=Östertorp (Enköping kn)@X=17170862@Y=59653145@U=1@L=740009539@',\n",
       "         'extId': '740009539',\n",
       "         'routeIdx': 8,\n",
       "         'lon': 17.170862,\n",
       "         'lat': 59.653145,\n",
       "         'depTime': '00:34:00',\n",
       "         'depDate': '2025-01-10',\n",
       "         'arrTime': '00:34:00',\n",
       "         'arrDate': '2025-01-10',\n",
       "         'minimumChangeDuration': 'PT0S'},\n",
       "        {'name': 'Blåhäll (Enköping kn)',\n",
       "         'id': 'A=1@O=Blåhäll (Enköping kn)@X=17191654@Y=59655527@U=1@L=740009541@',\n",
       "         'extId': '740009541',\n",
       "         'routeIdx': 9,\n",
       "         'lon': 17.191654,\n",
       "         'lat': 59.655527,\n",
       "         'depTime': '00:35:00',\n",
       "         'depDate': '2025-01-10',\n",
       "         'arrTime': '00:35:00',\n",
       "         'arrDate': '2025-01-10',\n",
       "         'minimumChangeDuration': 'PT0S'},\n",
       "        {'name': 'Sneby (Enköping kn)',\n",
       "         'id': 'A=1@O=Sneby (Enköping kn)@X=17206441@Y=59656912@U=1@L=740009542@',\n",
       "         'extId': '740009542',\n",
       "         'routeIdx': 10,\n",
       "         'lon': 17.206441,\n",
       "         'lat': 59.656912,\n",
       "         'depTime': '00:35:00',\n",
       "         'depDate': '2025-01-10',\n",
       "         'arrTime': '00:35:00',\n",
       "         'arrDate': '2025-01-10',\n",
       "         'minimumChangeDuration': 'PT0S'},\n",
       "        {'name': 'Vällinge (Enköping kn)',\n",
       "         'id': 'A=1@O=Vällinge (Enköping kn)@X=17222514@Y=59659402@U=1@L=740009546@',\n",
       "         'extId': '740009546',\n",
       "         'routeIdx': 11,\n",
       "         'lon': 17.222514,\n",
       "         'lat': 59.659402,\n",
       "         'depTime': '00:36:00',\n",
       "         'depDate': '2025-01-10',\n",
       "         'arrTime': '00:36:00',\n",
       "         'arrDate': '2025-01-10',\n",
       "         'minimumChangeDuration': 'PT0S'},\n",
       "        {'name': 'Skolsta (Enköping kn)',\n",
       "         'id': 'A=1@O=Skolsta (Enköping kn)@X=17242182@Y=59660615@U=1@L=740012855@',\n",
       "         'extId': '740012855',\n",
       "         'routeIdx': 12,\n",
       "         'lon': 17.242182,\n",
       "         'lat': 59.660615,\n",
       "         'depTime': '00:38:00',\n",
       "         'depDate': '2025-01-10',\n",
       "         'arrTime': '00:38:00',\n",
       "         'arrDate': '2025-01-10',\n",
       "         'minimumChangeDuration': 'PT4M'},\n",
       "        {'name': 'Litslena kyrka (Enköping kn)',\n",
       "         'id': 'A=1@O=Litslena kyrka (Enköping kn)@X=17265554@Y=59663204@U=1@L=740009550@',\n",
       "         'extId': '740009550',\n",
       "         'routeIdx': 13,\n",
       "         'lon': 17.265554,\n",
       "         'lat': 59.663204,\n",
       "         'depTime': '00:39:00',\n",
       "         'depDate': '2025-01-10',\n",
       "         'arrTime': '00:39:00',\n",
       "         'arrDate': '2025-01-10',\n",
       "         'minimumChangeDuration': 'PT0S'},\n",
       "        {'name': 'Graneberg (Enköping kn)',\n",
       "         'id': 'A=1@O=Graneberg (Enköping kn)@X=17271757@Y=59670692@U=1@L=740009556@',\n",
       "         'extId': '740009556',\n",
       "         'routeIdx': 14,\n",
       "         'lon': 17.271757,\n",
       "         'lat': 59.670692,\n",
       "         'depTime': '00:40:00',\n",
       "         'depDate': '2025-01-10',\n",
       "         'arrTime': '00:40:00',\n",
       "         'arrDate': '2025-01-10',\n",
       "         'minimumChangeDuration': 'PT0S'},\n",
       "        {'name': 'Djurby (Enköping kn)',\n",
       "         'id': 'A=1@O=Djurby (Enköping kn)@X=17276710@Y=59680553@U=1@L=740009568@',\n",
       "         'extId': '740009568',\n",
       "         'routeIdx': 15,\n",
       "         'lon': 17.27671,\n",
       "         'lat': 59.680553,\n",
       "         'depTime': '00:41:00',\n",
       "         'depDate': '2025-01-10',\n",
       "         'arrTime': '00:41:00',\n",
       "         'arrDate': '2025-01-10',\n",
       "         'minimumChangeDuration': 'PT0S'},\n",
       "        {'name': 'Hallarbyvägen (Enköping kn)',\n",
       "         'id': 'A=1@O=Hallarbyvägen (Enköping kn)@X=17278876@Y=59691691@U=1@L=740009575@',\n",
       "         'extId': '740009575',\n",
       "         'routeIdx': 16,\n",
       "         'lon': 17.278876,\n",
       "         'lat': 59.691691,\n",
       "         'depTime': '00:42:00',\n",
       "         'depDate': '2025-01-10',\n",
       "         'arrTime': '00:42:00',\n",
       "         'arrDate': '2025-01-10',\n",
       "         'minimumChangeDuration': 'PT0S'},\n",
       "        {'name': 'Härvesta (Enköping kn)',\n",
       "         'id': 'A=1@O=Härvesta (Enköping kn)@X=17278661@Y=59697858@U=1@L=740009578@',\n",
       "         'extId': '740009578',\n",
       "         'routeIdx': 17,\n",
       "         'lon': 17.278661,\n",
       "         'lat': 59.697858,\n",
       "         'depTime': '00:42:00',\n",
       "         'depDate': '2025-01-10',\n",
       "         'arrTime': '00:42:00',\n",
       "         'arrDate': '2025-01-10',\n",
       "         'minimumChangeDuration': 'PT0S'},\n",
       "        {'name': 'Korskrogen (Enköping kn)',\n",
       "         'id': 'A=1@O=Korskrogen (Enköping kn)@X=17278337@Y=59703026@U=1@L=740009583@',\n",
       "         'extId': '740009583',\n",
       "         'routeIdx': 18,\n",
       "         'lon': 17.278337,\n",
       "         'lat': 59.703026,\n",
       "         'depTime': '00:42:00',\n",
       "         'depDate': '2025-01-10',\n",
       "         'arrTime': '00:42:00',\n",
       "         'arrDate': '2025-01-10',\n",
       "         'minimumChangeDuration': 'PT0S'},\n",
       "        {'name': 'Varsta (Enköping kn)',\n",
       "         'id': 'A=1@O=Varsta (Enköping kn)@X=17279353@Y=59710344@U=1@L=740009589@',\n",
       "         'extId': '740009589',\n",
       "         'routeIdx': 19,\n",
       "         'lon': 17.279353,\n",
       "         'lat': 59.710344,\n",
       "         'depTime': '00:43:00',\n",
       "         'depDate': '2025-01-10',\n",
       "         'arrTime': '00:43:00',\n",
       "         'arrDate': '2025-01-10',\n",
       "         'minimumChangeDuration': 'PT0S'},\n",
       "        {'name': 'Torslunda (Enköping kn)',\n",
       "         'id': 'A=1@O=Torslunda (Enköping kn)@X=17283335@Y=59720043@U=1@L=740009342@',\n",
       "         'extId': '740009342',\n",
       "         'routeIdx': 20,\n",
       "         'lon': 17.283335,\n",
       "         'lat': 59.720043,\n",
       "         'depTime': '00:44:00',\n",
       "         'depDate': '2025-01-10',\n",
       "         'arrTime': '00:44:00',\n",
       "         'arrDate': '2025-01-10',\n",
       "         'minimumChangeDuration': 'PT0S'},\n",
       "        {'name': 'Örsundsbro Kvekvägen (Enköping kn)',\n",
       "         'id': 'A=1@O=Örsundsbro Kvekvägen (Enköping kn)@X=17296558@Y=59725985@U=1@L=740007302@',\n",
       "         'extId': '740007302',\n",
       "         'routeIdx': 21,\n",
       "         'lon': 17.296558,\n",
       "         'lat': 59.725985,\n",
       "         'depTime': '00:45:00',\n",
       "         'depDate': '2025-01-10',\n",
       "         'arrTime': '00:45:00',\n",
       "         'arrDate': '2025-01-10',\n",
       "         'minimumChangeDuration': 'PT0S'},\n",
       "        {'name': 'Örsundsbro centrum (Enköping kn)',\n",
       "         'id': 'A=1@O=Örsundsbro centrum (Enköping kn)@X=17307786@Y=59733868@U=1@L=740000737@',\n",
       "         'extId': '740000737',\n",
       "         'routeIdx': 22,\n",
       "         'lon': 17.307786,\n",
       "         'lat': 59.733868,\n",
       "         'depTime': '00:48:00',\n",
       "         'depDate': '2025-01-10',\n",
       "         'arrTime': '00:48:00',\n",
       "         'arrDate': '2025-01-10',\n",
       "         'minimumChangeDuration': 'PT2M'},\n",
       "        {'name': 'Örsundsbro Nysätravägen (Enköping kn)',\n",
       "         'id': 'A=1@O=Örsundsbro Nysätravägen (Enköping kn)@X=17310123@Y=59737581@U=1@L=740007303@',\n",
       "         'extId': '740007303',\n",
       "         'routeIdx': 23,\n",
       "         'lon': 17.310123,\n",
       "         'lat': 59.737581,\n",
       "         'depTime': '00:48:00',\n",
       "         'depDate': '2025-01-10',\n",
       "         'arrTime': '00:48:00',\n",
       "         'arrDate': '2025-01-10',\n",
       "         'minimumChangeDuration': 'PT0S'},\n",
       "        {'name': 'Örsundsbro Salnecke park (Enköping kn)',\n",
       "         'id': 'A=1@O=Örsundsbro Salnecke park (Enköping kn)@X=17319418@Y=59738561@U=1@L=740007304@',\n",
       "         'extId': '740007304',\n",
       "         'routeIdx': 24,\n",
       "         'lon': 17.319418,\n",
       "         'lat': 59.738561,\n",
       "         'depTime': '00:49:00',\n",
       "         'depDate': '2025-01-10',\n",
       "         'arrTime': '00:49:00',\n",
       "         'arrDate': '2025-01-10',\n",
       "         'minimumChangeDuration': 'PT0S'},\n",
       "        {'name': 'Örsundsbro Salnecke (Enköping kn)',\n",
       "         'id': 'A=1@O=Örsundsbro Salnecke (Enköping kn)@X=17334142@Y=59742525@U=1@L=740012840@',\n",
       "         'extId': '740012840',\n",
       "         'routeIdx': 25,\n",
       "         'lon': 17.334142,\n",
       "         'lat': 59.742525,\n",
       "         'depTime': '00:50:00',\n",
       "         'depDate': '2025-01-10',\n",
       "         'arrTime': '00:50:00',\n",
       "         'arrDate': '2025-01-10',\n",
       "         'minimumChangeDuration': 'PT0S'},\n",
       "        {'name': 'Eningböle (Enköping kn)',\n",
       "         'id': 'A=1@O=Eningböle (Enköping kn)@X=17342682@Y=59748683@U=1@L=740009617@',\n",
       "         'extId': '740009617',\n",
       "         'routeIdx': 26,\n",
       "         'lon': 17.342682,\n",
       "         'lat': 59.748683,\n",
       "         'depTime': '00:51:00',\n",
       "         'depDate': '2025-01-10',\n",
       "         'arrTime': '00:51:00',\n",
       "         'arrDate': '2025-01-10',\n",
       "         'minimumChangeDuration': 'PT0S'},\n",
       "        {'name': 'Gryta skola (Enköping kn)',\n",
       "         'id': 'A=1@O=Gryta skola (Enköping kn)@X=17351824@Y=59750984@U=1@L=740009619@',\n",
       "         'extId': '740009619',\n",
       "         'routeIdx': 27,\n",
       "         'lon': 17.351824,\n",
       "         'lat': 59.750984,\n",
       "         'depTime': '00:52:00',\n",
       "         'depDate': '2025-01-10',\n",
       "         'arrTime': '00:52:00',\n",
       "         'arrDate': '2025-01-10',\n",
       "         'minimumChangeDuration': 'PT0S'},\n",
       "        {'name': 'Lilla Ransta (Enköping kn)',\n",
       "         'id': 'A=1@O=Lilla Ransta (Enköping kn)@X=17372526@Y=59759883@U=1@L=740009622@',\n",
       "         'extId': '740009622',\n",
       "         'routeIdx': 28,\n",
       "         'lon': 17.372526,\n",
       "         'lat': 59.759883,\n",
       "         'depTime': '00:53:00',\n",
       "         'depDate': '2025-01-10',\n",
       "         'arrTime': '00:53:00',\n",
       "         'arrDate': '2025-01-10',\n",
       "         'minimumChangeDuration': 'PT0S'},\n",
       "        {'name': 'Säva (Enköping kn)',\n",
       "         'id': 'A=1@O=Säva (Enköping kn)@X=17387142@Y=59766400@U=1@L=740024505@',\n",
       "         'extId': '740024505',\n",
       "         'routeIdx': 29,\n",
       "         'lon': 17.387142,\n",
       "         'lat': 59.7664,\n",
       "         'depTime': '00:53:00',\n",
       "         'depDate': '2025-01-10',\n",
       "         'arrTime': '00:53:00',\n",
       "         'arrDate': '2025-01-10',\n",
       "         'minimumChangeDuration': 'PT0S'},\n",
       "        {'name': 'Brunna v. 55 (Uppsala kn)',\n",
       "         'id': 'A=1@O=Brunna v. 55 (Uppsala kn)@X=17404689@Y=59778383@U=1@L=740008758@',\n",
       "         'extId': '740008758',\n",
       "         'routeIdx': 30,\n",
       "         'lon': 17.404689,\n",
       "         'lat': 59.778383,\n",
       "         'depTime': '00:55:00',\n",
       "         'depDate': '2025-01-10',\n",
       "         'arrTime': '00:55:00',\n",
       "         'arrDate': '2025-01-10',\n",
       "         'minimumChangeDuration': 'PT0S'},\n",
       "        {'name': 'Västergärde (Uppsala kn)',\n",
       "         'id': 'A=1@O=Västergärde (Uppsala kn)@X=17417481@Y=59783012@U=1@L=740008866@',\n",
       "         'extId': '740008866',\n",
       "         'routeIdx': 31,\n",
       "         'lon': 17.417481,\n",
       "         'lat': 59.783012,\n",
       "         'depTime': '00:55:00',\n",
       "         'depDate': '2025-01-10',\n",
       "         'arrTime': '00:55:00',\n",
       "         'arrDate': '2025-01-10',\n",
       "         'minimumChangeDuration': 'PT0S'},\n",
       "        {'name': 'Bragby (Uppsala kn)',\n",
       "         'id': 'A=1@O=Bragby (Uppsala kn)@X=17432008@Y=59789395@U=1@L=740008870@',\n",
       "         'extId': '740008870',\n",
       "         'routeIdx': 32,\n",
       "         'lon': 17.432008,\n",
       "         'lat': 59.789395,\n",
       "         'depTime': '00:56:00',\n",
       "         'depDate': '2025-01-10',\n",
       "         'arrTime': '00:56:00',\n",
       "         'arrDate': '2025-01-10',\n",
       "         'minimumChangeDuration': 'PT0S'},\n",
       "        {'name': 'Ramsta kyrka (Uppsala kn)',\n",
       "         'id': 'A=1@O=Ramsta kyrka (Uppsala kn)@X=17438417@Y=59792676@U=1@L=740012824@',\n",
       "         'extId': '740012824',\n",
       "         'routeIdx': 33,\n",
       "         'lon': 17.438417,\n",
       "         'lat': 59.792676,\n",
       "         'depTime': '00:58:00',\n",
       "         'depDate': '2025-01-10',\n",
       "         'arrTime': '00:58:00',\n",
       "         'arrDate': '2025-01-10',\n",
       "         'minimumChangeDuration': 'PT3M'},\n",
       "        {'name': 'Ramstalund (Uppsala kn)',\n",
       "         'id': 'A=1@O=Ramstalund (Uppsala kn)@X=17444700@Y=59797206@U=1@L=740008863@',\n",
       "         'extId': '740008863',\n",
       "         'routeIdx': 34,\n",
       "         'lon': 17.4447,\n",
       "         'lat': 59.797206,\n",
       "         'depTime': '00:58:00',\n",
       "         'depDate': '2025-01-10',\n",
       "         'arrTime': '00:58:00',\n",
       "         'arrDate': '2025-01-10',\n",
       "         'minimumChangeDuration': 'PT0S'},\n",
       "        {'name': 'Lund (Uppsala kn)',\n",
       "         'id': 'A=1@O=Lund (Uppsala kn)@X=17451685@Y=59803121@U=1@L=740008873@',\n",
       "         'extId': '740008873',\n",
       "         'routeIdx': 35,\n",
       "         'lon': 17.451685,\n",
       "         'lat': 59.803121,\n",
       "         'depTime': '00:59:00',\n",
       "         'depDate': '2025-01-10',\n",
       "         'arrTime': '00:59:00',\n",
       "         'arrDate': '2025-01-10',\n",
       "         'minimumChangeDuration': 'PT0S'},\n",
       "        {'name': 'Rosendal (Uppsala kn)',\n",
       "         'id': 'A=1@O=Rosendal (Uppsala kn)@X=17457501@Y=59806411@U=1@L=740008882@',\n",
       "         'extId': '740008882',\n",
       "         'routeIdx': 36,\n",
       "         'lon': 17.457501,\n",
       "         'lat': 59.806411,\n",
       "         'depTime': '00:59:00',\n",
       "         'depDate': '2025-01-10',\n",
       "         'arrTime': '00:59:00',\n",
       "         'arrDate': '2025-01-10',\n",
       "         'minimumChangeDuration': 'PT0S'},\n",
       "        {'name': 'Navestahage (Uppsala kn)',\n",
       "         'id': 'A=1@O=Navestahage (Uppsala kn)@X=17469394@Y=59810861@U=1@L=740011835@',\n",
       "         'extId': '740011835',\n",
       "         'routeIdx': 37,\n",
       "         'lon': 17.469394,\n",
       "         'lat': 59.810861,\n",
       "         'depTime': '01:00:00',\n",
       "         'depDate': '2025-01-10',\n",
       "         'arrTime': '01:00:00',\n",
       "         'arrDate': '2025-01-10',\n",
       "         'minimumChangeDuration': 'PT0S'},\n",
       "        {'name': 'Sätra (Uppsala kn)',\n",
       "         'id': 'A=1@O=Sätra (Uppsala kn)@X=17481367@Y=59814645@U=1@L=740008887@',\n",
       "         'extId': '740008887',\n",
       "         'routeIdx': 38,\n",
       "         'lon': 17.481367,\n",
       "         'lat': 59.814645,\n",
       "         'depTime': '01:00:00',\n",
       "         'depDate': '2025-01-10',\n",
       "         'arrTime': '01:00:00',\n",
       "         'arrDate': '2025-01-10',\n",
       "         'minimumChangeDuration': 'PT0S'},\n",
       "        {'name': 'Skärfälten (Uppsala kn)',\n",
       "         'id': 'A=1@O=Skärfälten (Uppsala kn)@X=17492235@Y=59819185@U=1@L=740008892@',\n",
       "         'extId': '740008892',\n",
       "         'routeIdx': 39,\n",
       "         'lon': 17.492235,\n",
       "         'lat': 59.819185,\n",
       "         'depTime': '01:01:00',\n",
       "         'depDate': '2025-01-10',\n",
       "         'arrTime': '01:01:00',\n",
       "         'arrDate': '2025-01-10',\n",
       "         'minimumChangeDuration': 'PT3M'},\n",
       "        {'name': 'Kristineberg (Uppsala kn)',\n",
       "         'id': 'A=1@O=Kristineberg (Uppsala kn)@X=17518214@Y=59835653@U=1@L=740008902@',\n",
       "         'extId': '740008902',\n",
       "         'routeIdx': 40,\n",
       "         'lon': 17.518214,\n",
       "         'lat': 59.835653,\n",
       "         'depTime': '01:03:00',\n",
       "         'depDate': '2025-01-10',\n",
       "         'arrTime': '01:03:00',\n",
       "         'arrDate': '2025-01-10',\n",
       "         'minimumChangeDuration': 'PT0S'},\n",
       "        {'name': 'Nåsten (Uppsala kn)',\n",
       "         'id': 'A=1@O=Nåsten (Uppsala kn)@X=17534583@Y=59841433@U=1@L=740008423@',\n",
       "         'extId': '740008423',\n",
       "         'routeIdx': 41,\n",
       "         'lon': 17.534583,\n",
       "         'lat': 59.841433,\n",
       "         'depTime': '01:03:00',\n",
       "         'depDate': '2025-01-10',\n",
       "         'arrTime': '01:03:00',\n",
       "         'arrDate': '2025-01-10',\n",
       "         'minimumChangeDuration': 'PT0S'},\n",
       "        {'name': 'Kvarnbolund (Uppsala kn)',\n",
       "         'id': 'A=1@O=Kvarnbolund (Uppsala kn)@X=17550476@Y=59845703@U=1@L=740008424@',\n",
       "         'extId': '740008424',\n",
       "         'routeIdx': 42,\n",
       "         'lon': 17.550476,\n",
       "         'lat': 59.845703,\n",
       "         'depTime': '01:04:00',\n",
       "         'depDate': '2025-01-10',\n",
       "         'arrTime': '01:04:00',\n",
       "         'arrDate': '2025-01-10',\n",
       "         'minimumChangeDuration': 'PT0S'},\n",
       "        {'name': 'Uppsala Stenhagen',\n",
       "         'id': 'A=1@O=Uppsala Stenhagen@X=17562774@Y=59847888@U=1@L=740007835@',\n",
       "         'extId': '740007835',\n",
       "         'routeIdx': 43,\n",
       "         'lon': 17.562774,\n",
       "         'lat': 59.847888,\n",
       "         'depTime': '01:05:00',\n",
       "         'depDate': '2025-01-10',\n",
       "         'arrTime': '01:05:00',\n",
       "         'arrDate': '2025-01-10',\n",
       "         'minimumChangeDuration': 'PT0S'},\n",
       "        {'name': 'Uppsala Flogsta Centrum',\n",
       "         'id': 'A=1@O=Uppsala Flogsta Centrum@X=17586640@Y=59852059@U=1@L=740007455@',\n",
       "         'extId': '740007455',\n",
       "         'routeIdx': 44,\n",
       "         'lon': 17.58664,\n",
       "         'lat': 59.852059,\n",
       "         'depTime': '01:08:00',\n",
       "         'depDate': '2025-01-10',\n",
       "         'arrTime': '01:08:00',\n",
       "         'arrDate': '2025-01-10',\n",
       "         'minimumChangeDuration': 'PT3M'},\n",
       "        {'name': 'Uppsala Hildur Ottelinsgatan',\n",
       "         'id': 'A=1@O=Uppsala Hildur Ottelinsgatan@X=17609095@Y=59855142@U=1@L=740007633@',\n",
       "         'extId': '740007633',\n",
       "         'routeIdx': 45,\n",
       "         'lon': 17.609095,\n",
       "         'lat': 59.855142,\n",
       "         'depTime': '01:11:00',\n",
       "         'depDate': '2025-01-10',\n",
       "         'arrTime': '01:11:00',\n",
       "         'arrDate': '2025-01-10',\n",
       "         'minimumChangeDuration': 'PT0S'},\n",
       "        {'name': 'Uppsala Ekonomikum',\n",
       "         'id': 'A=1@O=Uppsala Ekonomikum@X=17619424@Y=59860850@U=1@L=740007480@',\n",
       "         'extId': '740007480',\n",
       "         'routeIdx': 46,\n",
       "         'lon': 17.619424,\n",
       "         'lat': 59.86085,\n",
       "         'depTime': '01:14:00',\n",
       "         'depDate': '2025-01-10',\n",
       "         'arrTime': '01:14:00',\n",
       "         'arrDate': '2025-01-10',\n",
       "         'minimumChangeDuration': 'PT5M'},\n",
       "        {'name': 'Uppsala Skolgatan',\n",
       "         'id': 'A=1@O=Uppsala Skolgatan@X=17634013@Y=59864005@U=1@L=740007520@',\n",
       "         'extId': '740007520',\n",
       "         'routeIdx': 47,\n",
       "         'lon': 17.634013,\n",
       "         'lat': 59.864005,\n",
       "         'depTime': '01:18:00',\n",
       "         'depDate': '2025-01-10',\n",
       "         'arrTime': '01:18:00',\n",
       "         'arrDate': '2025-01-10',\n",
       "         'minimumChangeDuration': 'PT3M'},\n",
       "        {'name': 'Uppsala Klostergatan',\n",
       "         'id': 'A=1@O=Uppsala Klostergatan@X=17639038@Y=59861228@U=1@L=740007384@',\n",
       "         'extId': '740007384',\n",
       "         'routeIdx': 48,\n",
       "         'lon': 17.639038,\n",
       "         'lat': 59.861228,\n",
       "         'depTime': '01:19:00',\n",
       "         'depDate': '2025-01-10',\n",
       "         'arrTime': '01:19:00',\n",
       "         'arrDate': '2025-01-10',\n",
       "         'minimumChangeDuration': 'PT3M'},\n",
       "        {'name': 'Uppsala Centralstation',\n",
       "         'id': 'A=1@O=Uppsala Centralstation@X=17646086@Y=59858531@U=1@L=740000005@',\n",
       "         'extId': '740000005',\n",
       "         'routeIdx': 49,\n",
       "         'lon': 17.646086,\n",
       "         'lat': 59.858531,\n",
       "         'arrPrognosisType': 'PROGNOSED',\n",
       "         'arrTime': '01:23:00',\n",
       "         'arrDate': '2025-01-10',\n",
       "         'minimumChangeDuration': 'PT10M'}]},\n",
       "      'JourneyDetail': {'ref': '1|84224|0|1|10012025',\n",
       "       'dayOfOperation': '2025-01-10'},\n",
       "      'id': '2',\n",
       "      'idx': 2,\n",
       "      'name': 'Länstrafik - Buss 804',\n",
       "      'number': '804',\n",
       "      'category': 'BLT',\n",
       "      'type': 'JNY',\n",
       "      'reachable': True,\n",
       "      'waitingState': 'UNDEF',\n",
       "      'direction': 'Uppsala Centralstation',\n",
       "      'directionFlag': '1',\n",
       "      'duration': 'PT54M',\n",
       "      'minimumChangeDuration': 'PT5M'},\n",
       "     {'Origin': {'name': 'Uppsala Centralstation',\n",
       "       'type': 'ST',\n",
       "       'id': 'A=1@O=Uppsala Centralstation@X=17646086@Y=59858531@U=1@L=740000005@',\n",
       "       'extId': '740000005',\n",
       "       'lon': 17.646086,\n",
       "       'lat': 59.858531,\n",
       "       'routeIdx': 0,\n",
       "       'prognosisType': 'PROGNOSED',\n",
       "       'time': '01:34:00',\n",
       "       'date': '2025-01-10',\n",
       "       'minimumChangeDuration': 'PT10M'},\n",
       "      'Destination': {'name': 'Stockholm Citytermin Kungsbron',\n",
       "       'type': 'ST',\n",
       "       'id': 'A=1@O=Stockholm Citytermin Kungsbron@X=18054475@Y=59333165@U=1@L=740001541@',\n",
       "       'extId': '740001541',\n",
       "       'lon': 18.054475,\n",
       "       'lat': 59.333165,\n",
       "       'routeIdx': 17,\n",
       "       'prognosisType': 'PROGNOSED',\n",
       "       'time': '03:07:00',\n",
       "       'date': '2025-01-10',\n",
       "       'minimumChangeDuration': 'PT5M'},\n",
       "      'Notes': {'Note': [{'value': 'Lag 2015:953 tillämpas',\n",
       "         'key': 'EG',\n",
       "         'type': 'A',\n",
       "         'routeIdxFrom': 0,\n",
       "         'routeIdxTo': 17,\n",
       "         'txtN': 'Lag 2015:953 tillämpas'}]},\n",
       "      'JourneyDetailRef': {'ref': '1|9224|0|1|10012025'},\n",
       "      'JourneyStatus': 'P',\n",
       "      'Product': [{'icon': {'res': 'prod_gen'},\n",
       "        'operatorInfo': {'name': 'SL',\n",
       "         'nameS': '275',\n",
       "         'nameN': '275',\n",
       "         'nameL': 'SL',\n",
       "         'id': '275'},\n",
       "        'name': 'Länstrafik - Buss 593',\n",
       "        'internalName': 'Länstrafik - Buss 593',\n",
       "        'displayNumber': '593',\n",
       "        'num': '593',\n",
       "        'line': '593',\n",
       "        'lineId': '1275059300001',\n",
       "        'catOut': 'BLT',\n",
       "        'catIn': 'BLT',\n",
       "        'catCode': '7',\n",
       "        'cls': '128',\n",
       "        'catOutS': 'BLT',\n",
       "        'catOutL': 'Länstrafik - Buss',\n",
       "        'operatorCode': '275',\n",
       "        'operator': 'SL',\n",
       "        'admin': '275___',\n",
       "        'routeIdxFrom': 0,\n",
       "        'routeIdxTo': 17,\n",
       "        'matchId': '593;593;10134'}],\n",
       "      'Stops': {'Stop': [{'name': 'Uppsala Centralstation',\n",
       "         'id': 'A=1@O=Uppsala Centralstation@X=17646086@Y=59858531@U=1@L=740000005@',\n",
       "         'extId': '740000005',\n",
       "         'routeIdx': 0,\n",
       "         'lon': 17.646086,\n",
       "         'lat': 59.858531,\n",
       "         'depPrognosisType': 'PROGNOSED',\n",
       "         'depTime': '01:34:00',\n",
       "         'depDate': '2025-01-10',\n",
       "         'depDir': 'Stockholm Citytermin Kungsbron',\n",
       "         'minimumChangeDuration': 'PT10M'},\n",
       "        {'name': 'Knivsta Nova Park',\n",
       "         'id': 'A=1@O=Knivsta Nova Park@X=17814211@Y=59740592@U=1@L=740008475@',\n",
       "         'extId': '740008475',\n",
       "         'routeIdx': 1,\n",
       "         'lon': 17.814211,\n",
       "         'lat': 59.740592,\n",
       "         'depTime': '01:52:00',\n",
       "         'depDate': '2025-01-10',\n",
       "         'arrTime': '01:52:00',\n",
       "         'arrDate': '2025-01-10',\n",
       "         'minimumChangeDuration': 'PT0S'},\n",
       "        {'name': 'Knivsta station',\n",
       "         'id': 'A=1@O=Knivsta station@X=17786686@Y=59725706@U=1@L=740000559@',\n",
       "         'extId': '740000559',\n",
       "         'routeIdx': 2,\n",
       "         'lon': 17.786686,\n",
       "         'lat': 59.725706,\n",
       "         'depTime': '01:55:00',\n",
       "         'depDate': '2025-01-10',\n",
       "         'arrTime': '01:55:00',\n",
       "         'arrDate': '2025-01-10',\n",
       "         'minimumChangeDuration': 'PT10M'},\n",
       "        {'name': 'Knivsta Nova Park',\n",
       "         'id': 'A=1@O=Knivsta Nova Park@X=17814211@Y=59740592@U=1@L=740008475@',\n",
       "         'extId': '740008475',\n",
       "         'routeIdx': 3,\n",
       "         'lon': 17.814211,\n",
       "         'lat': 59.740592,\n",
       "         'depTime': '01:58:00',\n",
       "         'depDate': '2025-01-10',\n",
       "         'arrTime': '01:58:00',\n",
       "         'arrDate': '2025-01-10',\n",
       "         'minimumChangeDuration': 'PT0S'},\n",
       "        {'name': 'Tomta (Sigtuna kn)',\n",
       "         'id': 'A=1@O=Tomta (Sigtuna kn)@X=17906881@Y=59632380@U=1@L=740067387@',\n",
       "         'extId': '740067387',\n",
       "         'routeIdx': 4,\n",
       "         'lon': 17.906881,\n",
       "         'lat': 59.63238,\n",
       "         'depTime': '02:13:00',\n",
       "         'depDate': '2025-01-10',\n",
       "         'arrTime': '02:13:00',\n",
       "         'arrDate': '2025-01-10',\n",
       "         'minimumChangeDuration': 'PT0S'},\n",
       "        {'name': 'Arlanda Gränsgatan (Sigtuna kn)',\n",
       "         'id': 'A=1@O=Arlanda Gränsgatan (Sigtuna kn)@X=17929713@Y=59635976@U=1@L=740010537@',\n",
       "         'extId': '740010537',\n",
       "         'routeIdx': 5,\n",
       "         'lon': 17.929713,\n",
       "         'lat': 59.635976,\n",
       "         'depTime': '02:14:00',\n",
       "         'depDate': '2025-01-10',\n",
       "         'arrTime': '02:14:00',\n",
       "         'arrDate': '2025-01-10',\n",
       "         'minimumChangeDuration': 'PT10M'},\n",
       "        {'name': 'Arlanda Brovägen (Sigtuna kn)',\n",
       "         'id': 'A=1@O=Arlanda Brovägen (Sigtuna kn)@X=17934478@Y=59644003@U=1@L=740010538@',\n",
       "         'extId': '740010538',\n",
       "         'routeIdx': 6,\n",
       "         'lon': 17.934478,\n",
       "         'lat': 59.644003,\n",
       "         'depTime': '02:16:00',\n",
       "         'depDate': '2025-01-10',\n",
       "         'arrTime': '02:16:00',\n",
       "         'arrDate': '2025-01-10',\n",
       "         'minimumChangeDuration': 'PT0S'},\n",
       "        {'name': 'Arlanda Sky City Terminal 5 (Sigtuna kn)',\n",
       "         'id': 'A=1@O=Arlanda Sky City Terminal 5 (Sigtuna kn)@X=17930064@Y=59649127@U=1@L=740067392@',\n",
       "         'extId': '740067392',\n",
       "         'routeIdx': 7,\n",
       "         'lon': 17.930064,\n",
       "         'lat': 59.649127,\n",
       "         'depTime': '02:22:00',\n",
       "         'depDate': '2025-01-10',\n",
       "         'arrTime': '02:22:00',\n",
       "         'arrDate': '2025-01-10',\n",
       "         'minimumChangeDuration': 'PT0S'},\n",
       "        {'name': 'Arlanda terminal 2-3 buss (Sigtuna kn)',\n",
       "         'id': 'A=1@O=Arlanda terminal 2-3 buss (Sigtuna kn)@X=17929453@Y=59644255@U=1@L=740020671@',\n",
       "         'extId': '740020671',\n",
       "         'routeIdx': 8,\n",
       "         'lon': 17.929453,\n",
       "         'lat': 59.644255,\n",
       "         'depTime': '02:25:00',\n",
       "         'depDate': '2025-01-10',\n",
       "         'arrTime': '02:25:00',\n",
       "         'arrDate': '2025-01-10',\n",
       "         'minimumChangeDuration': 'PT20M'},\n",
       "        {'name': 'Järva krog (Solna kn)',\n",
       "         'id': 'A=1@O=Järva krog (Solna kn)@X=18013565@Y=59378489@U=1@L=740023254@',\n",
       "         'extId': '740023254',\n",
       "         'routeIdx': 9,\n",
       "         'lon': 18.013565,\n",
       "         'lat': 59.378489,\n",
       "         'depTime': '02:50:00',\n",
       "         'depDate': '2025-01-10',\n",
       "         'arrTime': '02:50:00',\n",
       "         'arrDate': '2025-01-10',\n",
       "         'minimumChangeDuration': 'PT10M'},\n",
       "        {'name': 'Frösunda (Solna kn)',\n",
       "         'id': 'A=1@O=Frösunda (Solna kn)@X=18019884@Y=59371217@U=1@L=740066545@',\n",
       "         'extId': '740066545',\n",
       "         'routeIdx': 10,\n",
       "         'lon': 18.019884,\n",
       "         'lat': 59.371217,\n",
       "         'depTime': '02:52:00',\n",
       "         'depDate': '2025-01-10',\n",
       "         'arrTime': '02:52:00',\n",
       "         'arrDate': '2025-01-10',\n",
       "         'minimumChangeDuration': 'PT6M'},\n",
       "        {'name': 'Haga norra (Solna kn)',\n",
       "         'id': 'A=1@O=Haga norra (Solna kn)@X=18024927@Y=59363081@U=1@L=740066544@',\n",
       "         'extId': '740066544',\n",
       "         'routeIdx': 11,\n",
       "         'lon': 18.024927,\n",
       "         'lat': 59.363081,\n",
       "         'depTime': '02:54:00',\n",
       "         'depDate': '2025-01-10',\n",
       "         'arrTime': '02:54:00',\n",
       "         'arrDate': '2025-01-10',\n",
       "         'minimumChangeDuration': 'PT5M'},\n",
       "        {'name': 'Linvävartorpet (Solna kn)',\n",
       "         'id': 'A=1@O=Linvävartorpet (Solna kn)@X=18028972@Y=59359027@U=1@L=740066543@',\n",
       "         'extId': '740066543',\n",
       "         'routeIdx': 12,\n",
       "         'lon': 18.028972,\n",
       "         'lat': 59.359027,\n",
       "         'depTime': '02:55:00',\n",
       "         'depDate': '2025-01-10',\n",
       "         'arrTime': '02:55:00',\n",
       "         'arrDate': '2025-01-10',\n",
       "         'minimumChangeDuration': 'PT5M'},\n",
       "        {'name': 'Haga södra (Solna kn)',\n",
       "         'id': 'A=1@O=Haga södra (Solna kn)@X=18039148@Y=59353265@U=1@L=740066542@',\n",
       "         'extId': '740066542',\n",
       "         'routeIdx': 13,\n",
       "         'lon': 18.039148,\n",
       "         'lat': 59.353265,\n",
       "         'depTime': '02:57:00',\n",
       "         'depDate': '2025-01-10',\n",
       "         'arrTime': '02:57:00',\n",
       "         'arrDate': '2025-01-10',\n",
       "         'minimumChangeDuration': 'PT5M'},\n",
       "        {'name': 'Norra Stationsgatan (på St Eriksgatan) (Stockholm ',\n",
       "         'id': 'A=1@O=Norra Stationsgatan (på St Eriksgatan) (Stockholm @X=18040766@Y=59347908@U=1@L=740046187@',\n",
       "         'extId': '740046187',\n",
       "         'routeIdx': 14,\n",
       "         'lon': 18.040766,\n",
       "         'lat': 59.347908,\n",
       "         'depTime': '02:59:00',\n",
       "         'depDate': '2025-01-10',\n",
       "         'arrTime': '02:59:00',\n",
       "         'arrDate': '2025-01-10',\n",
       "         'minimumChangeDuration': 'PT10M'},\n",
       "        {'name': 'Vanadisplan (Stockholm kn)',\n",
       "         'id': 'A=1@O=Vanadisplan (Stockholm kn)@X=18040056@Y=59344950@U=1@L=740046188@',\n",
       "         'extId': '740046188',\n",
       "         'routeIdx': 15,\n",
       "         'lon': 18.040056,\n",
       "         'lat': 59.34495,\n",
       "         'depTime': '02:59:00',\n",
       "         'depDate': '2025-01-10',\n",
       "         'arrTime': '02:59:00',\n",
       "         'arrDate': '2025-01-10',\n",
       "         'minimumChangeDuration': 'PT0S'},\n",
       "        {'name': 'S:t Eriksplan T-bana (Stockholm kn)',\n",
       "         'id': 'A=1@O=S*3At Eriksplan T-bana (Stockholm kn)@X=18036991@Y=59339655@U=1@L=740021665@',\n",
       "         'extId': '740021665',\n",
       "         'routeIdx': 16,\n",
       "         'lon': 18.036991,\n",
       "         'lat': 59.339655,\n",
       "         'depTime': '03:01:00',\n",
       "         'depDate': '2025-01-10',\n",
       "         'arrTime': '03:01:00',\n",
       "         'arrDate': '2025-01-10',\n",
       "         'minimumChangeDuration': 'PT6M'},\n",
       "        {'name': 'Stockholm Citytermin Kungsbron',\n",
       "         'id': 'A=1@O=Stockholm Citytermin Kungsbron@X=18054475@Y=59333165@U=1@L=740001541@',\n",
       "         'extId': '740001541',\n",
       "         'routeIdx': 17,\n",
       "         'lon': 18.054475,\n",
       "         'lat': 59.333165,\n",
       "         'arrPrognosisType': 'PROGNOSED',\n",
       "         'arrTime': '03:07:00',\n",
       "         'arrDate': '2025-01-10',\n",
       "         'minimumChangeDuration': 'PT5M'}]},\n",
       "      'JourneyDetail': {'ref': '1|9224|0|1|10012025',\n",
       "       'dayOfOperation': '2025-01-10'},\n",
       "      'id': '3',\n",
       "      'idx': 3,\n",
       "      'name': 'Länstrafik - Buss 593',\n",
       "      'number': '593',\n",
       "      'category': 'BLT',\n",
       "      'type': 'JNY',\n",
       "      'reachable': True,\n",
       "      'waitingState': 'UNDEF',\n",
       "      'direction': 'Stockholm Citytermin Kungsbron',\n",
       "      'directionFlag': '1',\n",
       "      'duration': 'PT1H33M',\n",
       "      'minimumChangeDuration': 'PT6M'},\n",
       "     {'Origin': {'name': 'Stockholm Citytermin Kungsbron',\n",
       "       'type': 'ST',\n",
       "       'id': 'A=1@O=Stockholm Citytermin Kungsbron@X=18054475@Y=59333165@U=1@L=740001541@',\n",
       "       'extId': '740001541',\n",
       "       'lon': 18.054475,\n",
       "       'lat': 59.333165,\n",
       "       'time': '03:07:00',\n",
       "       'date': '2025-01-10',\n",
       "       'minimumChangeDuration': 'PT5M'},\n",
       "      'Destination': {'name': 'STOCKHOLM',\n",
       "       'type': 'ST',\n",
       "       'id': 'A=1@O=STOCKHOLM@X=18058151@Y=59330136@U=1@L=740098000@',\n",
       "       'extId': '740098000',\n",
       "       'lon': 18.058151,\n",
       "       'lat': 59.330136,\n",
       "       'time': '03:13:00',\n",
       "       'date': '2025-01-10',\n",
       "       'minimumChangeDuration': 'PT26M'},\n",
       "      'GisRef': {'ref': 'G|1|G@F|A=1@O=Stockholm Citytermin Kungsbron@L=740001541@a=128@|A=1@O=STOCKHOLM@L=740098000@a=128@|9012025|1030700|1031300|fb|ft@0@2000@120@1@100@1@0@0@@@@@false@0@-1@0@-1@-1@$f@$f@$f@$f@$f@$§bt@0@2000@120@1@100@1@0@0@@@@@false@0@-1@0@-1@-1@$f@$f@$f@$f@$f@$§tt@0@5000@120@1@100@1@0@0@@@@@false@0@-1@0@-1@-1@$f@$f@$f@$f@$f@$§||||'},\n",
       "      'GisRoute': {'dist': 476, 'durS': 'PT6M', 'dirGeo': 0},\n",
       "      'Product': [{'icon': {'res': 'prod_walk'},\n",
       "        'name': 'Promenad',\n",
       "        'internalName': 'Promenad'}],\n",
       "      'id': '4',\n",
       "      'idx': 4,\n",
       "      'name': 'Promenad',\n",
       "      'type': 'WALK',\n",
       "      'duration': 'PT6M',\n",
       "      'dist': 476}]},\n",
       "   'calculation': 'INITIAL',\n",
       "   'TripStatus': {'detour': True,\n",
       "    'economic': True,\n",
       "    'convenient': True,\n",
       "    'hintCode': 0,\n",
       "    'unsharp': True},\n",
       "   'idx': 3,\n",
       "   'tripId': 'C-3',\n",
       "   'ctxRecon': '¶HKI¶T$A=1@O=Göteborg Centralstation@L=740000002@a=128@$A=1@O=Västerås Centralstation@L=740000099@a=128@$202501091902$202501092247$JRE  190$$1$$$$$$§T$A=1@O=Västerås Centralstation@L=740000099@a=128@$A=1@O=Enköping station@L=740000072@a=128@$202501092310$202501092350$BLT  874$$1$$$$$$§T$A=1@O=Enköping station@L=740000072@a=128@$A=1@O=Uppsala Centralstation@L=740000005@a=128@$202501100029$202501100123$BLT  804$$1$$$$$$§T$A=1@O=Uppsala Centralstation@L=740000005@a=128@$A=1@O=Stockholm Citytermin Kungsbron@L=740001541@a=128@$202501100134$202501100307$BLT  593$$1$$$$$$§G@F$A=1@O=Stockholm Citytermin Kungsbron@L=740001541@a=128@$A=1@O=STOCKHOLM@L=740098000@a=128@$202501100307$202501100313$$$1$$$$$$¶GP¶ft@0@2000@120@1@100@1@0@0@@@@@false@0@-1@0@-1@-1@$f@$f@$f@$f@$f@$§bt@0@2000@120@1@100@1@0@0@@@@@false@0@-1@0@-1@-1@$f@$f@$f@$f@$f@$§tt@0@5000@120@1@100@1@0@0@@@@@false@0@-1@0@-1@-1@$f@$f@$f@$f@$f@$§¶KC¶#VE#2#CF#100#CA#0#CM#0#SICT#0#AM#81#AM2#0#RT#4#¶KRCC¶#VE#1#',\n",
       "   'duration': 'PT8H11M',\n",
       "   'rtDuration': 'PT8H11M',\n",
       "   'checksum': '205fb013_3',\n",
       "   'transferCount': 3},\n",
       "  {'Origin': {'name': 'Göteborg Centralstation',\n",
       "    'type': 'ST',\n",
       "    'id': 'A=1@O=Göteborg Centralstation@X=11973479@Y=57708895@U=1@L=740000002@',\n",
       "    'extId': '740000002',\n",
       "    'lon': 11.973479,\n",
       "    'lat': 57.708895,\n",
       "    'routeIdx': 4,\n",
       "    'prognosisType': 'PROGNOSED',\n",
       "    'time': '19:18:00',\n",
       "    'date': '2025-01-09',\n",
       "    'minimumChangeDuration': 'PT15M'},\n",
       "   'Destination': {'name': 'Stockholm Centralstation',\n",
       "    'type': 'ST',\n",
       "    'id': 'A=1@O=Stockholm Centralstation@X=18058151@Y=59330136@U=1@L=740000001@',\n",
       "    'extId': '740000001',\n",
       "    'lon': 18.058151,\n",
       "    'lat': 59.330136,\n",
       "    'routeIdx': 8,\n",
       "    'prognosisType': 'PROGNOSED',\n",
       "    'time': '22:53:00',\n",
       "    'date': '2025-01-09',\n",
       "    'minimumChangeDuration': 'PT20M'},\n",
       "   'ServiceDays': [{'planningPeriodBegin': '2025-01-02',\n",
       "     'planningPeriodEnd': '2025-06-15',\n",
       "     'sDaysR': 'inte varje dag',\n",
       "     'sDaysI': '9. jan t o m 5. jun 2025 mån - tor; utom 14. t o m 21. apr 2025, 1., 28., 29. maj; och 10., 17., 31. jan, 14., 28. feb, 14., 28. mar, 11., 25. apr, 9., 16., 23. maj',\n",
       "     'sDaysB': '079F3C7CF1F3C7CF1F3C7CF1F003CE1F3E7CC1E000'}],\n",
       "   'LegList': {'Leg': [{'Origin': {'name': 'Göteborg Centralstation',\n",
       "       'type': 'ST',\n",
       "       'id': 'A=1@O=Göteborg Centralstation@X=11973479@Y=57708895@U=1@L=740000002@',\n",
       "       'extId': '740000002',\n",
       "       'lon': 11.973479,\n",
       "       'lat': 57.708895,\n",
       "       'routeIdx': 4,\n",
       "       'prognosisType': 'PROGNOSED',\n",
       "       'time': '19:18:00',\n",
       "       'date': '2025-01-09',\n",
       "       'minimumChangeDuration': 'PT15M'},\n",
       "      'Destination': {'name': 'Stockholm Centralstation',\n",
       "       'type': 'ST',\n",
       "       'id': 'A=1@O=Stockholm Centralstation@X=18058151@Y=59330136@U=1@L=740000001@',\n",
       "       'extId': '740000001',\n",
       "       'lon': 18.058151,\n",
       "       'lat': 59.330136,\n",
       "       'routeIdx': 8,\n",
       "       'prognosisType': 'PROGNOSED',\n",
       "       'time': '22:53:00',\n",
       "       'date': '2025-01-09',\n",
       "       'minimumChangeDuration': 'PT20M'},\n",
       "      'Notes': {'Note': [{'value': 'SJ3000',\n",
       "         'key': 'V3',\n",
       "         'type': 'A',\n",
       "         'routeIdxFrom': 4,\n",
       "         'routeIdxTo': 8,\n",
       "         'txtN': 'SJ3000'},\n",
       "        {'value': 'Mat 1 klass',\n",
       "         'key': 'A1',\n",
       "         'type': 'A',\n",
       "         'routeIdxFrom': 4,\n",
       "         'routeIdxTo': 8,\n",
       "         'txtN': 'Mat 1 klass'},\n",
       "        {'value': 'Bistrovagn',\n",
       "         'key': 'AD',\n",
       "         'type': 'A',\n",
       "         'routeIdxFrom': 4,\n",
       "         'routeIdxTo': 8,\n",
       "         'txtN': 'Bistrovagn'},\n",
       "        {'value': 'Obligatorisk platsbokning',\n",
       "         'key': 'AF',\n",
       "         'type': 'A',\n",
       "         'routeIdxFrom': 4,\n",
       "         'routeIdxTo': 8,\n",
       "         'txtN': 'Obligatorisk platsbokning'},\n",
       "        {'value': 'Rullstolslyft',\n",
       "         'key': 'AN',\n",
       "         'type': 'A',\n",
       "         'routeIdxFrom': 4,\n",
       "         'routeIdxTo': 8,\n",
       "         'txtN': 'Rullstolslyft'},\n",
       "        {'value': 'WiFi',\n",
       "         'key': 'AW',\n",
       "         'type': 'A',\n",
       "         'routeIdxFrom': 4,\n",
       "         'routeIdxTo': 8,\n",
       "         'txtN': 'WiFi'},\n",
       "        {'value': '2 klass lugn',\n",
       "         'key': 'BL',\n",
       "         'type': 'A',\n",
       "         'routeIdxFrom': 4,\n",
       "         'routeIdxTo': 8,\n",
       "         'txtN': '2 klass lugn'},\n",
       "        {'value': 'EU förordning 2021/782',\n",
       "         'key': 'EJ',\n",
       "         'type': 'A',\n",
       "         'routeIdxFrom': 4,\n",
       "         'routeIdxTo': 8,\n",
       "         'txtN': 'EU förordning 2021/782'},\n",
       "        {'value': 'Maträtt',\n",
       "         'key': 'SM',\n",
       "         'type': 'A',\n",
       "         'routeIdxFrom': 4,\n",
       "         'routeIdxTo': 8,\n",
       "         'txtN': 'Maträtt'},\n",
       "        {'value': '1 klass med extra komfort',\n",
       "         'key': 'SU',\n",
       "         'type': 'A',\n",
       "         'routeIdxFrom': 4,\n",
       "         'routeIdxTo': 8,\n",
       "         'txtN': '1 klass med extra komfort'},\n",
       "        {'value': 'Kaffebuffé 1 klass',\n",
       "         'key': 'SZ',\n",
       "         'type': 'A',\n",
       "         'routeIdxFrom': 4,\n",
       "         'routeIdxTo': 8,\n",
       "         'txtN': 'Kaffebuffé 1 klass'}]},\n",
       "      'JourneyDetailRef': {'ref': '1|145020|0|1|9012025'},\n",
       "      'JourneyStatus': 'P',\n",
       "      'Product': [{'icon': {'res': 'prod_gen'},\n",
       "        'operatorInfo': {'name': 'SJ',\n",
       "         'nameS': '74',\n",
       "         'nameN': '74',\n",
       "         'nameL': 'SJ',\n",
       "         'id': '74'},\n",
       "        'name': 'Snabbtåg 448',\n",
       "        'internalName': 'Snabbtåg 448',\n",
       "        'displayNumber': '448',\n",
       "        'num': '448',\n",
       "        'line': '448',\n",
       "        'lineId': '1074044800001',\n",
       "        'catOut': 'JST',\n",
       "        'catIn': 'JST',\n",
       "        'catCode': '1',\n",
       "        'cls': '2',\n",
       "        'catOutS': 'JST',\n",
       "        'catOutL': 'Snabbtåg',\n",
       "        'operatorCode': '74',\n",
       "        'operator': 'SJ',\n",
       "        'admin': '074___',\n",
       "        'routeIdxFrom': 4,\n",
       "        'routeIdxTo': 8,\n",
       "        'matchId': '448;448;5159'}],\n",
       "      'Stops': {'Stop': [{'name': 'Göteborg Centralstation',\n",
       "         'id': 'A=1@O=Göteborg Centralstation@X=11973479@Y=57708895@U=1@L=740000002@',\n",
       "         'extId': '740000002',\n",
       "         'routeIdx': 4,\n",
       "         'lon': 11.973479,\n",
       "         'lat': 57.708895,\n",
       "         'depTime': '19:18:00',\n",
       "         'depDate': '2025-01-09',\n",
       "         'depDir': 'Stockholm Centralstation',\n",
       "         'minimumChangeDuration': 'PT15M'},\n",
       "        {'name': 'Skövde Centralstation',\n",
       "         'id': 'A=1@O=Skövde Centralstation@X=13853195@Y=58390898@U=1@L=740000008@',\n",
       "         'extId': '740000008',\n",
       "         'routeIdx': 5,\n",
       "         'lon': 13.853195,\n",
       "         'lat': 58.390898,\n",
       "         'depTime': '20:27:00',\n",
       "         'depDate': '2025-01-09',\n",
       "         'arrTime': '20:26:00',\n",
       "         'arrDate': '2025-01-09',\n",
       "         'minimumChangeDuration': 'PT10M'},\n",
       "        {'name': 'Hallsberg station',\n",
       "         'id': 'A=1@O=Hallsberg station@X=15110391@Y=59066698@U=1@L=740000077@',\n",
       "         'extId': '740000077',\n",
       "         'routeIdx': 6,\n",
       "         'lon': 15.110391,\n",
       "         'lat': 59.066698,\n",
       "         'depTime': '21:24:00',\n",
       "         'depDate': '2025-01-09',\n",
       "         'arrTime': '21:19:00',\n",
       "         'arrDate': '2025-01-09',\n",
       "         'minimumChangeDuration': 'PT10M'},\n",
       "        {'name': 'Katrineholm Centralstation',\n",
       "         'id': 'A=1@O=Katrineholm Centralstation@X=16208324@Y=58996591@U=1@L=740000166@',\n",
       "         'extId': '740000166',\n",
       "         'routeIdx': 7,\n",
       "         'lon': 16.208324,\n",
       "         'lat': 58.996591,\n",
       "         'depTime': '21:58:00',\n",
       "         'depDate': '2025-01-09',\n",
       "         'arrTime': '21:57:00',\n",
       "         'arrDate': '2025-01-09',\n",
       "         'minimumChangeDuration': 'PT10M'},\n",
       "        {'name': 'Stockholm Centralstation',\n",
       "         'id': 'A=1@O=Stockholm Centralstation@X=18058151@Y=59330136@U=1@L=740000001@',\n",
       "         'extId': '740000001',\n",
       "         'routeIdx': 8,\n",
       "         'lon': 18.058151,\n",
       "         'lat': 59.330136,\n",
       "         'arrPrognosisType': 'PROGNOSED',\n",
       "         'arrTime': '22:53:00',\n",
       "         'arrDate': '2025-01-09',\n",
       "         'minimumChangeDuration': 'PT20M'}]},\n",
       "      'JourneyDetail': {'ref': '1|145020|0|1|9012025',\n",
       "       'dayOfOperation': '2025-01-09'},\n",
       "      'id': '0',\n",
       "      'idx': 0,\n",
       "      'name': 'Snabbtåg 448',\n",
       "      'number': '448',\n",
       "      'category': 'JST',\n",
       "      'type': 'JNY',\n",
       "      'reachable': True,\n",
       "      'waitingState': 'UNDEF',\n",
       "      'direction': 'Stockholm Centralstation',\n",
       "      'directionFlag': '1',\n",
       "      'duration': 'PT3H35M'}]},\n",
       "   'calculation': 'INITIAL',\n",
       "   'TripStatus': {'hintCode': 0},\n",
       "   'idx': 4,\n",
       "   'tripId': 'C-4',\n",
       "   'ctxRecon': '¶HKI¶T$A=1@O=Göteborg Centralstation@L=740000002@a=128@$A=1@O=Stockholm Centralstation@L=740000001@a=128@$202501091918$202501092253$JST  448$$1$$$$$$¶KC¶#VE#2#CF#100#CA#0#CM#0#SICT#0#AM#81#AM2#0#RT#4#¶KRCC¶#VE#1#',\n",
       "   'duration': 'PT3H35M',\n",
       "   'rtDuration': 'PT3H35M',\n",
       "   'checksum': '7b4c9198_3'}],\n",
       " 'ResultStatus': {'timeDiffCritical': False},\n",
       " 'TechnicalMessages': {'TechnicalMessage': [{'value': '2025-01-09 16:26:52',\n",
       "    'key': 'requestTime'},\n",
       "   {'value': 'ttp=16439#16603 plancode0=z3a28 planid=1736397394 planid0=1736397394 planid_adr=1479298166 plancode_adr=q0r10 srvv=5.45.SAMTRAFIKEN.15.0.1 (customer/hcusamtrafiken/release/2023.10.0) [2023-10-19] tlibv=TRFVER: rel/pproxy/4.00.0 2022-10-24 18:24:51 +0200 Relay_EnrichmentProxy v1 jno=1',\n",
       "    'key': 'backendInfo'}]},\n",
       " 'serverVersion': '2.45.1',\n",
       " 'dialectVersion': '2.45',\n",
       " 'planRtTs': '1970-01-01T01:00:00.000+01:00',\n",
       " 'requestId': '7a4m5zx6miskpk4k',\n",
       " 'scrB': '3|OB|MTµ14µ13979µ13979µ14193µ14193µ0µ0µ365µ13946µ1µ0µ1058µ0µ0µ-2147483648µ1µ2|PDHµ28ae6d8eb5910081bc7fddfcf72006b2|RDµ9012025|RTµ162652|USµ1|RSµINIT',\n",
       " 'scrF': '3|OF|MTµ14µ14118µ14118µ14333µ14333µ0µ0µ1045µ14059µ5µ0µ1058µ0µ0µ-2147483648µ1µ2|PDHµ28ae6d8eb5910081bc7fddfcf72006b2|RDµ9012025|RTµ162652|USµ1|RSµINIT'}"
      ]
     },
     "execution_count": 965,
     "metadata": {},
     "output_type": "execute_result"
    }
   ],
   "source": [
    "trips = route_planner(740098001, 740098000)\n",
    "trips"
   ]
  },
  {
   "cell_type": "code",
   "execution_count": 966,
   "metadata": {},
   "outputs": [],
   "source": [
    "trip= trips[\"Trip\"][0]"
   ]
  },
  {
   "cell_type": "code",
   "execution_count": 967,
   "metadata": {},
   "outputs": [],
   "source": [
    "stops= trip[\"LegList\"][\"Leg\"][0][\"Stops\"][\"Stop\"]"
   ]
  },
  {
   "cell_type": "code",
   "execution_count": 968,
   "metadata": {},
   "outputs": [
    {
     "data": {
      "text/plain": [
       "[{'Göteborg Centralstation': None},\n",
       " {'Alingsås station': None},\n",
       " {'Herrljunga station': '17:45:00'},\n",
       " {'Falköping Centralstation': '18:01:00'},\n",
       " {'Skövde Centralstation': '18:16:00'},\n",
       " {'Flemingsberg station (Huddinge kn)': '20:21:00'},\n",
       " {'Stockholm Centralstation': '20:33:00'}]"
      ]
     },
     "execution_count": 968,
     "metadata": {},
     "output_type": "execute_result"
    }
   ],
   "source": [
    "[{stop[\"name\"]: stop.get(\"arrTime\")}for stop in stops]"
   ]
  },
  {
   "cell_type": "code",
   "execution_count": 969,
   "metadata": {},
   "outputs": [],
   "source": [
    "coords= []\n",
    "for stop in stops:\n",
    "    city= get_lookup(stop.get(\"name\"))\n",
    "    city= city[\"stopLocationOrCoordLocation\"][0][\"StopLocation\"]\n",
    "    coords.append((city[\"lon\"], city[\"lat\"]))"
   ]
  },
  {
   "cell_type": "code",
   "execution_count": 970,
   "metadata": {},
   "outputs": [
    {
     "data": {
      "text/plain": [
       "[(11.973479, 57.708895),\n",
       " (12.532491, 57.926857),\n",
       " (13.021279, 58.079188),\n",
       " (13.553791, 58.176101),\n",
       " (13.853195, 58.390898),\n",
       " (17.945678, 59.217959),\n",
       " (18.058151, 59.330136)]"
      ]
     },
     "execution_count": 970,
     "metadata": {},
     "output_type": "execute_result"
    }
   ],
   "source": [
    "coords"
   ]
  },
  {
   "cell_type": "code",
   "execution_count": 971,
   "metadata": {},
   "outputs": [
    {
     "data": {
      "text/html": [
       "<div>\n",
       "<style scoped>\n",
       "    .dataframe tbody tr th:only-of-type {\n",
       "        vertical-align: middle;\n",
       "    }\n",
       "\n",
       "    .dataframe tbody tr th {\n",
       "        vertical-align: top;\n",
       "    }\n",
       "\n",
       "    .dataframe thead th {\n",
       "        text-align: right;\n",
       "    }\n",
       "</style>\n",
       "<table border=\"1\" class=\"dataframe\">\n",
       "  <thead>\n",
       "    <tr style=\"text-align: right;\">\n",
       "      <th></th>\n",
       "      <th>lon</th>\n",
       "      <th>lat</th>\n",
       "    </tr>\n",
       "  </thead>\n",
       "  <tbody>\n",
       "    <tr>\n",
       "      <th>0</th>\n",
       "      <td>11.973479</td>\n",
       "      <td>57.708895</td>\n",
       "    </tr>\n",
       "    <tr>\n",
       "      <th>1</th>\n",
       "      <td>12.532491</td>\n",
       "      <td>57.926857</td>\n",
       "    </tr>\n",
       "    <tr>\n",
       "      <th>2</th>\n",
       "      <td>13.021279</td>\n",
       "      <td>58.079188</td>\n",
       "    </tr>\n",
       "    <tr>\n",
       "      <th>3</th>\n",
       "      <td>13.553791</td>\n",
       "      <td>58.176101</td>\n",
       "    </tr>\n",
       "    <tr>\n",
       "      <th>4</th>\n",
       "      <td>13.853195</td>\n",
       "      <td>58.390898</td>\n",
       "    </tr>\n",
       "    <tr>\n",
       "      <th>5</th>\n",
       "      <td>17.945678</td>\n",
       "      <td>59.217959</td>\n",
       "    </tr>\n",
       "    <tr>\n",
       "      <th>6</th>\n",
       "      <td>18.058151</td>\n",
       "      <td>59.330136</td>\n",
       "    </tr>\n",
       "  </tbody>\n",
       "</table>\n",
       "</div>"
      ],
      "text/plain": [
       "         lon        lat\n",
       "0  11.973479  57.708895\n",
       "1  12.532491  57.926857\n",
       "2  13.021279  58.079188\n",
       "3  13.553791  58.176101\n",
       "4  13.853195  58.390898\n",
       "5  17.945678  59.217959\n",
       "6  18.058151  59.330136"
      ]
     },
     "execution_count": 971,
     "metadata": {},
     "output_type": "execute_result"
    }
   ],
   "source": [
    "data= pd.DataFrame(coords, columns=[\"lon\", \"lat\"])\n",
    "data"
   ]
  },
  {
   "cell_type": "code",
   "execution_count": 972,
   "metadata": {},
   "outputs": [
    {
     "data": {
      "application/vnd.plotly.v1+json": {
       "config": {
        "plotlyServerURL": "https://plot.ly"
       },
       "data": [
        {
         "hovertemplate": "lat=%{lat}<br>lon=%{lon}<extra></extra>",
         "lat": [
          57.708895,
          57.926857,
          58.079188,
          58.176101,
          58.390898,
          59.217959,
          59.330136
         ],
         "legendgroup": "",
         "line": {
          "color": "#636efa"
         },
         "lon": [
          11.973479,
          12.532491,
          13.021279,
          13.553791,
          13.853195,
          17.945678,
          18.058151
         ],
         "mode": "lines",
         "name": "",
         "showlegend": false,
         "subplot": "mapbox",
         "type": "scattermapbox"
        }
       ],
       "layout": {
        "legend": {
         "tracegroupgap": 0
        },
        "mapbox": {
         "center": {
          "lat": 58.404290571428575,
          "lon": 14.419723428571428
         },
         "domain": {
          "x": [
           0,
           1
          ],
          "y": [
           0,
           1
          ]
         },
         "style": "open-street-map",
         "zoom": 6.5
        },
        "margin": {
         "t": 60
        },
        "template": {
         "data": {
          "bar": [
           {
            "error_x": {
             "color": "#2a3f5f"
            },
            "error_y": {
             "color": "#2a3f5f"
            },
            "marker": {
             "line": {
              "color": "#E5ECF6",
              "width": 0.5
             },
             "pattern": {
              "fillmode": "overlay",
              "size": 10,
              "solidity": 0.2
             }
            },
            "type": "bar"
           }
          ],
          "barpolar": [
           {
            "marker": {
             "line": {
              "color": "#E5ECF6",
              "width": 0.5
             },
             "pattern": {
              "fillmode": "overlay",
              "size": 10,
              "solidity": 0.2
             }
            },
            "type": "barpolar"
           }
          ],
          "carpet": [
           {
            "aaxis": {
             "endlinecolor": "#2a3f5f",
             "gridcolor": "white",
             "linecolor": "white",
             "minorgridcolor": "white",
             "startlinecolor": "#2a3f5f"
            },
            "baxis": {
             "endlinecolor": "#2a3f5f",
             "gridcolor": "white",
             "linecolor": "white",
             "minorgridcolor": "white",
             "startlinecolor": "#2a3f5f"
            },
            "type": "carpet"
           }
          ],
          "choropleth": [
           {
            "colorbar": {
             "outlinewidth": 0,
             "ticks": ""
            },
            "type": "choropleth"
           }
          ],
          "contour": [
           {
            "colorbar": {
             "outlinewidth": 0,
             "ticks": ""
            },
            "colorscale": [
             [
              0,
              "#0d0887"
             ],
             [
              0.1111111111111111,
              "#46039f"
             ],
             [
              0.2222222222222222,
              "#7201a8"
             ],
             [
              0.3333333333333333,
              "#9c179e"
             ],
             [
              0.4444444444444444,
              "#bd3786"
             ],
             [
              0.5555555555555556,
              "#d8576b"
             ],
             [
              0.6666666666666666,
              "#ed7953"
             ],
             [
              0.7777777777777778,
              "#fb9f3a"
             ],
             [
              0.8888888888888888,
              "#fdca26"
             ],
             [
              1,
              "#f0f921"
             ]
            ],
            "type": "contour"
           }
          ],
          "contourcarpet": [
           {
            "colorbar": {
             "outlinewidth": 0,
             "ticks": ""
            },
            "type": "contourcarpet"
           }
          ],
          "heatmap": [
           {
            "colorbar": {
             "outlinewidth": 0,
             "ticks": ""
            },
            "colorscale": [
             [
              0,
              "#0d0887"
             ],
             [
              0.1111111111111111,
              "#46039f"
             ],
             [
              0.2222222222222222,
              "#7201a8"
             ],
             [
              0.3333333333333333,
              "#9c179e"
             ],
             [
              0.4444444444444444,
              "#bd3786"
             ],
             [
              0.5555555555555556,
              "#d8576b"
             ],
             [
              0.6666666666666666,
              "#ed7953"
             ],
             [
              0.7777777777777778,
              "#fb9f3a"
             ],
             [
              0.8888888888888888,
              "#fdca26"
             ],
             [
              1,
              "#f0f921"
             ]
            ],
            "type": "heatmap"
           }
          ],
          "heatmapgl": [
           {
            "colorbar": {
             "outlinewidth": 0,
             "ticks": ""
            },
            "colorscale": [
             [
              0,
              "#0d0887"
             ],
             [
              0.1111111111111111,
              "#46039f"
             ],
             [
              0.2222222222222222,
              "#7201a8"
             ],
             [
              0.3333333333333333,
              "#9c179e"
             ],
             [
              0.4444444444444444,
              "#bd3786"
             ],
             [
              0.5555555555555556,
              "#d8576b"
             ],
             [
              0.6666666666666666,
              "#ed7953"
             ],
             [
              0.7777777777777778,
              "#fb9f3a"
             ],
             [
              0.8888888888888888,
              "#fdca26"
             ],
             [
              1,
              "#f0f921"
             ]
            ],
            "type": "heatmapgl"
           }
          ],
          "histogram": [
           {
            "marker": {
             "pattern": {
              "fillmode": "overlay",
              "size": 10,
              "solidity": 0.2
             }
            },
            "type": "histogram"
           }
          ],
          "histogram2d": [
           {
            "colorbar": {
             "outlinewidth": 0,
             "ticks": ""
            },
            "colorscale": [
             [
              0,
              "#0d0887"
             ],
             [
              0.1111111111111111,
              "#46039f"
             ],
             [
              0.2222222222222222,
              "#7201a8"
             ],
             [
              0.3333333333333333,
              "#9c179e"
             ],
             [
              0.4444444444444444,
              "#bd3786"
             ],
             [
              0.5555555555555556,
              "#d8576b"
             ],
             [
              0.6666666666666666,
              "#ed7953"
             ],
             [
              0.7777777777777778,
              "#fb9f3a"
             ],
             [
              0.8888888888888888,
              "#fdca26"
             ],
             [
              1,
              "#f0f921"
             ]
            ],
            "type": "histogram2d"
           }
          ],
          "histogram2dcontour": [
           {
            "colorbar": {
             "outlinewidth": 0,
             "ticks": ""
            },
            "colorscale": [
             [
              0,
              "#0d0887"
             ],
             [
              0.1111111111111111,
              "#46039f"
             ],
             [
              0.2222222222222222,
              "#7201a8"
             ],
             [
              0.3333333333333333,
              "#9c179e"
             ],
             [
              0.4444444444444444,
              "#bd3786"
             ],
             [
              0.5555555555555556,
              "#d8576b"
             ],
             [
              0.6666666666666666,
              "#ed7953"
             ],
             [
              0.7777777777777778,
              "#fb9f3a"
             ],
             [
              0.8888888888888888,
              "#fdca26"
             ],
             [
              1,
              "#f0f921"
             ]
            ],
            "type": "histogram2dcontour"
           }
          ],
          "mesh3d": [
           {
            "colorbar": {
             "outlinewidth": 0,
             "ticks": ""
            },
            "type": "mesh3d"
           }
          ],
          "parcoords": [
           {
            "line": {
             "colorbar": {
              "outlinewidth": 0,
              "ticks": ""
             }
            },
            "type": "parcoords"
           }
          ],
          "pie": [
           {
            "automargin": true,
            "type": "pie"
           }
          ],
          "scatter": [
           {
            "fillpattern": {
             "fillmode": "overlay",
             "size": 10,
             "solidity": 0.2
            },
            "type": "scatter"
           }
          ],
          "scatter3d": [
           {
            "line": {
             "colorbar": {
              "outlinewidth": 0,
              "ticks": ""
             }
            },
            "marker": {
             "colorbar": {
              "outlinewidth": 0,
              "ticks": ""
             }
            },
            "type": "scatter3d"
           }
          ],
          "scattercarpet": [
           {
            "marker": {
             "colorbar": {
              "outlinewidth": 0,
              "ticks": ""
             }
            },
            "type": "scattercarpet"
           }
          ],
          "scattergeo": [
           {
            "marker": {
             "colorbar": {
              "outlinewidth": 0,
              "ticks": ""
             }
            },
            "type": "scattergeo"
           }
          ],
          "scattergl": [
           {
            "marker": {
             "colorbar": {
              "outlinewidth": 0,
              "ticks": ""
             }
            },
            "type": "scattergl"
           }
          ],
          "scattermapbox": [
           {
            "marker": {
             "colorbar": {
              "outlinewidth": 0,
              "ticks": ""
             }
            },
            "type": "scattermapbox"
           }
          ],
          "scatterpolar": [
           {
            "marker": {
             "colorbar": {
              "outlinewidth": 0,
              "ticks": ""
             }
            },
            "type": "scatterpolar"
           }
          ],
          "scatterpolargl": [
           {
            "marker": {
             "colorbar": {
              "outlinewidth": 0,
              "ticks": ""
             }
            },
            "type": "scatterpolargl"
           }
          ],
          "scatterternary": [
           {
            "marker": {
             "colorbar": {
              "outlinewidth": 0,
              "ticks": ""
             }
            },
            "type": "scatterternary"
           }
          ],
          "surface": [
           {
            "colorbar": {
             "outlinewidth": 0,
             "ticks": ""
            },
            "colorscale": [
             [
              0,
              "#0d0887"
             ],
             [
              0.1111111111111111,
              "#46039f"
             ],
             [
              0.2222222222222222,
              "#7201a8"
             ],
             [
              0.3333333333333333,
              "#9c179e"
             ],
             [
              0.4444444444444444,
              "#bd3786"
             ],
             [
              0.5555555555555556,
              "#d8576b"
             ],
             [
              0.6666666666666666,
              "#ed7953"
             ],
             [
              0.7777777777777778,
              "#fb9f3a"
             ],
             [
              0.8888888888888888,
              "#fdca26"
             ],
             [
              1,
              "#f0f921"
             ]
            ],
            "type": "surface"
           }
          ],
          "table": [
           {
            "cells": {
             "fill": {
              "color": "#EBF0F8"
             },
             "line": {
              "color": "white"
             }
            },
            "header": {
             "fill": {
              "color": "#C8D4E3"
             },
             "line": {
              "color": "white"
             }
            },
            "type": "table"
           }
          ]
         },
         "layout": {
          "annotationdefaults": {
           "arrowcolor": "#2a3f5f",
           "arrowhead": 0,
           "arrowwidth": 1
          },
          "autotypenumbers": "strict",
          "coloraxis": {
           "colorbar": {
            "outlinewidth": 0,
            "ticks": ""
           }
          },
          "colorscale": {
           "diverging": [
            [
             0,
             "#8e0152"
            ],
            [
             0.1,
             "#c51b7d"
            ],
            [
             0.2,
             "#de77ae"
            ],
            [
             0.3,
             "#f1b6da"
            ],
            [
             0.4,
             "#fde0ef"
            ],
            [
             0.5,
             "#f7f7f7"
            ],
            [
             0.6,
             "#e6f5d0"
            ],
            [
             0.7,
             "#b8e186"
            ],
            [
             0.8,
             "#7fbc41"
            ],
            [
             0.9,
             "#4d9221"
            ],
            [
             1,
             "#276419"
            ]
           ],
           "sequential": [
            [
             0,
             "#0d0887"
            ],
            [
             0.1111111111111111,
             "#46039f"
            ],
            [
             0.2222222222222222,
             "#7201a8"
            ],
            [
             0.3333333333333333,
             "#9c179e"
            ],
            [
             0.4444444444444444,
             "#bd3786"
            ],
            [
             0.5555555555555556,
             "#d8576b"
            ],
            [
             0.6666666666666666,
             "#ed7953"
            ],
            [
             0.7777777777777778,
             "#fb9f3a"
            ],
            [
             0.8888888888888888,
             "#fdca26"
            ],
            [
             1,
             "#f0f921"
            ]
           ],
           "sequentialminus": [
            [
             0,
             "#0d0887"
            ],
            [
             0.1111111111111111,
             "#46039f"
            ],
            [
             0.2222222222222222,
             "#7201a8"
            ],
            [
             0.3333333333333333,
             "#9c179e"
            ],
            [
             0.4444444444444444,
             "#bd3786"
            ],
            [
             0.5555555555555556,
             "#d8576b"
            ],
            [
             0.6666666666666666,
             "#ed7953"
            ],
            [
             0.7777777777777778,
             "#fb9f3a"
            ],
            [
             0.8888888888888888,
             "#fdca26"
            ],
            [
             1,
             "#f0f921"
            ]
           ]
          },
          "colorway": [
           "#636efa",
           "#EF553B",
           "#00cc96",
           "#ab63fa",
           "#FFA15A",
           "#19d3f3",
           "#FF6692",
           "#B6E880",
           "#FF97FF",
           "#FECB52"
          ],
          "font": {
           "color": "#2a3f5f"
          },
          "geo": {
           "bgcolor": "white",
           "lakecolor": "white",
           "landcolor": "#E5ECF6",
           "showlakes": true,
           "showland": true,
           "subunitcolor": "white"
          },
          "hoverlabel": {
           "align": "left"
          },
          "hovermode": "closest",
          "mapbox": {
           "style": "light"
          },
          "paper_bgcolor": "white",
          "plot_bgcolor": "#E5ECF6",
          "polar": {
           "angularaxis": {
            "gridcolor": "white",
            "linecolor": "white",
            "ticks": ""
           },
           "bgcolor": "#E5ECF6",
           "radialaxis": {
            "gridcolor": "white",
            "linecolor": "white",
            "ticks": ""
           }
          },
          "scene": {
           "xaxis": {
            "backgroundcolor": "#E5ECF6",
            "gridcolor": "white",
            "gridwidth": 2,
            "linecolor": "white",
            "showbackground": true,
            "ticks": "",
            "zerolinecolor": "white"
           },
           "yaxis": {
            "backgroundcolor": "#E5ECF6",
            "gridcolor": "white",
            "gridwidth": 2,
            "linecolor": "white",
            "showbackground": true,
            "ticks": "",
            "zerolinecolor": "white"
           },
           "zaxis": {
            "backgroundcolor": "#E5ECF6",
            "gridcolor": "white",
            "gridwidth": 2,
            "linecolor": "white",
            "showbackground": true,
            "ticks": "",
            "zerolinecolor": "white"
           }
          },
          "shapedefaults": {
           "line": {
            "color": "#2a3f5f"
           }
          },
          "ternary": {
           "aaxis": {
            "gridcolor": "white",
            "linecolor": "white",
            "ticks": ""
           },
           "baxis": {
            "gridcolor": "white",
            "linecolor": "white",
            "ticks": ""
           },
           "bgcolor": "#E5ECF6",
           "caxis": {
            "gridcolor": "white",
            "linecolor": "white",
            "ticks": ""
           }
          },
          "title": {
           "x": 0.05
          },
          "xaxis": {
           "automargin": true,
           "gridcolor": "white",
           "linecolor": "white",
           "ticks": "",
           "title": {
            "standoff": 15
           },
           "zerolinecolor": "white",
           "zerolinewidth": 2
          },
          "yaxis": {
           "automargin": true,
           "gridcolor": "white",
           "linecolor": "white",
           "ticks": "",
           "title": {
            "standoff": 15
           },
           "zerolinecolor": "white",
           "zerolinewidth": 2
          }
         }
        },
        "width": 800
       }
      }
     },
     "metadata": {},
     "output_type": "display_data"
    }
   ],
   "source": [
    "fig= px.line_mapbox(data, \"lat\", \"lon\", mapbox_style=\"open-street-map\", zoom= 6.5, width= 800)\n",
    "fig.show()"
   ]
  },
  {
   "cell_type": "code",
   "execution_count": null,
   "metadata": {},
   "outputs": [],
   "source": []
  }
 ],
 "metadata": {
  "kernelspec": {
   "display_name": ".venv",
   "language": "python",
   "name": "python3"
  },
  "language_info": {
   "codemirror_mode": {
    "name": "ipython",
    "version": 3
   },
   "file_extension": ".py",
   "mimetype": "text/x-python",
   "name": "python",
   "nbconvert_exporter": "python",
   "pygments_lexer": "ipython3",
   "version": "3.11.9"
  }
 },
 "nbformat": 4,
 "nbformat_minor": 2
}
