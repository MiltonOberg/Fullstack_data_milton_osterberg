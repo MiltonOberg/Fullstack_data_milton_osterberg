{
 "cells": [
  {
   "cell_type": "markdown",
   "metadata": {},
   "source": [
    "# 0\n",
    "### A)"
   ]
  },
  {
   "cell_type": "code",
   "execution_count": 516,
   "metadata": {},
   "outputs": [],
   "source": [
    "from pathlib import Path\n",
    "from dotenv import load_dotenv\n",
    "import requests\n",
    "import os\n",
    "import pandas as pd\n",
    "import matplotlib.pyplot as plt\n",
    "import plotly.express as px"
   ]
  },
  {
   "cell_type": "code",
   "execution_count": 517,
   "metadata": {},
   "outputs": [
    {
     "data": {
      "text/plain": [
       "dict_keys(['Trip', 'ResultStatus', 'TechnicalMessages', 'serverVersion', 'dialectVersion', 'planRtTs', 'requestId', 'scrB', 'scrF'])"
      ]
     },
     "execution_count": 517,
     "metadata": {},
     "output_type": "execute_result"
    }
   ],
   "source": [
    "env_path = Path(\"../../code_alongs/11_data_from_API/.env\")\n",
    "load_dotenv(env_path)\n",
    "\n",
    "\n",
    "API_KEY = os.getenv(\"API_KEY\")\n",
    "\n",
    "url = f\"https://api.resrobot.se/v2.1/trip?format=json&originId=740000002&destId=740000003&passlist=true&showPassingPoints=true&accessId={API_KEY}\"\n",
    "\n",
    "response = requests.get(url)\n",
    "\n",
    "result = response.json()\n",
    "\n",
    "\n",
    "\n",
    "result.keys()"
   ]
  },
  {
   "cell_type": "code",
   "execution_count": 518,
   "metadata": {},
   "outputs": [],
   "source": [
    "def get_departures(api, id = \"740000002\"):\n",
    "    url = f\"https://api.resrobot.se/v2.1/departureBoard?id={id}&format=json&accessId={api}\"\n",
    "    response = requests.get(url)\n",
    "    return response.json()\n",
    "\n",
    "\n",
    "def get_arrivals(api, id = \"740000002\"):\n",
    "    url = f\"https://api.resrobot.se/v2.1/arrivalBoard?id={id}&format=json&accessId={api}\"\n",
    "    response = requests.get(url)\n",
    "    return response.json()"
   ]
  },
  {
   "cell_type": "code",
   "execution_count": 519,
   "metadata": {},
   "outputs": [],
   "source": [
    "departures = get_departures(api=API_KEY)\n",
    "arrivals = get_arrivals(api=API_KEY)"
   ]
  },
  {
   "cell_type": "code",
   "execution_count": 520,
   "metadata": {},
   "outputs": [
    {
     "data": {
      "text/plain": [
       "(dict_keys(['Departure', 'TechnicalMessages', 'serverVersion', 'dialectVersion', 'planRtTs', 'requestId']),\n",
       " dict_keys(['Arrival', 'TechnicalMessages', 'serverVersion', 'dialectVersion', 'planRtTs', 'requestId']))"
      ]
     },
     "execution_count": 520,
     "metadata": {},
     "output_type": "execute_result"
    }
   ],
   "source": [
    "departures.keys(), arrivals.keys()"
   ]
  },
  {
   "cell_type": "markdown",
   "metadata": {},
   "source": [
    "### B)"
   ]
  },
  {
   "cell_type": "code",
   "execution_count": 521,
   "metadata": {},
   "outputs": [
    {
     "data": {
      "text/plain": [
       "156"
      ]
     },
     "execution_count": 521,
     "metadata": {},
     "output_type": "execute_result"
    }
   ],
   "source": [
    "len(arrivals[\"Arrival\"])"
   ]
  },
  {
   "cell_type": "markdown",
   "metadata": {},
   "source": [
    "### C)"
   ]
  },
  {
   "cell_type": "code",
   "execution_count": 522,
   "metadata": {},
   "outputs": [
    {
     "data": {
      "text/plain": [
       "155"
      ]
     },
     "execution_count": 522,
     "metadata": {},
     "output_type": "execute_result"
    }
   ],
   "source": [
    "len(departures[\"Departure\"])"
   ]
  },
  {
   "cell_type": "markdown",
   "metadata": {},
   "source": [
    "### D)"
   ]
  },
  {
   "cell_type": "code",
   "execution_count": 523,
   "metadata": {},
   "outputs": [
    {
     "data": {
      "text/plain": [
       "dict_keys(['JourneyDetailRef', 'JourneyStatus', 'ProductAtStop', 'Product', 'Notes', 'name', 'type', 'stop', 'stopid', 'stopExtId', 'lon', 'lat', 'time', 'date', 'reachable', 'direction', 'directionFlag'])"
      ]
     },
     "execution_count": 523,
     "metadata": {},
     "output_type": "execute_result"
    }
   ],
   "source": [
    "departures[\"Departure\"][0].keys()"
   ]
  },
  {
   "cell_type": "code",
   "execution_count": 524,
   "metadata": {},
   "outputs": [
    {
     "name": "stdout",
     "output_type": "stream",
     "text": [
      "Länstrafik - Spårväg 6, Kortedala Aprilgatan (Göteborg kn), 12:16:00\n",
      "Länstrafik - Spårväg 6, Göteborg Varmfrontsgatan, 12:19:00\n",
      "Länstrafik - Spårväg 6, Kortedala Aprilgatan (Göteborg kn), 12:26:00\n",
      "Länstrafik - Spårväg 6, Göteborg Varmfrontsgatan, 12:29:00\n",
      "Länstrafik - Spårväg 6, Kortedala Aprilgatan (Göteborg kn), 12:36:00\n",
      "Länstrafik - Spårväg 6, Göteborg Varmfrontsgatan, 12:39:00\n",
      "Länstrafik - Spårväg 6, Kortedala Aprilgatan (Göteborg kn), 12:46:00\n",
      "Länstrafik - Spårväg 6, Göteborg Varmfrontsgatan, 12:49:00\n",
      "Länstrafik - Spårväg 6, Kortedala Aprilgatan (Göteborg kn), 12:56:00\n",
      "Länstrafik - Spårväg 6, Göteborg Varmfrontsgatan, 12:59:00\n",
      "Länstrafik - Spårväg 6, Kortedala Aprilgatan (Göteborg kn), 13:06:00\n",
      "Länstrafik - Spårväg 6, Göteborg Varmfrontsgatan, 13:09:00\n",
      "Länstrafik - Spårväg 6, Kortedala Aprilgatan (Göteborg kn), 13:16:00\n"
     ]
    }
   ],
   "source": [
    "for depart in departures[\"Departure\"]:\n",
    "    if \"Spårväg\" in depart[\"name\"]:\n",
    "        print(f\"{depart['name']}, {depart['direction']}, {depart['time']}\")"
   ]
  },
  {
   "cell_type": "markdown",
   "metadata": {},
   "source": [
    "### E)"
   ]
  },
  {
   "cell_type": "code",
   "execution_count": 525,
   "metadata": {},
   "outputs": [],
   "source": [
    "departures = departures[\"Departure\"]"
   ]
  },
  {
   "cell_type": "code",
   "execution_count": 526,
   "metadata": {},
   "outputs": [],
   "source": [
    "trams = [\n",
    "    {\n",
    "        \"name\": tram.get(\"name\"),\n",
    "        \"lat\": tram.get(\"lat\"),\n",
    "        \"lon\": tram.get(\"lon\"),\n",
    "        \"direction\": tram.get(\"direction\"),\n",
    "    }\n",
    "    for tram in departures\n",
    "    if \"Spårväg\" in tram.get(\"name\")\n",
    "]"
   ]
  },
  {
   "cell_type": "code",
   "execution_count": 527,
   "metadata": {},
   "outputs": [],
   "source": [
    "data= pd.DataFrame(trams)"
   ]
  },
  {
   "cell_type": "code",
   "execution_count": 528,
   "metadata": {},
   "outputs": [
    {
     "data": {
      "application/vnd.plotly.v1+json": {
       "config": {
        "plotlyServerURL": "https://plot.ly"
       },
       "data": [
        {
         "hovertemplate": "<b>%{hovertext}</b><br><br>lat=%{lat}<br>lon=%{lon}<extra></extra>",
         "hovertext": [
          "Kortedala Aprilgatan (Göteborg kn)",
          "Göteborg Varmfrontsgatan",
          "Kortedala Aprilgatan (Göteborg kn)",
          "Göteborg Varmfrontsgatan",
          "Kortedala Aprilgatan (Göteborg kn)",
          "Göteborg Varmfrontsgatan",
          "Kortedala Aprilgatan (Göteborg kn)",
          "Göteborg Varmfrontsgatan",
          "Kortedala Aprilgatan (Göteborg kn)",
          "Göteborg Varmfrontsgatan",
          "Kortedala Aprilgatan (Göteborg kn)",
          "Göteborg Varmfrontsgatan",
          "Kortedala Aprilgatan (Göteborg kn)"
         ],
         "lat": [
          57.709246,
          57.709246,
          57.709246,
          57.709246,
          57.709246,
          57.709246,
          57.709246,
          57.709246,
          57.709246,
          57.709246,
          57.709246,
          57.709246,
          57.709246
         ],
         "legendgroup": "",
         "lon": [
          11.970791,
          11.970791,
          11.970791,
          11.970791,
          11.970791,
          11.970791,
          11.970791,
          11.970791,
          11.970791,
          11.970791,
          11.970791,
          11.970791,
          11.970791
         ],
         "marker": {
          "color": "#636efa"
         },
         "mode": "markers",
         "name": "",
         "showlegend": false,
         "subplot": "mapbox",
         "type": "scattermapbox"
        }
       ],
       "layout": {
        "legend": {
         "tracegroupgap": 0
        },
        "mapbox": {
         "center": {
          "lat": 57.709246,
          "lon": 11.970791
         },
         "domain": {
          "x": [
           0,
           1
          ],
          "y": [
           0,
           1
          ]
         },
         "style": "open-street-map",
         "zoom": 15
        },
        "margin": {
         "t": 60
        },
        "template": {
         "data": {
          "bar": [
           {
            "error_x": {
             "color": "#2a3f5f"
            },
            "error_y": {
             "color": "#2a3f5f"
            },
            "marker": {
             "line": {
              "color": "#E5ECF6",
              "width": 0.5
             },
             "pattern": {
              "fillmode": "overlay",
              "size": 10,
              "solidity": 0.2
             }
            },
            "type": "bar"
           }
          ],
          "barpolar": [
           {
            "marker": {
             "line": {
              "color": "#E5ECF6",
              "width": 0.5
             },
             "pattern": {
              "fillmode": "overlay",
              "size": 10,
              "solidity": 0.2
             }
            },
            "type": "barpolar"
           }
          ],
          "carpet": [
           {
            "aaxis": {
             "endlinecolor": "#2a3f5f",
             "gridcolor": "white",
             "linecolor": "white",
             "minorgridcolor": "white",
             "startlinecolor": "#2a3f5f"
            },
            "baxis": {
             "endlinecolor": "#2a3f5f",
             "gridcolor": "white",
             "linecolor": "white",
             "minorgridcolor": "white",
             "startlinecolor": "#2a3f5f"
            },
            "type": "carpet"
           }
          ],
          "choropleth": [
           {
            "colorbar": {
             "outlinewidth": 0,
             "ticks": ""
            },
            "type": "choropleth"
           }
          ],
          "contour": [
           {
            "colorbar": {
             "outlinewidth": 0,
             "ticks": ""
            },
            "colorscale": [
             [
              0,
              "#0d0887"
             ],
             [
              0.1111111111111111,
              "#46039f"
             ],
             [
              0.2222222222222222,
              "#7201a8"
             ],
             [
              0.3333333333333333,
              "#9c179e"
             ],
             [
              0.4444444444444444,
              "#bd3786"
             ],
             [
              0.5555555555555556,
              "#d8576b"
             ],
             [
              0.6666666666666666,
              "#ed7953"
             ],
             [
              0.7777777777777778,
              "#fb9f3a"
             ],
             [
              0.8888888888888888,
              "#fdca26"
             ],
             [
              1,
              "#f0f921"
             ]
            ],
            "type": "contour"
           }
          ],
          "contourcarpet": [
           {
            "colorbar": {
             "outlinewidth": 0,
             "ticks": ""
            },
            "type": "contourcarpet"
           }
          ],
          "heatmap": [
           {
            "colorbar": {
             "outlinewidth": 0,
             "ticks": ""
            },
            "colorscale": [
             [
              0,
              "#0d0887"
             ],
             [
              0.1111111111111111,
              "#46039f"
             ],
             [
              0.2222222222222222,
              "#7201a8"
             ],
             [
              0.3333333333333333,
              "#9c179e"
             ],
             [
              0.4444444444444444,
              "#bd3786"
             ],
             [
              0.5555555555555556,
              "#d8576b"
             ],
             [
              0.6666666666666666,
              "#ed7953"
             ],
             [
              0.7777777777777778,
              "#fb9f3a"
             ],
             [
              0.8888888888888888,
              "#fdca26"
             ],
             [
              1,
              "#f0f921"
             ]
            ],
            "type": "heatmap"
           }
          ],
          "heatmapgl": [
           {
            "colorbar": {
             "outlinewidth": 0,
             "ticks": ""
            },
            "colorscale": [
             [
              0,
              "#0d0887"
             ],
             [
              0.1111111111111111,
              "#46039f"
             ],
             [
              0.2222222222222222,
              "#7201a8"
             ],
             [
              0.3333333333333333,
              "#9c179e"
             ],
             [
              0.4444444444444444,
              "#bd3786"
             ],
             [
              0.5555555555555556,
              "#d8576b"
             ],
             [
              0.6666666666666666,
              "#ed7953"
             ],
             [
              0.7777777777777778,
              "#fb9f3a"
             ],
             [
              0.8888888888888888,
              "#fdca26"
             ],
             [
              1,
              "#f0f921"
             ]
            ],
            "type": "heatmapgl"
           }
          ],
          "histogram": [
           {
            "marker": {
             "pattern": {
              "fillmode": "overlay",
              "size": 10,
              "solidity": 0.2
             }
            },
            "type": "histogram"
           }
          ],
          "histogram2d": [
           {
            "colorbar": {
             "outlinewidth": 0,
             "ticks": ""
            },
            "colorscale": [
             [
              0,
              "#0d0887"
             ],
             [
              0.1111111111111111,
              "#46039f"
             ],
             [
              0.2222222222222222,
              "#7201a8"
             ],
             [
              0.3333333333333333,
              "#9c179e"
             ],
             [
              0.4444444444444444,
              "#bd3786"
             ],
             [
              0.5555555555555556,
              "#d8576b"
             ],
             [
              0.6666666666666666,
              "#ed7953"
             ],
             [
              0.7777777777777778,
              "#fb9f3a"
             ],
             [
              0.8888888888888888,
              "#fdca26"
             ],
             [
              1,
              "#f0f921"
             ]
            ],
            "type": "histogram2d"
           }
          ],
          "histogram2dcontour": [
           {
            "colorbar": {
             "outlinewidth": 0,
             "ticks": ""
            },
            "colorscale": [
             [
              0,
              "#0d0887"
             ],
             [
              0.1111111111111111,
              "#46039f"
             ],
             [
              0.2222222222222222,
              "#7201a8"
             ],
             [
              0.3333333333333333,
              "#9c179e"
             ],
             [
              0.4444444444444444,
              "#bd3786"
             ],
             [
              0.5555555555555556,
              "#d8576b"
             ],
             [
              0.6666666666666666,
              "#ed7953"
             ],
             [
              0.7777777777777778,
              "#fb9f3a"
             ],
             [
              0.8888888888888888,
              "#fdca26"
             ],
             [
              1,
              "#f0f921"
             ]
            ],
            "type": "histogram2dcontour"
           }
          ],
          "mesh3d": [
           {
            "colorbar": {
             "outlinewidth": 0,
             "ticks": ""
            },
            "type": "mesh3d"
           }
          ],
          "parcoords": [
           {
            "line": {
             "colorbar": {
              "outlinewidth": 0,
              "ticks": ""
             }
            },
            "type": "parcoords"
           }
          ],
          "pie": [
           {
            "automargin": true,
            "type": "pie"
           }
          ],
          "scatter": [
           {
            "fillpattern": {
             "fillmode": "overlay",
             "size": 10,
             "solidity": 0.2
            },
            "type": "scatter"
           }
          ],
          "scatter3d": [
           {
            "line": {
             "colorbar": {
              "outlinewidth": 0,
              "ticks": ""
             }
            },
            "marker": {
             "colorbar": {
              "outlinewidth": 0,
              "ticks": ""
             }
            },
            "type": "scatter3d"
           }
          ],
          "scattercarpet": [
           {
            "marker": {
             "colorbar": {
              "outlinewidth": 0,
              "ticks": ""
             }
            },
            "type": "scattercarpet"
           }
          ],
          "scattergeo": [
           {
            "marker": {
             "colorbar": {
              "outlinewidth": 0,
              "ticks": ""
             }
            },
            "type": "scattergeo"
           }
          ],
          "scattergl": [
           {
            "marker": {
             "colorbar": {
              "outlinewidth": 0,
              "ticks": ""
             }
            },
            "type": "scattergl"
           }
          ],
          "scattermapbox": [
           {
            "marker": {
             "colorbar": {
              "outlinewidth": 0,
              "ticks": ""
             }
            },
            "type": "scattermapbox"
           }
          ],
          "scatterpolar": [
           {
            "marker": {
             "colorbar": {
              "outlinewidth": 0,
              "ticks": ""
             }
            },
            "type": "scatterpolar"
           }
          ],
          "scatterpolargl": [
           {
            "marker": {
             "colorbar": {
              "outlinewidth": 0,
              "ticks": ""
             }
            },
            "type": "scatterpolargl"
           }
          ],
          "scatterternary": [
           {
            "marker": {
             "colorbar": {
              "outlinewidth": 0,
              "ticks": ""
             }
            },
            "type": "scatterternary"
           }
          ],
          "surface": [
           {
            "colorbar": {
             "outlinewidth": 0,
             "ticks": ""
            },
            "colorscale": [
             [
              0,
              "#0d0887"
             ],
             [
              0.1111111111111111,
              "#46039f"
             ],
             [
              0.2222222222222222,
              "#7201a8"
             ],
             [
              0.3333333333333333,
              "#9c179e"
             ],
             [
              0.4444444444444444,
              "#bd3786"
             ],
             [
              0.5555555555555556,
              "#d8576b"
             ],
             [
              0.6666666666666666,
              "#ed7953"
             ],
             [
              0.7777777777777778,
              "#fb9f3a"
             ],
             [
              0.8888888888888888,
              "#fdca26"
             ],
             [
              1,
              "#f0f921"
             ]
            ],
            "type": "surface"
           }
          ],
          "table": [
           {
            "cells": {
             "fill": {
              "color": "#EBF0F8"
             },
             "line": {
              "color": "white"
             }
            },
            "header": {
             "fill": {
              "color": "#C8D4E3"
             },
             "line": {
              "color": "white"
             }
            },
            "type": "table"
           }
          ]
         },
         "layout": {
          "annotationdefaults": {
           "arrowcolor": "#2a3f5f",
           "arrowhead": 0,
           "arrowwidth": 1
          },
          "autotypenumbers": "strict",
          "coloraxis": {
           "colorbar": {
            "outlinewidth": 0,
            "ticks": ""
           }
          },
          "colorscale": {
           "diverging": [
            [
             0,
             "#8e0152"
            ],
            [
             0.1,
             "#c51b7d"
            ],
            [
             0.2,
             "#de77ae"
            ],
            [
             0.3,
             "#f1b6da"
            ],
            [
             0.4,
             "#fde0ef"
            ],
            [
             0.5,
             "#f7f7f7"
            ],
            [
             0.6,
             "#e6f5d0"
            ],
            [
             0.7,
             "#b8e186"
            ],
            [
             0.8,
             "#7fbc41"
            ],
            [
             0.9,
             "#4d9221"
            ],
            [
             1,
             "#276419"
            ]
           ],
           "sequential": [
            [
             0,
             "#0d0887"
            ],
            [
             0.1111111111111111,
             "#46039f"
            ],
            [
             0.2222222222222222,
             "#7201a8"
            ],
            [
             0.3333333333333333,
             "#9c179e"
            ],
            [
             0.4444444444444444,
             "#bd3786"
            ],
            [
             0.5555555555555556,
             "#d8576b"
            ],
            [
             0.6666666666666666,
             "#ed7953"
            ],
            [
             0.7777777777777778,
             "#fb9f3a"
            ],
            [
             0.8888888888888888,
             "#fdca26"
            ],
            [
             1,
             "#f0f921"
            ]
           ],
           "sequentialminus": [
            [
             0,
             "#0d0887"
            ],
            [
             0.1111111111111111,
             "#46039f"
            ],
            [
             0.2222222222222222,
             "#7201a8"
            ],
            [
             0.3333333333333333,
             "#9c179e"
            ],
            [
             0.4444444444444444,
             "#bd3786"
            ],
            [
             0.5555555555555556,
             "#d8576b"
            ],
            [
             0.6666666666666666,
             "#ed7953"
            ],
            [
             0.7777777777777778,
             "#fb9f3a"
            ],
            [
             0.8888888888888888,
             "#fdca26"
            ],
            [
             1,
             "#f0f921"
            ]
           ]
          },
          "colorway": [
           "#636efa",
           "#EF553B",
           "#00cc96",
           "#ab63fa",
           "#FFA15A",
           "#19d3f3",
           "#FF6692",
           "#B6E880",
           "#FF97FF",
           "#FECB52"
          ],
          "font": {
           "color": "#2a3f5f"
          },
          "geo": {
           "bgcolor": "white",
           "lakecolor": "white",
           "landcolor": "#E5ECF6",
           "showlakes": true,
           "showland": true,
           "subunitcolor": "white"
          },
          "hoverlabel": {
           "align": "left"
          },
          "hovermode": "closest",
          "mapbox": {
           "style": "light"
          },
          "paper_bgcolor": "white",
          "plot_bgcolor": "#E5ECF6",
          "polar": {
           "angularaxis": {
            "gridcolor": "white",
            "linecolor": "white",
            "ticks": ""
           },
           "bgcolor": "#E5ECF6",
           "radialaxis": {
            "gridcolor": "white",
            "linecolor": "white",
            "ticks": ""
           }
          },
          "scene": {
           "xaxis": {
            "backgroundcolor": "#E5ECF6",
            "gridcolor": "white",
            "gridwidth": 2,
            "linecolor": "white",
            "showbackground": true,
            "ticks": "",
            "zerolinecolor": "white"
           },
           "yaxis": {
            "backgroundcolor": "#E5ECF6",
            "gridcolor": "white",
            "gridwidth": 2,
            "linecolor": "white",
            "showbackground": true,
            "ticks": "",
            "zerolinecolor": "white"
           },
           "zaxis": {
            "backgroundcolor": "#E5ECF6",
            "gridcolor": "white",
            "gridwidth": 2,
            "linecolor": "white",
            "showbackground": true,
            "ticks": "",
            "zerolinecolor": "white"
           }
          },
          "shapedefaults": {
           "line": {
            "color": "#2a3f5f"
           }
          },
          "ternary": {
           "aaxis": {
            "gridcolor": "white",
            "linecolor": "white",
            "ticks": ""
           },
           "baxis": {
            "gridcolor": "white",
            "linecolor": "white",
            "ticks": ""
           },
           "bgcolor": "#E5ECF6",
           "caxis": {
            "gridcolor": "white",
            "linecolor": "white",
            "ticks": ""
           }
          },
          "title": {
           "x": 0.05
          },
          "xaxis": {
           "automargin": true,
           "gridcolor": "white",
           "linecolor": "white",
           "ticks": "",
           "title": {
            "standoff": 15
           },
           "zerolinecolor": "white",
           "zerolinewidth": 2
          },
          "yaxis": {
           "automargin": true,
           "gridcolor": "white",
           "linecolor": "white",
           "ticks": "",
           "title": {
            "standoff": 15
           },
           "zerolinecolor": "white",
           "zerolinewidth": 2
          }
         }
        }
       }
      }
     },
     "metadata": {},
     "output_type": "display_data"
    }
   ],
   "source": [
    "fig = px.scatter_mapbox(data, lat=\"lat\", lon= \"lon\", hover_name=\"direction\", mapbox_style= \"open-street-map\", zoom= 15)\n",
    "\n",
    "fig.show()"
   ]
  },
  {
   "cell_type": "markdown",
   "metadata": {},
   "source": [
    "### F)"
   ]
  },
  {
   "cell_type": "code",
   "execution_count": null,
   "metadata": {},
   "outputs": [],
   "source": []
  },
  {
   "cell_type": "markdown",
   "metadata": {},
   "source": [
    "# 1\n",
    "### A)"
   ]
  },
  {
   "cell_type": "markdown",
   "metadata": {},
   "source": [
    "# Stop Lookup"
   ]
  },
  {
   "cell_type": "code",
   "execution_count": 529,
   "metadata": {},
   "outputs": [],
   "source": [
    "def get_lookup(search):\n",
    "    url= f\"https://api.resrobot.se/v2.1/location.name?input={search}&format=json&accessId={API_KEY}\"\n",
    "    return requests.get(url).json()"
   ]
  },
  {
   "cell_type": "code",
   "execution_count": 530,
   "metadata": {},
   "outputs": [
    {
     "data": {
      "text/plain": [
       "'740098038'"
      ]
     },
     "execution_count": 530,
     "metadata": {},
     "output_type": "execute_result"
    }
   ],
   "source": [
    "lund= get_lookup(\"Lund\")\n",
    "lund[\"stopLocationOrCoordLocation\"][0][\"StopLocation\"][\"extId\"]"
   ]
  },
  {
   "cell_type": "code",
   "execution_count": 531,
   "metadata": {},
   "outputs": [
    {
     "data": {
      "text/plain": [
       "'740098001'"
      ]
     },
     "execution_count": 531,
     "metadata": {},
     "output_type": "execute_result"
    }
   ],
   "source": [
    "gothenburg= get_lookup(\"Göteborg\")\n",
    "gothenburg[\"stopLocationOrCoordLocation\"][0][\"StopLocation\"][\"extId\"]"
   ]
  },
  {
   "cell_type": "code",
   "execution_count": 532,
   "metadata": {},
   "outputs": [],
   "source": [
    "def route_planner(org, des):\n",
    "    \n",
    "    url= f\"https://api.resrobot.se/v2.1/trip?format=json&originId={org}&destId={des}&passlist=true&showPassingPoints=true&accessId={API_KEY}\"\n",
    "\n",
    "    return requests.get(url).json()"
   ]
  },
  {
   "cell_type": "code",
   "execution_count": 533,
   "metadata": {},
   "outputs": [],
   "source": [
    "trip= route_planner(740098001, 740098038)"
   ]
  },
  {
   "cell_type": "code",
   "execution_count": 534,
   "metadata": {},
   "outputs": [
    {
     "data": {
      "text/plain": [
       "dict_keys(['Trip', 'ResultStatus', 'TechnicalMessages', 'serverVersion', 'dialectVersion', 'planRtTs', 'requestId', 'scrB', 'scrF'])"
      ]
     },
     "execution_count": 534,
     "metadata": {},
     "output_type": "execute_result"
    }
   ],
   "source": [
    "trip.keys()"
   ]
  },
  {
   "cell_type": "code",
   "execution_count": 535,
   "metadata": {},
   "outputs": [],
   "source": [
    "example_trip = trip[\"Trip\"][0]"
   ]
  },
  {
   "cell_type": "code",
   "execution_count": 536,
   "metadata": {},
   "outputs": [
    {
     "data": {
      "text/plain": [
       "[{'name': 'Göteborg Centralstation',\n",
       "  'id': 'A=1@O=Göteborg Centralstation@X=11973479@Y=57708895@U=1@L=740000002@',\n",
       "  'extId': '740000002',\n",
       "  'routeIdx': 0,\n",
       "  'lon': 11.973479,\n",
       "  'lat': 57.708895,\n",
       "  'depPrognosisType': 'PROGNOSED',\n",
       "  'depTime': '12:40:00',\n",
       "  'depDate': '2025-01-15',\n",
       "  'depDir': 'Köpenhamn Österport (Danmark)',\n",
       "  'minimumChangeDuration': 'PT15M'},\n",
       " {'name': 'Mölndal station',\n",
       "  'id': 'A=1@O=Mölndal station@X=12018722@Y=57655958@U=1@L=740000315@',\n",
       "  'extId': '740000315',\n",
       "  'routeIdx': 1,\n",
       "  'lon': 12.018722,\n",
       "  'lat': 57.655958,\n",
       "  'depTime': '12:48:00',\n",
       "  'depDate': '2025-01-15',\n",
       "  'arrTime': '12:48:00',\n",
       "  'arrDate': '2025-01-15',\n",
       "  'minimumChangeDuration': 'PT9M'},\n",
       " {'name': 'Kungsbacka station',\n",
       "  'id': 'A=1@O=Kungsbacka station@X=12079614@Y=57490556@U=1@L=740000161@',\n",
       "  'extId': '740000161',\n",
       "  'routeIdx': 2,\n",
       "  'lon': 12.079614,\n",
       "  'lat': 57.490556,\n",
       "  'depTime': '12:59:00',\n",
       "  'depDate': '2025-01-15',\n",
       "  'arrTime': '12:59:00',\n",
       "  'arrDate': '2025-01-15',\n",
       "  'minimumChangeDuration': 'PT5M'},\n",
       " {'name': 'Varberg station',\n",
       "  'id': 'A=1@O=Varberg station@X=12248081@Y=57109378@U=1@L=740000110@',\n",
       "  'extId': '740000110',\n",
       "  'routeIdx': 3,\n",
       "  'lon': 12.248081,\n",
       "  'lat': 57.109378,\n",
       "  'depTime': '13:29:00',\n",
       "  'depDate': '2025-01-15',\n",
       "  'arrTime': '13:25:00',\n",
       "  'arrDate': '2025-01-15',\n",
       "  'minimumChangeDuration': 'PT5M'},\n",
       " {'name': 'Falkenberg station',\n",
       "  'id': 'A=1@O=Falkenberg station@X=12507555@Y=56919768@U=1@L=740001579@',\n",
       "  'extId': '740001579',\n",
       "  'routeIdx': 4,\n",
       "  'lon': 12.507555,\n",
       "  'lat': 56.919768,\n",
       "  'depTime': '13:45:00',\n",
       "  'depDate': '2025-01-15',\n",
       "  'arrTime': '13:45:00',\n",
       "  'arrDate': '2025-01-15',\n",
       "  'minimumChangeDuration': 'PT4M'},\n",
       " {'name': 'Halmstad Centralstation',\n",
       "  'id': 'A=1@O=Halmstad Centralstation@X=12864840@Y=56669275@U=1@L=740000080@',\n",
       "  'extId': '740000080',\n",
       "  'routeIdx': 5,\n",
       "  'lon': 12.86484,\n",
       "  'lat': 56.669275,\n",
       "  'depTime': '14:13:00',\n",
       "  'depDate': '2025-01-15',\n",
       "  'arrTime': '14:03:00',\n",
       "  'arrDate': '2025-01-15',\n",
       "  'minimumChangeDuration': 'PT10M'},\n",
       " {'name': 'Laholm station',\n",
       "  'id': 'A=1@O=Laholm station@X=12999606@Y=56501905@U=1@L=740000058@',\n",
       "  'extId': '740000058',\n",
       "  'routeIdx': 6,\n",
       "  'lon': 12.999606,\n",
       "  'lat': 56.501905,\n",
       "  'depTime': '14:25:00',\n",
       "  'depDate': '2025-01-15',\n",
       "  'arrTime': '14:25:00',\n",
       "  'arrDate': '2025-01-15',\n",
       "  'minimumChangeDuration': 'PT9M'},\n",
       " {'name': 'Båstad station',\n",
       "  'id': 'A=1@O=Båstad station@X=12906991@Y=56431834@U=1@L=740001603@',\n",
       "  'extId': '740001603',\n",
       "  'routeIdx': 7,\n",
       "  'lon': 12.906991,\n",
       "  'lat': 56.431834,\n",
       "  'depTime': '14:32:00',\n",
       "  'depDate': '2025-01-15',\n",
       "  'arrTime': '14:32:00',\n",
       "  'arrDate': '2025-01-15',\n",
       "  'minimumChangeDuration': 'PT4M'},\n",
       " {'name': 'Ängelholm station',\n",
       "  'id': 'A=1@O=Ängelholm station@X=12854197@Y=56245200@U=1@L=740000064@',\n",
       "  'extId': '740000064',\n",
       "  'routeIdx': 8,\n",
       "  'lon': 12.854197,\n",
       "  'lat': 56.2452,\n",
       "  'depTime': '14:43:00',\n",
       "  'depDate': '2025-01-15',\n",
       "  'arrTime': '14:43:00',\n",
       "  'arrDate': '2025-01-15',\n",
       "  'minimumChangeDuration': 'PT10M'},\n",
       " {'name': 'Helsingborg Centralstation',\n",
       "  'id': 'A=1@O=Helsingborg Centralstation@X=12694261@Y=56044408@U=1@L=740000044@',\n",
       "  'extId': '740000044',\n",
       "  'routeIdx': 9,\n",
       "  'lon': 12.694261,\n",
       "  'lat': 56.044408,\n",
       "  'depTime': '15:07:00',\n",
       "  'depDate': '2025-01-15',\n",
       "  'arrTime': '15:04:00',\n",
       "  'arrDate': '2025-01-15',\n",
       "  'minimumChangeDuration': 'PT9M'},\n",
       " {'name': 'Landskrona station',\n",
       "  'id': 'A=1@O=Landskrona station@X=12857406@Y=55878898@U=1@L=740001554@',\n",
       "  'extId': '740001554',\n",
       "  'routeIdx': 10,\n",
       "  'lon': 12.857406,\n",
       "  'lat': 55.878898,\n",
       "  'depTime': '15:19:00',\n",
       "  'depDate': '2025-01-15',\n",
       "  'arrTime': '15:19:00',\n",
       "  'arrDate': '2025-01-15',\n",
       "  'minimumChangeDuration': 'PT9M'},\n",
       " {'name': 'Lund Centralstation',\n",
       "  'id': 'A=1@O=Lund Centralstation@X=13186897@Y=55708094@U=1@L=740000120@',\n",
       "  'extId': '740000120',\n",
       "  'routeIdx': 11,\n",
       "  'lon': 13.186897,\n",
       "  'lat': 55.708094,\n",
       "  'arrTime': '15:36:00',\n",
       "  'arrDate': '2025-01-15',\n",
       "  'minimumChangeDuration': 'PT10M'}]"
      ]
     },
     "execution_count": 536,
     "metadata": {},
     "output_type": "execute_result"
    }
   ],
   "source": [
    "stops=example_trip[\"LegList\"][\"Leg\"][0][\"Stops\"][\"Stop\"]\n",
    "stops"
   ]
  },
  {
   "cell_type": "code",
   "execution_count": 537,
   "metadata": {},
   "outputs": [
    {
     "data": {
      "text/plain": [
       "['Göteborg Centralstation',\n",
       " 'Mölndal station',\n",
       " 'Kungsbacka station',\n",
       " 'Varberg station',\n",
       " 'Falkenberg station',\n",
       " 'Halmstad Centralstation',\n",
       " 'Laholm station',\n",
       " 'Båstad station',\n",
       " 'Ängelholm station',\n",
       " 'Helsingborg Centralstation',\n",
       " 'Landskrona station',\n",
       " 'Lund Centralstation']"
      ]
     },
     "execution_count": 537,
     "metadata": {},
     "output_type": "execute_result"
    }
   ],
   "source": [
    "[stop.get(\"name\")for stop in stops]"
   ]
  },
  {
   "cell_type": "markdown",
   "metadata": {},
   "source": [
    "### B)"
   ]
  },
  {
   "cell_type": "code",
   "execution_count": 538,
   "metadata": {},
   "outputs": [
    {
     "data": {
      "text/plain": [
       "'740098000'"
      ]
     },
     "execution_count": 538,
     "metadata": {},
     "output_type": "execute_result"
    }
   ],
   "source": [
    "sthlm= get_lookup(\"Stockholm\")\n",
    "sthlm[\"stopLocationOrCoordLocation\"][0][\"StopLocation\"][\"extId\"]"
   ]
  },
  {
   "cell_type": "code",
   "execution_count": 539,
   "metadata": {},
   "outputs": [
    {
     "data": {
      "text/plain": [
       "{'Trip': [{'Origin': {'name': 'Göteborg Centralstation',\n",
       "    'type': 'ST',\n",
       "    'id': 'A=1@O=Göteborg Centralstation@X=11973479@Y=57708895@U=1@L=740000002@',\n",
       "    'extId': '740000002',\n",
       "    'lon': 11.973479,\n",
       "    'lat': 57.708895,\n",
       "    'routeIdx': 0,\n",
       "    'prognosisType': 'PROGNOSED',\n",
       "    'time': '12:18:00',\n",
       "    'date': '2025-01-15',\n",
       "    'minimumChangeDuration': 'PT15M'},\n",
       "   'Destination': {'name': 'Stockholm Centralstation',\n",
       "    'type': 'ST',\n",
       "    'id': 'A=1@O=Stockholm Centralstation@X=18058151@Y=59330136@U=1@L=740000001@',\n",
       "    'extId': '740000001',\n",
       "    'lon': 18.058151,\n",
       "    'lat': 59.330136,\n",
       "    'routeIdx': 4,\n",
       "    'prognosisType': 'PROGNOSED',\n",
       "    'time': '15:41:00',\n",
       "    'date': '2025-01-15',\n",
       "    'minimumChangeDuration': 'PT20M'},\n",
       "   'ServiceDays': [{'planningPeriodBegin': '2025-01-02',\n",
       "     'planningPeriodEnd': '2025-06-15',\n",
       "     'sDaysR': 'inte varje dag',\n",
       "     'sDaysI': '15. jan t o m 9. jun 2025; 22. mar t o m 20. apr 2025 mån - fre; 3. maj t o m 7. jun 2025 mån - fre; utom 18., 21. apr, 1., 2., 29., 30. maj',\n",
       "     'sDaysB': '007FFFFFFFFFFFFFFFFE7CF9F3C3FE1F3E7CE1F600'}],\n",
       "   'LegList': {'Leg': [{'Origin': {'name': 'Göteborg Centralstation',\n",
       "       'type': 'ST',\n",
       "       'id': 'A=1@O=Göteborg Centralstation@X=11973479@Y=57708895@U=1@L=740000002@',\n",
       "       'extId': '740000002',\n",
       "       'lon': 11.973479,\n",
       "       'lat': 57.708895,\n",
       "       'routeIdx': 0,\n",
       "       'prognosisType': 'PROGNOSED',\n",
       "       'time': '12:18:00',\n",
       "       'date': '2025-01-15',\n",
       "       'minimumChangeDuration': 'PT15M'},\n",
       "      'Destination': {'name': 'Stockholm Centralstation',\n",
       "       'type': 'ST',\n",
       "       'id': 'A=1@O=Stockholm Centralstation@X=18058151@Y=59330136@U=1@L=740000001@',\n",
       "       'extId': '740000001',\n",
       "       'lon': 18.058151,\n",
       "       'lat': 59.330136,\n",
       "       'routeIdx': 4,\n",
       "       'prognosisType': 'PROGNOSED',\n",
       "       'time': '15:41:00',\n",
       "       'date': '2025-01-15',\n",
       "       'minimumChangeDuration': 'PT20M'},\n",
       "      'Notes': {'Note': [{'value': 'X2000',\n",
       "         'key': 'VX',\n",
       "         'type': 'A',\n",
       "         'routeIdxFrom': 0,\n",
       "         'routeIdxTo': 4,\n",
       "         'txtN': 'X2000'},\n",
       "        {'value': 'Mat 1 klass',\n",
       "         'key': 'A1',\n",
       "         'type': 'A',\n",
       "         'routeIdxFrom': 0,\n",
       "         'routeIdxTo': 4,\n",
       "         'txtN': 'Mat 1 klass'},\n",
       "        {'value': 'Bistrovagn',\n",
       "         'key': 'AD',\n",
       "         'type': 'A',\n",
       "         'routeIdxFrom': 0,\n",
       "         'routeIdxTo': 4,\n",
       "         'txtN': 'Bistrovagn'},\n",
       "        {'value': 'Obligatorisk platsbokning',\n",
       "         'key': 'AF',\n",
       "         'type': 'A',\n",
       "         'routeIdxFrom': 0,\n",
       "         'routeIdxTo': 4,\n",
       "         'txtN': 'Obligatorisk platsbokning'},\n",
       "        {'value': 'Rullstolslyft',\n",
       "         'key': 'AN',\n",
       "         'type': 'A',\n",
       "         'routeIdxFrom': 0,\n",
       "         'routeIdxTo': 4,\n",
       "         'txtN': 'Rullstolslyft'},\n",
       "        {'value': 'WiFi',\n",
       "         'key': 'AW',\n",
       "         'type': 'A',\n",
       "         'routeIdxFrom': 0,\n",
       "         'routeIdxTo': 4,\n",
       "         'txtN': 'WiFi'},\n",
       "        {'value': '2 klass lugn',\n",
       "         'key': 'BL',\n",
       "         'type': 'A',\n",
       "         'routeIdxFrom': 0,\n",
       "         'routeIdxTo': 4,\n",
       "         'txtN': '2 klass lugn'},\n",
       "        {'value': 'EU förordning 2021/782',\n",
       "         'key': 'EJ',\n",
       "         'type': 'A',\n",
       "         'routeIdxFrom': 0,\n",
       "         'routeIdxTo': 4,\n",
       "         'txtN': 'EU förordning 2021/782'},\n",
       "        {'value': 'Maträtt',\n",
       "         'key': 'SM',\n",
       "         'type': 'A',\n",
       "         'routeIdxFrom': 0,\n",
       "         'routeIdxTo': 4,\n",
       "         'txtN': 'Maträtt'},\n",
       "        {'value': '1 klass med extra komfort',\n",
       "         'key': 'SU',\n",
       "         'type': 'A',\n",
       "         'routeIdxFrom': 0,\n",
       "         'routeIdxTo': 4,\n",
       "         'txtN': '1 klass med extra komfort'},\n",
       "        {'value': 'Kaffebuffé 1 klass',\n",
       "         'key': 'SZ',\n",
       "         'type': 'A',\n",
       "         'routeIdxFrom': 0,\n",
       "         'routeIdxTo': 4,\n",
       "         'txtN': 'Kaffebuffé 1 klass'}]},\n",
       "      'JourneyDetailRef': {'ref': '1|43147|0|1|15012025'},\n",
       "      'JourneyStatus': 'P',\n",
       "      'Product': [{'icon': {'res': 'prod_gen'},\n",
       "        'operatorInfo': {'name': 'SJ',\n",
       "         'nameS': '74',\n",
       "         'nameN': '74',\n",
       "         'nameL': 'SJ',\n",
       "         'id': '74'},\n",
       "        'name': 'Snabbtåg 434',\n",
       "        'internalName': 'Snabbtåg 434',\n",
       "        'displayNumber': '434',\n",
       "        'num': '434',\n",
       "        'line': '434',\n",
       "        'lineId': '1074043400001',\n",
       "        'catOut': 'JST',\n",
       "        'catIn': 'JST',\n",
       "        'catCode': '1',\n",
       "        'cls': '2',\n",
       "        'catOutS': 'JST',\n",
       "        'catOutL': 'Snabbtåg',\n",
       "        'operatorCode': '74',\n",
       "        'operator': 'SJ',\n",
       "        'admin': '074___',\n",
       "        'routeIdxFrom': 0,\n",
       "        'routeIdxTo': 4,\n",
       "        'matchId': '434;434;48403'}],\n",
       "      'Stops': {'Stop': [{'name': 'Göteborg Centralstation',\n",
       "         'id': 'A=1@O=Göteborg Centralstation@X=11973479@Y=57708895@U=1@L=740000002@',\n",
       "         'extId': '740000002',\n",
       "         'routeIdx': 0,\n",
       "         'lon': 11.973479,\n",
       "         'lat': 57.708895,\n",
       "         'depPrognosisType': 'PROGNOSED',\n",
       "         'depTime': '12:18:00',\n",
       "         'depDate': '2025-01-15',\n",
       "         'depDir': 'Stockholm Centralstation',\n",
       "         'minimumChangeDuration': 'PT15M'},\n",
       "        {'name': 'Herrljunga station',\n",
       "         'id': 'A=1@O=Herrljunga station@X=13021279@Y=58079188@U=1@L=740000040@',\n",
       "         'extId': '740000040',\n",
       "         'routeIdx': 1,\n",
       "         'lon': 13.021279,\n",
       "         'lat': 58.079188,\n",
       "         'depTime': '13:02:00',\n",
       "         'depDate': '2025-01-15',\n",
       "         'arrTime': '13:01:00',\n",
       "         'arrDate': '2025-01-15',\n",
       "         'minimumChangeDuration': 'PT8M'},\n",
       "        {'name': 'Skövde Centralstation',\n",
       "         'id': 'A=1@O=Skövde Centralstation@X=13853195@Y=58390898@U=1@L=740000008@',\n",
       "         'extId': '740000008',\n",
       "         'routeIdx': 2,\n",
       "         'lon': 13.853195,\n",
       "         'lat': 58.390898,\n",
       "         'depTime': '13:28:00',\n",
       "         'depDate': '2025-01-15',\n",
       "         'arrTime': '13:27:00',\n",
       "         'arrDate': '2025-01-15',\n",
       "         'minimumChangeDuration': 'PT10M'},\n",
       "        {'name': 'Katrineholm Centralstation',\n",
       "         'id': 'A=1@O=Katrineholm Centralstation@X=16208324@Y=58996591@U=1@L=740000166@',\n",
       "         'extId': '740000166',\n",
       "         'routeIdx': 3,\n",
       "         'lon': 16.208324,\n",
       "         'lat': 58.996591,\n",
       "         'depTime': '14:48:00',\n",
       "         'depDate': '2025-01-15',\n",
       "         'arrTime': '14:47:00',\n",
       "         'arrDate': '2025-01-15',\n",
       "         'minimumChangeDuration': 'PT10M'},\n",
       "        {'name': 'Stockholm Centralstation',\n",
       "         'id': 'A=1@O=Stockholm Centralstation@X=18058151@Y=59330136@U=1@L=740000001@',\n",
       "         'extId': '740000001',\n",
       "         'routeIdx': 4,\n",
       "         'lon': 18.058151,\n",
       "         'lat': 59.330136,\n",
       "         'arrPrognosisType': 'PROGNOSED',\n",
       "         'arrTime': '15:41:00',\n",
       "         'arrDate': '2025-01-15',\n",
       "         'minimumChangeDuration': 'PT20M'}]},\n",
       "      'JourneyDetail': {'ref': '1|43147|0|1|15012025',\n",
       "       'dayOfOperation': '2025-01-15'},\n",
       "      'id': '0',\n",
       "      'idx': 0,\n",
       "      'name': 'Snabbtåg 434',\n",
       "      'number': '434',\n",
       "      'category': 'JST',\n",
       "      'type': 'JNY',\n",
       "      'reachable': True,\n",
       "      'waitingState': 'UNDEF',\n",
       "      'direction': 'Stockholm Centralstation',\n",
       "      'directionFlag': '1',\n",
       "      'duration': 'PT3H23M'}]},\n",
       "   'calculation': 'INITIAL',\n",
       "   'TripStatus': {'hintCode': 0},\n",
       "   'idx': 0,\n",
       "   'tripId': 'C-0',\n",
       "   'ctxRecon': '¶HKI¶T$A=1@O=Göteborg Centralstation@L=740000002@a=128@$A=1@O=Stockholm Centralstation@L=740000001@a=128@$202501151218$202501151541$JST  434$$1$$$$$$¶KC¶#VE#2#CF#100#CA#0#CM#0#SICT#0#AM#81#AM2#0#RT#4#¶KRCC¶#VE#1#',\n",
       "   'duration': 'PT3H23M',\n",
       "   'rtDuration': 'PT3H23M',\n",
       "   'checksum': '5c906c28_3'},\n",
       "  {'Origin': {'name': 'Göteborg Nils Ericsonterminal',\n",
       "    'type': 'ST',\n",
       "    'id': 'A=1@O=Göteborg Nils Ericsonterminal@X=11971852@Y=57710271@U=1@L=740020483@',\n",
       "    'extId': '740020483',\n",
       "    'lon': 11.971852,\n",
       "    'lat': 57.710271,\n",
       "    'routeIdx': 0,\n",
       "    'prognosisType': 'PROGNOSED',\n",
       "    'time': '12:45:00',\n",
       "    'date': '2025-01-15',\n",
       "    'minimumChangeDuration': 'PT5M'},\n",
       "   'Destination': {'name': 'Stockholm Cityterminalen',\n",
       "    'type': 'ST',\n",
       "    'id': 'A=1@O=Stockholm Cityterminalen@X=18056371@Y=59330846@U=1@L=740000622@',\n",
       "    'extId': '740000622',\n",
       "    'lon': 18.056371,\n",
       "    'lat': 59.330846,\n",
       "    'routeIdx': 6,\n",
       "    'prognosisType': 'PROGNOSED',\n",
       "    'time': '19:25:00',\n",
       "    'date': '2025-01-15',\n",
       "    'minimumChangeDuration': 'PT20M'},\n",
       "   'ServiceDays': [{'planningPeriodBegin': '2025-01-02',\n",
       "     'planningPeriodEnd': '2025-06-15',\n",
       "     'sDaysR': 'inte varje dag',\n",
       "     'sDaysI': '15. jan t o m 9. apr 2025 tis, ons',\n",
       "     'sDaysB': '020C183060C183060C183060C00000000000000000'}],\n",
       "   'LegList': {'Leg': [{'Origin': {'name': 'Göteborg Nils Ericsonterminal',\n",
       "       'type': 'ST',\n",
       "       'id': 'A=1@O=Göteborg Nils Ericsonterminal@X=11971852@Y=57710271@U=1@L=740020483@',\n",
       "       'extId': '740020483',\n",
       "       'lon': 11.971852,\n",
       "       'lat': 57.710271,\n",
       "       'routeIdx': 0,\n",
       "       'prognosisType': 'PROGNOSED',\n",
       "       'time': '12:45:00',\n",
       "       'date': '2025-01-15',\n",
       "       'minimumChangeDuration': 'PT5M'},\n",
       "      'Destination': {'name': 'Stockholm Cityterminalen',\n",
       "       'type': 'ST',\n",
       "       'id': 'A=1@O=Stockholm Cityterminalen@X=18056371@Y=59330846@U=1@L=740000622@',\n",
       "       'extId': '740000622',\n",
       "       'lon': 18.056371,\n",
       "       'lat': 59.330846,\n",
       "       'routeIdx': 6,\n",
       "       'prognosisType': 'PROGNOSED',\n",
       "       'time': '19:25:00',\n",
       "       'date': '2025-01-15',\n",
       "       'minimumChangeDuration': 'PT20M'},\n",
       "      'Notes': {'Note': [{'value': 'Obligatorisk platsbokning',\n",
       "         'key': 'AF',\n",
       "         'type': 'A',\n",
       "         'routeIdxFrom': 0,\n",
       "         'routeIdxTo': 6,\n",
       "         'txtN': 'Obligatorisk platsbokning'},\n",
       "        {'value': 'Internetuppkoppling',\n",
       "         'key': 'AV',\n",
       "         'type': 'A',\n",
       "         'routeIdxFrom': 0,\n",
       "         'routeIdxTo': 6,\n",
       "         'txtN': 'Internetuppkoppling'},\n",
       "        {'value': 'EU förordning 181/2011',\n",
       "         'key': 'EB',\n",
       "         'type': 'A',\n",
       "         'routeIdxFrom': 0,\n",
       "         'routeIdxTo': 6,\n",
       "         'txtN': 'EU förordning 181/2011'}]},\n",
       "      'JourneyDetailRef': {'ref': '1|146880|1|1|15012025'},\n",
       "      'JourneyStatus': 'P',\n",
       "      'Product': [{'icon': {'res': 'prod_gen'},\n",
       "        'operatorInfo': {'name': 'Vy Bus4You',\n",
       "         'nameS': '327',\n",
       "         'nameN': '327',\n",
       "         'nameL': 'Vy Bus4You',\n",
       "         'id': '327'},\n",
       "        'name': 'Expressbuss 400',\n",
       "        'internalName': 'Expressbuss 400',\n",
       "        'displayNumber': '400',\n",
       "        'num': '400',\n",
       "        'line': '400',\n",
       "        'lineId': '1327040000001',\n",
       "        'catOut': 'BXB',\n",
       "        'catIn': 'BXB',\n",
       "        'catCode': '3',\n",
       "        'cls': '8',\n",
       "        'catOutS': 'BXB',\n",
       "        'catOutL': 'Expressbuss',\n",
       "        'operatorCode': '327',\n",
       "        'operator': 'Vy Bus4You',\n",
       "        'admin': '327___',\n",
       "        'routeIdxFrom': 0,\n",
       "        'routeIdxTo': 6,\n",
       "        'matchId': '400;400;412'}],\n",
       "      'Stops': {'Stop': [{'name': 'Göteborg Nils Ericsonterminal',\n",
       "         'id': 'A=1@O=Göteborg Nils Ericsonterminal@X=11971852@Y=57710271@U=1@L=740020483@',\n",
       "         'extId': '740020483',\n",
       "         'routeIdx': 0,\n",
       "         'lon': 11.971852,\n",
       "         'lat': 57.710271,\n",
       "         'depPrognosisType': 'PROGNOSED',\n",
       "         'depTime': '12:45:00',\n",
       "         'depDate': '2025-01-15',\n",
       "         'depDir': 'Arlanda terminal 4 buss (Sigtuna kn)',\n",
       "         'minimumChangeDuration': 'PT5M'},\n",
       "        {'name': 'Landvetter Airport (Härryda kn)',\n",
       "         'id': 'A=1@O=Landvetter Airport (Härryda kn)@X=12295940@Y=57667878@U=1@L=740000554@',\n",
       "         'extId': '740000554',\n",
       "         'routeIdx': 1,\n",
       "         'lon': 12.29594,\n",
       "         'lat': 57.667878,\n",
       "         'depTime': '13:15:00',\n",
       "         'depDate': '2025-01-15',\n",
       "         'arrTime': '13:15:00',\n",
       "         'arrDate': '2025-01-15',\n",
       "         'minimumChangeDuration': 'PT30M'},\n",
       "        {'name': 'Borås Centralstation',\n",
       "         'id': 'A=1@O=Borås Centralstation@X=12932008@Y=57720842@U=1@L=740000300@',\n",
       "         'extId': '740000300',\n",
       "         'routeIdx': 2,\n",
       "         'lon': 12.932008,\n",
       "         'lat': 57.720842,\n",
       "         'depTime': '13:50:00',\n",
       "         'depDate': '2025-01-15',\n",
       "         'arrTime': '13:50:00',\n",
       "         'arrDate': '2025-01-15',\n",
       "         'minimumChangeDuration': 'PT10M'},\n",
       "        {'name': 'Jönköping Centralstation',\n",
       "         'id': 'A=1@O=Jönköping Centralstation@X=14163323@Y=57784710@U=1@L=740000090@',\n",
       "         'extId': '740000090',\n",
       "         'routeIdx': 3,\n",
       "         'lon': 14.163323,\n",
       "         'lat': 57.78471,\n",
       "         'depTime': '15:05:00',\n",
       "         'depDate': '2025-01-15',\n",
       "         'arrTime': '15:05:00',\n",
       "         'arrDate': '2025-01-15',\n",
       "         'minimumChangeDuration': 'PT10M'},\n",
       "        {'name': 'Linköping Fjärrbussterminal',\n",
       "         'id': 'A=1@O=Linköping Fjärrbussterminal@X=15618587@Y=58419430@U=1@L=740010955@',\n",
       "         'extId': '740010955',\n",
       "         'routeIdx': 4,\n",
       "         'lon': 15.618587,\n",
       "         'lat': 58.41943,\n",
       "         'depTime': '16:45:00',\n",
       "         'depDate': '2025-01-15',\n",
       "         'arrTime': '16:40:00',\n",
       "         'arrDate': '2025-01-15',\n",
       "         'minimumChangeDuration': 'PT20M'},\n",
       "        {'name': 'Norrköping Centralstation',\n",
       "         'id': 'A=1@O=Norrköping Centralstation@X=16183343@Y=58596625@U=1@L=740000007@',\n",
       "         'extId': '740000007',\n",
       "         'routeIdx': 5,\n",
       "         'lon': 16.183343,\n",
       "         'lat': 58.596625,\n",
       "         'depTime': '17:25:00',\n",
       "         'depDate': '2025-01-15',\n",
       "         'arrTime': '17:25:00',\n",
       "         'arrDate': '2025-01-15',\n",
       "         'minimumChangeDuration': 'PT10M'},\n",
       "        {'name': 'Stockholm Cityterminalen',\n",
       "         'id': 'A=1@O=Stockholm Cityterminalen@X=18056371@Y=59330846@U=1@L=740000622@',\n",
       "         'extId': '740000622',\n",
       "         'routeIdx': 6,\n",
       "         'lon': 18.056371,\n",
       "         'lat': 59.330846,\n",
       "         'arrTime': '19:25:00',\n",
       "         'arrDate': '2025-01-15',\n",
       "         'minimumChangeDuration': 'PT20M'}]},\n",
       "      'JourneyDetail': {'ref': '1|146880|1|1|15012025',\n",
       "       'dayOfOperation': '2025-01-15'},\n",
       "      'id': '0',\n",
       "      'idx': 0,\n",
       "      'name': 'Expressbuss 400',\n",
       "      'number': '400',\n",
       "      'category': 'BXB',\n",
       "      'type': 'JNY',\n",
       "      'reachable': True,\n",
       "      'waitingState': 'UNDEF',\n",
       "      'direction': 'Arlanda terminal 4 buss (Sigtuna kn)',\n",
       "      'directionFlag': '2',\n",
       "      'duration': 'PT6H40M'}]},\n",
       "   'calculation': 'INITIAL',\n",
       "   'TripStatus': {'economic': True, 'convenient': True, 'hintCode': 0},\n",
       "   'idx': 1,\n",
       "   'tripId': 'C-1',\n",
       "   'ctxRecon': '¶HKI¶T$A=1@O=Göteborg Nils Ericsonterminal@L=740020483@a=128@$A=1@O=Stockholm Cityterminalen@L=740000622@a=128@$202501151245$202501151925$BXB  400$$1$$$$$$¶KC¶#VE#2#CF#100#CA#0#CM#0#SICT#0#AM#81#AM2#0#RT#4#¶KRCC¶#VE#1#',\n",
       "   'duration': 'PT6H40M',\n",
       "   'rtDuration': 'PT6H40M',\n",
       "   'checksum': '225ae21a_3'},\n",
       "  {'Origin': {'name': 'Göteborg Centralstation',\n",
       "    'type': 'ST',\n",
       "    'id': 'A=1@O=Göteborg Centralstation@X=11973479@Y=57708895@U=1@L=740000002@',\n",
       "    'extId': '740000002',\n",
       "    'lon': 11.973479,\n",
       "    'lat': 57.708895,\n",
       "    'routeIdx': 0,\n",
       "    'prognosisType': 'PROGNOSED',\n",
       "    'time': '12:59:00',\n",
       "    'date': '2025-01-15',\n",
       "    'minimumChangeDuration': 'PT15M'},\n",
       "   'Destination': {'name': 'Stockholm Centralstation',\n",
       "    'type': 'ST',\n",
       "    'id': 'A=1@O=Stockholm Centralstation@X=18058151@Y=59330136@U=1@L=740000001@',\n",
       "    'extId': '740000001',\n",
       "    'lon': 18.058151,\n",
       "    'lat': 59.330136,\n",
       "    'routeIdx': 5,\n",
       "    'prognosisType': 'PROGNOSED',\n",
       "    'time': '16:29:00',\n",
       "    'date': '2025-01-15',\n",
       "    'minimumChangeDuration': 'PT20M'},\n",
       "   'ServiceDays': [{'planningPeriodBegin': '2025-01-02',\n",
       "     'planningPeriodEnd': '2025-06-15',\n",
       "     'sDaysR': 'inte varje dag',\n",
       "     'sDaysI': '15. jan t o m 28. maj 2025 mån - fre; 18. jan t o m 15. mar 2025 mån - lör; utom 18., 21. apr, 1., 2. maj; och 26. apr',\n",
       "     'sDaysB': '001FBF7EFDFBF7EFDFBE7CF9F3C3EE1F3E7CE00000'}],\n",
       "   'LegList': {'Leg': [{'Origin': {'name': 'Göteborg Centralstation',\n",
       "       'type': 'ST',\n",
       "       'id': 'A=1@O=Göteborg Centralstation@X=11973479@Y=57708895@U=1@L=740000002@',\n",
       "       'extId': '740000002',\n",
       "       'lon': 11.973479,\n",
       "       'lat': 57.708895,\n",
       "       'routeIdx': 0,\n",
       "       'prognosisType': 'PROGNOSED',\n",
       "       'time': '12:59:00',\n",
       "       'date': '2025-01-15',\n",
       "       'minimumChangeDuration': 'PT15M'},\n",
       "      'Destination': {'name': 'Stockholm Centralstation',\n",
       "       'type': 'ST',\n",
       "       'id': 'A=1@O=Stockholm Centralstation@X=18058151@Y=59330136@U=1@L=740000001@',\n",
       "       'extId': '740000001',\n",
       "       'lon': 18.058151,\n",
       "       'lat': 59.330136,\n",
       "       'routeIdx': 5,\n",
       "       'prognosisType': 'PROGNOSED',\n",
       "       'time': '16:29:00',\n",
       "       'date': '2025-01-15',\n",
       "       'minimumChangeDuration': 'PT20M'},\n",
       "      'Notes': {'Note': [{'value': 'Mat 1 klass',\n",
       "         'key': 'A1',\n",
       "         'type': 'A',\n",
       "         'routeIdxFrom': 0,\n",
       "         'routeIdxTo': 5,\n",
       "         'txtN': 'Mat 1 klass'},\n",
       "        {'value': 'Obligatorisk platsbokning',\n",
       "         'key': 'AF',\n",
       "         'type': 'A',\n",
       "         'routeIdxFrom': 0,\n",
       "         'routeIdxTo': 5,\n",
       "         'txtN': 'Obligatorisk platsbokning'},\n",
       "        {'value': 'Rullstolslyft',\n",
       "         'key': 'AN',\n",
       "         'type': 'A',\n",
       "         'routeIdxFrom': 0,\n",
       "         'routeIdxTo': 5,\n",
       "         'txtN': 'Rullstolslyft'},\n",
       "        {'value': 'WiFi',\n",
       "         'key': 'AW',\n",
       "         'type': 'A',\n",
       "         'routeIdxFrom': 0,\n",
       "         'routeIdxTo': 5,\n",
       "         'txtN': 'WiFi'},\n",
       "        {'value': 'EU förordning 2021/782',\n",
       "         'key': 'EJ',\n",
       "         'type': 'A',\n",
       "         'routeIdxFrom': 0,\n",
       "         'routeIdxTo': 5,\n",
       "         'txtN': 'EU förordning 2021/782'},\n",
       "        {'value': 'Eluttag vid sittplats',\n",
       "         'key': 'EL',\n",
       "         'type': 'A',\n",
       "         'routeIdxFrom': 0,\n",
       "         'routeIdxTo': 5,\n",
       "         'txtN': 'Eluttag vid sittplats'},\n",
       "        {'value': 'Kafé',\n",
       "         'key': 'SK',\n",
       "         'type': 'A',\n",
       "         'routeIdxFrom': 0,\n",
       "         'routeIdxTo': 5,\n",
       "         'txtN': 'Kafé'}]},\n",
       "      'JourneyDetailRef': {'ref': '1|75643|0|1|15012025'},\n",
       "      'JourneyStatus': 'P',\n",
       "      'Product': [{'icon': {'res': 'prod_gen'},\n",
       "        'operatorInfo': {'name': 'VR Snabbtåg',\n",
       "         'nameS': '812',\n",
       "         'nameN': '812',\n",
       "         'nameL': 'VR Snabbtåg',\n",
       "         'id': '812'},\n",
       "        'name': 'Express 2036',\n",
       "        'internalName': 'Express 2036',\n",
       "        'displayNumber': '2036',\n",
       "        'num': '2036',\n",
       "        'line': '2036',\n",
       "        'lineId': '1812003700006',\n",
       "        'catOut': 'JEX',\n",
       "        'catIn': 'JEX',\n",
       "        'catCode': '1',\n",
       "        'cls': '2',\n",
       "        'catOutS': 'JEX',\n",
       "        'catOutL': 'Express',\n",
       "        'operatorCode': '812',\n",
       "        'operator': 'VR Snabbtåg',\n",
       "        'admin': '812___',\n",
       "        'routeIdxFrom': 0,\n",
       "        'routeIdxTo': 5,\n",
       "        'matchId': '2034;37;4412'}],\n",
       "      'Stops': {'Stop': [{'name': 'Göteborg Centralstation',\n",
       "         'id': 'A=1@O=Göteborg Centralstation@X=11973479@Y=57708895@U=1@L=740000002@',\n",
       "         'extId': '740000002',\n",
       "         'routeIdx': 0,\n",
       "         'lon': 11.973479,\n",
       "         'lat': 57.708895,\n",
       "         'depPrognosisType': 'PROGNOSED',\n",
       "         'depTime': '12:59:00',\n",
       "         'depDate': '2025-01-15',\n",
       "         'depDir': 'Stockholm Centralstation',\n",
       "         'minimumChangeDuration': 'PT15M'},\n",
       "        {'Notes': {'Note': [{'value': 'Stannar endast för påstigande',\n",
       "            'key': 'text.realtime.stop.exit.disabled',\n",
       "            'type': 'R',\n",
       "            'txtN': 'Stannar endast för påstigande'}]},\n",
       "         'name': 'Alingsås station',\n",
       "         'id': 'A=1@O=Alingsås station@X=12532491@Y=57926857@U=1@L=740000018@',\n",
       "         'extId': '740000018',\n",
       "         'routeIdx': 1,\n",
       "         'lon': 12.532491,\n",
       "         'lat': 57.926857,\n",
       "         'depTime': '13:27:00',\n",
       "         'depDate': '2025-01-15',\n",
       "         'alighting': False,\n",
       "         'minimumChangeDuration': 'PT7M'},\n",
       "        {'name': 'Falköping Centralstation',\n",
       "         'id': 'A=1@O=Falköping Centralstation@X=13553791@Y=58176101@U=1@L=740000060@',\n",
       "         'extId': '740000060',\n",
       "         'routeIdx': 2,\n",
       "         'lon': 13.553791,\n",
       "         'lat': 58.176101,\n",
       "         'depTime': '13:56:00',\n",
       "         'depDate': '2025-01-15',\n",
       "         'arrTime': '13:56:00',\n",
       "         'arrDate': '2025-01-15',\n",
       "         'minimumChangeDuration': 'PT8M'},\n",
       "        {'name': 'Skövde Centralstation',\n",
       "         'id': 'A=1@O=Skövde Centralstation@X=13853195@Y=58390898@U=1@L=740000008@',\n",
       "         'extId': '740000008',\n",
       "         'routeIdx': 3,\n",
       "         'lon': 13.853195,\n",
       "         'lat': 58.390898,\n",
       "         'depTime': '14:10:00',\n",
       "         'depDate': '2025-01-15',\n",
       "         'arrTime': '14:10:00',\n",
       "         'arrDate': '2025-01-15',\n",
       "         'minimumChangeDuration': 'PT10M'},\n",
       "        {'Notes': {'Note': [{'value': 'Stannar endast för avstigande',\n",
       "            'key': 'text.realtime.stop.entry.disabled',\n",
       "            'type': 'R',\n",
       "            'txtN': 'Stannar endast för avstigande'}]},\n",
       "         'name': 'Flemingsberg station (Huddinge kn)',\n",
       "         'id': 'A=1@O=Flemingsberg station (Huddinge kn)@X=17945678@Y=59217959@U=1@L=740000031@',\n",
       "         'extId': '740000031',\n",
       "         'routeIdx': 4,\n",
       "         'lon': 17.945678,\n",
       "         'lat': 59.217959,\n",
       "         'arrTime': '16:16:00',\n",
       "         'arrDate': '2025-01-15',\n",
       "         'boarding': False,\n",
       "         'minimumChangeDuration': 'PT10M'},\n",
       "        {'name': 'Stockholm Centralstation',\n",
       "         'id': 'A=1@O=Stockholm Centralstation@X=18058151@Y=59330136@U=1@L=740000001@',\n",
       "         'extId': '740000001',\n",
       "         'routeIdx': 5,\n",
       "         'lon': 18.058151,\n",
       "         'lat': 59.330136,\n",
       "         'arrPrognosisType': 'PROGNOSED',\n",
       "         'arrTime': '16:29:00',\n",
       "         'arrDate': '2025-01-15',\n",
       "         'minimumChangeDuration': 'PT20M'}]},\n",
       "      'JourneyDetail': {'ref': '1|75643|0|1|15012025',\n",
       "       'dayOfOperation': '2025-01-15'},\n",
       "      'id': '0',\n",
       "      'idx': 0,\n",
       "      'name': 'Express 2036',\n",
       "      'number': '2036',\n",
       "      'category': 'JEX',\n",
       "      'type': 'JNY',\n",
       "      'reachable': True,\n",
       "      'waitingState': 'UNDEF',\n",
       "      'direction': 'Stockholm Centralstation',\n",
       "      'directionFlag': '2',\n",
       "      'duration': 'PT3H30M'}]},\n",
       "   'calculation': 'INITIAL',\n",
       "   'TripStatus': {'hintCode': 0},\n",
       "   'idx': 2,\n",
       "   'tripId': 'C-2',\n",
       "   'ctxRecon': '¶HKI¶T$A=1@O=Göteborg Centralstation@L=740000002@a=128@$A=1@O=Stockholm Centralstation@L=740000001@a=128@$202501151259$202501151629$JEX 2036$$1$$$$$$¶KC¶#VE#2#CF#100#CA#0#CM#0#SICT#0#AM#81#AM2#0#RT#4#¶KRCC¶#VE#1#',\n",
       "   'duration': 'PT3H30M',\n",
       "   'rtDuration': 'PT3H30M',\n",
       "   'checksum': 'd1635c73_3'},\n",
       "  {'Origin': {'name': 'Göteborg Centralstation',\n",
       "    'type': 'ST',\n",
       "    'id': 'A=1@O=Göteborg Centralstation@X=11973479@Y=57708895@U=1@L=740000002@',\n",
       "    'extId': '740000002',\n",
       "    'lon': 11.973479,\n",
       "    'lat': 57.708895,\n",
       "    'routeIdx': 0,\n",
       "    'prognosisType': 'PROGNOSED',\n",
       "    'time': '13:02:00',\n",
       "    'date': '2025-01-15',\n",
       "    'minimumChangeDuration': 'PT15M'},\n",
       "   'Destination': {'name': 'Stockholm Centralstation',\n",
       "    'type': 'ST',\n",
       "    'id': 'A=1@O=Stockholm Centralstation@X=18058151@Y=59330136@U=1@L=740000001@',\n",
       "    'extId': '740000001',\n",
       "    'lon': 18.058151,\n",
       "    'lat': 59.330136,\n",
       "    'routeIdx': 18,\n",
       "    'prognosisType': 'PROGNOSED',\n",
       "    'time': '17:44:00',\n",
       "    'date': '2025-01-15',\n",
       "    'minimumChangeDuration': 'PT20M'},\n",
       "   'ServiceDays': [{'planningPeriodBegin': '2025-01-02',\n",
       "     'planningPeriodEnd': '2025-06-15',\n",
       "     'sDaysR': 'inte varje dag',\n",
       "     'sDaysI': '15. jan t o m 9. jun 2025; 22. mar t o m 27. apr 2025 mån - fre; 10. maj t o m 1. jun 2025 mån - fre; utom 17. t o m 21. apr 2025, 29., 30. maj',\n",
       "     'sDaysB': '003FFFFFFFFFFFFFFFFE7CF9F383CFFF3E7CE1FE00'}],\n",
       "   'LegList': {'Leg': [{'Origin': {'name': 'Göteborg Centralstation',\n",
       "       'type': 'ST',\n",
       "       'id': 'A=1@O=Göteborg Centralstation@X=11973479@Y=57708895@U=1@L=740000002@',\n",
       "       'extId': '740000002',\n",
       "       'lon': 11.973479,\n",
       "       'lat': 57.708895,\n",
       "       'routeIdx': 0,\n",
       "       'prognosisType': 'PROGNOSED',\n",
       "       'time': '13:02:00',\n",
       "       'date': '2025-01-15',\n",
       "       'minimumChangeDuration': 'PT15M'},\n",
       "      'Destination': {'name': 'Stockholm Centralstation',\n",
       "       'type': 'ST',\n",
       "       'id': 'A=1@O=Stockholm Centralstation@X=18058151@Y=59330136@U=1@L=740000001@',\n",
       "       'extId': '740000001',\n",
       "       'lon': 18.058151,\n",
       "       'lat': 59.330136,\n",
       "       'routeIdx': 18,\n",
       "       'prognosisType': 'PROGNOSED',\n",
       "       'time': '17:44:00',\n",
       "       'date': '2025-01-15',\n",
       "       'minimumChangeDuration': 'PT20M'},\n",
       "      'Notes': {'Note': [{'value': '2 kl har ej reservering',\n",
       "         'key': 'AB',\n",
       "         'type': 'A',\n",
       "         'routeIdxFrom': 0,\n",
       "         'routeIdxTo': 5,\n",
       "         'txtN': '2 kl har ej reservering'},\n",
       "        {'value': '2 kl har ej reservering',\n",
       "         'key': 'AB',\n",
       "         'type': 'A',\n",
       "         'routeIdxFrom': 8,\n",
       "         'routeIdxTo': 11,\n",
       "         'txtN': '2 kl har ej reservering'},\n",
       "        {'value': '2 kl har ej reservering',\n",
       "         'key': 'AB',\n",
       "         'type': 'A',\n",
       "         'routeIdxFrom': 13,\n",
       "         'routeIdxTo': 18,\n",
       "         'txtN': '2 kl har ej reservering'},\n",
       "        {'value': 'Obligatorisk platsbokning',\n",
       "         'key': 'AF',\n",
       "         'type': 'A',\n",
       "         'routeIdxFrom': 0,\n",
       "         'routeIdxTo': 18,\n",
       "         'txtN': 'Obligatorisk platsbokning'},\n",
       "        {'value': 'Rullstolslyft',\n",
       "         'key': 'AN',\n",
       "         'type': 'A',\n",
       "         'routeIdxFrom': 0,\n",
       "         'routeIdxTo': 18,\n",
       "         'txtN': 'Rullstolslyft'},\n",
       "        {'value': 'WiFi',\n",
       "         'key': 'AW',\n",
       "         'type': 'A',\n",
       "         'routeIdxFrom': 0,\n",
       "         'routeIdxTo': 18,\n",
       "         'txtN': 'WiFi'},\n",
       "        {'value': 'EU förordning 2021/782',\n",
       "         'key': 'EJ',\n",
       "         'type': 'A',\n",
       "         'routeIdxFrom': 0,\n",
       "         'routeIdxTo': 18,\n",
       "         'txtN': 'EU förordning 2021/782'},\n",
       "        {'value': 'Servering finns ej',\n",
       "         'key': 'SI',\n",
       "         'type': 'A',\n",
       "         'routeIdxFrom': 0,\n",
       "         'routeIdxTo': 18,\n",
       "         'txtN': 'Servering finns ej'}]},\n",
       "      'JourneyDetailRef': {'ref': '1|156844|0|1|15012025'},\n",
       "      'JourneyStatus': 'P',\n",
       "      'Product': [{'icon': {'res': 'prod_gen'},\n",
       "        'operatorInfo': {'name': 'SJ',\n",
       "         'nameS': '74',\n",
       "         'nameN': '74',\n",
       "         'nameL': 'SJ',\n",
       "         'id': '74'},\n",
       "        'name': 'Regional Tåg 178',\n",
       "        'internalName': 'Regional Tåg 178',\n",
       "        'displayNumber': '178',\n",
       "        'num': '178',\n",
       "        'line': '178',\n",
       "        'lineId': '1074017800001',\n",
       "        'catOut': 'JRE',\n",
       "        'catIn': 'JRE',\n",
       "        'catCode': '2',\n",
       "        'cls': '4',\n",
       "        'catOutS': 'JRE',\n",
       "        'catOutL': 'Regional Tåg',\n",
       "        'operatorCode': '74',\n",
       "        'operator': 'SJ',\n",
       "        'admin': '074___',\n",
       "        'routeIdxFrom': 0,\n",
       "        'routeIdxTo': 18,\n",
       "        'matchId': '178;178;2627'}],\n",
       "      'Stops': {'Stop': [{'name': 'Göteborg Centralstation',\n",
       "         'id': 'A=1@O=Göteborg Centralstation@X=11973479@Y=57708895@U=1@L=740000002@',\n",
       "         'extId': '740000002',\n",
       "         'routeIdx': 0,\n",
       "         'lon': 11.973479,\n",
       "         'lat': 57.708895,\n",
       "         'depPrognosisType': 'PROGNOSED',\n",
       "         'depTime': '13:02:00',\n",
       "         'depDate': '2025-01-15',\n",
       "         'depDir': 'Stockholm Centralstation',\n",
       "         'minimumChangeDuration': 'PT15M'},\n",
       "        {'name': 'Alingsås station',\n",
       "         'id': 'A=1@O=Alingsås station@X=12532491@Y=57926857@U=1@L=740000018@',\n",
       "         'extId': '740000018',\n",
       "         'routeIdx': 1,\n",
       "         'lon': 12.532491,\n",
       "         'lat': 57.926857,\n",
       "         'depTime': '13:31:00',\n",
       "         'depDate': '2025-01-15',\n",
       "         'arrTime': '13:31:00',\n",
       "         'arrDate': '2025-01-15',\n",
       "         'minimumChangeDuration': 'PT7M'},\n",
       "        {'name': 'Vårgårda station',\n",
       "         'id': 'A=1@O=Vårgårda station@X=12810285@Y=58031204@U=1@L=740000569@',\n",
       "         'extId': '740000569',\n",
       "         'routeIdx': 2,\n",
       "         'lon': 12.810285,\n",
       "         'lat': 58.031204,\n",
       "         'depTime': '13:43:00',\n",
       "         'depDate': '2025-01-15',\n",
       "         'arrTime': '13:43:00',\n",
       "         'arrDate': '2025-01-15',\n",
       "         'minimumChangeDuration': 'PT10M'},\n",
       "        {'name': 'Herrljunga station',\n",
       "         'id': 'A=1@O=Herrljunga station@X=13021279@Y=58079188@U=1@L=740000040@',\n",
       "         'extId': '740000040',\n",
       "         'routeIdx': 3,\n",
       "         'lon': 13.021279,\n",
       "         'lat': 58.079188,\n",
       "         'depTime': '13:51:00',\n",
       "         'depDate': '2025-01-15',\n",
       "         'arrTime': '13:50:00',\n",
       "         'arrDate': '2025-01-15',\n",
       "         'minimumChangeDuration': 'PT8M'},\n",
       "        {'name': 'Falköping Centralstation',\n",
       "         'id': 'A=1@O=Falköping Centralstation@X=13553791@Y=58176101@U=1@L=740000060@',\n",
       "         'extId': '740000060',\n",
       "         'routeIdx': 4,\n",
       "         'lon': 13.553791,\n",
       "         'lat': 58.176101,\n",
       "         'depTime': '14:07:00',\n",
       "         'depDate': '2025-01-15',\n",
       "         'arrTime': '14:06:00',\n",
       "         'arrDate': '2025-01-15',\n",
       "         'minimumChangeDuration': 'PT8M'},\n",
       "        {'name': 'Skövde Centralstation',\n",
       "         'id': 'A=1@O=Skövde Centralstation@X=13853195@Y=58390898@U=1@L=740000008@',\n",
       "         'extId': '740000008',\n",
       "         'routeIdx': 5,\n",
       "         'lon': 13.853195,\n",
       "         'lat': 58.390898,\n",
       "         'depTime': '14:22:00',\n",
       "         'depDate': '2025-01-15',\n",
       "         'arrTime': '14:21:00',\n",
       "         'arrDate': '2025-01-15',\n",
       "         'minimumChangeDuration': 'PT10M'},\n",
       "        {'name': 'Töreboda station',\n",
       "         'id': 'A=1@O=Töreboda station@X=14128391@Y=58706024@U=1@L=740000183@',\n",
       "         'extId': '740000183',\n",
       "         'routeIdx': 6,\n",
       "         'lon': 14.128391,\n",
       "         'lat': 58.706024,\n",
       "         'depTime': '14:44:00',\n",
       "         'depDate': '2025-01-15',\n",
       "         'arrTime': '14:38:00',\n",
       "         'arrDate': '2025-01-15',\n",
       "         'minimumChangeDuration': 'PT8M'},\n",
       "        {'name': 'Laxå station',\n",
       "         'id': 'A=1@O=Laxå station@X=14616658@Y=58989391@U=1@L=740000194@',\n",
       "         'extId': '740000194',\n",
       "         'routeIdx': 7,\n",
       "         'lon': 14.616658,\n",
       "         'lat': 58.989391,\n",
       "         'depTime': '15:08:00',\n",
       "         'depDate': '2025-01-15',\n",
       "         'arrTime': '15:08:00',\n",
       "         'arrDate': '2025-01-15',\n",
       "         'minimumChangeDuration': 'PT10M'},\n",
       "        {'name': 'Hallsberg station',\n",
       "         'id': 'A=1@O=Hallsberg station@X=15110391@Y=59066698@U=1@L=740000077@',\n",
       "         'extId': '740000077',\n",
       "         'routeIdx': 8,\n",
       "         'lon': 15.110391,\n",
       "         'lat': 59.066698,\n",
       "         'depTime': '15:28:00',\n",
       "         'depDate': '2025-01-15',\n",
       "         'arrTime': '15:25:00',\n",
       "         'arrDate': '2025-01-15',\n",
       "         'minimumChangeDuration': 'PT10M'},\n",
       "        {'name': 'Kumla station',\n",
       "         'id': 'A=1@O=Kumla station@X=15140280@Y=59126377@U=1@L=740000192@',\n",
       "         'extId': '740000192',\n",
       "         'routeIdx': 9,\n",
       "         'lon': 15.14028,\n",
       "         'lat': 59.126377,\n",
       "         'depTime': '15:35:00',\n",
       "         'depDate': '2025-01-15',\n",
       "         'arrTime': '15:35:00',\n",
       "         'arrDate': '2025-01-15',\n",
       "         'minimumChangeDuration': 'PT10M'},\n",
       "        {'name': 'Örebro Södra station',\n",
       "         'id': 'A=1@O=Örebro Södra station@X=15202332@Y=59269989@U=1@L=740000361@',\n",
       "         'extId': '740000361',\n",
       "         'routeIdx': 10,\n",
       "         'lon': 15.202332,\n",
       "         'lat': 59.269989,\n",
       "         'depTime': '15:46:00',\n",
       "         'depDate': '2025-01-15',\n",
       "         'arrTime': '15:46:00',\n",
       "         'arrDate': '2025-01-15',\n",
       "         'minimumChangeDuration': 'PT1H30M'},\n",
       "        {'name': 'Örebro Centralstation',\n",
       "         'id': 'A=1@O=Örebro Centralstation@X=15211348@Y=59278942@U=1@L=740000133@',\n",
       "         'extId': '740000133',\n",
       "         'routeIdx': 11,\n",
       "         'lon': 15.211348,\n",
       "         'lat': 59.278942,\n",
       "         'depTime': '15:56:00',\n",
       "         'depDate': '2025-01-15',\n",
       "         'arrTime': '15:50:00',\n",
       "         'arrDate': '2025-01-15',\n",
       "         'minimumChangeDuration': 'PT10M'},\n",
       "        {'name': 'Arboga station',\n",
       "         'id': 'A=1@O=Arboga station@X=15841061@Y=59397105@U=1@L=740000262@',\n",
       "         'extId': '740000262',\n",
       "         'routeIdx': 12,\n",
       "         'lon': 15.841061,\n",
       "         'lat': 59.397105,\n",
       "         'depTime': '16:18:00',\n",
       "         'depDate': '2025-01-15',\n",
       "         'arrTime': '16:18:00',\n",
       "         'arrDate': '2025-01-15',\n",
       "         'minimumChangeDuration': 'PT5M'},\n",
       "        {'name': 'Köping station',\n",
       "         'id': 'A=1@O=Köping station@X=16004215@Y=59506675@U=1@L=740000167@',\n",
       "         'extId': '740000167',\n",
       "         'routeIdx': 13,\n",
       "         'lon': 16.004215,\n",
       "         'lat': 59.506675,\n",
       "         'depTime': '16:29:00',\n",
       "         'depDate': '2025-01-15',\n",
       "         'arrTime': '16:29:00',\n",
       "         'arrDate': '2025-01-15',\n",
       "         'minimumChangeDuration': 'PT5M'},\n",
       "        {'name': 'Västerås Centralstation',\n",
       "         'id': 'A=1@O=Västerås Centralstation@X=16551712@Y=59607705@U=1@L=740000099@',\n",
       "         'extId': '740000099',\n",
       "         'routeIdx': 14,\n",
       "         'lon': 16.551712,\n",
       "         'lat': 59.607705,\n",
       "         'depTime': '16:48:00',\n",
       "         'depDate': '2025-01-15',\n",
       "         'arrTime': '16:46:00',\n",
       "         'arrDate': '2025-01-15',\n",
       "         'minimumChangeDuration': 'PT8M'},\n",
       "        {'name': 'Enköping station',\n",
       "         'id': 'A=1@O=Enköping station@X=17086741@Y=59644327@U=1@L=740000072@',\n",
       "         'extId': '740000072',\n",
       "         'routeIdx': 15,\n",
       "         'lon': 17.086741,\n",
       "         'lat': 59.644327,\n",
       "         'depTime': '17:03:00',\n",
       "         'depDate': '2025-01-15',\n",
       "         'arrTime': '17:03:00',\n",
       "         'arrDate': '2025-01-15',\n",
       "         'minimumChangeDuration': 'PT8M'},\n",
       "        {'name': 'Bålsta station (Håbo kn)',\n",
       "         'id': 'A=1@O=Bålsta station (Håbo kn)@X=17532813@Y=59568754@U=1@L=740000660@',\n",
       "         'extId': '740000660',\n",
       "         'routeIdx': 16,\n",
       "         'lon': 17.532813,\n",
       "         'lat': 59.568754,\n",
       "         'depTime': '17:15:00',\n",
       "         'depDate': '2025-01-15',\n",
       "         'arrTime': '17:15:00',\n",
       "         'arrDate': '2025-01-15',\n",
       "         'minimumChangeDuration': 'PT10M'},\n",
       "        {'Notes': {'Note': [{'value': 'Stannar endast för avstigande',\n",
       "            'key': 'text.realtime.stop.entry.disabled',\n",
       "            'type': 'R',\n",
       "            'txtN': 'Stannar endast för avstigande'}]},\n",
       "         'name': 'Sundbyberg station',\n",
       "         'id': 'A=1@O=Sundbyberg station@X=17970938@Y=59361032@U=1@L=740000773@',\n",
       "         'extId': '740000773',\n",
       "         'routeIdx': 17,\n",
       "         'lon': 17.970938,\n",
       "         'lat': 59.361032,\n",
       "         'arrTime': '17:37:00',\n",
       "         'arrDate': '2025-01-15',\n",
       "         'boarding': False,\n",
       "         'minimumChangeDuration': 'PT10M'},\n",
       "        {'name': 'Stockholm Centralstation',\n",
       "         'id': 'A=1@O=Stockholm Centralstation@X=18058151@Y=59330136@U=1@L=740000001@',\n",
       "         'extId': '740000001',\n",
       "         'routeIdx': 18,\n",
       "         'lon': 18.058151,\n",
       "         'lat': 59.330136,\n",
       "         'arrPrognosisType': 'PROGNOSED',\n",
       "         'arrTime': '17:44:00',\n",
       "         'arrDate': '2025-01-15',\n",
       "         'minimumChangeDuration': 'PT20M'}]},\n",
       "      'JourneyDetail': {'ref': '1|156844|0|1|15012025',\n",
       "       'dayOfOperation': '2025-01-15'},\n",
       "      'id': '0',\n",
       "      'idx': 0,\n",
       "      'name': 'Regional Tåg 178',\n",
       "      'number': '178',\n",
       "      'category': 'JRE',\n",
       "      'type': 'JNY',\n",
       "      'reachable': True,\n",
       "      'waitingState': 'UNDEF',\n",
       "      'direction': 'Stockholm Centralstation',\n",
       "      'directionFlag': '1',\n",
       "      'duration': 'PT4H42M'}]},\n",
       "   'calculation': 'INITIAL',\n",
       "   'TripStatus': {'economic': True, 'convenient': True, 'hintCode': 0},\n",
       "   'idx': 3,\n",
       "   'tripId': 'C-3',\n",
       "   'ctxRecon': '¶HKI¶T$A=1@O=Göteborg Centralstation@L=740000002@a=128@$A=1@O=Stockholm Centralstation@L=740000001@a=128@$202501151302$202501151744$JRE  178$$1$$$$$$¶KC¶#VE#2#CF#100#CA#0#CM#0#SICT#0#AM#81#AM2#0#RT#4#¶KRCC¶#VE#1#',\n",
       "   'duration': 'PT4H42M',\n",
       "   'rtDuration': 'PT4H42M',\n",
       "   'checksum': 'e7a6468c_3'},\n",
       "  {'Origin': {'name': 'Göteborg Centralstation',\n",
       "    'type': 'ST',\n",
       "    'id': 'A=1@O=Göteborg Centralstation@X=11973479@Y=57708895@U=1@L=740000002@',\n",
       "    'extId': '740000002',\n",
       "    'lon': 11.973479,\n",
       "    'lat': 57.708895,\n",
       "    'routeIdx': 0,\n",
       "    'prognosisType': 'PROGNOSED',\n",
       "    'time': '13:18:00',\n",
       "    'date': '2025-01-15',\n",
       "    'minimumChangeDuration': 'PT15M'},\n",
       "   'Destination': {'name': 'Stockholm Centralstation',\n",
       "    'type': 'ST',\n",
       "    'id': 'A=1@O=Stockholm Centralstation@X=18058151@Y=59330136@U=1@L=740000001@',\n",
       "    'extId': '740000001',\n",
       "    'lon': 18.058151,\n",
       "    'lat': 59.330136,\n",
       "    'routeIdx': 4,\n",
       "    'prognosisType': 'PROGNOSED',\n",
       "    'time': '16:44:00',\n",
       "    'date': '2025-01-15',\n",
       "    'minimumChangeDuration': 'PT20M'},\n",
       "   'ServiceDays': [{'planningPeriodBegin': '2025-01-02',\n",
       "     'planningPeriodEnd': '2025-06-15',\n",
       "     'sDaysR': 'inte varje dag',\n",
       "     'sDaysI': '15. jan t o m 9. jun 2025 mån - fre; 19. jan t o m 16. mar 2025 mån - fre, sön; utom 18., 21. apr, 1., 2., 29., 30. maj, 6. jun; och 27. apr',\n",
       "     'sDaysB': '003F7EFDFBF7EFDFBF7E7CF9F3C3DE1F3E7CE1E200'}],\n",
       "   'LegList': {'Leg': [{'Origin': {'name': 'Göteborg Centralstation',\n",
       "       'type': 'ST',\n",
       "       'id': 'A=1@O=Göteborg Centralstation@X=11973479@Y=57708895@U=1@L=740000002@',\n",
       "       'extId': '740000002',\n",
       "       'lon': 11.973479,\n",
       "       'lat': 57.708895,\n",
       "       'routeIdx': 0,\n",
       "       'prognosisType': 'PROGNOSED',\n",
       "       'time': '13:18:00',\n",
       "       'date': '2025-01-15',\n",
       "       'minimumChangeDuration': 'PT15M'},\n",
       "      'Destination': {'name': 'Stockholm Centralstation',\n",
       "       'type': 'ST',\n",
       "       'id': 'A=1@O=Stockholm Centralstation@X=18058151@Y=59330136@U=1@L=740000001@',\n",
       "       'extId': '740000001',\n",
       "       'lon': 18.058151,\n",
       "       'lat': 59.330136,\n",
       "       'routeIdx': 4,\n",
       "       'prognosisType': 'PROGNOSED',\n",
       "       'time': '16:44:00',\n",
       "       'date': '2025-01-15',\n",
       "       'minimumChangeDuration': 'PT20M'},\n",
       "      'Notes': {'Note': [{'value': 'X2000',\n",
       "         'key': 'VX',\n",
       "         'type': 'A',\n",
       "         'routeIdxFrom': 0,\n",
       "         'routeIdxTo': 4,\n",
       "         'txtN': 'X2000'},\n",
       "        {'value': 'Mat 1 klass',\n",
       "         'key': 'A1',\n",
       "         'type': 'A',\n",
       "         'routeIdxFrom': 0,\n",
       "         'routeIdxTo': 4,\n",
       "         'txtN': 'Mat 1 klass'},\n",
       "        {'value': 'Bistrovagn',\n",
       "         'key': 'AD',\n",
       "         'type': 'A',\n",
       "         'routeIdxFrom': 0,\n",
       "         'routeIdxTo': 4,\n",
       "         'txtN': 'Bistrovagn'},\n",
       "        {'value': 'Obligatorisk platsbokning',\n",
       "         'key': 'AF',\n",
       "         'type': 'A',\n",
       "         'routeIdxFrom': 0,\n",
       "         'routeIdxTo': 4,\n",
       "         'txtN': 'Obligatorisk platsbokning'},\n",
       "        {'value': 'Rullstolslyft',\n",
       "         'key': 'AN',\n",
       "         'type': 'A',\n",
       "         'routeIdxFrom': 0,\n",
       "         'routeIdxTo': 4,\n",
       "         'txtN': 'Rullstolslyft'},\n",
       "        {'value': 'WiFi',\n",
       "         'key': 'AW',\n",
       "         'type': 'A',\n",
       "         'routeIdxFrom': 0,\n",
       "         'routeIdxTo': 4,\n",
       "         'txtN': 'WiFi'},\n",
       "        {'value': '2 klass lugn',\n",
       "         'key': 'BL',\n",
       "         'type': 'A',\n",
       "         'routeIdxFrom': 0,\n",
       "         'routeIdxTo': 4,\n",
       "         'txtN': '2 klass lugn'},\n",
       "        {'value': 'EU förordning 2021/782',\n",
       "         'key': 'EJ',\n",
       "         'type': 'A',\n",
       "         'routeIdxFrom': 0,\n",
       "         'routeIdxTo': 4,\n",
       "         'txtN': 'EU förordning 2021/782'},\n",
       "        {'value': 'Maträtt',\n",
       "         'key': 'SM',\n",
       "         'type': 'A',\n",
       "         'routeIdxFrom': 0,\n",
       "         'routeIdxTo': 4,\n",
       "         'txtN': 'Maträtt'},\n",
       "        {'value': '1 klass med extra komfort',\n",
       "         'key': 'SU',\n",
       "         'type': 'A',\n",
       "         'routeIdxFrom': 0,\n",
       "         'routeIdxTo': 4,\n",
       "         'txtN': '1 klass med extra komfort'},\n",
       "        {'value': 'Kaffebuffé 1 klass',\n",
       "         'key': 'SZ',\n",
       "         'type': 'A',\n",
       "         'routeIdxFrom': 0,\n",
       "         'routeIdxTo': 4,\n",
       "         'txtN': 'Kaffebuffé 1 klass'}]},\n",
       "      'JourneyDetailRef': {'ref': '1|106042|0|1|15012025'},\n",
       "      'JourneyStatus': 'P',\n",
       "      'Product': [{'icon': {'res': 'prod_gen'},\n",
       "        'operatorInfo': {'name': 'SJ',\n",
       "         'nameS': '74',\n",
       "         'nameN': '74',\n",
       "         'nameL': 'SJ',\n",
       "         'id': '74'},\n",
       "        'name': 'Snabbtåg 436',\n",
       "        'internalName': 'Snabbtåg 436',\n",
       "        'displayNumber': '436',\n",
       "        'num': '436',\n",
       "        'line': '436',\n",
       "        'lineId': '1074043600001',\n",
       "        'catOut': 'JST',\n",
       "        'catIn': 'JST',\n",
       "        'catCode': '1',\n",
       "        'cls': '2',\n",
       "        'catOutS': 'JST',\n",
       "        'catOutL': 'Snabbtåg',\n",
       "        'operatorCode': '74',\n",
       "        'operator': 'SJ',\n",
       "        'admin': '074___',\n",
       "        'routeIdxFrom': 0,\n",
       "        'routeIdxTo': 4,\n",
       "        'matchId': '436;436;12115'}],\n",
       "      'Stops': {'Stop': [{'name': 'Göteborg Centralstation',\n",
       "         'id': 'A=1@O=Göteborg Centralstation@X=11973479@Y=57708895@U=1@L=740000002@',\n",
       "         'extId': '740000002',\n",
       "         'routeIdx': 0,\n",
       "         'lon': 11.973479,\n",
       "         'lat': 57.708895,\n",
       "         'depPrognosisType': 'PROGNOSED',\n",
       "         'depTime': '13:18:00',\n",
       "         'depDate': '2025-01-15',\n",
       "         'depDir': 'Stockholm Centralstation',\n",
       "         'minimumChangeDuration': 'PT15M'},\n",
       "        {'name': 'Skövde Centralstation',\n",
       "         'id': 'A=1@O=Skövde Centralstation@X=13853195@Y=58390898@U=1@L=740000008@',\n",
       "         'extId': '740000008',\n",
       "         'routeIdx': 1,\n",
       "         'lon': 13.853195,\n",
       "         'lat': 58.390898,\n",
       "         'depTime': '14:27:00',\n",
       "         'depDate': '2025-01-15',\n",
       "         'arrTime': '14:26:00',\n",
       "         'arrDate': '2025-01-15',\n",
       "         'minimumChangeDuration': 'PT10M'},\n",
       "        {'name': 'Katrineholm Centralstation',\n",
       "         'id': 'A=1@O=Katrineholm Centralstation@X=16208324@Y=58996591@U=1@L=740000166@',\n",
       "         'extId': '740000166',\n",
       "         'routeIdx': 2,\n",
       "         'lon': 16.208324,\n",
       "         'lat': 58.996591,\n",
       "         'depTime': '15:47:00',\n",
       "         'depDate': '2025-01-15',\n",
       "         'arrTime': '15:46:00',\n",
       "         'arrDate': '2025-01-15',\n",
       "         'minimumChangeDuration': 'PT10M'},\n",
       "        {'Notes': {'Note': [{'value': 'Stannar endast för avstigande',\n",
       "            'key': 'text.realtime.stop.entry.disabled',\n",
       "            'type': 'R',\n",
       "            'txtN': 'Stannar endast för avstigande'}]},\n",
       "         'name': 'Södertälje Syd station',\n",
       "         'id': 'A=1@O=Södertälje Syd station@X=17645367@Y=59162415@U=1@L=740000055@',\n",
       "         'extId': '740000055',\n",
       "         'routeIdx': 3,\n",
       "         'lon': 17.645367,\n",
       "         'lat': 59.162415,\n",
       "         'arrTime': '16:25:00',\n",
       "         'arrDate': '2025-01-15',\n",
       "         'boarding': False,\n",
       "         'minimumChangeDuration': 'PT10M'},\n",
       "        {'name': 'Stockholm Centralstation',\n",
       "         'id': 'A=1@O=Stockholm Centralstation@X=18058151@Y=59330136@U=1@L=740000001@',\n",
       "         'extId': '740000001',\n",
       "         'routeIdx': 4,\n",
       "         'lon': 18.058151,\n",
       "         'lat': 59.330136,\n",
       "         'arrPrognosisType': 'PROGNOSED',\n",
       "         'arrTime': '16:44:00',\n",
       "         'arrDate': '2025-01-15',\n",
       "         'minimumChangeDuration': 'PT20M'}]},\n",
       "      'JourneyDetail': {'ref': '1|106042|0|1|15012025',\n",
       "       'dayOfOperation': '2025-01-15'},\n",
       "      'id': '0',\n",
       "      'idx': 0,\n",
       "      'name': 'Snabbtåg 436',\n",
       "      'number': '436',\n",
       "      'category': 'JST',\n",
       "      'type': 'JNY',\n",
       "      'reachable': True,\n",
       "      'waitingState': 'UNDEF',\n",
       "      'direction': 'Stockholm Centralstation',\n",
       "      'directionFlag': '1',\n",
       "      'duration': 'PT3H26M'}]},\n",
       "   'calculation': 'INITIAL',\n",
       "   'TripStatus': {'hintCode': 0},\n",
       "   'idx': 4,\n",
       "   'tripId': 'C-4',\n",
       "   'ctxRecon': '¶HKI¶T$A=1@O=Göteborg Centralstation@L=740000002@a=128@$A=1@O=Stockholm Centralstation@L=740000001@a=128@$202501151318$202501151644$JST  436$$1$$$$$$¶KC¶#VE#2#CF#100#CA#0#CM#0#SICT#0#AM#81#AM2#0#RT#4#¶KRCC¶#VE#1#',\n",
       "   'duration': 'PT3H26M',\n",
       "   'rtDuration': 'PT3H26M',\n",
       "   'checksum': 'd935dcdc_3'}],\n",
       " 'ResultStatus': {'timeDiffCritical': False},\n",
       " 'TechnicalMessages': {'TechnicalMessage': [{'value': '2025-01-15 12:16:36',\n",
       "    'key': 'requestTime'},\n",
       "   {'value': 'ttp=16439#16603 plancode0=0etx7 planid=1736935053 planid0=1736935053 planid_adr=1479298166 plancode_adr=q0r10 srvv=5.45.SAMTRAFIKEN.15.0.1 (customer/hcusamtrafiken/release/2023.10.0) [2023-10-19] tlibv=TRFVER: rel/pproxy/4.00.0 2022-10-24 18:24:51 +0200 Relay_EnrichmentProxy v1 jno=1',\n",
       "    'key': 'backendInfo'}]},\n",
       " 'serverVersion': '2.45.1',\n",
       " 'dialectVersion': '2.45',\n",
       " 'planRtTs': '1970-01-01T01:00:00.000+01:00',\n",
       " 'requestId': 'rkg2pzig4a86pmwx',\n",
       " 'scrB': '3|OB|MTµ14µ22338µ22338µ22541µ22541µ0µ0µ365µ22336µ1µ0µ1058µ0µ0µ-2147483648µ1µ2|PDHµc3c424b8d159bbc18f4fc56ea06aa4a6|RDµ15012025|RTµ121636|USµ1|RSµINIT',\n",
       " 'scrF': '3|OF|MTµ14µ22398µ22398µ22604µ22604µ0µ0µ365µ22380µ5µ0µ1058µ0µ0µ-2147483648µ1µ2|PDHµc3c424b8d159bbc18f4fc56ea06aa4a6|RDµ15012025|RTµ121636|USµ1|RSµINIT'}"
      ]
     },
     "execution_count": 539,
     "metadata": {},
     "output_type": "execute_result"
    }
   ],
   "source": [
    "trips = route_planner(740098001, 740098000)\n",
    "trips"
   ]
  },
  {
   "cell_type": "code",
   "execution_count": 540,
   "metadata": {},
   "outputs": [],
   "source": [
    "trip= trips[\"Trip\"][0]"
   ]
  },
  {
   "cell_type": "code",
   "execution_count": 541,
   "metadata": {},
   "outputs": [],
   "source": [
    "stops= trip[\"LegList\"][\"Leg\"][0][\"Stops\"][\"Stop\"]"
   ]
  },
  {
   "cell_type": "code",
   "execution_count": 542,
   "metadata": {},
   "outputs": [
    {
     "data": {
      "text/plain": [
       "[{'Göteborg Centralstation': None},\n",
       " {'Herrljunga station': '13:01:00'},\n",
       " {'Skövde Centralstation': '13:27:00'},\n",
       " {'Katrineholm Centralstation': '14:47:00'},\n",
       " {'Stockholm Centralstation': '15:41:00'}]"
      ]
     },
     "execution_count": 542,
     "metadata": {},
     "output_type": "execute_result"
    }
   ],
   "source": [
    "[{stop[\"name\"]: stop.get(\"arrTime\")}for stop in stops]"
   ]
  },
  {
   "cell_type": "code",
   "execution_count": 543,
   "metadata": {},
   "outputs": [],
   "source": [
    "coords= []\n",
    "for stop in stops:\n",
    "    city= get_lookup(stop.get(\"name\"))\n",
    "    city= city[\"stopLocationOrCoordLocation\"][0][\"StopLocation\"]\n",
    "    coords.append((city[\"lon\"], city[\"lat\"]))"
   ]
  },
  {
   "cell_type": "code",
   "execution_count": 544,
   "metadata": {},
   "outputs": [
    {
     "data": {
      "text/plain": [
       "[(11.973479, 57.708895),\n",
       " (13.021279, 58.079188),\n",
       " (13.853195, 58.390898),\n",
       " (16.208324, 58.996591),\n",
       " (18.058151, 59.330136)]"
      ]
     },
     "execution_count": 544,
     "metadata": {},
     "output_type": "execute_result"
    }
   ],
   "source": [
    "coords"
   ]
  },
  {
   "cell_type": "code",
   "execution_count": 545,
   "metadata": {},
   "outputs": [
    {
     "data": {
      "text/html": [
       "<div>\n",
       "<style scoped>\n",
       "    .dataframe tbody tr th:only-of-type {\n",
       "        vertical-align: middle;\n",
       "    }\n",
       "\n",
       "    .dataframe tbody tr th {\n",
       "        vertical-align: top;\n",
       "    }\n",
       "\n",
       "    .dataframe thead th {\n",
       "        text-align: right;\n",
       "    }\n",
       "</style>\n",
       "<table border=\"1\" class=\"dataframe\">\n",
       "  <thead>\n",
       "    <tr style=\"text-align: right;\">\n",
       "      <th></th>\n",
       "      <th>lon</th>\n",
       "      <th>lat</th>\n",
       "    </tr>\n",
       "  </thead>\n",
       "  <tbody>\n",
       "    <tr>\n",
       "      <th>0</th>\n",
       "      <td>11.973479</td>\n",
       "      <td>57.708895</td>\n",
       "    </tr>\n",
       "    <tr>\n",
       "      <th>1</th>\n",
       "      <td>13.021279</td>\n",
       "      <td>58.079188</td>\n",
       "    </tr>\n",
       "    <tr>\n",
       "      <th>2</th>\n",
       "      <td>13.853195</td>\n",
       "      <td>58.390898</td>\n",
       "    </tr>\n",
       "    <tr>\n",
       "      <th>3</th>\n",
       "      <td>16.208324</td>\n",
       "      <td>58.996591</td>\n",
       "    </tr>\n",
       "    <tr>\n",
       "      <th>4</th>\n",
       "      <td>18.058151</td>\n",
       "      <td>59.330136</td>\n",
       "    </tr>\n",
       "  </tbody>\n",
       "</table>\n",
       "</div>"
      ],
      "text/plain": [
       "         lon        lat\n",
       "0  11.973479  57.708895\n",
       "1  13.021279  58.079188\n",
       "2  13.853195  58.390898\n",
       "3  16.208324  58.996591\n",
       "4  18.058151  59.330136"
      ]
     },
     "execution_count": 545,
     "metadata": {},
     "output_type": "execute_result"
    }
   ],
   "source": [
    "data= pd.DataFrame(coords, columns=[\"lon\", \"lat\"])\n",
    "data"
   ]
  },
  {
   "cell_type": "code",
   "execution_count": 546,
   "metadata": {},
   "outputs": [
    {
     "data": {
      "application/vnd.plotly.v1+json": {
       "config": {
        "plotlyServerURL": "https://plot.ly"
       },
       "data": [
        {
         "hovertemplate": "lat=%{lat}<br>lon=%{lon}<extra></extra>",
         "lat": [
          57.708895,
          58.079188,
          58.390898,
          58.996591,
          59.330136
         ],
         "legendgroup": "",
         "line": {
          "color": "#636efa"
         },
         "lon": [
          11.973479,
          13.021279,
          13.853195,
          16.208324,
          18.058151
         ],
         "mode": "lines",
         "name": "",
         "showlegend": false,
         "subplot": "mapbox",
         "type": "scattermapbox"
        }
       ],
       "layout": {
        "legend": {
         "tracegroupgap": 0
        },
        "mapbox": {
         "center": {
          "lat": 58.5011416,
          "lon": 14.622885599999998
         },
         "domain": {
          "x": [
           0,
           1
          ],
          "y": [
           0,
           1
          ]
         },
         "style": "open-street-map",
         "zoom": 6.5
        },
        "margin": {
         "t": 60
        },
        "template": {
         "data": {
          "bar": [
           {
            "error_x": {
             "color": "#2a3f5f"
            },
            "error_y": {
             "color": "#2a3f5f"
            },
            "marker": {
             "line": {
              "color": "#E5ECF6",
              "width": 0.5
             },
             "pattern": {
              "fillmode": "overlay",
              "size": 10,
              "solidity": 0.2
             }
            },
            "type": "bar"
           }
          ],
          "barpolar": [
           {
            "marker": {
             "line": {
              "color": "#E5ECF6",
              "width": 0.5
             },
             "pattern": {
              "fillmode": "overlay",
              "size": 10,
              "solidity": 0.2
             }
            },
            "type": "barpolar"
           }
          ],
          "carpet": [
           {
            "aaxis": {
             "endlinecolor": "#2a3f5f",
             "gridcolor": "white",
             "linecolor": "white",
             "minorgridcolor": "white",
             "startlinecolor": "#2a3f5f"
            },
            "baxis": {
             "endlinecolor": "#2a3f5f",
             "gridcolor": "white",
             "linecolor": "white",
             "minorgridcolor": "white",
             "startlinecolor": "#2a3f5f"
            },
            "type": "carpet"
           }
          ],
          "choropleth": [
           {
            "colorbar": {
             "outlinewidth": 0,
             "ticks": ""
            },
            "type": "choropleth"
           }
          ],
          "contour": [
           {
            "colorbar": {
             "outlinewidth": 0,
             "ticks": ""
            },
            "colorscale": [
             [
              0,
              "#0d0887"
             ],
             [
              0.1111111111111111,
              "#46039f"
             ],
             [
              0.2222222222222222,
              "#7201a8"
             ],
             [
              0.3333333333333333,
              "#9c179e"
             ],
             [
              0.4444444444444444,
              "#bd3786"
             ],
             [
              0.5555555555555556,
              "#d8576b"
             ],
             [
              0.6666666666666666,
              "#ed7953"
             ],
             [
              0.7777777777777778,
              "#fb9f3a"
             ],
             [
              0.8888888888888888,
              "#fdca26"
             ],
             [
              1,
              "#f0f921"
             ]
            ],
            "type": "contour"
           }
          ],
          "contourcarpet": [
           {
            "colorbar": {
             "outlinewidth": 0,
             "ticks": ""
            },
            "type": "contourcarpet"
           }
          ],
          "heatmap": [
           {
            "colorbar": {
             "outlinewidth": 0,
             "ticks": ""
            },
            "colorscale": [
             [
              0,
              "#0d0887"
             ],
             [
              0.1111111111111111,
              "#46039f"
             ],
             [
              0.2222222222222222,
              "#7201a8"
             ],
             [
              0.3333333333333333,
              "#9c179e"
             ],
             [
              0.4444444444444444,
              "#bd3786"
             ],
             [
              0.5555555555555556,
              "#d8576b"
             ],
             [
              0.6666666666666666,
              "#ed7953"
             ],
             [
              0.7777777777777778,
              "#fb9f3a"
             ],
             [
              0.8888888888888888,
              "#fdca26"
             ],
             [
              1,
              "#f0f921"
             ]
            ],
            "type": "heatmap"
           }
          ],
          "heatmapgl": [
           {
            "colorbar": {
             "outlinewidth": 0,
             "ticks": ""
            },
            "colorscale": [
             [
              0,
              "#0d0887"
             ],
             [
              0.1111111111111111,
              "#46039f"
             ],
             [
              0.2222222222222222,
              "#7201a8"
             ],
             [
              0.3333333333333333,
              "#9c179e"
             ],
             [
              0.4444444444444444,
              "#bd3786"
             ],
             [
              0.5555555555555556,
              "#d8576b"
             ],
             [
              0.6666666666666666,
              "#ed7953"
             ],
             [
              0.7777777777777778,
              "#fb9f3a"
             ],
             [
              0.8888888888888888,
              "#fdca26"
             ],
             [
              1,
              "#f0f921"
             ]
            ],
            "type": "heatmapgl"
           }
          ],
          "histogram": [
           {
            "marker": {
             "pattern": {
              "fillmode": "overlay",
              "size": 10,
              "solidity": 0.2
             }
            },
            "type": "histogram"
           }
          ],
          "histogram2d": [
           {
            "colorbar": {
             "outlinewidth": 0,
             "ticks": ""
            },
            "colorscale": [
             [
              0,
              "#0d0887"
             ],
             [
              0.1111111111111111,
              "#46039f"
             ],
             [
              0.2222222222222222,
              "#7201a8"
             ],
             [
              0.3333333333333333,
              "#9c179e"
             ],
             [
              0.4444444444444444,
              "#bd3786"
             ],
             [
              0.5555555555555556,
              "#d8576b"
             ],
             [
              0.6666666666666666,
              "#ed7953"
             ],
             [
              0.7777777777777778,
              "#fb9f3a"
             ],
             [
              0.8888888888888888,
              "#fdca26"
             ],
             [
              1,
              "#f0f921"
             ]
            ],
            "type": "histogram2d"
           }
          ],
          "histogram2dcontour": [
           {
            "colorbar": {
             "outlinewidth": 0,
             "ticks": ""
            },
            "colorscale": [
             [
              0,
              "#0d0887"
             ],
             [
              0.1111111111111111,
              "#46039f"
             ],
             [
              0.2222222222222222,
              "#7201a8"
             ],
             [
              0.3333333333333333,
              "#9c179e"
             ],
             [
              0.4444444444444444,
              "#bd3786"
             ],
             [
              0.5555555555555556,
              "#d8576b"
             ],
             [
              0.6666666666666666,
              "#ed7953"
             ],
             [
              0.7777777777777778,
              "#fb9f3a"
             ],
             [
              0.8888888888888888,
              "#fdca26"
             ],
             [
              1,
              "#f0f921"
             ]
            ],
            "type": "histogram2dcontour"
           }
          ],
          "mesh3d": [
           {
            "colorbar": {
             "outlinewidth": 0,
             "ticks": ""
            },
            "type": "mesh3d"
           }
          ],
          "parcoords": [
           {
            "line": {
             "colorbar": {
              "outlinewidth": 0,
              "ticks": ""
             }
            },
            "type": "parcoords"
           }
          ],
          "pie": [
           {
            "automargin": true,
            "type": "pie"
           }
          ],
          "scatter": [
           {
            "fillpattern": {
             "fillmode": "overlay",
             "size": 10,
             "solidity": 0.2
            },
            "type": "scatter"
           }
          ],
          "scatter3d": [
           {
            "line": {
             "colorbar": {
              "outlinewidth": 0,
              "ticks": ""
             }
            },
            "marker": {
             "colorbar": {
              "outlinewidth": 0,
              "ticks": ""
             }
            },
            "type": "scatter3d"
           }
          ],
          "scattercarpet": [
           {
            "marker": {
             "colorbar": {
              "outlinewidth": 0,
              "ticks": ""
             }
            },
            "type": "scattercarpet"
           }
          ],
          "scattergeo": [
           {
            "marker": {
             "colorbar": {
              "outlinewidth": 0,
              "ticks": ""
             }
            },
            "type": "scattergeo"
           }
          ],
          "scattergl": [
           {
            "marker": {
             "colorbar": {
              "outlinewidth": 0,
              "ticks": ""
             }
            },
            "type": "scattergl"
           }
          ],
          "scattermapbox": [
           {
            "marker": {
             "colorbar": {
              "outlinewidth": 0,
              "ticks": ""
             }
            },
            "type": "scattermapbox"
           }
          ],
          "scatterpolar": [
           {
            "marker": {
             "colorbar": {
              "outlinewidth": 0,
              "ticks": ""
             }
            },
            "type": "scatterpolar"
           }
          ],
          "scatterpolargl": [
           {
            "marker": {
             "colorbar": {
              "outlinewidth": 0,
              "ticks": ""
             }
            },
            "type": "scatterpolargl"
           }
          ],
          "scatterternary": [
           {
            "marker": {
             "colorbar": {
              "outlinewidth": 0,
              "ticks": ""
             }
            },
            "type": "scatterternary"
           }
          ],
          "surface": [
           {
            "colorbar": {
             "outlinewidth": 0,
             "ticks": ""
            },
            "colorscale": [
             [
              0,
              "#0d0887"
             ],
             [
              0.1111111111111111,
              "#46039f"
             ],
             [
              0.2222222222222222,
              "#7201a8"
             ],
             [
              0.3333333333333333,
              "#9c179e"
             ],
             [
              0.4444444444444444,
              "#bd3786"
             ],
             [
              0.5555555555555556,
              "#d8576b"
             ],
             [
              0.6666666666666666,
              "#ed7953"
             ],
             [
              0.7777777777777778,
              "#fb9f3a"
             ],
             [
              0.8888888888888888,
              "#fdca26"
             ],
             [
              1,
              "#f0f921"
             ]
            ],
            "type": "surface"
           }
          ],
          "table": [
           {
            "cells": {
             "fill": {
              "color": "#EBF0F8"
             },
             "line": {
              "color": "white"
             }
            },
            "header": {
             "fill": {
              "color": "#C8D4E3"
             },
             "line": {
              "color": "white"
             }
            },
            "type": "table"
           }
          ]
         },
         "layout": {
          "annotationdefaults": {
           "arrowcolor": "#2a3f5f",
           "arrowhead": 0,
           "arrowwidth": 1
          },
          "autotypenumbers": "strict",
          "coloraxis": {
           "colorbar": {
            "outlinewidth": 0,
            "ticks": ""
           }
          },
          "colorscale": {
           "diverging": [
            [
             0,
             "#8e0152"
            ],
            [
             0.1,
             "#c51b7d"
            ],
            [
             0.2,
             "#de77ae"
            ],
            [
             0.3,
             "#f1b6da"
            ],
            [
             0.4,
             "#fde0ef"
            ],
            [
             0.5,
             "#f7f7f7"
            ],
            [
             0.6,
             "#e6f5d0"
            ],
            [
             0.7,
             "#b8e186"
            ],
            [
             0.8,
             "#7fbc41"
            ],
            [
             0.9,
             "#4d9221"
            ],
            [
             1,
             "#276419"
            ]
           ],
           "sequential": [
            [
             0,
             "#0d0887"
            ],
            [
             0.1111111111111111,
             "#46039f"
            ],
            [
             0.2222222222222222,
             "#7201a8"
            ],
            [
             0.3333333333333333,
             "#9c179e"
            ],
            [
             0.4444444444444444,
             "#bd3786"
            ],
            [
             0.5555555555555556,
             "#d8576b"
            ],
            [
             0.6666666666666666,
             "#ed7953"
            ],
            [
             0.7777777777777778,
             "#fb9f3a"
            ],
            [
             0.8888888888888888,
             "#fdca26"
            ],
            [
             1,
             "#f0f921"
            ]
           ],
           "sequentialminus": [
            [
             0,
             "#0d0887"
            ],
            [
             0.1111111111111111,
             "#46039f"
            ],
            [
             0.2222222222222222,
             "#7201a8"
            ],
            [
             0.3333333333333333,
             "#9c179e"
            ],
            [
             0.4444444444444444,
             "#bd3786"
            ],
            [
             0.5555555555555556,
             "#d8576b"
            ],
            [
             0.6666666666666666,
             "#ed7953"
            ],
            [
             0.7777777777777778,
             "#fb9f3a"
            ],
            [
             0.8888888888888888,
             "#fdca26"
            ],
            [
             1,
             "#f0f921"
            ]
           ]
          },
          "colorway": [
           "#636efa",
           "#EF553B",
           "#00cc96",
           "#ab63fa",
           "#FFA15A",
           "#19d3f3",
           "#FF6692",
           "#B6E880",
           "#FF97FF",
           "#FECB52"
          ],
          "font": {
           "color": "#2a3f5f"
          },
          "geo": {
           "bgcolor": "white",
           "lakecolor": "white",
           "landcolor": "#E5ECF6",
           "showlakes": true,
           "showland": true,
           "subunitcolor": "white"
          },
          "hoverlabel": {
           "align": "left"
          },
          "hovermode": "closest",
          "mapbox": {
           "style": "light"
          },
          "paper_bgcolor": "white",
          "plot_bgcolor": "#E5ECF6",
          "polar": {
           "angularaxis": {
            "gridcolor": "white",
            "linecolor": "white",
            "ticks": ""
           },
           "bgcolor": "#E5ECF6",
           "radialaxis": {
            "gridcolor": "white",
            "linecolor": "white",
            "ticks": ""
           }
          },
          "scene": {
           "xaxis": {
            "backgroundcolor": "#E5ECF6",
            "gridcolor": "white",
            "gridwidth": 2,
            "linecolor": "white",
            "showbackground": true,
            "ticks": "",
            "zerolinecolor": "white"
           },
           "yaxis": {
            "backgroundcolor": "#E5ECF6",
            "gridcolor": "white",
            "gridwidth": 2,
            "linecolor": "white",
            "showbackground": true,
            "ticks": "",
            "zerolinecolor": "white"
           },
           "zaxis": {
            "backgroundcolor": "#E5ECF6",
            "gridcolor": "white",
            "gridwidth": 2,
            "linecolor": "white",
            "showbackground": true,
            "ticks": "",
            "zerolinecolor": "white"
           }
          },
          "shapedefaults": {
           "line": {
            "color": "#2a3f5f"
           }
          },
          "ternary": {
           "aaxis": {
            "gridcolor": "white",
            "linecolor": "white",
            "ticks": ""
           },
           "baxis": {
            "gridcolor": "white",
            "linecolor": "white",
            "ticks": ""
           },
           "bgcolor": "#E5ECF6",
           "caxis": {
            "gridcolor": "white",
            "linecolor": "white",
            "ticks": ""
           }
          },
          "title": {
           "x": 0.05
          },
          "xaxis": {
           "automargin": true,
           "gridcolor": "white",
           "linecolor": "white",
           "ticks": "",
           "title": {
            "standoff": 15
           },
           "zerolinecolor": "white",
           "zerolinewidth": 2
          },
          "yaxis": {
           "automargin": true,
           "gridcolor": "white",
           "linecolor": "white",
           "ticks": "",
           "title": {
            "standoff": 15
           },
           "zerolinecolor": "white",
           "zerolinewidth": 2
          }
         }
        },
        "width": 800
       }
      }
     },
     "metadata": {},
     "output_type": "display_data"
    }
   ],
   "source": [
    "fig= px.line_mapbox(data, \"lat\", \"lon\", mapbox_style=\"open-street-map\", zoom= 6.5, width= 800)\n",
    "fig.show()"
   ]
  },
  {
   "cell_type": "markdown",
   "metadata": {},
   "source": [
    "# 2\n"
   ]
  },
  {
   "cell_type": "markdown",
   "metadata": {},
   "source": [
    "### A)"
   ]
  },
  {
   "cell_type": "code",
   "execution_count": 547,
   "metadata": {},
   "outputs": [],
   "source": [
    "from datetime import datetime"
   ]
  },
  {
   "cell_type": "code",
   "execution_count": 548,
   "metadata": {},
   "outputs": [],
   "source": [
    "beryll = get_lookup(\"Beryllgatan\")"
   ]
  },
  {
   "cell_type": "code",
   "execution_count": 549,
   "metadata": {},
   "outputs": [
    {
     "data": {
      "text/plain": [
       "dict_keys(['stopLocationOrCoordLocation', 'TechnicalMessages', 'serverVersion', 'dialectVersion', 'requestId'])"
      ]
     },
     "execution_count": 549,
     "metadata": {},
     "output_type": "execute_result"
    }
   ],
   "source": [
    "beryll.keys()"
   ]
  },
  {
   "cell_type": "code",
   "execution_count": 550,
   "metadata": {},
   "outputs": [
    {
     "data": {
      "text/plain": [
       "'740059121'"
      ]
     },
     "execution_count": 550,
     "metadata": {},
     "output_type": "execute_result"
    }
   ],
   "source": [
    "beryll[\"stopLocationOrCoordLocation\"][0][\"StopLocation\"][\"extId\"]"
   ]
  },
  {
   "cell_type": "code",
   "execution_count": 551,
   "metadata": {},
   "outputs": [],
   "source": [
    "beryll_departures= get_departures(API_KEY, 740059121)[\"Departure\"]"
   ]
  },
  {
   "cell_type": "code",
   "execution_count": 552,
   "metadata": {},
   "outputs": [],
   "source": [
    "kungs= get_lookup(\"Kungsportsplatsen\")"
   ]
  },
  {
   "cell_type": "code",
   "execution_count": 553,
   "metadata": {},
   "outputs": [
    {
     "data": {
      "text/plain": [
       "'740016358'"
      ]
     },
     "execution_count": 553,
     "metadata": {},
     "output_type": "execute_result"
    }
   ],
   "source": [
    "kungs[\"stopLocationOrCoordLocation\"][0][\"StopLocation\"][\"extId\"]"
   ]
  },
  {
   "cell_type": "code",
   "execution_count": 554,
   "metadata": {},
   "outputs": [],
   "source": [
    "kungs_departures= get_departures(API_KEY, \"740016358\")[\"Departure\"]"
   ]
  },
  {
   "cell_type": "code",
   "execution_count": 555,
   "metadata": {},
   "outputs": [],
   "source": [
    "def get_departure_station(departures):\n",
    "    time= int(datetime.now().strftime(\"%H:%M:%S\").split(\":\")[1])\n",
    "    \n",
    "    for trip in departures[:5]:\n",
    "        departure_time= trip.get('time').split(\":\")\n",
    "        departure_minutes= int(departure_time[1]) - time\n",
    "        print(f\"{''.join(trip.get('name').split('- ')[1:])} mot {trip.get('direction')}: {departure_minutes}\")"
   ]
  },
  {
   "cell_type": "code",
   "execution_count": 556,
   "metadata": {},
   "outputs": [
    {
     "name": "stdout",
     "output_type": "stream",
     "text": [
      "Buss 50 mot Göteborg Brunnsparken om 0 minuter\n",
      "Buss 97 mot Fiskebäcks Småbåtshamn (Göteborg kn) om 1 minuter\n",
      "Buss 50 mot Frölunda torg (Göteborg kn) om 2 minuter\n",
      "Buss 97 mot Frölunda torg (Göteborg kn) om 3 minuter\n",
      "Buss 50 mot Göteborg Brunnsparken om 10 minuter\n"
     ]
    }
   ],
   "source": [
    "get_departure_station(beryll_departures)"
   ]
  },
  {
   "cell_type": "code",
   "execution_count": 557,
   "metadata": {},
   "outputs": [
    {
     "name": "stdout",
     "output_type": "stream",
     "text": [
      "Spårväg 7 mot Tynnered Opaltorget (Göteborg kn) om 0 minuter\n",
      "Spårväg 3 mot Virginsgatan (Göteborg kn) om 0 minuter\n",
      "Spårväg 9 mot Göteborg Kungssten om 0 minuter\n",
      "Buss 18 mot Kallebäck (Göteborg kn) om 0 minuter\n",
      "Buss 18 mot Kallebäck (Göteborg kn) om 1 minuter\n"
     ]
    }
   ],
   "source": [
    "get_departure_station(kungs_departures)"
   ]
  },
  {
   "cell_type": "code",
   "execution_count": null,
   "metadata": {},
   "outputs": [],
   "source": []
  }
 ],
 "metadata": {
  "kernelspec": {
   "display_name": ".venv",
   "language": "python",
   "name": "python3"
  },
  "language_info": {
   "codemirror_mode": {
    "name": "ipython",
    "version": 3
   },
   "file_extension": ".py",
   "mimetype": "text/x-python",
   "name": "python",
   "nbconvert_exporter": "python",
   "pygments_lexer": "ipython3",
   "version": "3.11.9"
  }
 },
 "nbformat": 4,
 "nbformat_minor": 2
}
