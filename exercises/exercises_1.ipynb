{
 "cells": [
  {
   "cell_type": "code",
   "execution_count": 20,
   "metadata": {},
   "outputs": [],
   "source": [
    "import pandas as pd\n",
    "import numpy as np\n",
    "import matplotlib.pyplot as plt"
   ]
  },
  {
   "cell_type": "markdown",
   "metadata": {},
   "source": [
    "## Exercise 0"
   ]
  },
  {
   "cell_type": "code",
   "execution_count": 21,
   "metadata": {},
   "outputs": [
    {
     "data": {
      "text/html": [
       "<div>\n",
       "<style scoped>\n",
       "    .dataframe tbody tr th:only-of-type {\n",
       "        vertical-align: middle;\n",
       "    }\n",
       "\n",
       "    .dataframe tbody tr th {\n",
       "        vertical-align: top;\n",
       "    }\n",
       "\n",
       "    .dataframe thead th {\n",
       "        text-align: right;\n",
       "    }\n",
       "</style>\n",
       "<table border=\"1\" class=\"dataframe\">\n",
       "  <thead>\n",
       "    <tr style=\"text-align: right;\">\n",
       "      <th></th>\n",
       "      <th>EmployeeID</th>\n",
       "      <th>FirstName</th>\n",
       "      <th>LastName</th>\n",
       "      <th>Age</th>\n",
       "      <th>Department</th>\n",
       "      <th>Position</th>\n",
       "      <th>Salary_SEK</th>\n",
       "      <th>Email</th>\n",
       "      <th>PhoneNumber</th>\n",
       "    </tr>\n",
       "  </thead>\n",
       "  <tbody>\n",
       "    <tr>\n",
       "      <th>0</th>\n",
       "      <td>E001</td>\n",
       "      <td>Ann</td>\n",
       "      <td>Larsson</td>\n",
       "      <td>41</td>\n",
       "      <td>Product Management</td>\n",
       "      <td>AI Specialist</td>\n",
       "      <td>60777.0</td>\n",
       "      <td>ann.larsson@supacoolsoft.se</td>\n",
       "      <td>+46 (0)25 37 22 30</td>\n",
       "    </tr>\n",
       "    <tr>\n",
       "      <th>1</th>\n",
       "      <td>E002</td>\n",
       "      <td>Emma</td>\n",
       "      <td>Kim</td>\n",
       "      <td>52</td>\n",
       "      <td>Engineering</td>\n",
       "      <td>Database Administrator</td>\n",
       "      <td>46020.0</td>\n",
       "      <td>emma.kim@supacoolsoft.se</td>\n",
       "      <td>+46 (0)855 449 66</td>\n",
       "    </tr>\n",
       "    <tr>\n",
       "      <th>2</th>\n",
       "      <td>E003</td>\n",
       "      <td>Barbro</td>\n",
       "      <td>Andersson</td>\n",
       "      <td>59</td>\n",
       "      <td>DevOps</td>\n",
       "      <td>Data Scientist</td>\n",
       "      <td>48503.0</td>\n",
       "      <td>barbro.andersson@supacoolsoft.se</td>\n",
       "      <td>+46 (0)47 61 73 44</td>\n",
       "    </tr>\n",
       "    <tr>\n",
       "      <th>3</th>\n",
       "      <td>E004</td>\n",
       "      <td>Magnus</td>\n",
       "      <td>Söderström</td>\n",
       "      <td>52</td>\n",
       "      <td>Product Management</td>\n",
       "      <td>Junior Data Scientist</td>\n",
       "      <td>47296.0</td>\n",
       "      <td>magnus.söderström@supacoolsoft.se</td>\n",
       "      <td>+46 (0)258 579 26</td>\n",
       "    </tr>\n",
       "    <tr>\n",
       "      <th>4</th>\n",
       "      <td>E005</td>\n",
       "      <td>Therese</td>\n",
       "      <td>Ljungberg</td>\n",
       "      <td>46</td>\n",
       "      <td>Product Management</td>\n",
       "      <td>Junior Data Scientist</td>\n",
       "      <td>42435.0</td>\n",
       "      <td>therese.ljungberg@supacoolsoft.se</td>\n",
       "      <td>+46 (0)575 495 24</td>\n",
       "    </tr>\n",
       "    <tr>\n",
       "      <th>...</th>\n",
       "      <td>...</td>\n",
       "      <td>...</td>\n",
       "      <td>...</td>\n",
       "      <td>...</td>\n",
       "      <td>...</td>\n",
       "      <td>...</td>\n",
       "      <td>...</td>\n",
       "      <td>...</td>\n",
       "      <td>...</td>\n",
       "    </tr>\n",
       "    <tr>\n",
       "      <th>95</th>\n",
       "      <td>E096</td>\n",
       "      <td>Erik</td>\n",
       "      <td>Höglund</td>\n",
       "      <td>55</td>\n",
       "      <td>Data Science</td>\n",
       "      <td>Junior Data Engineer</td>\n",
       "      <td>42590.0</td>\n",
       "      <td>erik.höglund@supacoolsoft.se</td>\n",
       "      <td>+46 (0)8 454 503 87</td>\n",
       "    </tr>\n",
       "    <tr>\n",
       "      <th>96</th>\n",
       "      <td>E097</td>\n",
       "      <td>Fatima</td>\n",
       "      <td>Khan</td>\n",
       "      <td>26</td>\n",
       "      <td>Engineering</td>\n",
       "      <td>BI Developer</td>\n",
       "      <td>42809.0</td>\n",
       "      <td>fatima.khan@supacoolsoft.se</td>\n",
       "      <td>08-677 430 60</td>\n",
       "    </tr>\n",
       "    <tr>\n",
       "      <th>97</th>\n",
       "      <td>E098</td>\n",
       "      <td>Gunnel</td>\n",
       "      <td>Olofsson</td>\n",
       "      <td>27</td>\n",
       "      <td>Engineering</td>\n",
       "      <td>Senior Data Engineer</td>\n",
       "      <td>62630.0</td>\n",
       "      <td>gunnel.olofsson@supacoolsoft.se</td>\n",
       "      <td>+46 (0)35 20 46 36</td>\n",
       "    </tr>\n",
       "    <tr>\n",
       "      <th>98</th>\n",
       "      <td>E099</td>\n",
       "      <td>Wei</td>\n",
       "      <td>Zhang</td>\n",
       "      <td>43</td>\n",
       "      <td>Product Management</td>\n",
       "      <td>Senior Data Analyst</td>\n",
       "      <td>52075.0</td>\n",
       "      <td>wei.zhang@supacoolsoft.se</td>\n",
       "      <td>+46 (0)490 722 64</td>\n",
       "    </tr>\n",
       "    <tr>\n",
       "      <th>99</th>\n",
       "      <td>E100</td>\n",
       "      <td>Ulrika</td>\n",
       "      <td>Sundberg</td>\n",
       "      <td>39</td>\n",
       "      <td>Product Management</td>\n",
       "      <td>Database Administrator</td>\n",
       "      <td>53413.0</td>\n",
       "      <td>ulrika.sundberg@supacoolsoft.se</td>\n",
       "      <td>08-276 632 16</td>\n",
       "    </tr>\n",
       "  </tbody>\n",
       "</table>\n",
       "<p>100 rows × 9 columns</p>\n",
       "</div>"
      ],
      "text/plain": [
       "   EmployeeID FirstName    LastName  Age          Department  \\\n",
       "0        E001       Ann     Larsson   41  Product Management   \n",
       "1        E002      Emma         Kim   52         Engineering   \n",
       "2        E003    Barbro   Andersson   59              DevOps   \n",
       "3        E004    Magnus  Söderström   52  Product Management   \n",
       "4        E005   Therese   Ljungberg   46  Product Management   \n",
       "..        ...       ...         ...  ...                 ...   \n",
       "95       E096      Erik     Höglund   55        Data Science   \n",
       "96       E097    Fatima        Khan   26         Engineering   \n",
       "97       E098    Gunnel    Olofsson   27         Engineering   \n",
       "98       E099       Wei       Zhang   43  Product Management   \n",
       "99       E100    Ulrika    Sundberg   39  Product Management   \n",
       "\n",
       "                  Position  Salary_SEK                              Email  \\\n",
       "0            AI Specialist     60777.0        ann.larsson@supacoolsoft.se   \n",
       "1   Database Administrator     46020.0           emma.kim@supacoolsoft.se   \n",
       "2           Data Scientist     48503.0   barbro.andersson@supacoolsoft.se   \n",
       "3    Junior Data Scientist     47296.0  magnus.söderström@supacoolsoft.se   \n",
       "4    Junior Data Scientist     42435.0  therese.ljungberg@supacoolsoft.se   \n",
       "..                     ...         ...                                ...   \n",
       "95    Junior Data Engineer     42590.0       erik.höglund@supacoolsoft.se   \n",
       "96            BI Developer     42809.0        fatima.khan@supacoolsoft.se   \n",
       "97    Senior Data Engineer     62630.0    gunnel.olofsson@supacoolsoft.se   \n",
       "98     Senior Data Analyst     52075.0          wei.zhang@supacoolsoft.se   \n",
       "99  Database Administrator     53413.0    ulrika.sundberg@supacoolsoft.se   \n",
       "\n",
       "            PhoneNumber  \n",
       "0    +46 (0)25 37 22 30  \n",
       "1     +46 (0)855 449 66  \n",
       "2    +46 (0)47 61 73 44  \n",
       "3     +46 (0)258 579 26  \n",
       "4     +46 (0)575 495 24  \n",
       "..                  ...  \n",
       "95  +46 (0)8 454 503 87  \n",
       "96        08-677 430 60  \n",
       "97   +46 (0)35 20 46 36  \n",
       "98    +46 (0)490 722 64  \n",
       "99        08-276 632 16  \n",
       "\n",
       "[100 rows x 9 columns]"
      ]
     },
     "execution_count": 21,
     "metadata": {},
     "output_type": "execute_result"
    }
   ],
   "source": [
    "supacoolsoft_path= \"../data/supahcoolsoft.csv\"\n",
    "\n",
    "df= pd.read_csv(supacoolsoft_path)\n",
    "df"
   ]
  },
  {
   "cell_type": "code",
   "execution_count": 22,
   "metadata": {},
   "outputs": [
    {
     "data": {
      "text/plain": [
       "EmployeeID     0\n",
       "FirstName      0\n",
       "LastName       0\n",
       "Age            0\n",
       "Department     2\n",
       "Position       1\n",
       "Salary_SEK     1\n",
       "Email          0\n",
       "PhoneNumber    0\n",
       "dtype: int64"
      ]
     },
     "execution_count": 22,
     "metadata": {},
     "output_type": "execute_result"
    }
   ],
   "source": [
    "nones= df.isna().sum()\n",
    "nones"
   ]
  },
  {
   "cell_type": "code",
   "execution_count": 23,
   "metadata": {},
   "outputs": [
    {
     "data": {
      "text/plain": [
       "Index(['Department', 'Position', 'Salary_SEK'], dtype='object')"
      ]
     },
     "execution_count": 23,
     "metadata": {},
     "output_type": "execute_result"
    }
   ],
   "source": [
    "null_columns=df.columns[df.isna().any()]\n",
    "null_columns"
   ]
  },
  {
   "cell_type": "code",
   "execution_count": 24,
   "metadata": {},
   "outputs": [
    {
     "name": "stderr",
     "output_type": "stream",
     "text": [
      "C:\\Users\\milto\\AppData\\Local\\Temp\\ipykernel_1040\\3031553461.py:2: FutureWarning: A value is trying to be set on a copy of a DataFrame or Series through chained assignment using an inplace method.\n",
      "The behavior will change in pandas 3.0. This inplace method will never work because the intermediate object on which we are setting values always behaves as a copy.\n",
      "\n",
      "For example, when doing 'df[col].method(value, inplace=True)', try using 'df.method({col: value}, inplace=True)' or df[col] = df[col].method(value) instead, to perform the operation inplace on the original object.\n",
      "\n",
      "\n",
      "  df[\"Salary_SEK\"].fillna(mean_salary, inplace=True)\n"
     ]
    }
   ],
   "source": [
    "mean_salary= np.round(np.mean(df[\"Salary_SEK\"]))\n",
    "df[\"Salary_SEK\"].fillna(mean_salary, inplace=True)"
   ]
  },
  {
   "cell_type": "code",
   "execution_count": 25,
   "metadata": {},
   "outputs": [
    {
     "name": "stdout",
     "output_type": "stream",
     "text": [
      "DevOps average salary: 51093.0, median salary: 48816.0\n",
      "Data Science average salary: 50979.0, median salary: 47256.5\n",
      "Product Management average salary: 54872.0, median salary: 53772.0\n",
      "IT average salary: 53585.0, median salary: 53193.0\n",
      "Engineering average salary: 48425.0, median salary: 48507.5\n",
      "nan average salary: nan, median salary: nan\n"
     ]
    }
   ],
   "source": [
    "departments= set(df[\"Department\"])\n",
    "\n",
    "for role in departments:\n",
    "    department_salary= df[df[\"Department\"]== role][\"Salary_SEK\"]\n",
    "    departments_mean_salary= np.round(np.mean(department_salary))\n",
    "    median_salary= department_salary.median()\n",
    "    print(f\"{role} average salary: {departments_mean_salary}, median salary: {median_salary}\")"
   ]
  },
  {
   "cell_type": "code",
   "execution_count": 26,
   "metadata": {},
   "outputs": [],
   "source": [
    "engineers= df[df[\"Department\"]== \"Engineering\"]\n",
    "engineers_ages= engineers.groupby(\"Age\")[\"Salary_SEK\"].mean().round().reset_index()\n",
    "engineers_ages.columns= [\"Age\", \"Salary\"]"
   ]
  },
  {
   "cell_type": "code",
   "execution_count": 27,
   "metadata": {},
   "outputs": [
    {
     "data": {
      "text/plain": [
       "<matplotlib.collections.PathCollection at 0x25545366390>"
      ]
     },
     "execution_count": 27,
     "metadata": {},
     "output_type": "execute_result"
    },
    {
     "data": {
      "image/png": "[encoded data removed]",
      "text/plain": [
       "<Figure size 900x500 with 1 Axes>"
      ]
     },
     "metadata": {},
     "output_type": "display_data"
    }
   ],
   "source": [
    "fig, ax= plt.subplots(figsize= (9,5))\n",
    "\n",
    "ax.scatter(engineers_ages[\"Age\"], engineers_ages[\"Salary\"])"
   ]
  },
  {
   "cell_type": "markdown",
   "metadata": {},
   "source": [
    "## Exercise 1"
   ]
  },
  {
   "cell_type": "code",
   "execution_count": 28,
   "metadata": {},
   "outputs": [],
   "source": [
    "tables= pd.read_html(\"https://en.wikipedia.org/wiki/2024_Summer_Olympics\")"
   ]
  },
  {
   "cell_type": "code",
   "execution_count": 29,
   "metadata": {},
   "outputs": [
    {
     "data": {
      "text/html": [
       "<div>\n",
       "<style scoped>\n",
       "    .dataframe tbody tr th:only-of-type {\n",
       "        vertical-align: middle;\n",
       "    }\n",
       "\n",
       "    .dataframe tbody tr th {\n",
       "        vertical-align: top;\n",
       "    }\n",
       "\n",
       "    .dataframe thead th {\n",
       "        text-align: right;\n",
       "    }\n",
       "</style>\n",
       "<table border=\"1\" class=\"dataframe\">\n",
       "  <thead>\n",
       "    <tr style=\"text-align: right;\">\n",
       "      <th></th>\n",
       "      <th>Rank</th>\n",
       "      <th>NOC</th>\n",
       "      <th>Gold</th>\n",
       "      <th>Silver</th>\n",
       "      <th>Bronze</th>\n",
       "      <th>Total</th>\n",
       "    </tr>\n",
       "  </thead>\n",
       "  <tbody>\n",
       "    <tr>\n",
       "      <th>0</th>\n",
       "      <td>1</td>\n",
       "      <td>United States‡</td>\n",
       "      <td>40</td>\n",
       "      <td>44</td>\n",
       "      <td>42</td>\n",
       "      <td>126</td>\n",
       "    </tr>\n",
       "    <tr>\n",
       "      <th>1</th>\n",
       "      <td>2</td>\n",
       "      <td>China</td>\n",
       "      <td>40</td>\n",
       "      <td>27</td>\n",
       "      <td>24</td>\n",
       "      <td>91</td>\n",
       "    </tr>\n",
       "    <tr>\n",
       "      <th>2</th>\n",
       "      <td>3</td>\n",
       "      <td>Japan</td>\n",
       "      <td>20</td>\n",
       "      <td>12</td>\n",
       "      <td>13</td>\n",
       "      <td>45</td>\n",
       "    </tr>\n",
       "    <tr>\n",
       "      <th>3</th>\n",
       "      <td>4</td>\n",
       "      <td>Australia</td>\n",
       "      <td>18</td>\n",
       "      <td>19</td>\n",
       "      <td>16</td>\n",
       "      <td>53</td>\n",
       "    </tr>\n",
       "    <tr>\n",
       "      <th>4</th>\n",
       "      <td>5</td>\n",
       "      <td>France*</td>\n",
       "      <td>16</td>\n",
       "      <td>26</td>\n",
       "      <td>22</td>\n",
       "      <td>64</td>\n",
       "    </tr>\n",
       "    <tr>\n",
       "      <th>5</th>\n",
       "      <td>6</td>\n",
       "      <td>Netherlands</td>\n",
       "      <td>15</td>\n",
       "      <td>7</td>\n",
       "      <td>12</td>\n",
       "      <td>34</td>\n",
       "    </tr>\n",
       "    <tr>\n",
       "      <th>6</th>\n",
       "      <td>7</td>\n",
       "      <td>Great Britain</td>\n",
       "      <td>14</td>\n",
       "      <td>22</td>\n",
       "      <td>29</td>\n",
       "      <td>65</td>\n",
       "    </tr>\n",
       "    <tr>\n",
       "      <th>7</th>\n",
       "      <td>8</td>\n",
       "      <td>South Korea</td>\n",
       "      <td>13</td>\n",
       "      <td>9</td>\n",
       "      <td>10</td>\n",
       "      <td>32</td>\n",
       "    </tr>\n",
       "    <tr>\n",
       "      <th>8</th>\n",
       "      <td>9</td>\n",
       "      <td>Italy</td>\n",
       "      <td>12</td>\n",
       "      <td>13</td>\n",
       "      <td>15</td>\n",
       "      <td>40</td>\n",
       "    </tr>\n",
       "    <tr>\n",
       "      <th>9</th>\n",
       "      <td>10</td>\n",
       "      <td>Germany</td>\n",
       "      <td>12</td>\n",
       "      <td>13</td>\n",
       "      <td>8</td>\n",
       "      <td>33</td>\n",
       "    </tr>\n",
       "    <tr>\n",
       "      <th>10</th>\n",
       "      <td>11–91</td>\n",
       "      <td>Remaining NOCs</td>\n",
       "      <td>129</td>\n",
       "      <td>138</td>\n",
       "      <td>194</td>\n",
       "      <td>461</td>\n",
       "    </tr>\n",
       "    <tr>\n",
       "      <th>11</th>\n",
       "      <td>Totals (91 entries)</td>\n",
       "      <td>Totals (91 entries)</td>\n",
       "      <td>329</td>\n",
       "      <td>330</td>\n",
       "      <td>385</td>\n",
       "      <td>1044</td>\n",
       "    </tr>\n",
       "  </tbody>\n",
       "</table>\n",
       "</div>"
      ],
      "text/plain": [
       "                   Rank                  NOC  Gold  Silver  Bronze  Total\n",
       "0                     1       United States‡    40      44      42    126\n",
       "1                     2                China    40      27      24     91\n",
       "2                     3                Japan    20      12      13     45\n",
       "3                     4            Australia    18      19      16     53\n",
       "4                     5              France*    16      26      22     64\n",
       "5                     6          Netherlands    15       7      12     34\n",
       "6                     7        Great Britain    14      22      29     65\n",
       "7                     8          South Korea    13       9      10     32\n",
       "8                     9                Italy    12      13      15     40\n",
       "9                    10              Germany    12      13       8     33\n",
       "10                11–91       Remaining NOCs   129     138     194    461\n",
       "11  Totals (91 entries)  Totals (91 entries)   329     330     385   1044"
      ]
     },
     "execution_count": 29,
     "metadata": {},
     "output_type": "execute_result"
    }
   ],
   "source": [
    "medal= tables[12]\n",
    "medal"
   ]
  },
  {
   "cell_type": "code",
   "execution_count": 30,
   "metadata": {},
   "outputs": [],
   "source": [
    "medal.sort_values(by= \"Total\", ascending=False, inplace=True)"
   ]
  },
  {
   "cell_type": "code",
   "execution_count": 31,
   "metadata": {},
   "outputs": [
    {
     "data": {
      "text/html": [
       "<div>\n",
       "<style scoped>\n",
       "    .dataframe tbody tr th:only-of-type {\n",
       "        vertical-align: middle;\n",
       "    }\n",
       "\n",
       "    .dataframe tbody tr th {\n",
       "        vertical-align: top;\n",
       "    }\n",
       "\n",
       "    .dataframe thead th {\n",
       "        text-align: right;\n",
       "    }\n",
       "</style>\n",
       "<table border=\"1\" class=\"dataframe\">\n",
       "  <thead>\n",
       "    <tr style=\"text-align: right;\">\n",
       "      <th></th>\n",
       "      <th>Rank</th>\n",
       "      <th>NOC</th>\n",
       "      <th>Gold</th>\n",
       "      <th>Silver</th>\n",
       "      <th>Bronze</th>\n",
       "      <th>Total</th>\n",
       "    </tr>\n",
       "  </thead>\n",
       "  <tbody>\n",
       "    <tr>\n",
       "      <th>0</th>\n",
       "      <td>1</td>\n",
       "      <td>United States‡</td>\n",
       "      <td>40</td>\n",
       "      <td>44</td>\n",
       "      <td>42</td>\n",
       "      <td>126</td>\n",
       "    </tr>\n",
       "    <tr>\n",
       "      <th>1</th>\n",
       "      <td>2</td>\n",
       "      <td>China</td>\n",
       "      <td>40</td>\n",
       "      <td>27</td>\n",
       "      <td>24</td>\n",
       "      <td>91</td>\n",
       "    </tr>\n",
       "    <tr>\n",
       "      <th>6</th>\n",
       "      <td>7</td>\n",
       "      <td>Great Britain</td>\n",
       "      <td>14</td>\n",
       "      <td>22</td>\n",
       "      <td>29</td>\n",
       "      <td>65</td>\n",
       "    </tr>\n",
       "    <tr>\n",
       "      <th>4</th>\n",
       "      <td>5</td>\n",
       "      <td>France*</td>\n",
       "      <td>16</td>\n",
       "      <td>26</td>\n",
       "      <td>22</td>\n",
       "      <td>64</td>\n",
       "    </tr>\n",
       "    <tr>\n",
       "      <th>3</th>\n",
       "      <td>4</td>\n",
       "      <td>Australia</td>\n",
       "      <td>18</td>\n",
       "      <td>19</td>\n",
       "      <td>16</td>\n",
       "      <td>53</td>\n",
       "    </tr>\n",
       "    <tr>\n",
       "      <th>2</th>\n",
       "      <td>3</td>\n",
       "      <td>Japan</td>\n",
       "      <td>20</td>\n",
       "      <td>12</td>\n",
       "      <td>13</td>\n",
       "      <td>45</td>\n",
       "    </tr>\n",
       "    <tr>\n",
       "      <th>8</th>\n",
       "      <td>9</td>\n",
       "      <td>Italy</td>\n",
       "      <td>12</td>\n",
       "      <td>13</td>\n",
       "      <td>15</td>\n",
       "      <td>40</td>\n",
       "    </tr>\n",
       "    <tr>\n",
       "      <th>5</th>\n",
       "      <td>6</td>\n",
       "      <td>Netherlands</td>\n",
       "      <td>15</td>\n",
       "      <td>7</td>\n",
       "      <td>12</td>\n",
       "      <td>34</td>\n",
       "    </tr>\n",
       "    <tr>\n",
       "      <th>9</th>\n",
       "      <td>10</td>\n",
       "      <td>Germany</td>\n",
       "      <td>12</td>\n",
       "      <td>13</td>\n",
       "      <td>8</td>\n",
       "      <td>33</td>\n",
       "    </tr>\n",
       "    <tr>\n",
       "      <th>7</th>\n",
       "      <td>8</td>\n",
       "      <td>South Korea</td>\n",
       "      <td>13</td>\n",
       "      <td>9</td>\n",
       "      <td>10</td>\n",
       "      <td>32</td>\n",
       "    </tr>\n",
       "  </tbody>\n",
       "</table>\n",
       "</div>"
      ],
      "text/plain": [
       "  Rank             NOC  Gold  Silver  Bronze  Total\n",
       "0    1  United States‡    40      44      42    126\n",
       "1    2           China    40      27      24     91\n",
       "6    7   Great Britain    14      22      29     65\n",
       "4    5         France*    16      26      22     64\n",
       "3    4       Australia    18      19      16     53\n",
       "2    3           Japan    20      12      13     45\n",
       "8    9           Italy    12      13      15     40\n",
       "5    6     Netherlands    15       7      12     34\n",
       "9   10         Germany    12      13       8     33\n",
       "7    8     South Korea    13       9      10     32"
      ]
     },
     "execution_count": 31,
     "metadata": {},
     "output_type": "execute_result"
    }
   ],
   "source": [
    "medal= medal[2:]\n",
    "medal"
   ]
  },
  {
   "cell_type": "code",
   "execution_count": 32,
   "metadata": {},
   "outputs": [
    {
     "data": {
      "image/png": "[encoded data removed]",
      "text/plain": [
       "<Figure size 640x480 with 1 Axes>"
      ]
     },
     "metadata": {},
     "output_type": "display_data"
    }
   ],
   "source": [
    "plt.bar(medal[\"NOC\"].head(5), medal[\"Total\"].head(5))\n",
    "plt.xticks(rotation=90);"
   ]
  },
  {
   "cell_type": "code",
   "execution_count": 33,
   "metadata": {},
   "outputs": [],
   "source": [
    "medal_by_gold= medal.sort_values(by= \"Gold\", ascending=False)"
   ]
  },
  {
   "cell_type": "code",
   "execution_count": 34,
   "metadata": {},
   "outputs": [
    {
     "data": {
      "image/png": "[encoded data removed]",
      "text/plain": [
       "<Figure size 640x480 with 1 Axes>"
      ]
     },
     "metadata": {},
     "output_type": "display_data"
    }
   ],
   "source": [
    "plt.bar(medal_by_gold[\"NOC\"].head(5), medal_by_gold[\"Gold\"].head(5));"
   ]
  },
  {
   "cell_type": "code",
   "execution_count": 60,
   "metadata": {},
   "outputs": [
    {
     "data": {
      "text/plain": [
       "43"
      ]
     },
     "execution_count": 60,
     "metadata": {},
     "output_type": "execute_result"
    }
   ],
   "source": [
    "grand_paris_zone= len(set(tables[3][\"Venue\"]))\n",
    "paris_center_zone= len(set(tables[4][\"Venue\"]))\n",
    "versailles_zone= len(set(tables[5][\"Venue\"]))\n",
    "outlying_venues= len(set(tables[6][\"Venue\"]))\n",
    "non_comp_venues= len(set(tables[7][\"Venue\"]))\n",
    "venues_total= grand_paris_zone+paris_center_zone+versailles_zone+outlying_venues+non_comp_venues\n",
    "venues_total"
   ]
  },
  {
   "cell_type": "code",
   "execution_count": 61,
   "metadata": {},
   "outputs": [
    {
     "data": {
      "text/plain": [
       "34"
      ]
     },
     "execution_count": 61,
     "metadata": {},
     "output_type": "execute_result"
    }
   ],
   "source": [
    "venues_total-non_comp_venues"
   ]
  },
  {
   "cell_type": "code",
   "execution_count": 67,
   "metadata": {},
   "outputs": [
    {
     "data": {
      "text/plain": [
       "11"
      ]
     },
     "execution_count": 67,
     "metadata": {},
     "output_type": "execute_result"
    }
   ],
   "source": [
    "\n",
    "for i in range(3,7):\n",
    "    venues_= tables[i][\"Venue\"].unique()\n",
    "len(venues_)"
   ]
  },
  {
   "cell_type": "code",
   "execution_count": null,
   "metadata": {},
   "outputs": [],
   "source": []
  }
 ],
 "metadata": {
  "kernelspec": {
   "display_name": ".venv",
   "language": "python",
   "name": "python3"
  },
  "language_info": {
   "codemirror_mode": {
    "name": "ipython",
    "version": 3
   },
   "file_extension": ".py",
   "mimetype": "text/x-python",
   "name": "python",
   "nbconvert_exporter": "python",
   "pygments_lexer": "ipython3",
   "version": "3.11.7"
  }
 },
 "nbformat": 4,
 "nbformat_minor": 2
}
